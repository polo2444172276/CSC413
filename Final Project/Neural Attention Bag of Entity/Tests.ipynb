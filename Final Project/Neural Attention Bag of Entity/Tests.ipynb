{
  "nbformat": 4,
  "nbformat_minor": 0,
  "metadata": {
    "colab": {
      "name": "NABoE",
      "provenance": [],
      "collapsed_sections": []
    },
    "kernelspec": {
      "name": "python3",
      "display_name": "Python 3"
    },
    "language_info": {
      "name": "python"
    },
    "accelerator": "GPU"
  },
  "cells": [
    {
      "cell_type": "code",
      "metadata": {
        "colab": {
          "base_uri": "https://localhost:8080/"
        },
        "id": "8ZssEfHGuWD7",
        "outputId": "e631a80a-b4d8-48e6-8b62-18d4eab1dcf9"
      },
      "source": [
        "!ls"
      ],
      "execution_count": null,
      "outputs": [
        {
          "output_type": "stream",
          "text": [
            "README.md                             main.py\r\n",
            "\u001b[34m__pycache__\u001b[m\u001b[m                           model.py\r\n",
            "data.py                               optimizer.py\r\n",
            "entity_linker.py                      requirements.in\r\n",
            "enwiki_20180420_entity_linker.pkl     requirements.txt\r\n",
            "enwiki_20180420_entity_linker.pkl.bz2 \u001b[34mreuters-21578\u001b[m\u001b[m\r\n",
            "enwiki_20180420_lg1_300d.pkl          reuters21578.tar\r\n",
            "enwiki_20180420_lg1_300d.pkl.bz2      train.py\r\n",
            "enwiki_20180420_lg1_300d.pkl.bz2.1\r\n"
          ],
          "name": "stdout"
        }
      ]
    },
    {
      "cell_type": "code",
      "metadata": {
        "colab": {
          "base_uri": "https://localhost:8080/"
        },
        "id": "GCFvw7rLucqH",
        "outputId": "f6aa039f-6979-4bc0-8edb-9dd6c16389dd"
      },
      "source": [
        "!pwd"
      ],
      "execution_count": null,
      "outputs": [
        {
          "output_type": "stream",
          "text": [
            "/Users/liguolun/Desktop/COURSES/Fourth year/CSC413/Final Project/NABE/wikipedia2vec/examples/text_classification\r\n"
          ],
          "name": "stdout"
        }
      ]
    },
    {
      "cell_type": "markdown",
      "metadata": {
        "id": "wiuacqUl9fRx"
      },
      "source": [
        "# Imports"
      ]
    },
    {
      "cell_type": "code",
      "metadata": {
        "id": "xKkmoRCE9SOI"
      },
      "source": [
        "import functools\n",
        "import logging\n",
        "import os\n",
        "import random\n",
        "import re\n",
        "import unicodedata\n",
        "from collections import Counter\n",
        "import numpy as np\n",
        "from bs4 import BeautifulSoup\n",
        "from sklearn.datasets import fetch_20newsgroups\n",
        "from tqdm import tqdm\n",
        "\n",
        "PAD_TOKEN = '<PAD>'\n",
        "WHITESPACE_REGEXP = re.compile(r'\\s+')\n",
        "\n",
        "logger = logging.getLogger(__name__)"
      ],
      "execution_count": null,
      "outputs": []
    },
    {
      "cell_type": "markdown",
      "metadata": {
        "id": "J1A1Lluv9kvV"
      },
      "source": [
        "# Class and Helper Functions"
      ]
    },
    {
      "cell_type": "code",
      "metadata": {
        "id": "4fJYIntL9sFZ"
      },
      "source": [
        "class Dataset(object):\n",
        "    def __init__(self, name, instances, label_names):\n",
        "        self.name = name\n",
        "        self.instances = instances\n",
        "        self.label_names = label_names\n",
        "\n",
        "    def __iter__(self):\n",
        "        for instance in self.instances:\n",
        "            yield instance\n",
        "\n",
        "    def __len__(self):\n",
        "        return len(self.instances)\n",
        "\n",
        "    def get_instances(self, fold=None):\n",
        "        if fold is None:\n",
        "            return self.instances\n",
        "        else:\n",
        "            return [ins for ins in self.instances if ins.fold == fold]\n",
        "class DatasetInstance(object):\n",
        "    def __init__(self, text, label, fold):\n",
        "        self.text = text\n",
        "        self.label = label\n",
        "        self.fold = fold"
      ],
      "execution_count": null,
      "outputs": []
    },
    {
      "cell_type": "code",
      "metadata": {
        "id": "elbGiTRc9wcm"
      },
      "source": [
        "#this function seems to be key.\n",
        "#Creates a dictionary containing word_id, entity_id, prior_prob and label features for each of train, dev and test set.\n",
        "def generate_features(dataset, tokenizer, entity_linker, min_count, max_word_length, max_entity_length):\n",
        "\n",
        "    @functools.lru_cache(maxsize=None)\n",
        "    def tokenize(text):\n",
        "        return tokenizer.tokenize(text)\n",
        "\n",
        "    @functools.lru_cache(maxsize=None)\n",
        "    def detect_mentions(text):\n",
        "        return entity_linker.detect_mentions(text)\n",
        "\n",
        "    def create_numpy_sequence(source_sequence, length, dtype):\n",
        "        ret = np.zeros(length, dtype=dtype)\n",
        "        source_sequence = source_sequence[:length]\n",
        "        ret[:len(source_sequence)] = source_sequence\n",
        "        return ret\n",
        "\n",
        "    logger.info('Creating vocabulary...')\n",
        "    word_counter = Counter()\n",
        "    entity_counter = Counter()\n",
        "    for instance in tqdm(dataset):\n",
        "        word_counter.update(t.text for t in tokenize(instance.text))\n",
        "        entity_counter.update(m.title for m in detect_mentions(instance.text))\n",
        "\n",
        "    #creates word count dictionary\n",
        "    words = [word for word, count in word_counter.items() if count >= min_count]\n",
        "    word_vocab = {word: index for index, word in enumerate(words, 1)}\n",
        "    word_vocab[PAD_TOKEN] = 0\n",
        "\n",
        "    #creates entity count dictionary\n",
        "    entity_titles = [title for title, count in entity_counter.items() if count >= min_count]\n",
        "    entity_vocab = {title: index for index, title in enumerate(entity_titles, 1)}\n",
        "    entity_vocab[PAD_TOKEN] = 0\n",
        "\n",
        "    ret = dict(train=[], dev=[], test=[], word_vocab=word_vocab, entity_vocab=entity_vocab)\n",
        "\n",
        "    for fold in ('train', 'dev', 'test'): #A validation dataset is a dataset of examples used to tune the hyperparameters. It is sometimes also called the development set or the \"dev set\".\n",
        "        for instance in dataset.get_instances(fold):\n",
        "            word_ids = [word_vocab[token.text] for token in tokenize(instance.text) if token.text in word_vocab] #all possible word ids\n",
        "            entity_ids = []\n",
        "            prior_probs = []\n",
        "            for mention in detect_mentions(instance.text):\n",
        "                if mention.title in entity_vocab: #why mention.title? is there mention.context?\n",
        "                    entity_ids.append(entity_vocab[mention.title]) #appends the context?\n",
        "                    prior_probs.append(mention.prior_prob)\n",
        "\n",
        "            ret[fold].append(dict(word_ids=create_numpy_sequence(word_ids, max_word_length, np.int),\n",
        "                                  entity_ids=create_numpy_sequence(entity_ids, max_entity_length, np.int),\n",
        "                                  prior_probs=create_numpy_sequence(prior_probs, max_entity_length, np.float32),\n",
        "                                  label=instance.label))\n",
        "\n",
        "    return ret\n"
      ],
      "execution_count": null,
      "outputs": []
    },
    {
      "cell_type": "code",
      "metadata": {
        "id": "3Po2wFu19023"
      },
      "source": [
        "def normalize_text(text): #What does this do?\n",
        "    text = text.lower()\n",
        "    text = re.sub(WHITESPACE_REGEXP, ' ', text)\n",
        "\n",
        "    # remove accents: https://stackoverflow.com/a/518232\n",
        "    text = ''.join(c for c in unicodedata.normalize('NFD', text) if unicodedata.category(c) != 'Mn')\n",
        "    text = unicodedata.normalize('NFC', text)\n",
        "\n",
        "    return text"
      ],
      "execution_count": null,
      "outputs": []
    },
    {
      "cell_type": "code",
      "metadata": {
        "id": "q2E0On1O9ytw"
      },
      "source": [
        "def load_20ng_dataset(dev_size=0.05):\n",
        "    train_data = []\n",
        "    test_data = []\n",
        "\n",
        "    for fold in ('train', 'test'):\n",
        "        dataset_obj = fetch_20newsgroups(subset=fold, shuffle=False)\n",
        "\n",
        "        for text, label in zip(dataset_obj['data'], dataset_obj['target']):\n",
        "            text = normalize_text(text)\n",
        "            if fold == 'train':\n",
        "                train_data.append((text, label))\n",
        "            else:\n",
        "                test_data.append((text, label))\n",
        "\n",
        "    dev_size = int(len(train_data) * dev_size)\n",
        "    random.shuffle(train_data)\n",
        "\n",
        "    instances = []\n",
        "    instances += [DatasetInstance(text, label, 'dev') for text, label in train_data[-dev_size:]]\n",
        "    instances += [DatasetInstance(text, label, 'train') for text, label in train_data[:-dev_size]]\n",
        "    instances += [DatasetInstance(text, label, 'test') for text, label in test_data]\n",
        "\n",
        "    return Dataset('20ng', instances, fetch_20newsgroups()['target_names'])\n"
      ],
      "execution_count": null,
      "outputs": []
    },
    {
      "cell_type": "code",
      "metadata": {
        "id": "v0r8zInNueED"
      },
      "source": [
        "def load_r8_dataset(dataset_path, dev_size=0.05):\n",
        "    label_names = ['grain', 'earn', 'interest', 'acq', 'trade', 'crude', 'ship', 'money-fx']\n",
        "    label_index = {t: i for i, t in enumerate(label_names)}\n",
        "\n",
        "    train_data = []\n",
        "    test_data = []\n",
        "\n",
        "    for file_name in sorted(os.listdir(dataset_path)):\n",
        "        if file_name.endswith('.sgm'): #这是数据的格式？\n",
        "            with open(os.path.join(dataset_path, file_name), encoding='ISO-8859-1') as f:\n",
        "                for node in BeautifulSoup(f.read(), 'html.parser').find_all('reuters'): #What does beautiful soup do?\n",
        "                    text = normalize_text(node.find('text').text)\n",
        "                    label_nodes = [n.text for n in node.topics.find_all('d')]\n",
        "                    if len(label_nodes) != 1:\n",
        "                        continue\n",
        "\n",
        "                    labels = [label_index[l] for l in label_nodes if l in label_index]\n",
        "                    if len(labels) == 1:\n",
        "                        if node['topics'] != 'YES':\n",
        "                            continue\n",
        "                        if node['lewissplit'] == 'TRAIN':\n",
        "                            train_data.append((text, labels[0]))\n",
        "                        elif node['lewissplit'] == 'TEST':\n",
        "                            test_data.append((text, labels[0]))\n",
        "                        else:\n",
        "                            continue\n",
        "\n",
        "    dev_size = int(len(train_data) * dev_size)\n",
        "    random.shuffle(train_data)\n",
        "\n",
        "    instances = []\n",
        "    instances += [DatasetInstance(text, label, 'dev') for text, label in train_data[-dev_size:]]\n",
        "    instances += [DatasetInstance(text, label, 'train') for text, label in train_data[:-dev_size]]\n",
        "    instances += [DatasetInstance(text, label, 'test') for text, label in test_data]\n",
        "\n",
        "    return Dataset('r8', instances, label_names)"
      ],
      "execution_count": null,
      "outputs": []
    },
    {
      "cell_type": "markdown",
      "metadata": {
        "id": "vjokRlsr-NrF"
      },
      "source": [
        "# Analysis of LoadR8()"
      ]
    },
    {
      "cell_type": "code",
      "metadata": {
        "id": "J-uhDwaG-P4e"
      },
      "source": [
        "def load_r8_dataset(dataset_path, dev_size=0.05):\n",
        "    label_names = ['grain', 'earn', 'interest', 'acq', 'trade', 'crude', 'ship', 'money-fx']\n",
        "    label_index = {t: i for i, t in enumerate(label_names)}\n",
        "\n",
        "    train_data = []\n",
        "    test_data = []\n",
        "\n",
        "    for file_name in sorted(os.listdir(dataset_path)):\n",
        "        if file_name.endswith('.sgm'): #HTML格式\n",
        "            with open(os.path.join(dataset_path, file_name), encoding='ISO-8859-1') as f:\n",
        "                for node in BeautifulSoup(f.read(), 'html.parser').find_all('reuters'): #What does beautiful soup do?\n",
        "                    text = normalize_text(node.find('text').text)\n",
        "                    label_nodes = [n.text for n in node.topics.find_all('d')]\n",
        "                    if len(label_nodes) != 1:\n",
        "                        continue\n",
        "\n",
        "                    labels = [label_index[l] for l in label_nodes if l in label_index]\n",
        "                    if len(labels) == 1:\n",
        "                        if node['topics'] != 'YES':\n",
        "                            continue\n",
        "                        if node['lewissplit'] == 'TRAIN':\n",
        "                            train_data.append((text, labels[0]))\n",
        "                        elif node['lewissplit'] == 'TEST':\n",
        "                            test_data.append((text, labels[0]))\n",
        "                        else:\n",
        "                            continue\n",
        "    dev_size = int(len(train_data) * dev_size)\n",
        "    random.shuffle(train_data)\n",
        "\n",
        "    instances = []\n",
        "    instances += [DatasetInstance(text, label, 'dev') for text, label in train_data[-dev_size:]]\n",
        "    instances += [DatasetInstance(text, label, 'train') for text, label in train_data[:-dev_size]]\n",
        "    instances += [DatasetInstance(text, label, 'test') for text, label in test_data]\n",
        "\n",
        "    return Dataset('r8', instances, label_names)"
      ],
      "execution_count": null,
      "outputs": []
    },
    {
      "cell_type": "code",
      "metadata": {
        "id": "HeAG0Vpk-SXD"
      },
      "source": [
        "dataset_path = \"reuters-21578\" #defined in main()\n",
        "dev = 0.05\n",
        "all_files = sorted(os.listdir(dataset_path))\n",
        "sgm_files = [ file for file in all_files if file.endswith('.sgm')]"
      ],
      "execution_count": null,
      "outputs": []
    },
    {
      "cell_type": "code",
      "metadata": {
        "id": "d4VBdZQxFveh"
      },
      "source": [
        "def normalize_text(text): #lower cases and removes unnecessary symbols\n",
        "    text = text.lower()\n",
        "    text = re.sub(WHITESPACE_REGEXP, ' ', text)\n",
        "\n",
        "    # remove accents: https://stackoverflow.com/a/518232\n",
        "    text = ''.join(c for c in unicodedata.normalize('NFD', text) if unicodedata.category(c) != 'Mn')\n",
        "    text = unicodedata.normalize('NFC', text)\n",
        "\n",
        "    return text"
      ],
      "execution_count": null,
      "outputs": []
    },
    {
      "cell_type": "code",
      "metadata": {
        "id": "OCnjQYKpA3nL"
      },
      "source": [
        "    label_names = ['grain', 'earn', 'interest', 'acq', 'trade', 'crude', 'ship', 'money-fx']\n",
        "    label_index = {t: i for i, t in enumerate(label_names)}\n",
        "\n",
        "    train_data = []\n",
        "    test_data = []\n",
        "\n",
        "    for file_name in sorted(os.listdir(dataset_path)):\n",
        "        if file_name.endswith('.sgm'): #HTML格式\n",
        "            with open(os.path.join(dataset_path, file_name), encoding='ISO-8859-1') as f:\n",
        "                for node in BeautifulSoup(f.read(), 'html.parser').find_all('reuters'): #What does beautiful soup do?\n",
        "                    text = normalize_text(node.find('text').text)\n",
        "                    label_nodes = [n.text for n in node.topics.find_all('d')]\n",
        "                    if len(label_nodes) != 1:\n",
        "                        continue\n",
        "\n",
        "                    labels = [label_index[l] for l in label_nodes if l in label_index]\n",
        "                    if len(labels) == 1:\n",
        "                        if node['topics'] != 'YES':\n",
        "                            continue\n",
        "                        if node['lewissplit'] == 'TRAIN':\n",
        "                            train_data.append((text, labels[0]))\n",
        "                        elif node['lewissplit'] == 'TEST':\n",
        "                            test_data.append((text, labels[0]))\n",
        "                        else:\n",
        "                            continue"
      ],
      "execution_count": null,
      "outputs": []
    },
    {
      "cell_type": "code",
      "metadata": {
        "id": "FMoApNWHe57J"
      },
      "source": [
        "train_data"
      ],
      "execution_count": null,
      "outputs": []
    },
    {
      "cell_type": "code",
      "metadata": {
        "colab": {
          "base_uri": "https://localhost:8080/"
        },
        "id": "EL6RfYR8e-Uy",
        "outputId": "a1e236d0-f9a2-40f5-bd39-e9e0c6be3d0c"
      },
      "source": [
        "labels = [data[1] for data in train_data]\n",
        "print(min(labels), max(labels))"
      ],
      "execution_count": null,
      "outputs": [
        {
          "output_type": "stream",
          "text": [
            "0 7\n"
          ],
          "name": "stdout"
        }
      ]
    },
    {
      "cell_type": "code",
      "metadata": {
        "id": "tnS6CaqyfIVL"
      },
      "source": [
        ""
      ],
      "execution_count": null,
      "outputs": []
    },
    {
      "cell_type": "code",
      "metadata": {
        "id": "l3XoA1o-UI4x"
      },
      "source": [
        "    instances = []\n",
        "    instances += [DatasetInstance(text, label, 'dev') for text, label in train_data[-dev_size:]]\n",
        "    instances += [DatasetInstance(text, label, 'train') for text, label in train_data[:-dev_size]]\n",
        "    instances += [DatasetInstance(text, label, 'test') for text, label in test_data]"
      ],
      "execution_count": null,
      "outputs": []
    },
    {
      "cell_type": "code",
      "metadata": {
        "colab": {
          "base_uri": "https://localhost:8080/"
        },
        "id": "IP2iorNzUNVY",
        "outputId": "4cce9331-0ba8-40c8-d8df-3ccd465388da"
      },
      "source": [
        "len(instances)"
      ],
      "execution_count": null,
      "outputs": [
        {
          "output_type": "execute_result",
          "data": {
            "text/plain": [
              "7674"
            ]
          },
          "metadata": {
            "tags": []
          },
          "execution_count": 68
        }
      ]
    },
    {
      "cell_type": "code",
      "metadata": {
        "id": "jIuULWtZU3Ap"
      },
      "source": [
        "unique(train_data)"
      ],
      "execution_count": null,
      "outputs": []
    },
    {
      "cell_type": "code",
      "metadata": {
        "colab": {
          "base_uri": "https://localhost:8080/"
        },
        "id": "7zrAXqvOM1Y9",
        "outputId": "42d09fc4-a233-4a7d-ef2b-677f2121378d"
      },
      "source": [
        "text, label = train_data[-1]\n",
        "print(text)\n",
        "print()\n",
        "print(label)"
      ],
      "execution_count": null,
      "outputs": [
        {
          "output_type": "stream",
          "text": [
            "\u0002 australian unions launch new south wales strikes sydney, april 8 - australian trade unions said they have launched week-long strikes and other industrial action in new south wales (nsw) to protest against new laws that would reduce injury compensation payments. union sources said talks with the state government broke down last night, but the two sides are scheduled to meet later today in an attempt to find a compromise. rail freight and shipping cargo movements in the country's most populous state were the first to be affected, and union officials said almost every business sector will be hit unless there is a quick settlement. the state government recently introduced a new workers' compensation act which would cut the cash benefits to injured workers by up to a third. the act is now awaiting parliamentary ratification. nsw state premier barrie unsworth has said workers' compensation has risen steeply in recent years and the proposed cuts would save hundreds of mlns of dollars a year. union officials said industrial action could spread to other states as the federal government also plans to make sharp cuts in workers' compensation. reuter \u0003\n",
            "\n",
            "6\n"
          ],
          "name": "stdout"
        }
      ]
    },
    {
      "cell_type": "code",
      "metadata": {
        "colab": {
          "base_uri": "https://localhost:8080/"
        },
        "id": "pxT7AYzARB5z",
        "outputId": "830b10f3-0813-4539-e75e-38f63e8f8852"
      },
      "source": [
        "ag_news_path = 'sentiment_datasets/ag_news_csv'\n",
        "ag_news_path"
      ],
      "execution_count": null,
      "outputs": [
        {
          "output_type": "execute_result",
          "data": {
            "text/plain": [
              "'sentiment_datasets/ag_news_csv'"
            ]
          },
          "metadata": {
            "tags": []
          },
          "execution_count": 69
        }
      ]
    },
    {
      "cell_type": "code",
      "metadata": {
        "id": "RXGrkdEYfbA7"
      },
      "source": [
        "a = pd.read_csv()"
      ],
      "execution_count": null,
      "outputs": []
    },
    {
      "cell_type": "code",
      "metadata": {
        "id": "zrmFvw_jRe2r"
      },
      "source": [
        "import pandas as pd\n",
        "def load_data(filename, data_path = ag_news_path):\n",
        "  data_df = pd.read_csv(os.path.join(data_path, filename), header=None)\n",
        "  data_df.columns = ['rating', 'topic','description']\n",
        "  data = data_df[['description','rating']].to_numpy()\n",
        "  return data"
      ],
      "execution_count": null,
      "outputs": []
    },
    {
      "cell_type": "code",
      "metadata": {
        "id": "GkTLVhxyVaMu"
      },
      "source": [
        "train_data = load_data('train.csv')\n",
        "test_data = load_data('test.csv')"
      ],
      "execution_count": null,
      "outputs": []
    },
    {
      "cell_type": "code",
      "metadata": {
        "colab": {
          "base_uri": "https://localhost:8080/"
        },
        "id": "a9IyJx72SXi2",
        "outputId": "3fc9c03e-d48a-4ae7-e733-ca27c8fca94a"
      },
      "source": [
        "dev_ratio=0.05\n",
        "dev_size = round(len(train_data) * dev_ratio)\n",
        "print(dev_size)\n",
        "random.shuffle(train_data)\n",
        "dev_data = train_data[:dev_size]\n",
        "train_data = train_data[dev_size:]"
      ],
      "execution_count": null,
      "outputs": [
        {
          "output_type": "execute_result",
          "data": {
            "text/plain": [
              "274"
            ]
          },
          "metadata": {
            "tags": []
          },
          "execution_count": 73
        }
      ]
    },
    {
      "cell_type": "code",
      "metadata": {
        "colab": {
          "base_uri": "https://localhost:8080/"
        },
        "id": "6nEkw2b1cD9o",
        "outputId": "961597bb-1d50-48ab-8004-0fc058350c07"
      },
      "source": [
        "train_data.T[1].max()"
      ],
      "execution_count": null,
      "outputs": [
        {
          "output_type": "execute_result",
          "data": {
            "text/plain": [
              "4"
            ]
          },
          "metadata": {
            "tags": []
          },
          "execution_count": 95
        }
      ]
    },
    {
      "cell_type": "code",
      "metadata": {
        "colab": {
          "base_uri": "https://localhost:8080/"
        },
        "id": "BQf0QLH2cJXS",
        "outputId": "18ab4a1c-c94a-43e3-d7e6-93067124759f"
      },
      "source": [
        "train_data.T[1].min()"
      ],
      "execution_count": null,
      "outputs": [
        {
          "output_type": "execute_result",
          "data": {
            "text/plain": [
              "1"
            ]
          },
          "metadata": {
            "tags": []
          },
          "execution_count": 96
        }
      ]
    },
    {
      "cell_type": "code",
      "metadata": {
        "colab": {
          "base_uri": "https://localhost:8080/"
        },
        "id": "WAmY_wKmcK4n",
        "outputId": "984fb46a-8ff5-41e5-be30-1dcb3e40c9eb"
      },
      "source": [
        "test_data.T[1].max()"
      ],
      "execution_count": null,
      "outputs": [
        {
          "output_type": "execute_result",
          "data": {
            "text/plain": [
              "4"
            ]
          },
          "metadata": {
            "tags": []
          },
          "execution_count": 97
        }
      ]
    },
    {
      "cell_type": "code",
      "metadata": {
        "colab": {
          "base_uri": "https://localhost:8080/"
        },
        "id": "bKQYgRYycNcM",
        "outputId": "5d0cbb6b-9262-4826-9514-871be1565c19"
      },
      "source": [
        "np.unique(test_data.T[1])"
      ],
      "execution_count": null,
      "outputs": [
        {
          "output_type": "execute_result",
          "data": {
            "text/plain": [
              "array([1, 2, 3, 4], dtype=object)"
            ]
          },
          "metadata": {
            "tags": []
          },
          "execution_count": 99
        }
      ]
    },
    {
      "cell_type": "code",
      "metadata": {
        "colab": {
          "base_uri": "https://localhost:8080/"
        },
        "id": "t5prLVThch9t",
        "outputId": "7d6b6fa7-8bc9-4787-c2dd-da0f00150491"
      },
      "source": [
        "np.unique(train_data.T[1])"
      ],
      "execution_count": null,
      "outputs": [
        {
          "output_type": "execute_result",
          "data": {
            "text/plain": [
              "array([1, 2, 3, 4], dtype=object)"
            ]
          },
          "metadata": {
            "tags": []
          },
          "execution_count": 100
        }
      ]
    },
    {
      "cell_type": "code",
      "metadata": {
        "colab": {
          "base_uri": "https://localhost:8080/"
        },
        "id": "MGon2FdmTm_e",
        "outputId": "45f0b2b3-ae51-47b9-b5b5-f18e9f29185f"
      },
      "source": [
        "instances += [DatasetInstance(data[0], data[1], 'train') for data in train_data]\n",
        "instances += [DatasetInstance(data[0], data[1], 'dev') for data in dev_data]\n",
        "instances += [DatasetInstance(data[0], data[1], 'test') for data in test_data]\n",
        "Dataset('agnews', instances, [1,2,3,4])"
      ],
      "execution_count": null,
      "outputs": [
        {
          "output_type": "execute_result",
          "data": {
            "text/plain": [
              "__main__.Dataset"
            ]
          },
          "metadata": {
            "tags": []
          },
          "execution_count": 80
        }
      ]
    },
    {
      "cell_type": "code",
      "metadata": {
        "id": "3Pgxk9NyNEW_"
      },
      "source": [
        "def load_agnews_dataset(agnews_path, dev_ratio = 0.05, sample_ratio = 0.2):\n",
        "    def load_data(filename, data_path = agnews_path):\n",
        "      data_df = pd.read_csv(os.path.join(data_path, filename), header=None)\n",
        "      data_df.columns = ['rating', 'topic','description']\n",
        "      data = data_df[['description','rating']].to_numpy()\n",
        "      return data\n",
        "\n",
        "    train_data = load_data('train.csv')\n",
        "    train_data = random.choices(train_data, k = round(sample_ratio*train_data.shape[0]) )\n",
        "    test_data = load_data('test.csv')\n",
        "    test_data = random.choices(test_data, k = round(sample_ratio*test_data.shape[0]) )\n",
        "\n",
        "    #train dev split\n",
        "    dev_size = round(len(train_data) * dev_ratio)\n",
        "    print(dev_size)\n",
        "    random.shuffle(train_data)\n",
        "    dev_data = train_data[:dev_size]\n",
        "    train_data = train_data[dev_size:]\n",
        "\n",
        "    instances = []\n",
        "    instances += [DatasetInstance(data[0], data[1], 'train') for data in train_data]\n",
        "    instances += [DatasetInstance(data[0], data[1], 'dev') for data in dev_data]\n",
        "    instances += [DatasetInstance(data[0], data[1], 'test') for data in test_data]\n",
        "    labels = [1,2,3,4]\n",
        "    return Dataset('agnews', instances, labels)"
      ],
      "execution_count": null,
      "outputs": []
    },
    {
      "cell_type": "code",
      "metadata": {
        "colab": {
          "base_uri": "https://localhost:8080/"
        },
        "id": "H-PbY3pX-s4G",
        "outputId": "72495d95-eda0-4d8e-b5bf-e5f46d18bf95"
      },
      "source": [
        "!ls $pwd"
      ],
      "execution_count": null,
      "outputs": [
        {
          "output_type": "stream",
          "text": [
            "README.md                             main.py\r\n",
            "\u001b[34m__pycache__\u001b[m\u001b[m                           model.py\r\n",
            "data.py                               optimizer.py\r\n",
            "entity_linker.py                      requirements.in\r\n",
            "enwiki_20180420_entity_linker.pkl     requirements.txt\r\n",
            "enwiki_20180420_entity_linker.pkl.bz2 \u001b[34mreuters-21578\u001b[m\u001b[m\r\n",
            "enwiki_20180420_lg1_300d.pkl          reuters21578.tar\r\n",
            "enwiki_20180420_lg1_300d.pkl.bz2      train.py\r\n",
            "enwiki_20180420_lg1_300d.pkl.bz2.1\r\n"
          ],
          "name": "stdout"
        }
      ]
    },
    {
      "cell_type": "code",
      "metadata": {
        "id": "BZs0s1yh8EXj"
      },
      "source": [
        "import time "
      ],
      "execution_count": 1,
      "outputs": []
    },
    {
      "cell_type": "code",
      "metadata": {
        "colab": {
          "base_uri": "https://localhost:8080/"
        },
        "id": "VoBfSum48HJ1",
        "outputId": "b908f555-01ef-41c7-f6a0-11ddf46c4ab4"
      },
      "source": [
        "t1 = time.time()\n",
        "print(time.time() - t1)"
      ],
      "execution_count": 2,
      "outputs": [
        {
          "output_type": "stream",
          "text": [
            "5.602836608886719e-05\n"
          ],
          "name": "stdout"
        }
      ]
    },
    {
      "cell_type": "code",
      "metadata": {
        "colab": {
          "base_uri": "https://localhost:8080/"
        },
        "id": "EWG6DH8u8V5g",
        "outputId": "2e63b088-ea01-4aa5-c9a3-667a12d3c3d5"
      },
      "source": [
        "#20news group, accuracy should be around 0.86\n",
        "t1 = time.time()\n",
        "!python main.py train-classifier enwiki_20180420_lg1_300d.pkl enwiki_20180420_entity_linker.pkl --dataset=20ng --patience=3\n",
        "print(f\"Total time elapsed: {time.time() - t1}\")"
      ],
      "execution_count": 3,
      "outputs": [
        {
          "output_type": "stream",
          "text": [
            "{'patience': 3, 'min_count': None, 'max_word_length': None, 'max_entity_length': None, 'batch_size': None, 'learning_rate': None, 'weight_decay': None, 'warmup_epochs': None, 'dropout_prob': None, 'use_gpu': False, 'use_word': True}\n",
            "[2021-04-18 02:51:07,005] [INFO] Creating vocabulary... (generate_features@data.py:65)\n",
            "100%|████████████████████████████████████| 18846/18846 [01:01<00:00, 307.19it/s]\n",
            "epoch: 0 loss: 2.87369680: 100%|██████████████| 336/336 [02:47<00:00,  2.01it/s]\n",
            "accuracy (dev): 0.2478\n",
            "f-measure (dev): 0.1900\n",
            "epoch: 1 loss: 2.58604074: 100%|██████████████| 336/336 [02:47<00:00,  2.01it/s]\n",
            "accuracy (dev): 0.5876\n",
            "f-measure (dev): 0.5260\n",
            "epoch: 2 loss: 1.88835907: 100%|██████████████| 336/336 [02:48<00:00,  2.00it/s]\n",
            "accuracy (dev): 0.7274\n",
            "f-measure (dev): 0.6931\n",
            "epoch: 3 loss: 0.95640075: 100%|██████████████| 336/336 [02:47<00:00,  2.00it/s]\n",
            "accuracy (dev): 0.8566\n",
            "f-measure (dev): 0.8392\n",
            "epoch: 4 loss: 0.45326430: 100%|██████████████| 336/336 [02:47<00:00,  2.00it/s]\n",
            "accuracy (dev): 0.9150\n",
            "f-measure (dev): 0.9082\n",
            "epoch: 5 loss: 0.24408256: 100%|██████████████| 336/336 [02:47<00:00,  2.01it/s]\n",
            "accuracy (dev): 0.9327\n",
            "f-measure (dev): 0.9294\n",
            "epoch: 6 loss: 0.10840707: 100%|██████████████| 336/336 [02:47<00:00,  2.00it/s]\n",
            "accuracy (dev): 0.9363\n",
            "f-measure (dev): 0.9332\n",
            "epoch: 7 loss: 0.15611801: 100%|██████████████| 336/336 [02:47<00:00,  2.00it/s]\n",
            "accuracy (dev): 0.9416\n",
            "f-measure (dev): 0.9378\n",
            "epoch: 8 loss: 0.07751289: 100%|██████████████| 336/336 [02:47<00:00,  2.00it/s]\n",
            "accuracy (dev): 0.9434\n",
            "f-measure (dev): 0.9414\n",
            "epoch: 9 loss: 0.05261135: 100%|██████████████| 336/336 [02:48<00:00,  2.00it/s]\n",
            "accuracy (dev): 0.9487\n",
            "f-measure (dev): 0.9461\n",
            "epoch: 10 loss: 0.03678034: 100%|█████████████| 336/336 [02:48<00:00,  2.00it/s]\n",
            "accuracy (dev): 0.9558\n",
            "f-measure (dev): 0.9529\n",
            "epoch: 11 loss: 0.04185922: 100%|█████████████| 336/336 [02:47<00:00,  2.00it/s]\n",
            "accuracy (dev): 0.9522\n",
            "f-measure (dev): 0.9495\n",
            "epoch: 12 loss: 0.03038894: 100%|█████████████| 336/336 [02:48<00:00,  2.00it/s]\n",
            "accuracy (dev): 0.9558\n",
            "f-measure (dev): 0.9538\n",
            "epoch: 13 loss: 0.07730836: 100%|█████████████| 336/336 [02:48<00:00,  2.00it/s]\n",
            "accuracy (dev): 0.9593\n",
            "f-measure (dev): 0.9564\n",
            "epoch: 14 loss: 0.01745375: 100%|█████████████| 336/336 [02:48<00:00,  2.00it/s]\n",
            "accuracy (dev): 0.9540\n",
            "f-measure (dev): 0.9517\n",
            "epoch: 15 loss: 0.00347501: 100%|█████████████| 336/336 [02:48<00:00,  1.99it/s]\n",
            "accuracy (dev): 0.9540\n",
            "f-measure (dev): 0.9520\n",
            "epoch: 16 loss: 0.00429854: 100%|█████████████| 336/336 [02:48<00:00,  2.00it/s]\n",
            "accuracy (dev): 0.9593\n",
            "f-measure (dev): 0.9574\n",
            "accuracy (test): 0.8798\n",
            "f-measure (test): 0.8745\n",
            "Total time elapsed: 2949.1571247577667\n"
          ],
          "name": "stdout"
        }
      ]
    },
    {
      "cell_type": "code",
      "metadata": {
        "colab": {
          "base_uri": "https://localhost:8080/"
        },
        "id": "Hr9w7Sh-8qUC",
        "outputId": "2cb5ef7b-56c6-40fa-a9ff-25c5eb276bc2"
      },
      "source": [
        "#r8 dataset, accuracy should be around 0.97\n",
        "t1 = time.time()\n",
        "!python main.py train-classifier enwiki_20180420_lg1_300d.pkl enwiki_20180420_entity_linker.pkl --dataset=r8 --dataset-path=reuters-21578 --patience=3\n",
        "print(f\"Total time elapsed: {time.time() - t1}\")"
      ],
      "execution_count": 4,
      "outputs": [
        {
          "output_type": "stream",
          "text": [
            "{'patience': 3, 'min_count': None, 'max_word_length': None, 'max_entity_length': None, 'batch_size': None, 'learning_rate': None, 'weight_decay': None, 'warmup_epochs': None, 'dropout_prob': None, 'use_gpu': False, 'use_word': True}\n",
            "[2021-04-18 03:40:26,676] [INFO] Creating vocabulary... (generate_features@data.py:65)\n",
            "100%|██████████████████████████████████████| 7674/7674 [00:09<00:00, 827.66it/s]\n",
            "epoch: 0 loss: 0.66338152: 100%|██████████████| 163/163 [00:19<00:00,  8.35it/s]\n",
            "accuracy (dev): 0.7372\n",
            "f-measure (dev): 0.2005\n",
            "epoch: 1 loss: 0.13576712: 100%|██████████████| 163/163 [00:25<00:00,  6.45it/s]\n",
            "accuracy (dev): 0.9343\n",
            "f-measure (dev): 0.7219\n",
            "epoch: 2 loss: 0.14597020: 100%|██████████████| 163/163 [00:23<00:00,  6.92it/s]\n",
            "accuracy (dev): 0.9526\n",
            "f-measure (dev): 0.8994\n",
            "epoch: 3 loss: 0.01007028: 100%|██████████████| 163/163 [00:23<00:00,  6.93it/s]\n",
            "accuracy (dev): 0.9891\n",
            "f-measure (dev): 0.9719\n",
            "epoch: 4 loss: 0.01432292: 100%|██████████████| 163/163 [00:23<00:00,  6.91it/s]\n",
            "accuracy (dev): 0.9854\n",
            "f-measure (dev): 0.9706\n",
            "epoch: 5 loss: 0.00302438: 100%|██████████████| 163/163 [00:23<00:00,  6.90it/s]\n",
            "accuracy (dev): 0.9781\n",
            "f-measure (dev): 0.9500\n",
            "epoch: 6 loss: 0.05192822: 100%|██████████████| 163/163 [00:23<00:00,  6.91it/s]\n",
            "accuracy (dev): 0.9818\n",
            "f-measure (dev): 0.9602\n",
            "accuracy (test): 0.9785\n",
            "f-measure (test): 0.9300\n",
            "Total time elapsed: 202.06259107589722\n"
          ],
          "name": "stdout"
        }
      ]
    },
    {
      "cell_type": "code",
      "metadata": {
        "colab": {
          "base_uri": "https://localhost:8080/"
        },
        "id": "KykbofipCVlL",
        "outputId": "fbfd0ba3-1b95-43cc-da06-12ab665a20db"
      },
      "source": [
        "!python main.py train-classifier enwiki_20180420_lg1_300d.pkl enwiki_20180420_entity_linker.pkl --dataset=agnews --dataset-path='sentiment_datasets/ag_news_csv' --sample_ratio=0.2 --patience=3"
      ],
      "execution_count": 5,
      "outputs": [
        {
          "output_type": "stream",
          "text": [
            "{'patience': 3, 'min_count': None, 'max_word_length': None, 'max_entity_length': None, 'batch_size': None, 'learning_rate': None, 'weight_decay': None, 'warmup_epochs': None, 'dropout_prob': None, 'use_gpu': False, 'use_word': True}\n",
            "[2021-04-18 03:57:38,251] [INFO] Note: NumExpr detected 16 cores but \"NUMEXPR_MAX_THREADS\" not set, so enforcing safe limit of 8. (_init_num_threads@utils.py:129)\n",
            "[2021-04-18 03:57:38,251] [INFO] NumExpr defaulting to 8 threads. (_init_num_threads@utils.py:141)\n",
            "1200\n",
            "[2021-04-18 03:57:39,976] [INFO] Creating vocabulary... (generate_features@data.py:65)\n",
            "100%|███████████████████████████████████| 25520/25520 [00:06<00:00, 4025.51it/s]\n",
            "epoch: 0 loss: 0.21575215: 100%|██████████████| 713/713 [01:12<00:00,  9.88it/s]\n",
            "accuracy (dev): 0.8467\n",
            "f-measure (dev): 0.8478\n",
            "epoch: 1 loss: 0.14972335: 100%|██████████████| 713/713 [01:11<00:00,  9.91it/s]\n",
            "accuracy (dev): 0.8833\n",
            "f-measure (dev): 0.8852\n",
            "epoch: 2 loss: 0.09223567: 100%|██████████████| 713/713 [01:11<00:00,  9.92it/s]\n",
            "accuracy (dev): 0.8767\n",
            "f-measure (dev): 0.8785\n",
            "epoch: 3 loss: 0.21362674: 100%|██████████████| 713/713 [01:11<00:00,  9.91it/s]\n",
            "accuracy (dev): 0.8800\n",
            "f-measure (dev): 0.8817\n",
            "epoch: 4 loss: 0.29328963: 100%|██████████████| 713/713 [01:11<00:00,  9.99it/s]\n",
            "accuracy (dev): 0.8817\n",
            "f-measure (dev): 0.8835\n",
            "accuracy (test): 0.8717\n",
            "f-measure (test): 0.8721\n"
          ],
          "name": "stdout"
        }
      ]
    },
    {
      "cell_type": "code",
      "metadata": {
        "colab": {
          "base_uri": "https://localhost:8080/"
        },
        "id": "YVHM32wIqln5",
        "outputId": "5505816d-c63b-42c1-a2d5-cad57d27098f"
      },
      "source": [
        "!python main.py train-classifier enwiki_20180420_lg1_300d.pkl enwiki_20180420_entity_linker.pkl --dataset=agnews --dataset-path='sentiment_datasets/ag_news_csv' --sample_ratio=0.3 --patience=3 --dev-size=0.1"
      ],
      "execution_count": 7,
      "outputs": [
        {
          "output_type": "stream",
          "text": [
            "{'patience': 3, 'min_count': None, 'max_word_length': None, 'max_entity_length': None, 'batch_size': None, 'learning_rate': None, 'weight_decay': None, 'warmup_epochs': None, 'dropout_prob': None, 'use_gpu': False, 'use_word': True}\n",
            "[2021-04-18 04:12:06,137] [INFO] Note: NumExpr detected 16 cores but \"NUMEXPR_MAX_THREADS\" not set, so enforcing safe limit of 8. (_init_num_threads@utils.py:129)\n",
            "[2021-04-18 04:12:06,137] [INFO] NumExpr defaulting to 8 threads. (_init_num_threads@utils.py:141)\n",
            "2400\n",
            "[2021-04-18 04:12:07,671] [INFO] Creating vocabulary... (generate_features@data.py:65)\n",
            "100%|███████████████████████████████████| 31600/31600 [00:08<00:00, 3586.37it/s]\n",
            "epoch: 0 loss: 0.62562615: 100%|██████████████| 675/675 [01:04<00:00, 10.49it/s]\n",
            "accuracy (dev): 0.8450\n",
            "f-measure (dev): 0.8450\n",
            "epoch: 1 loss: 0.30967689: 100%|██████████████| 675/675 [01:17<00:00,  8.73it/s]\n",
            "accuracy (dev): 0.8804\n",
            "f-measure (dev): 0.8808\n",
            "epoch: 2 loss: 0.33121398: 100%|██████████████| 675/675 [01:14<00:00,  9.04it/s]\n",
            "accuracy (dev): 0.8792\n",
            "f-measure (dev): 0.8796\n",
            "epoch: 3 loss: 0.19309418: 100%|██████████████| 675/675 [01:14<00:00,  9.03it/s]\n",
            "accuracy (dev): 0.8738\n",
            "f-measure (dev): 0.8742\n",
            "epoch: 4 loss: 0.00604168: 100%|██████████████| 675/675 [01:17<00:00,  8.71it/s]\n",
            "accuracy (dev): 0.8721\n",
            "f-measure (dev): 0.8727\n",
            "accuracy (test): 0.8678\n",
            "f-measure (test): 0.8679\n"
          ],
          "name": "stdout"
        }
      ]
    },
    {
      "cell_type": "code",
      "metadata": {
        "id": "eZJNrkgsbEvi",
        "colab": {
          "base_uri": "https://localhost:8080/"
        },
        "outputId": "2b5a94dc-4d2c-4cd9-92fd-19d4091ff9cb"
      },
      "source": [
        "!python main.py train-classifier enwiki_20180420_lg1_300d.pkl enwiki_20180420_entity_linker.pkl --dataset=agnews --dataset-path='sentiment_datasets/ag_news_csv' --sample_ratio=0.4 --patience=3 --dev-size=0.1"
      ],
      "execution_count": 8,
      "outputs": [
        {
          "output_type": "stream",
          "text": [
            "{'patience': 3, 'min_count': None, 'max_word_length': None, 'max_entity_length': None, 'batch_size': None, 'learning_rate': None, 'weight_decay': None, 'warmup_epochs': None, 'dropout_prob': None, 'use_gpu': False, 'use_word': True}\n",
            "[2021-04-18 04:39:13,773] [INFO] Note: NumExpr detected 16 cores but \"NUMEXPR_MAX_THREADS\" not set, so enforcing safe limit of 8. (_init_num_threads@utils.py:129)\n",
            "[2021-04-18 04:39:13,773] [INFO] NumExpr defaulting to 8 threads. (_init_num_threads@utils.py:141)\n",
            "4800\n",
            "[2021-04-18 04:39:15,490] [INFO] Creating vocabulary... (generate_features@data.py:65)\n",
            "100%|███████████████████████████████████| 55600/55600 [00:15<00:00, 3481.83it/s]\n",
            "epoch: 0 loss: 0.51255274: 100%|████████████| 1350/1350 [03:09<00:00,  7.11it/s]\n",
            "accuracy (dev): 0.8792\n",
            "f-measure (dev): 0.8788\n",
            "epoch: 1 loss: 0.36382210: 100%|████████████| 1350/1350 [03:15<00:00,  6.90it/s]\n",
            "accuracy (dev): 0.9031\n",
            "f-measure (dev): 0.9030\n",
            "epoch: 2 loss: 0.49471223: 100%|████████████| 1350/1350 [03:14<00:00,  6.95it/s]\n",
            "accuracy (dev): 0.9098\n",
            "f-measure (dev): 0.9096\n",
            "epoch: 3 loss: 0.01631037: 100%|████████████| 1350/1350 [03:15<00:00,  6.89it/s]\n",
            "accuracy (dev): 0.9046\n",
            "f-measure (dev): 0.9046\n",
            "epoch: 4 loss: 0.00965489: 100%|████████████| 1350/1350 [03:17<00:00,  6.84it/s]\n",
            "accuracy (dev): 0.9060\n",
            "f-measure (dev): 0.9060\n",
            "epoch: 5 loss: 0.00051658: 100%|████████████| 1350/1350 [03:18<00:00,  6.81it/s]\n",
            "accuracy (dev): 0.9052\n",
            "f-measure (dev): 0.9051\n",
            "accuracy (test): 0.8743\n",
            "f-measure (test): 0.8741\n"
          ],
          "name": "stdout"
        }
      ]
    },
    {
      "cell_type": "code",
      "metadata": {
        "colab": {
          "base_uri": "https://localhost:8080/"
        },
        "id": "GpzrDNIyIkDY",
        "outputId": "e12703bf-73d4-427a-e015-1c7fb62079dd"
      },
      "source": [
        "!python main.py train-classifier enwiki_20180420_lg1_300d.pkl enwiki_20180420_entity_linker.pkl --dataset=agnews --dataset-path='sentiment_datasets/ag_news_csv' --sample_ratio=0.5 --patience=3 --dev-size=0.1"
      ],
      "execution_count": 9,
      "outputs": [
        {
          "output_type": "stream",
          "text": [
            "{'patience': 3, 'min_count': None, 'max_word_length': None, 'max_entity_length': None, 'batch_size': None, 'learning_rate': None, 'weight_decay': None, 'warmup_epochs': None, 'dropout_prob': None, 'use_gpu': False, 'use_word': True}\n",
            "[2021-04-18 04:59:35,574] [INFO] Note: NumExpr detected 16 cores but \"NUMEXPR_MAX_THREADS\" not set, so enforcing safe limit of 8. (_init_num_threads@utils.py:129)\n",
            "[2021-04-18 04:59:35,574] [INFO] NumExpr defaulting to 8 threads. (_init_num_threads@utils.py:141)\n",
            "6000\n",
            "[2021-04-18 04:59:37,260] [INFO] Creating vocabulary... (generate_features@data.py:65)\n",
            "100%|███████████████████████████████████| 67600/67600 [00:17<00:00, 3919.99it/s]\n",
            "epoch: 0 loss: 0.22995307: 100%|████████████| 1688/1688 [04:12<00:00,  6.68it/s]\n",
            "accuracy (dev): 0.8872\n",
            "f-measure (dev): 0.8874\n",
            "epoch: 1 loss: 0.27880809: 100%|████████████| 1688/1688 [04:29<00:00,  6.27it/s]\n",
            "accuracy (dev): 0.9068\n",
            "f-measure (dev): 0.9071\n",
            "epoch: 2 loss: 0.00934730: 100%|████████████| 1688/1688 [04:28<00:00,  6.30it/s]\n",
            "accuracy (dev): 0.9153\n",
            "f-measure (dev): 0.9155\n",
            "epoch: 3 loss: 0.04971077: 100%|████████████| 1688/1688 [04:28<00:00,  6.29it/s]\n",
            "accuracy (dev): 0.9203\n",
            "f-measure (dev): 0.9205\n",
            "epoch: 4 loss: 0.00526118: 100%|████████████| 1688/1688 [04:29<00:00,  6.27it/s]\n",
            "accuracy (dev): 0.9200\n",
            "f-measure (dev): 0.9201\n",
            "epoch: 5 loss: 0.00061759: 100%|████████████| 1688/1688 [04:30<00:00,  6.24it/s]\n",
            "accuracy (dev): 0.9172\n",
            "f-measure (dev): 0.9173\n",
            "epoch: 6 loss: 0.00131765: 100%|████████████| 1688/1688 [04:30<00:00,  6.24it/s]\n",
            "accuracy (dev): 0.9168\n",
            "f-measure (dev): 0.9170\n",
            "accuracy (test): 0.8766\n",
            "f-measure (test): 0.8765\n"
          ],
          "name": "stdout"
        }
      ]
    },
    {
      "cell_type": "code",
      "metadata": {
        "colab": {
          "base_uri": "https://localhost:8080/"
        },
        "id": "rkV-T1VPIoxx",
        "outputId": "bdcd929b-3358-40d3-aab7-06426a3907be"
      },
      "source": [
        "!python main.py train-classifier enwiki_20180420_lg1_300d.pkl enwiki_20180420_entity_linker.pkl --dataset=agnews --dataset-path='sentiment_datasets/ag_news_csv' --sample_ratio=0.6 --patience=3 --dev-size=0.1"
      ],
      "execution_count": 10,
      "outputs": [
        {
          "output_type": "stream",
          "text": [
            "{'patience': 3, 'min_count': None, 'max_word_length': None, 'max_entity_length': None, 'batch_size': None, 'learning_rate': None, 'weight_decay': None, 'warmup_epochs': None, 'dropout_prob': None, 'use_gpu': False, 'use_word': True}\n",
            "[2021-04-18 05:31:34,793] [INFO] Note: NumExpr detected 16 cores but \"NUMEXPR_MAX_THREADS\" not set, so enforcing safe limit of 8. (_init_num_threads@utils.py:129)\n",
            "[2021-04-18 05:31:34,793] [INFO] NumExpr defaulting to 8 threads. (_init_num_threads@utils.py:141)\n",
            "7200\n",
            "[2021-04-18 05:31:36,411] [INFO] Creating vocabulary... (generate_features@data.py:65)\n",
            "100%|███████████████████████████████████| 79600/79600 [00:19<00:00, 4072.95it/s]\n",
            "epoch: 0 loss: 0.24468315: 100%|████████████| 2025/2025 [05:24<00:00,  6.23it/s]\n",
            "accuracy (dev): 0.8903\n",
            "f-measure (dev): 0.8904\n",
            "epoch: 1 loss: 0.36283419: 100%|████████████| 2025/2025 [05:49<00:00,  5.80it/s]\n",
            "accuracy (dev): 0.9185\n",
            "f-measure (dev): 0.9189\n",
            "epoch: 2 loss: 0.08021113: 100%|████████████| 2025/2025 [05:41<00:00,  5.92it/s]\n",
            "accuracy (dev): 0.9251\n",
            "f-measure (dev): 0.9255\n",
            "epoch: 3 loss: 0.06511255: 100%|████████████| 2025/2025 [05:41<00:00,  5.93it/s]\n",
            "accuracy (dev): 0.9217\n",
            "f-measure (dev): 0.9220\n",
            "epoch: 4 loss: 0.03179478: 100%|████████████| 2025/2025 [05:49<00:00,  5.79it/s]\n",
            "accuracy (dev): 0.9257\n",
            "f-measure (dev): 0.9261\n",
            "epoch: 5 loss: 0.00857689: 100%|████████████| 2025/2025 [05:50<00:00,  5.77it/s]\n",
            "accuracy (dev): 0.9276\n",
            "f-measure (dev): 0.9281\n",
            "epoch: 6 loss: 0.00308511: 100%|████████████| 2025/2025 [05:48<00:00,  5.82it/s]\n",
            "accuracy (dev): 0.9254\n",
            "f-measure (dev): 0.9259\n",
            "epoch: 7 loss: 0.00357635: 100%|████████████| 2025/2025 [05:50<00:00,  5.77it/s]\n",
            "accuracy (dev): 0.9249\n",
            "f-measure (dev): 0.9253\n",
            "epoch: 8 loss: 0.01208723: 100%|████████████| 2025/2025 [05:43<00:00,  5.90it/s]\n",
            "accuracy (dev): 0.9253\n",
            "f-measure (dev): 0.9256\n",
            "accuracy (test): 0.8691\n",
            "f-measure (test): 0.8691\n"
          ],
          "name": "stdout"
        }
      ]
    },
    {
      "cell_type": "code",
      "metadata": {
        "id": "zxDcuo7zIq1F"
      },
      "source": [
        "!python main.py train-classifier enwiki_20180420_lg1_300d.pkl enwiki_20180420_entity_linker.pkl --dataset=agnews --dataset-path='sentiment_datasets/ag_news_csv' --sample_ratio=0.6 --patience=3 --dev-size=0.1"
      ],
      "execution_count": null,
      "outputs": []
    },
    {
      "cell_type": "code",
      "metadata": {
        "id": "bizqCIO2IuFj"
      },
      "source": [
        "#事实证明，用20%的training data就够了"
      ],
      "execution_count": null,
      "outputs": []
    },
    {
      "cell_type": "code",
      "metadata": {
        "id": "ydZKLs2cueVf"
      },
      "source": [
        ""
      ],
      "execution_count": null,
      "outputs": []
    },
    {
      "cell_type": "code",
      "metadata": {
        "id": "lznH3aQBFN3s"
      },
      "source": [
        "#min_count=3"
      ],
      "execution_count": null,
      "outputs": []
    },
    {
      "cell_type": "code",
      "metadata": {
        "colab": {
          "base_uri": "https://localhost:8080/"
        },
        "id": "SPyF7rHiFSay",
        "outputId": "50d44039-b2ae-4eb0-8362-220c1ba7d8c1"
      },
      "source": [
        "!python main.py train-classifier enwiki_20180420_lg1_300d.pkl enwiki_20180420_entity_linker.pkl --dataset=agnews --dataset-path='sentiment_datasets/ag_news_csv' --sample_ratio=0.2 --patience=3 --min-count=1"
      ],
      "execution_count": 2,
      "outputs": [
        {
          "output_type": "stream",
          "text": [
            "{'patience': 3, 'min_count': 1, 'max_word_length': None, 'max_entity_length': None, 'batch_size': None, 'learning_rate': None, 'weight_decay': None, 'warmup_epochs': None, 'dropout_prob': None, 'use_gpu': False, 'use_word': True}\n",
            "[2021-04-18 09:06:19,164] [INFO] Note: NumExpr detected 16 cores but \"NUMEXPR_MAX_THREADS\" not set, so enforcing safe limit of 8. (_init_num_threads@utils.py:129)\n",
            "[2021-04-18 09:06:19,164] [INFO] NumExpr defaulting to 8 threads. (_init_num_threads@utils.py:141)\n",
            "1200\n",
            "[2021-04-18 09:06:21,111] [INFO] Creating vocabulary... (generate_features@data.py:65)\n",
            "100%|███████████████████████████████████| 31600/31600 [00:08<00:00, 3833.76it/s]\n",
            "epoch: 0 loss: 0.67812389: 100%|██████████████| 713/713 [02:40<00:00,  4.43it/s]\n",
            "accuracy (dev): 0.8683\n",
            "f-measure (dev): 0.8680\n",
            "epoch: 1 loss: 0.11133724: 100%|██████████████| 713/713 [02:41<00:00,  4.41it/s]\n",
            "accuracy (dev): 0.8967\n",
            "f-measure (dev): 0.8961\n",
            "epoch: 2 loss: 0.00968423: 100%|██████████████| 713/713 [02:42<00:00,  4.39it/s]\n",
            "accuracy (dev): 0.8892\n",
            "f-measure (dev): 0.8888\n",
            "epoch: 3 loss: 0.11971872: 100%|██████████████| 713/713 [02:40<00:00,  4.45it/s]\n",
            "accuracy (dev): 0.8850\n",
            "f-measure (dev): 0.8843\n",
            "epoch: 4 loss: 0.05460750: 100%|██████████████| 713/713 [02:41<00:00,  4.41it/s]\n",
            "accuracy (dev): 0.8825\n",
            "f-measure (dev): 0.8822\n",
            "accuracy (test): 0.8684\n",
            "f-measure (test): 0.8677\n"
          ],
          "name": "stdout"
        }
      ]
    },
    {
      "cell_type": "code",
      "metadata": {
        "colab": {
          "base_uri": "https://localhost:8080/"
        },
        "id": "GK9E212GFooy",
        "outputId": "58a119ab-fc45-4f89-871b-0a600f214c6e"
      },
      "source": [
        "!python main.py train-classifier enwiki_20180420_lg1_300d.pkl enwiki_20180420_entity_linker.pkl --dataset=agnews --dataset-path='sentiment_datasets/ag_news_csv' --sample_ratio=0.2 --patience=3 --min-count=5"
      ],
      "execution_count": 19,
      "outputs": [
        {
          "output_type": "stream",
          "text": [
            "{'patience': 3, 'min_count': 5, 'max_word_length': None, 'max_entity_length': None, 'batch_size': None, 'learning_rate': None, 'weight_decay': None, 'warmup_epochs': None, 'dropout_prob': None, 'use_gpu': False, 'use_word': True}\n",
            "[2021-04-18 09:21:22,918] [INFO] Note: NumExpr detected 16 cores but \"NUMEXPR_MAX_THREADS\" not set, so enforcing safe limit of 8. (_init_num_threads@utils.py:129)\n",
            "[2021-04-18 09:21:22,918] [INFO] NumExpr defaulting to 8 threads. (_init_num_threads@utils.py:141)\n",
            "1200\n",
            "[2021-04-18 09:21:24,425] [INFO] Creating vocabulary... (generate_features@data.py:65)\n",
            "100%|███████████████████████████████████| 31600/31600 [00:10<00:00, 3142.73it/s]\n",
            "epoch: 0 loss: 0.95184708: 100%|██████████████| 713/713 [00:59<00:00, 12.01it/s]\n",
            "accuracy (dev): 0.8575\n",
            "f-measure (dev): 0.8575\n",
            "epoch: 1 loss: 1.12400377: 100%|██████████████| 713/713 [01:01<00:00, 11.62it/s]\n",
            "accuracy (dev): 0.8933\n",
            "f-measure (dev): 0.8934\n",
            "epoch: 2 loss: 0.06516819: 100%|██████████████| 713/713 [01:04<00:00, 11.10it/s]\n",
            "accuracy (dev): 0.8875\n",
            "f-measure (dev): 0.8876\n",
            "epoch: 3 loss: 0.03489934: 100%|██████████████| 713/713 [00:59<00:00, 11.98it/s]\n",
            "accuracy (dev): 0.8908\n",
            "f-measure (dev): 0.8905\n",
            "epoch: 4 loss: 0.00458118: 100%|██████████████| 713/713 [00:59<00:00, 11.97it/s]\n",
            "accuracy (dev): 0.8800\n",
            "f-measure (dev): 0.8797\n",
            "accuracy (test): 0.8662\n",
            "f-measure (test): 0.8660\n"
          ],
          "name": "stdout"
        }
      ]
    },
    {
      "cell_type": "code",
      "metadata": {
        "id": "AkHycqpPFzll"
      },
      "source": [
        "#max_word_length=43"
      ],
      "execution_count": 20,
      "outputs": []
    },
    {
      "cell_type": "code",
      "metadata": {
        "colab": {
          "base_uri": "https://localhost:8080/"
        },
        "id": "Nz72m3sgF3tv",
        "outputId": "d32f6225-d482-495a-b80d-f597f0bf1e12"
      },
      "source": [
        "!python main.py train-classifier enwiki_20180420_lg1_300d.pkl enwiki_20180420_entity_linker.pkl --dataset=agnews --dataset-path='sentiment_datasets/ag_news_csv' --sample_ratio=0.2 --patience=3 --max-word-length=21"
      ],
      "execution_count": 21,
      "outputs": [
        {
          "output_type": "stream",
          "text": [
            "{'patience': 3, 'max_word_length': 21, 'min_count': None, 'max_entity_length': None, 'batch_size': None, 'learning_rate': None, 'weight_decay': None, 'warmup_epochs': None, 'dropout_prob': None, 'use_gpu': False, 'use_word': True}\n",
            "[2021-04-18 09:26:49,046] [INFO] Note: NumExpr detected 16 cores but \"NUMEXPR_MAX_THREADS\" not set, so enforcing safe limit of 8. (_init_num_threads@utils.py:129)\n",
            "[2021-04-18 09:26:49,046] [INFO] NumExpr defaulting to 8 threads. (_init_num_threads@utils.py:141)\n",
            "1200\n",
            "[2021-04-18 09:26:50,457] [INFO] Creating vocabulary... (generate_features@data.py:65)\n",
            "100%|███████████████████████████████████| 31600/31600 [00:08<00:00, 3671.73it/s]\n",
            "epoch: 0 loss: 0.41725725: 100%|██████████████| 713/713 [01:19<00:00,  8.97it/s]\n",
            "accuracy (dev): 0.8525\n",
            "f-measure (dev): 0.8521\n",
            "epoch: 1 loss: 0.22154669: 100%|██████████████| 713/713 [01:19<00:00,  8.91it/s]\n",
            "accuracy (dev): 0.8967\n",
            "f-measure (dev): 0.8963\n",
            "epoch: 2 loss: 0.27551037: 100%|██████████████| 713/713 [01:19<00:00,  8.93it/s]\n",
            "accuracy (dev): 0.8833\n",
            "f-measure (dev): 0.8834\n",
            "epoch: 3 loss: 0.02538836: 100%|██████████████| 713/713 [01:19<00:00,  8.91it/s]\n",
            "accuracy (dev): 0.8933\n",
            "f-measure (dev): 0.8933\n",
            "epoch: 4 loss: 0.01416425: 100%|██████████████| 713/713 [01:20<00:00,  8.90it/s]\n",
            "accuracy (dev): 0.8808\n",
            "f-measure (dev): 0.8808\n",
            "accuracy (test): 0.8622\n",
            "f-measure (test): 0.8623\n"
          ],
          "name": "stdout"
        }
      ]
    },
    {
      "cell_type": "code",
      "metadata": {
        "colab": {
          "base_uri": "https://localhost:8080/"
        },
        "id": "qM-RNFX7F_dU",
        "outputId": "622e7cff-7c1b-4c6b-8de5-3e4b10b26553"
      },
      "source": [
        "!python main.py train-classifier enwiki_20180420_lg1_300d.pkl enwiki_20180420_entity_linker.pkl --dataset=agnews --dataset-path='sentiment_datasets/ag_news_csv' --sample_ratio=0.2 --patience=3 --max-word-length=85"
      ],
      "execution_count": 22,
      "outputs": [
        {
          "output_type": "stream",
          "text": [
            "{'patience': 3, 'max_word_length': 85, 'min_count': None, 'max_entity_length': None, 'batch_size': None, 'learning_rate': None, 'weight_decay': None, 'warmup_epochs': None, 'dropout_prob': None, 'use_gpu': False, 'use_word': True}\n",
            "[2021-04-18 09:33:47,715] [INFO] Note: NumExpr detected 16 cores but \"NUMEXPR_MAX_THREADS\" not set, so enforcing safe limit of 8. (_init_num_threads@utils.py:129)\n",
            "[2021-04-18 09:33:47,715] [INFO] NumExpr defaulting to 8 threads. (_init_num_threads@utils.py:141)\n",
            "1200\n",
            "[2021-04-18 09:33:49,084] [INFO] Creating vocabulary... (generate_features@data.py:65)\n",
            "100%|███████████████████████████████████| 31600/31600 [00:08<00:00, 3877.65it/s]\n",
            "epoch: 0 loss: 0.39765996: 100%|██████████████| 713/713 [01:19<00:00,  9.02it/s]\n",
            "accuracy (dev): 0.8483\n",
            "f-measure (dev): 0.8476\n",
            "epoch: 1 loss: 0.19685851: 100%|██████████████| 713/713 [01:20<00:00,  8.89it/s]\n",
            "accuracy (dev): 0.8908\n",
            "f-measure (dev): 0.8903\n",
            "epoch: 2 loss: 0.30737793: 100%|██████████████| 713/713 [01:19<00:00,  8.94it/s]\n",
            "accuracy (dev): 0.8925\n",
            "f-measure (dev): 0.8926\n",
            "epoch: 3 loss: 0.01579072: 100%|██████████████| 713/713 [01:20<00:00,  8.89it/s]\n",
            "accuracy (dev): 0.8842\n",
            "f-measure (dev): 0.8841\n",
            "epoch: 4 loss: 0.01244172: 100%|██████████████| 713/713 [01:20<00:00,  8.90it/s]\n",
            "accuracy (dev): 0.8883\n",
            "f-measure (dev): 0.8882\n",
            "epoch: 5 loss: 0.01165622: 100%|██████████████| 713/713 [01:20<00:00,  8.88it/s]\n",
            "accuracy (dev): 0.8800\n",
            "f-measure (dev): 0.8794\n",
            "accuracy (test): 0.8642\n",
            "f-measure (test): 0.8645\n"
          ],
          "name": "stdout"
        }
      ]
    },
    {
      "cell_type": "code",
      "metadata": {
        "id": "f10G79cdGBo-"
      },
      "source": [
        "#max_entity_length=256"
      ],
      "execution_count": 23,
      "outputs": []
    },
    {
      "cell_type": "code",
      "metadata": {
        "colab": {
          "base_uri": "https://localhost:8080/"
        },
        "id": "cy2sRc9bGD5S",
        "outputId": "2e32dac1-ffa5-4de5-eaa3-ecb7943497ff"
      },
      "source": [
        "!python main.py train-classifier enwiki_20180420_lg1_300d.pkl enwiki_20180420_entity_linker.pkl --dataset=agnews --dataset-path='sentiment_datasets/ag_news_csv' --sample_ratio=0.2 --patience=3 --max-entity-length=128"
      ],
      "execution_count": 24,
      "outputs": [
        {
          "output_type": "stream",
          "text": [
            "{'patience': 3, 'max_entity_length': 128, 'min_count': None, 'max_word_length': None, 'batch_size': None, 'learning_rate': None, 'weight_decay': None, 'warmup_epochs': None, 'dropout_prob': None, 'use_gpu': False, 'use_word': True}\n",
            "[2021-04-18 09:42:07,309] [INFO] Note: NumExpr detected 16 cores but \"NUMEXPR_MAX_THREADS\" not set, so enforcing safe limit of 8. (_init_num_threads@utils.py:129)\n",
            "[2021-04-18 09:42:07,309] [INFO] NumExpr defaulting to 8 threads. (_init_num_threads@utils.py:141)\n",
            "1200\n",
            "[2021-04-18 09:42:08,701] [INFO] Creating vocabulary... (generate_features@data.py:65)\n",
            "100%|███████████████████████████████████| 31600/31600 [00:08<00:00, 3706.85it/s]\n",
            "epoch: 0 loss: 0.39748710: 100%|██████████████| 713/713 [01:06<00:00, 10.74it/s]\n",
            "accuracy (dev): 0.8483\n",
            "f-measure (dev): 0.8476\n",
            "epoch: 1 loss: 0.19038668: 100%|██████████████| 713/713 [01:09<00:00, 10.27it/s]\n",
            "accuracy (dev): 0.8933\n",
            "f-measure (dev): 0.8928\n",
            "epoch: 2 loss: 0.30851525: 100%|██████████████| 713/713 [01:09<00:00, 10.31it/s]\n",
            "accuracy (dev): 0.8925\n",
            "f-measure (dev): 0.8927\n",
            "epoch: 3 loss: 0.01615018: 100%|██████████████| 713/713 [01:09<00:00, 10.31it/s]\n",
            "accuracy (dev): 0.8858\n",
            "f-measure (dev): 0.8858\n",
            "epoch: 4 loss: 0.01438087: 100%|██████████████| 713/713 [01:09<00:00, 10.30it/s]\n",
            "accuracy (dev): 0.8825\n",
            "f-measure (dev): 0.8822\n",
            "accuracy (test): 0.8684\n",
            "f-measure (test): 0.8686\n"
          ],
          "name": "stdout"
        }
      ]
    },
    {
      "cell_type": "code",
      "metadata": {
        "colab": {
          "base_uri": "https://localhost:8080/"
        },
        "id": "5e5Vk2zZGWFs",
        "outputId": "b9cda6b6-c00d-442d-a856-79ccad0d5047"
      },
      "source": [
        "!python main.py train-classifier enwiki_20180420_lg1_300d.pkl enwiki_20180420_entity_linker.pkl --dataset=agnews --dataset-path='sentiment_datasets/ag_news_csv' --sample_ratio=0.2 --patience=3 --max-entity-length=512"
      ],
      "execution_count": 25,
      "outputs": [
        {
          "output_type": "stream",
          "text": [
            "{'patience': 3, 'max_entity_length': 512, 'min_count': None, 'max_word_length': None, 'batch_size': None, 'learning_rate': None, 'weight_decay': None, 'warmup_epochs': None, 'dropout_prob': None, 'use_gpu': False, 'use_word': True}\n",
            "[2021-04-18 09:48:07,116] [INFO] Note: NumExpr detected 16 cores but \"NUMEXPR_MAX_THREADS\" not set, so enforcing safe limit of 8. (_init_num_threads@utils.py:129)\n",
            "[2021-04-18 09:48:07,116] [INFO] NumExpr defaulting to 8 threads. (_init_num_threads@utils.py:141)\n",
            "1200\n",
            "[2021-04-18 09:48:08,490] [INFO] Creating vocabulary... (generate_features@data.py:65)\n",
            "100%|███████████████████████████████████| 31600/31600 [00:08<00:00, 3915.10it/s]\n",
            "epoch: 0 loss: 0.39748758: 100%|██████████████| 713/713 [01:43<00:00,  6.91it/s]\n",
            "accuracy (dev): 0.8483\n",
            "f-measure (dev): 0.8476\n",
            "epoch: 1 loss: 0.19039702: 100%|██████████████| 713/713 [02:05<00:00,  5.70it/s]\n",
            "accuracy (dev): 0.8933\n",
            "f-measure (dev): 0.8928\n",
            "epoch: 2 loss: 0.30850285: 100%|██████████████| 713/713 [01:43<00:00,  6.88it/s]\n",
            "accuracy (dev): 0.8925\n",
            "f-measure (dev): 0.8927\n",
            "epoch: 3 loss: 0.01614776: 100%|██████████████| 713/713 [01:43<00:00,  6.91it/s]\n",
            "accuracy (dev): 0.8858\n",
            "f-measure (dev): 0.8858\n",
            "epoch: 4 loss: 0.01438040: 100%|██████████████| 713/713 [01:43<00:00,  6.90it/s]\n",
            "accuracy (dev): 0.8825\n",
            "f-measure (dev): 0.8822\n",
            "accuracy (test): 0.8684\n",
            "f-measure (test): 0.8686\n"
          ],
          "name": "stdout"
        }
      ]
    },
    {
      "cell_type": "code",
      "metadata": {
        "id": "bEUy3X0pGXm3"
      },
      "source": [
        "#batch_size=32"
      ],
      "execution_count": 26,
      "outputs": []
    },
    {
      "cell_type": "code",
      "metadata": {
        "colab": {
          "base_uri": "https://localhost:8080/"
        },
        "id": "iIgQaoVE6umH",
        "outputId": "06d778c9-bf99-40b1-f38c-965b058b6732"
      },
      "source": [
        "!python main.py train-classifier enwiki_20180420_lg1_300d.pkl enwiki_20180420_entity_linker.pkl --dataset=agnews --dataset-path='sentiment_datasets/ag_news_csv' --sample_ratio=0.2 --patience=3 --dim-size=20 --batch-size=8"
      ],
      "execution_count": 39,
      "outputs": [
        {
          "output_type": "stream",
          "text": [
            "{'patience': 3, 'dim_size': 20, 'batch_size': 8, 'min_count': None, 'max_word_length': None, 'max_entity_length': None, 'learning_rate': None, 'weight_decay': None, 'warmup_epochs': None, 'dropout_prob': None, 'use_gpu': False, 'use_word': True}\n",
            "[2021-04-19 05:09:30,065] [INFO] Note: NumExpr detected 16 cores but \"NUMEXPR_MAX_THREADS\" not set, so enforcing safe limit of 8. (_init_num_threads@utils.py:129)\n",
            "[2021-04-19 05:09:30,065] [INFO] NumExpr defaulting to 8 threads. (_init_num_threads@utils.py:141)\n",
            "1200\n",
            "[2021-04-19 05:09:31,536] [INFO] Creating vocabulary... (generate_features@data.py:65)\n",
            "100%|███████████████████████████████████| 31600/31600 [00:09<00:00, 3419.15it/s]\n",
            "epoch: 0 loss: 0.25296992: 100%|███████████| 2850/2850 [00:28<00:00, 101.52it/s]\n",
            "accuracy (dev): 0.8758\n",
            "f-measure (dev): 0.8760\n",
            "epoch: 1 loss: 0.76977217: 100%|████████████| 2850/2850 [00:32<00:00, 87.98it/s]\n",
            "accuracy (dev): 0.8967\n",
            "f-measure (dev): 0.8964\n",
            "epoch: 2 loss: 0.08509895: 100%|████████████| 2850/2850 [00:33<00:00, 84.21it/s]\n",
            "accuracy (dev): 0.8850\n",
            "f-measure (dev): 0.8847\n",
            "epoch: 3 loss: 0.05106996: 100%|████████████| 2850/2850 [00:34<00:00, 82.23it/s]\n",
            "accuracy (dev): 0.8892\n",
            "f-measure (dev): 0.8891\n",
            "epoch: 4 loss: 0.02567661: 100%|████████████| 2850/2850 [00:35<00:00, 80.75it/s]\n",
            "accuracy (dev): 0.8733\n",
            "f-measure (dev): 0.8734\n",
            "accuracy (test): 0.8692\n",
            "f-measure (test): 0.8686\n"
          ],
          "name": "stdout"
        }
      ]
    },
    {
      "cell_type": "code",
      "metadata": {
        "colab": {
          "base_uri": "https://localhost:8080/"
        },
        "id": "5QmYwVcmGaoP",
        "outputId": "58fa0476-9afe-4b40-fdbd-3a6caf3c9002"
      },
      "source": [
        "!python main.py train-classifier enwiki_20180420_lg1_300d.pkl enwiki_20180420_entity_linker.pkl --dataset=agnews --dataset-path='sentiment_datasets/ag_news_csv' --sample_ratio=0.2 --patience=3 --dim-size=20 --batch-size=16"
      ],
      "execution_count": 37,
      "outputs": [
        {
          "output_type": "stream",
          "text": [
            "{'patience': 3, 'dim_size': 20, 'batch_size': 16, 'min_count': None, 'max_word_length': None, 'max_entity_length': None, 'learning_rate': None, 'weight_decay': None, 'warmup_epochs': None, 'dropout_prob': None, 'use_gpu': False, 'use_word': True}\n",
            "[2021-04-18 22:19:19,356] [INFO] Note: NumExpr detected 16 cores but \"NUMEXPR_MAX_THREADS\" not set, so enforcing safe limit of 8. (_init_num_threads@utils.py:129)\n",
            "[2021-04-18 22:19:19,356] [INFO] NumExpr defaulting to 8 threads. (_init_num_threads@utils.py:141)\n",
            "1200\n",
            "[2021-04-18 22:19:20,588] [INFO] Creating vocabulary... (generate_features@data.py:65)\n",
            "100%|███████████████████████████████████| 31600/31600 [00:08<00:00, 3829.93it/s]\n",
            "epoch: 0 loss: 0.45790142: 100%|████████████| 1425/1425 [00:14<00:00, 98.41it/s]\n",
            "accuracy (dev): 0.8767\n",
            "f-measure (dev): 0.8766\n",
            "epoch: 1 loss: 0.72059411: 100%|████████████| 1425/1425 [00:15<00:00, 90.52it/s]\n",
            "accuracy (dev): 0.9000\n",
            "f-measure (dev): 0.8999\n",
            "epoch: 2 loss: 0.29207978: 100%|████████████| 1425/1425 [00:17<00:00, 80.90it/s]\n",
            "accuracy (dev): 0.8958\n",
            "f-measure (dev): 0.8956\n",
            "epoch: 3 loss: 0.04381935: 100%|████████████| 1425/1425 [00:17<00:00, 79.26it/s]\n",
            "accuracy (dev): 0.8942\n",
            "f-measure (dev): 0.8941\n",
            "epoch: 4 loss: 0.08387606: 100%|████████████| 1425/1425 [00:17<00:00, 81.36it/s]\n",
            "accuracy (dev): 0.8817\n",
            "f-measure (dev): 0.8816\n",
            "accuracy (test): 0.8711\n",
            "f-measure (test): 0.8706\n"
          ],
          "name": "stdout"
        }
      ]
    },
    {
      "cell_type": "code",
      "metadata": {
        "colab": {
          "base_uri": "https://localhost:8080/"
        },
        "id": "XvckKTBSZHf3",
        "outputId": "b1b115f4-1d07-47a6-81fe-70b0591c6f26"
      },
      "source": [
        "!python main.py train-classifier enwiki_20180420_lg1_300d.pkl enwiki_20180420_entity_linker.pkl --dataset=agnews --dataset-path='sentiment_datasets/ag_news_csv' --sample_ratio=0.2 --patience=3 --dim-size=20 --batch-size=32"
      ],
      "execution_count": 40,
      "outputs": [
        {
          "output_type": "stream",
          "text": [
            "{'patience': 3, 'dim_size': 20, 'batch_size': 32, 'min_count': None, 'max_word_length': None, 'max_entity_length': None, 'learning_rate': None, 'weight_decay': None, 'warmup_epochs': None, 'dropout_prob': None, 'use_gpu': False, 'use_word': True}\n",
            "[2021-04-19 05:12:31,186] [INFO] Note: NumExpr detected 16 cores but \"NUMEXPR_MAX_THREADS\" not set, so enforcing safe limit of 8. (_init_num_threads@utils.py:129)\n",
            "[2021-04-19 05:12:31,186] [INFO] NumExpr defaulting to 8 threads. (_init_num_threads@utils.py:141)\n",
            "1200\n",
            "[2021-04-19 05:12:32,616] [INFO] Creating vocabulary... (generate_features@data.py:65)\n",
            "100%|███████████████████████████████████| 31600/31600 [00:08<00:00, 3831.11it/s]\n",
            "epoch: 0 loss: 0.61241001: 100%|██████████████| 713/713 [00:07<00:00, 91.26it/s]\n",
            "accuracy (dev): 0.8692\n",
            "f-measure (dev): 0.8686\n",
            "epoch: 1 loss: 0.73502123: 100%|██████████████| 713/713 [00:08<00:00, 88.20it/s]\n",
            "accuracy (dev): 0.8917\n",
            "f-measure (dev): 0.8915\n",
            "epoch: 2 loss: 0.28671446: 100%|██████████████| 713/713 [00:07<00:00, 89.43it/s]\n",
            "accuracy (dev): 0.8933\n",
            "f-measure (dev): 0.8934\n",
            "epoch: 3 loss: 0.03045201: 100%|██████████████| 713/713 [00:08<00:00, 83.67it/s]\n",
            "accuracy (dev): 0.8900\n",
            "f-measure (dev): 0.8899\n",
            "epoch: 4 loss: 0.13148747: 100%|██████████████| 713/713 [00:09<00:00, 76.45it/s]\n",
            "accuracy (dev): 0.8775\n",
            "f-measure (dev): 0.8773\n",
            "epoch: 5 loss: 0.01524915: 100%|██████████████| 713/713 [00:09<00:00, 74.61it/s]\n",
            "accuracy (dev): 0.8758\n",
            "f-measure (dev): 0.8755\n",
            "accuracy (test): 0.8657\n",
            "f-measure (test): 0.8657\n"
          ],
          "name": "stdout"
        }
      ]
    },
    {
      "cell_type": "code",
      "metadata": {
        "colab": {
          "base_uri": "https://localhost:8080/"
        },
        "id": "Mp9nN8hWGhrH",
        "outputId": "dc9bb854-b736-48e9-a89d-ccfce9ff5dcd"
      },
      "source": [
        "!python main.py train-classifier enwiki_20180420_lg1_300d.pkl enwiki_20180420_entity_linker.pkl --dataset=agnews --dataset-path='sentiment_datasets/ag_news_csv' --sample_ratio=0.2 --patience=3 --batch-size=64"
      ],
      "execution_count": 28,
      "outputs": [
        {
          "output_type": "stream",
          "text": [
            "{'patience': 3, 'batch_size': 64, 'min_count': None, 'max_word_length': None, 'max_entity_length': None, 'learning_rate': None, 'weight_decay': None, 'warmup_epochs': None, 'dropout_prob': None, 'use_gpu': False, 'use_word': True}\n",
            "[2021-04-18 10:08:26,756] [INFO] Note: NumExpr detected 16 cores but \"NUMEXPR_MAX_THREADS\" not set, so enforcing safe limit of 8. (_init_num_threads@utils.py:129)\n",
            "[2021-04-18 10:08:26,757] [INFO] NumExpr defaulting to 8 threads. (_init_num_threads@utils.py:141)\n",
            "1200\n",
            "[2021-04-18 10:08:28,209] [INFO] Creating vocabulary... (generate_features@data.py:65)\n",
            "100%|███████████████████████████████████| 31600/31600 [00:07<00:00, 4095.04it/s]\n",
            "epoch: 0 loss: 0.52649426: 100%|██████████████| 357/357 [00:51<00:00,  6.88it/s]\n",
            "accuracy (dev): 0.8383\n",
            "f-measure (dev): 0.8376\n",
            "epoch: 1 loss: 0.20958732: 100%|██████████████| 357/357 [00:57<00:00,  6.19it/s]\n",
            "accuracy (dev): 0.8917\n",
            "f-measure (dev): 0.8912\n",
            "epoch: 2 loss: 0.34953910: 100%|██████████████| 357/357 [00:51<00:00,  6.88it/s]\n",
            "accuracy (dev): 0.8933\n",
            "f-measure (dev): 0.8934\n",
            "epoch: 3 loss: 0.02604856: 100%|██████████████| 357/357 [00:51<00:00,  6.92it/s]\n",
            "accuracy (dev): 0.8917\n",
            "f-measure (dev): 0.8915\n",
            "epoch: 4 loss: 0.06224556: 100%|██████████████| 357/357 [00:51<00:00,  6.88it/s]\n",
            "accuracy (dev): 0.8800\n",
            "f-measure (dev): 0.8798\n",
            "epoch: 5 loss: 0.06800374: 100%|██████████████| 357/357 [00:51<00:00,  6.92it/s]\n",
            "accuracy (dev): 0.8825\n",
            "f-measure (dev): 0.8822\n",
            "accuracy (test): 0.8641\n",
            "f-measure (test): 0.8643\n"
          ],
          "name": "stdout"
        }
      ]
    },
    {
      "cell_type": "code",
      "metadata": {
        "colab": {
          "base_uri": "https://localhost:8080/"
        },
        "id": "ruyqyyM0dbZs",
        "outputId": "7f4cbf8b-6b50-42fa-84dc-bee95c137d33"
      },
      "source": [
        "!python main.py train-classifier enwiki_20180420_lg1_300d.pkl enwiki_20180420_entity_linker.pkl --dataset=agnews --dataset-path='sentiment_datasets/ag_news_csv' --sample_ratio=0.2 --patience=3 --batch-size=128"
      ],
      "execution_count": 41,
      "outputs": [
        {
          "output_type": "stream",
          "text": [
            "{'patience': 3, 'batch_size': 128, 'min_count': None, 'max_word_length': None, 'max_entity_length': None, 'learning_rate': None, 'weight_decay': None, 'warmup_epochs': None, 'dropout_prob': None, 'use_gpu': False, 'use_word': True, 'dim_size': 300}\n",
            "[2021-04-19 05:28:33,981] [INFO] Note: NumExpr detected 16 cores but \"NUMEXPR_MAX_THREADS\" not set, so enforcing safe limit of 8. (_init_num_threads@utils.py:129)\n",
            "[2021-04-19 05:28:33,981] [INFO] NumExpr defaulting to 8 threads. (_init_num_threads@utils.py:141)\n",
            "1200\n",
            "[2021-04-19 05:28:35,402] [INFO] Creating vocabulary... (generate_features@data.py:65)\n",
            "100%|███████████████████████████████████| 31600/31600 [00:08<00:00, 3600.74it/s]\n",
            "epoch: 0 loss: 0.44953221: 100%|██████████████| 179/179 [00:40<00:00,  4.40it/s]\n",
            "accuracy (dev): 0.8750\n",
            "f-measure (dev): 0.8748\n",
            "epoch: 1 loss: 0.16732767: 100%|██████████████| 179/179 [00:40<00:00,  4.47it/s]\n",
            "accuracy (dev): 0.8942\n",
            "f-measure (dev): 0.8937\n",
            "epoch: 2 loss: 0.24385175: 100%|██████████████| 179/179 [00:39<00:00,  4.53it/s]\n",
            "accuracy (dev): 0.8858\n",
            "f-measure (dev): 0.8856\n",
            "epoch: 3 loss: 0.02909754: 100%|██████████████| 179/179 [00:39<00:00,  4.49it/s]\n",
            "accuracy (dev): 0.8767\n",
            "f-measure (dev): 0.8765\n",
            "epoch: 4 loss: 0.02175689: 100%|██████████████| 179/179 [00:39<00:00,  4.48it/s]\n",
            "accuracy (dev): 0.8800\n",
            "f-measure (dev): 0.8798\n",
            "accuracy (test): 0.8674\n",
            "f-measure (test): 0.8672\n"
          ],
          "name": "stdout"
        }
      ]
    },
    {
      "cell_type": "code",
      "metadata": {
        "colab": {
          "base_uri": "https://localhost:8080/"
        },
        "id": "vTWF4qI_dcga",
        "outputId": "782f30d1-f5a7-42a5-cbfa-9d523bbec790"
      },
      "source": [
        "!python main.py train-classifier enwiki_20180420_lg1_300d.pkl enwiki_20180420_entity_linker.pkl --dataset=agnews --dataset-path='sentiment_datasets/ag_news_csv' --sample_ratio=0.2 --patience=3 --batch-size=256"
      ],
      "execution_count": 42,
      "outputs": [
        {
          "output_type": "stream",
          "text": [
            "{'patience': 3, 'batch_size': 256, 'min_count': None, 'max_word_length': None, 'max_entity_length': None, 'learning_rate': None, 'weight_decay': None, 'warmup_epochs': None, 'dropout_prob': None, 'use_gpu': False, 'use_word': True, 'dim_size': 300}\n",
            "[2021-04-19 05:32:15,137] [INFO] Note: NumExpr detected 16 cores but \"NUMEXPR_MAX_THREADS\" not set, so enforcing safe limit of 8. (_init_num_threads@utils.py:129)\n",
            "[2021-04-19 05:32:15,137] [INFO] NumExpr defaulting to 8 threads. (_init_num_threads@utils.py:141)\n",
            "1200\n",
            "[2021-04-19 05:32:16,452] [INFO] Creating vocabulary... (generate_features@data.py:65)\n",
            "100%|███████████████████████████████████| 31600/31600 [00:07<00:00, 4009.61it/s]\n",
            "epoch: 0 loss: 0.83935887: 100%|████████████████| 90/90 [00:35<00:00,  2.52it/s]\n",
            "accuracy (dev): 0.8600\n",
            "f-measure (dev): 0.8595\n",
            "epoch: 1 loss: 0.19403049: 100%|████████████████| 90/90 [00:35<00:00,  2.52it/s]\n",
            "accuracy (dev): 0.8925\n",
            "f-measure (dev): 0.8924\n",
            "epoch: 2 loss: 0.27995002: 100%|████████████████| 90/90 [00:35<00:00,  2.52it/s]\n",
            "accuracy (dev): 0.8883\n",
            "f-measure (dev): 0.8880\n",
            "epoch: 3 loss: 0.02205920: 100%|████████████████| 90/90 [00:35<00:00,  2.54it/s]\n",
            "accuracy (dev): 0.8825\n",
            "f-measure (dev): 0.8821\n",
            "epoch: 4 loss: 0.03635657: 100%|████████████████| 90/90 [00:34<00:00,  2.58it/s]\n",
            "accuracy (dev): 0.8817\n",
            "f-measure (dev): 0.8814\n",
            "accuracy (test): 0.8675\n",
            "f-measure (test): 0.8674\n"
          ],
          "name": "stdout"
        }
      ]
    },
    {
      "cell_type": "code",
      "metadata": {
        "id": "wXATPQODGju8"
      },
      "source": [
        "#learning_rate=0.003"
      ],
      "execution_count": 29,
      "outputs": []
    },
    {
      "cell_type": "code",
      "metadata": {
        "colab": {
          "base_uri": "https://localhost:8080/"
        },
        "id": "O2oROv6553TF",
        "outputId": "c014e733-399c-44d1-ea5a-6bc269428946"
      },
      "source": [
        "!python main.py train-classifier enwiki_20180420_lg1_300d.pkl enwiki_20180420_entity_linker.pkl --dataset=agnews --dataset-path='sentiment_datasets/ag_news_csv' --sample_ratio=0.2 --patience=3 --dim-size=20 --learning-rate=0.0003"
      ],
      "execution_count": 36,
      "outputs": [
        {
          "output_type": "stream",
          "text": [
            "{'patience': 3, 'dim_size': 20, 'learning_rate': 0.0003, 'min_count': None, 'max_word_length': None, 'max_entity_length': None, 'batch_size': None, 'weight_decay': None, 'warmup_epochs': None, 'dropout_prob': None, 'use_gpu': False, 'use_word': True}\n",
            "[2021-04-18 22:17:11,250] [INFO] Note: NumExpr detected 16 cores but \"NUMEXPR_MAX_THREADS\" not set, so enforcing safe limit of 8. (_init_num_threads@utils.py:129)\n",
            "[2021-04-18 22:17:11,250] [INFO] NumExpr defaulting to 8 threads. (_init_num_threads@utils.py:141)\n",
            "1200\n",
            "[2021-04-18 22:17:12,540] [INFO] Creating vocabulary... (generate_features@data.py:65)\n",
            "100%|███████████████████████████████████| 31600/31600 [00:08<00:00, 3690.70it/s]\n",
            "epoch: 0 loss: 1.39465201: 100%|██████████████| 713/713 [00:07<00:00, 89.70it/s]\n",
            "accuracy (dev): 0.2875\n",
            "f-measure (dev): 0.1469\n",
            "epoch: 1 loss: 1.14501047: 100%|██████████████| 713/713 [00:08<00:00, 86.82it/s]\n",
            "accuracy (dev): 0.8483\n",
            "f-measure (dev): 0.8471\n",
            "epoch: 2 loss: 0.78791499: 100%|██████████████| 713/713 [00:08<00:00, 86.36it/s]\n",
            "accuracy (dev): 0.8700\n",
            "f-measure (dev): 0.8694\n",
            "epoch: 3 loss: 0.36108482: 100%|██████████████| 713/713 [00:08<00:00, 86.37it/s]\n",
            "accuracy (dev): 0.8800\n",
            "f-measure (dev): 0.8796\n",
            "epoch: 4 loss: 0.40173906: 100%|██████████████| 713/713 [00:08<00:00, 80.75it/s]\n",
            "accuracy (dev): 0.8817\n",
            "f-measure (dev): 0.8815\n",
            "epoch: 5 loss: 0.51104885: 100%|██████████████| 713/713 [00:08<00:00, 79.65it/s]\n",
            "accuracy (dev): 0.8817\n",
            "f-measure (dev): 0.8816\n",
            "epoch: 6 loss: 0.64487910: 100%|██████████████| 713/713 [00:08<00:00, 79.35it/s]\n",
            "accuracy (dev): 0.8892\n",
            "f-measure (dev): 0.8890\n",
            "epoch: 7 loss: 0.11613376: 100%|██████████████| 713/713 [00:09<00:00, 78.74it/s]\n",
            "accuracy (dev): 0.8875\n",
            "f-measure (dev): 0.8874\n",
            "epoch: 8 loss: 0.24179675: 100%|██████████████| 713/713 [00:08<00:00, 79.77it/s]\n",
            "accuracy (dev): 0.8900\n",
            "f-measure (dev): 0.8902\n",
            "epoch: 9 loss: 0.39102215: 100%|██████████████| 713/713 [00:08<00:00, 80.67it/s]\n",
            "accuracy (dev): 0.8925\n",
            "f-measure (dev): 0.8928\n",
            "epoch: 10 loss: 0.19041699: 100%|█████████████| 713/713 [00:08<00:00, 81.58it/s]\n",
            "accuracy (dev): 0.8908\n",
            "f-measure (dev): 0.8911\n",
            "epoch: 11 loss: 0.18742549: 100%|█████████████| 713/713 [00:08<00:00, 81.20it/s]\n",
            "accuracy (dev): 0.8892\n",
            "f-measure (dev): 0.8894\n",
            "epoch: 12 loss: 0.12836351: 100%|█████████████| 713/713 [00:08<00:00, 79.50it/s]\n",
            "accuracy (dev): 0.8908\n",
            "f-measure (dev): 0.8912\n",
            "accuracy (test): 0.8672\n",
            "f-measure (test): 0.8673\n"
          ],
          "name": "stdout"
        }
      ]
    },
    {
      "cell_type": "code",
      "metadata": {
        "colab": {
          "base_uri": "https://localhost:8080/"
        },
        "id": "BopXbkYBG5vc",
        "outputId": "ead7d193-db58-48f5-d01d-b8ab1edcbb52"
      },
      "source": [
        "!python main.py train-classifier enwiki_20180420_lg1_300d.pkl enwiki_20180420_entity_linker.pkl --dataset=agnews --dataset-path='sentiment_datasets/ag_news_csv' --sample_ratio=0.2 --patience=3 --dim-size=20 --learning-rate=0.001"
      ],
      "execution_count": 30,
      "outputs": [
        {
          "output_type": "stream",
          "text": [
            "{'patience': 3, 'dim_size': 20, 'learning_rate': 0.001, 'min_count': None, 'max_word_length': None, 'max_entity_length': None, 'batch_size': None, 'weight_decay': None, 'warmup_epochs': None, 'dropout_prob': None, 'use_gpu': False, 'use_word': True}\n",
            "[2021-04-18 22:10:36,326] [INFO] Note: NumExpr detected 16 cores but \"NUMEXPR_MAX_THREADS\" not set, so enforcing safe limit of 8. (_init_num_threads@utils.py:129)\n",
            "[2021-04-18 22:10:36,326] [INFO] NumExpr defaulting to 8 threads. (_init_num_threads@utils.py:141)\n",
            "1200\n",
            "[2021-04-18 22:10:37,686] [INFO] Creating vocabulary... (generate_features@data.py:65)\n",
            "100%|███████████████████████████████████| 31600/31600 [00:08<00:00, 3550.86it/s]\n",
            "epoch: 0 loss: 1.23200202: 100%|██████████████| 713/713 [00:08<00:00, 86.66it/s]\n",
            "accuracy (dev): 0.8108\n",
            "f-measure (dev): 0.8096\n",
            "epoch: 1 loss: 0.65674126: 100%|██████████████| 713/713 [00:08<00:00, 84.09it/s]\n",
            "accuracy (dev): 0.8717\n",
            "f-measure (dev): 0.8713\n",
            "epoch: 2 loss: 0.37715742: 100%|██████████████| 713/713 [00:08<00:00, 83.59it/s]\n",
            "accuracy (dev): 0.8875\n",
            "f-measure (dev): 0.8876\n",
            "epoch: 3 loss: 0.08318921: 100%|██████████████| 713/713 [00:08<00:00, 84.30it/s]\n",
            "accuracy (dev): 0.8875\n",
            "f-measure (dev): 0.8877\n",
            "epoch: 4 loss: 0.16072151: 100%|██████████████| 713/713 [00:08<00:00, 82.66it/s]\n",
            "accuracy (dev): 0.8892\n",
            "f-measure (dev): 0.8894\n",
            "epoch: 5 loss: 0.17882358: 100%|██████████████| 713/713 [00:08<00:00, 82.24it/s]\n",
            "accuracy (dev): 0.8883\n",
            "f-measure (dev): 0.8884\n",
            "epoch: 6 loss: 0.35443810: 100%|██████████████| 713/713 [00:08<00:00, 83.41it/s]\n",
            "accuracy (dev): 0.8892\n",
            "f-measure (dev): 0.8893\n",
            "epoch: 7 loss: 0.03459214: 100%|██████████████| 713/713 [00:08<00:00, 83.40it/s]\n",
            "accuracy (dev): 0.8867\n",
            "f-measure (dev): 0.8866\n",
            "accuracy (test): 0.8667\n",
            "f-measure (test): 0.8668\n"
          ],
          "name": "stdout"
        }
      ]
    },
    {
      "cell_type": "code",
      "metadata": {
        "colab": {
          "base_uri": "https://localhost:8080/"
        },
        "id": "tauXDLom5Ypi",
        "outputId": "cbe77265-b602-4a88-e76c-be9167d075a5"
      },
      "source": [
        "!python main.py train-classifier enwiki_20180420_lg1_300d.pkl enwiki_20180420_entity_linker.pkl --dataset=agnews --dataset-path='sentiment_datasets/ag_news_csv' --sample_ratio=0.2 --patience=3 --dim-size=20 --learning-rate=0.003"
      ],
      "execution_count": 33,
      "outputs": [
        {
          "output_type": "stream",
          "text": [
            "{'patience': 3, 'dim_size': 20, 'learning_rate': 0.003, 'min_count': None, 'max_word_length': None, 'max_entity_length': None, 'batch_size': None, 'weight_decay': None, 'warmup_epochs': None, 'dropout_prob': None, 'use_gpu': False, 'use_word': True}\n",
            "[2021-04-18 22:13:57,651] [INFO] Note: NumExpr detected 16 cores but \"NUMEXPR_MAX_THREADS\" not set, so enforcing safe limit of 8. (_init_num_threads@utils.py:129)\n",
            "[2021-04-18 22:13:57,652] [INFO] NumExpr defaulting to 8 threads. (_init_num_threads@utils.py:141)\n",
            "1200\n",
            "[2021-04-18 22:13:58,873] [INFO] Creating vocabulary... (generate_features@data.py:65)\n",
            "100%|███████████████████████████████████| 31600/31600 [00:07<00:00, 3973.34it/s]\n",
            "epoch: 0 loss: 0.61241001: 100%|██████████████| 713/713 [00:07<00:00, 89.20it/s]\n",
            "accuracy (dev): 0.8692\n",
            "f-measure (dev): 0.8686\n",
            "epoch: 1 loss: 0.73502123: 100%|██████████████| 713/713 [00:08<00:00, 87.37it/s]\n",
            "accuracy (dev): 0.8917\n",
            "f-measure (dev): 0.8915\n",
            "epoch: 2 loss: 0.28671446: 100%|██████████████| 713/713 [00:08<00:00, 86.50it/s]\n",
            "accuracy (dev): 0.8933\n",
            "f-measure (dev): 0.8934\n",
            "epoch: 3 loss: 0.03045201: 100%|██████████████| 713/713 [00:08<00:00, 86.29it/s]\n",
            "accuracy (dev): 0.8900\n",
            "f-measure (dev): 0.8899\n",
            "epoch: 4 loss: 0.13148747: 100%|██████████████| 713/713 [00:08<00:00, 81.23it/s]\n",
            "accuracy (dev): 0.8775\n",
            "f-measure (dev): 0.8773\n",
            "epoch: 5 loss: 0.01524915: 100%|██████████████| 713/713 [00:09<00:00, 76.76it/s]\n",
            "accuracy (dev): 0.8758\n",
            "f-measure (dev): 0.8755\n",
            "accuracy (test): 0.8657\n",
            "f-measure (test): 0.8657\n"
          ],
          "name": "stdout"
        }
      ]
    },
    {
      "cell_type": "code",
      "metadata": {
        "colab": {
          "base_uri": "https://localhost:8080/"
        },
        "id": "P7v3Hs4eG9KK",
        "outputId": "c645cbf7-4468-481c-aa81-8ea224a7a897"
      },
      "source": [
        "!python main.py train-classifier enwiki_20180420_lg1_300d.pkl enwiki_20180420_entity_linker.pkl --dataset=agnews --dataset-path='sentiment_datasets/ag_news_csv' --sample_ratio=0.2 --patience=3 --dim-size=20 --learning-rate=0.01"
      ],
      "execution_count": 31,
      "outputs": [
        {
          "output_type": "stream",
          "text": [
            "{'patience': 3, 'dim_size': 20, 'learning_rate': 0.01, 'min_count': None, 'max_word_length': None, 'max_entity_length': None, 'batch_size': None, 'weight_decay': None, 'warmup_epochs': None, 'dropout_prob': None, 'use_gpu': False, 'use_word': True}\n",
            "[2021-04-18 22:11:59,517] [INFO] Note: NumExpr detected 16 cores but \"NUMEXPR_MAX_THREADS\" not set, so enforcing safe limit of 8. (_init_num_threads@utils.py:129)\n",
            "[2021-04-18 22:11:59,518] [INFO] NumExpr defaulting to 8 threads. (_init_num_threads@utils.py:141)\n",
            "1200\n",
            "[2021-04-18 22:12:00,765] [INFO] Creating vocabulary... (generate_features@data.py:65)\n",
            "100%|███████████████████████████████████| 31600/31600 [00:08<00:00, 3636.88it/s]\n",
            "epoch: 0 loss: 0.33002666: 100%|██████████████| 713/713 [00:08<00:00, 86.96it/s]\n",
            "accuracy (dev): 0.8842\n",
            "f-measure (dev): 0.8844\n",
            "epoch: 1 loss: 0.62666595: 100%|██████████████| 713/713 [00:08<00:00, 85.15it/s]\n",
            "accuracy (dev): 0.8892\n",
            "f-measure (dev): 0.8885\n",
            "epoch: 2 loss: 0.20031598: 100%|██████████████| 713/713 [00:08<00:00, 81.92it/s]\n",
            "accuracy (dev): 0.8850\n",
            "f-measure (dev): 0.8846\n",
            "epoch: 3 loss: 0.09150369: 100%|██████████████| 713/713 [00:09<00:00, 76.65it/s]\n",
            "accuracy (dev): 0.8733\n",
            "f-measure (dev): 0.8731\n",
            "epoch: 4 loss: 0.08589754: 100%|██████████████| 713/713 [00:09<00:00, 72.49it/s]\n",
            "accuracy (dev): 0.8742\n",
            "f-measure (dev): 0.8736\n",
            "accuracy (test): 0.8613\n",
            "f-measure (test): 0.8607\n"
          ],
          "name": "stdout"
        }
      ]
    },
    {
      "cell_type": "code",
      "metadata": {
        "colab": {
          "base_uri": "https://localhost:8080/"
        },
        "id": "dQi5go9u0mlg",
        "outputId": "cf00e876-440d-4f22-b065-46800553faa1"
      },
      "source": [
        "!python main.py train-classifier enwiki_20180420_lg1_300d.pkl enwiki_20180420_entity_linker.pkl --dataset=agnews --dataset-path='sentiment_datasets/ag_news_csv' --sample_ratio=0.2 --patience=3  --dim-size=20 --learning-rate=0.03"
      ],
      "execution_count": 38,
      "outputs": [
        {
          "output_type": "stream",
          "text": [
            "{'patience': 3, 'dim_size': 20, 'learning_rate': 0.03, 'min_count': None, 'max_word_length': None, 'max_entity_length': None, 'batch_size': None, 'weight_decay': None, 'warmup_epochs': None, 'dropout_prob': None, 'use_gpu': False, 'use_word': True}\n",
            "[2021-04-19 04:55:16,136] [INFO] Note: NumExpr detected 16 cores but \"NUMEXPR_MAX_THREADS\" not set, so enforcing safe limit of 8. (_init_num_threads@utils.py:129)\n",
            "[2021-04-19 04:55:16,137] [INFO] NumExpr defaulting to 8 threads. (_init_num_threads@utils.py:141)\n",
            "1200\n",
            "[2021-04-19 04:55:18,002] [INFO] Creating vocabulary... (generate_features@data.py:65)\n",
            "100%|███████████████████████████████████| 31600/31600 [00:08<00:00, 3525.84it/s]\n",
            "epoch: 0 loss: 0.29083192: 100%|██████████████| 713/713 [00:07<00:00, 89.65it/s]\n",
            "accuracy (dev): 0.8700\n",
            "f-measure (dev): 0.8698\n",
            "epoch: 1 loss: 0.57669520: 100%|██████████████| 713/713 [00:08<00:00, 89.09it/s]\n",
            "accuracy (dev): 0.8775\n",
            "f-measure (dev): 0.8773\n",
            "epoch: 2 loss: 0.07009823: 100%|██████████████| 713/713 [00:08<00:00, 87.14it/s]\n",
            "accuracy (dev): 0.8733\n",
            "f-measure (dev): 0.8729\n",
            "epoch: 3 loss: 0.04492166: 100%|██████████████| 713/713 [00:08<00:00, 89.03it/s]\n",
            "accuracy (dev): 0.8658\n",
            "f-measure (dev): 0.8659\n",
            "epoch: 4 loss: 0.14105494: 100%|██████████████| 713/713 [00:08<00:00, 86.62it/s]\n",
            "accuracy (dev): 0.8750\n",
            "f-measure (dev): 0.8743\n",
            "accuracy (test): 0.8438\n",
            "f-measure (test): 0.8434\n"
          ],
          "name": "stdout"
        }
      ]
    },
    {
      "cell_type": "code",
      "metadata": {
        "colab": {
          "base_uri": "https://localhost:8080/"
        },
        "id": "phhtx5HB5EE0",
        "outputId": "33eef0fe-d2f7-4408-b201-3e49a83b916e"
      },
      "source": [
        "!python main.py train-classifier enwiki_20180420_lg1_300d.pkl enwiki_20180420_entity_linker.pkl --dataset=agnews --dataset-path='sentiment_datasets/ag_news_csv' --sample_ratio=0.2 --patience=3  --dim-size=20 --learning-rate=0.1"
      ],
      "execution_count": 34,
      "outputs": [
        {
          "output_type": "stream",
          "text": [
            "{'patience': 3, 'dim_size': 20, 'learning_rate': 0.1, 'min_count': None, 'max_word_length': None, 'max_entity_length': None, 'batch_size': None, 'weight_decay': None, 'warmup_epochs': None, 'dropout_prob': None, 'use_gpu': False, 'use_word': True}\n",
            "[2021-04-18 22:15:02,322] [INFO] Note: NumExpr detected 16 cores but \"NUMEXPR_MAX_THREADS\" not set, so enforcing safe limit of 8. (_init_num_threads@utils.py:129)\n",
            "[2021-04-18 22:15:02,323] [INFO] NumExpr defaulting to 8 threads. (_init_num_threads@utils.py:141)\n",
            "1200\n",
            "[2021-04-18 22:15:03,681] [INFO] Creating vocabulary... (generate_features@data.py:65)\n",
            "100%|███████████████████████████████████| 31600/31600 [00:09<00:00, 3390.14it/s]\n",
            "epoch: 0 loss: 0.18787357: 100%|██████████████| 713/713 [00:07<00:00, 90.68it/s]\n",
            "accuracy (dev): 0.8508\n",
            "f-measure (dev): 0.8496\n",
            "epoch: 1 loss: 1.00940502: 100%|██████████████| 713/713 [00:07<00:00, 89.50it/s]\n",
            "accuracy (dev): 0.8383\n",
            "f-measure (dev): 0.8380\n",
            "epoch: 2 loss: 0.40640652: 100%|██████████████| 713/713 [00:07<00:00, 89.51it/s]\n",
            "accuracy (dev): 0.8450\n",
            "f-measure (dev): 0.8449\n",
            "epoch: 3 loss: 0.37281835: 100%|██████████████| 713/713 [00:08<00:00, 87.45it/s]\n",
            "accuracy (dev): 0.8533\n",
            "f-measure (dev): 0.8531\n",
            "epoch: 4 loss: 1.26422119: 100%|██████████████| 713/713 [00:08<00:00, 84.11it/s]\n",
            "accuracy (dev): 0.8558\n",
            "f-measure (dev): 0.8562\n",
            "epoch: 5 loss: 1.13884950: 100%|██████████████| 713/713 [00:08<00:00, 82.07it/s]\n",
            "accuracy (dev): 0.8442\n",
            "f-measure (dev): 0.8440\n",
            "epoch: 6 loss: 0.62115258: 100%|██████████████| 713/713 [00:08<00:00, 82.83it/s]\n",
            "accuracy (dev): 0.8475\n",
            "f-measure (dev): 0.8470\n",
            "epoch: 7 loss: 0.61151254: 100%|██████████████| 713/713 [00:08<00:00, 84.23it/s]\n",
            "accuracy (dev): 0.8433\n",
            "f-measure (dev): 0.8431\n",
            "accuracy (test): 0.8242\n",
            "f-measure (test): 0.8250\n"
          ],
          "name": "stdout"
        }
      ]
    },
    {
      "cell_type": "code",
      "metadata": {
        "colab": {
          "base_uri": "https://localhost:8080/"
        },
        "id": "zEL1VbFK5qn0",
        "outputId": "bbc03d39-8830-482b-9d7b-dec9b17adef3"
      },
      "source": [
        "!python main.py train-classifier enwiki_20180420_lg1_300d.pkl enwiki_20180420_entity_linker.pkl --dataset=agnews --dataset-path='sentiment_datasets/ag_news_csv' --sample_ratio=0.2 --patience=3  --dim-size=20 --learning-rate=0.3"
      ],
      "execution_count": 35,
      "outputs": [
        {
          "output_type": "stream",
          "text": [
            "{'patience': 3, 'dim_size': 20, 'learning_rate': 0.3, 'min_count': None, 'max_word_length': None, 'max_entity_length': None, 'batch_size': None, 'weight_decay': None, 'warmup_epochs': None, 'dropout_prob': None, 'use_gpu': False, 'use_word': True}\n",
            "[2021-04-18 22:16:24,117] [INFO] Note: NumExpr detected 16 cores but \"NUMEXPR_MAX_THREADS\" not set, so enforcing safe limit of 8. (_init_num_threads@utils.py:129)\n",
            "[2021-04-18 22:16:24,117] [INFO] NumExpr defaulting to 8 threads. (_init_num_threads@utils.py:141)\n",
            "1200\n",
            "[2021-04-18 22:16:25,290] [INFO] Creating vocabulary... (generate_features@data.py:65)\n",
            "100%|███████████████████████████████████| 31600/31600 [00:07<00:00, 4276.68it/s]\n",
            "epoch: 0 loss: 0.40930349: 100%|██████████████| 713/713 [00:07<00:00, 93.40it/s]\n",
            "accuracy (dev): 0.7992\n",
            "f-measure (dev): 0.7976\n",
            "epoch: 1 loss: 4.57277536: 100%|██████████████| 713/713 [00:08<00:00, 87.52it/s]\n",
            "accuracy (dev): 0.7983\n",
            "f-measure (dev): 0.7982\n",
            "epoch: 2 loss: 2.88950706: 100%|██████████████| 713/713 [00:08<00:00, 80.02it/s]\n",
            "accuracy (dev): 0.7925\n",
            "f-measure (dev): 0.7903\n",
            "epoch: 3 loss: 2.58076930: 100%|██████████████| 713/713 [00:09<00:00, 74.84it/s]\n",
            "accuracy (dev): 0.7733\n",
            "f-measure (dev): 0.7737\n",
            "accuracy (test): 0.7828\n",
            "f-measure (test): 0.7813\n"
          ],
          "name": "stdout"
        }
      ]
    },
    {
      "cell_type": "code",
      "metadata": {
        "id": "OuYJMZaetD_4"
      },
      "source": [
        "!python main.py train-classifier enwiki_20180420_lg1_300d.pkl enwiki_20180420_entity_linker.pkl --dataset=agnews --dataset-path='sentiment_datasets/ag_news_csv' --sample_ratio=0.3 --dev-size=0.33 --patience=7 --dim-size=10"
      ],
      "execution_count": null,
      "outputs": []
    },
    {
      "cell_type": "code",
      "metadata": {
        "id": "cma-Q93lHcNX"
      },
      "source": [
        "#warmup_epochs=2"
      ],
      "execution_count": 2,
      "outputs": []
    },
    {
      "cell_type": "code",
      "metadata": {
        "colab": {
          "base_uri": "https://localhost:8080/"
        },
        "id": "7JkEhBKctk8Q",
        "outputId": "95f7818a-e71c-46ae-c4c0-53f0bffad430"
      },
      "source": [
        "!python main.py train-classifier enwiki_20180420_lg1_300d.pkl enwiki_20180420_entity_linker.pkl --dataset=agnews --dataset-path='sentiment_datasets/ag_news_csv' --sample_ratio=0.3 --dev-size=0.33 --patience=3 --dim-size=20 --warmup-epochs=0"
      ],
      "execution_count": 16,
      "outputs": [
        {
          "output_type": "stream",
          "text": [
            "{'patience': 3, 'dim_size': 20, 'warmup_epochs': 0, 'min_count': None, 'max_word_length': None, 'max_entity_length': None, 'batch_size': None, 'learning_rate': None, 'weight_decay': None, 'dropout_prob': None, 'use_gpu': False, 'use_word': True}\n",
            "[2021-04-19 06:54:41,968] [INFO] Note: NumExpr detected 16 cores but \"NUMEXPR_MAX_THREADS\" not set, so enforcing safe limit of 8. (_init_num_threads@utils.py:129)\n",
            "[2021-04-19 06:54:41,968] [INFO] NumExpr defaulting to 8 threads. (_init_num_threads@utils.py:141)\n",
            "11880\n",
            "[2021-04-19 06:54:43,333] [INFO] Creating vocabulary... (generate_features@data.py:65)\n",
            "100%|███████████████████████████████████| 43600/43600 [00:11<00:00, 3813.97it/s]\n",
            "epoch: 0 loss: 0.36341110: 100%|██████████████| 754/754 [00:08<00:00, 86.58it/s]\n",
            "accuracy (dev): 0.8760\n",
            "f-measure (dev): 0.8758\n",
            "epoch: 1 loss: 0.34367085: 100%|██████████████| 754/754 [00:08<00:00, 87.30it/s]\n",
            "accuracy (dev): 0.8843\n",
            "f-measure (dev): 0.8844\n",
            "epoch: 2 loss: 0.26877916: 100%|██████████████| 754/754 [00:08<00:00, 86.27it/s]\n",
            "accuracy (dev): 0.8871\n",
            "f-measure (dev): 0.8871\n",
            "epoch: 3 loss: 0.06381184: 100%|██████████████| 754/754 [00:08<00:00, 84.16it/s]\n",
            "accuracy (dev): 0.8852\n",
            "f-measure (dev): 0.8853\n",
            "epoch: 4 loss: 0.06669050: 100%|██████████████| 754/754 [00:08<00:00, 83.79it/s]\n",
            "accuracy (dev): 0.8806\n",
            "f-measure (dev): 0.8806\n",
            "epoch: 5 loss: 0.02859934: 100%|██████████████| 754/754 [00:08<00:00, 84.51it/s]\n",
            "accuracy (dev): 0.8802\n",
            "f-measure (dev): 0.8802\n",
            "accuracy (test): 0.8638\n",
            "f-measure (test): 0.8637\n"
          ],
          "name": "stdout"
        }
      ]
    },
    {
      "cell_type": "code",
      "metadata": {
        "colab": {
          "base_uri": "https://localhost:8080/"
        },
        "id": "OTXzGpTqHhZl",
        "outputId": "0e33cdbf-371e-4559-d0d8-4559a6cb0624"
      },
      "source": [
        "!python main.py train-classifier enwiki_20180420_lg1_300d.pkl enwiki_20180420_entity_linker.pkl --dataset=agnews --dataset-path='sentiment_datasets/ag_news_csv' --sample_ratio=0.3 --dev-size=0.33 --patience=3 --dim-size=20 --warmup-epochs=1"
      ],
      "execution_count": 17,
      "outputs": [
        {
          "output_type": "stream",
          "text": [
            "{'patience': 3, 'dim_size': 20, 'warmup_epochs': 1, 'min_count': None, 'max_word_length': None, 'max_entity_length': None, 'batch_size': None, 'learning_rate': None, 'weight_decay': None, 'dropout_prob': None, 'use_gpu': False, 'use_word': True}\n",
            "[2021-04-19 06:55:58,204] [INFO] Note: NumExpr detected 16 cores but \"NUMEXPR_MAX_THREADS\" not set, so enforcing safe limit of 8. (_init_num_threads@utils.py:129)\n",
            "[2021-04-19 06:55:58,204] [INFO] NumExpr defaulting to 8 threads. (_init_num_threads@utils.py:141)\n",
            "11880\n",
            "[2021-04-19 06:55:59,413] [INFO] Creating vocabulary... (generate_features@data.py:65)\n",
            "100%|███████████████████████████████████| 43600/43600 [00:09<00:00, 4725.41it/s]\n",
            "epoch: 0 loss: 0.49007526: 100%|██████████████| 754/754 [00:08<00:00, 88.61it/s]\n",
            "accuracy (dev): 0.8682\n",
            "f-measure (dev): 0.8680\n",
            "epoch: 1 loss: 0.50555015: 100%|██████████████| 754/754 [00:08<00:00, 85.57it/s]\n",
            "accuracy (dev): 0.8845\n",
            "f-measure (dev): 0.8846\n",
            "epoch: 2 loss: 0.29995775: 100%|██████████████| 754/754 [00:08<00:00, 84.99it/s]\n",
            "accuracy (dev): 0.8860\n",
            "f-measure (dev): 0.8860\n",
            "epoch: 3 loss: 0.04165109: 100%|██████████████| 754/754 [00:09<00:00, 83.34it/s]\n",
            "accuracy (dev): 0.8854\n",
            "f-measure (dev): 0.8856\n",
            "epoch: 4 loss: 0.06728291: 100%|██████████████| 754/754 [00:09<00:00, 77.96it/s]\n",
            "accuracy (dev): 0.8837\n",
            "f-measure (dev): 0.8837\n",
            "epoch: 5 loss: 0.02506362: 100%|██████████████| 754/754 [00:10<00:00, 75.20it/s]\n",
            "accuracy (dev): 0.8835\n",
            "f-measure (dev): 0.8835\n",
            "accuracy (test): 0.8662\n",
            "f-measure (test): 0.8661\n"
          ],
          "name": "stdout"
        }
      ]
    },
    {
      "cell_type": "code",
      "metadata": {
        "colab": {
          "base_uri": "https://localhost:8080/"
        },
        "id": "piXorkofHkun",
        "outputId": "357d1065-b3c8-4e4f-81da-07e7ad751cc0"
      },
      "source": [
        "!python main.py train-classifier enwiki_20180420_lg1_300d.pkl enwiki_20180420_entity_linker.pkl --dataset=agnews --dataset-path='sentiment_datasets/ag_news_csv' --sample_ratio=0.2 --patience=3 --dim-size=20 --warmup-epochs=2"
      ],
      "execution_count": 18,
      "outputs": [
        {
          "output_type": "stream",
          "text": [
            "{'patience': 3, 'dim_size': 20, 'warmup_epochs': 2, 'min_count': None, 'max_word_length': None, 'max_entity_length': None, 'batch_size': None, 'learning_rate': None, 'weight_decay': None, 'dropout_prob': None, 'use_gpu': False, 'use_word': True}\n",
            "[2021-04-19 06:57:14,215] [INFO] Note: NumExpr detected 16 cores but \"NUMEXPR_MAX_THREADS\" not set, so enforcing safe limit of 8. (_init_num_threads@utils.py:129)\n",
            "[2021-04-19 06:57:14,215] [INFO] NumExpr defaulting to 8 threads. (_init_num_threads@utils.py:141)\n",
            "1200\n",
            "[2021-04-19 06:57:15,436] [INFO] Creating vocabulary... (generate_features@data.py:65)\n",
            "100%|███████████████████████████████████| 31600/31600 [00:07<00:00, 4165.14it/s]\n",
            "epoch: 0 loss: 0.61241001: 100%|██████████████| 713/713 [00:07<00:00, 92.28it/s]\n",
            "accuracy (dev): 0.8692\n",
            "f-measure (dev): 0.8686\n",
            "epoch: 1 loss: 0.73502123: 100%|██████████████| 713/713 [00:08<00:00, 88.79it/s]\n",
            "accuracy (dev): 0.8917\n",
            "f-measure (dev): 0.8915\n",
            "epoch: 2 loss: 0.28671446: 100%|██████████████| 713/713 [00:08<00:00, 88.05it/s]\n",
            "accuracy (dev): 0.8933\n",
            "f-measure (dev): 0.8934\n",
            "epoch: 3 loss: 0.03045201: 100%|██████████████| 713/713 [00:08<00:00, 85.98it/s]\n",
            "accuracy (dev): 0.8900\n",
            "f-measure (dev): 0.8899\n",
            "epoch: 4 loss: 0.13148747: 100%|██████████████| 713/713 [00:08<00:00, 81.74it/s]\n",
            "accuracy (dev): 0.8775\n",
            "f-measure (dev): 0.8773\n",
            "epoch: 5 loss: 0.01524915: 100%|██████████████| 713/713 [00:09<00:00, 78.32it/s]\n",
            "accuracy (dev): 0.8758\n",
            "f-measure (dev): 0.8755\n",
            "accuracy (test): 0.8657\n",
            "f-measure (test): 0.8657\n"
          ],
          "name": "stdout"
        }
      ]
    },
    {
      "cell_type": "code",
      "metadata": {
        "colab": {
          "base_uri": "https://localhost:8080/"
        },
        "id": "LtldZnoWtoUD",
        "outputId": "12f8cc5b-47c2-4e8d-d3b5-0e9f0afa54e5"
      },
      "source": [
        "!python main.py train-classifier enwiki_20180420_lg1_300d.pkl enwiki_20180420_entity_linker.pkl --dataset=agnews --dataset-path='sentiment_datasets/ag_news_csv' --sample_ratio=0.2 --patience=3 --dim-size=20 --warmup-epochs=4"
      ],
      "execution_count": 19,
      "outputs": [
        {
          "output_type": "stream",
          "text": [
            "{'patience': 3, 'dim_size': 20, 'warmup_epochs': 4, 'min_count': None, 'max_word_length': None, 'max_entity_length': None, 'batch_size': None, 'learning_rate': None, 'weight_decay': None, 'dropout_prob': None, 'use_gpu': False, 'use_word': True}\n",
            "[2021-04-19 06:58:17,565] [INFO] Note: NumExpr detected 16 cores but \"NUMEXPR_MAX_THREADS\" not set, so enforcing safe limit of 8. (_init_num_threads@utils.py:129)\n",
            "[2021-04-19 06:58:17,566] [INFO] NumExpr defaulting to 8 threads. (_init_num_threads@utils.py:141)\n",
            "1200\n",
            "[2021-04-19 06:58:18,784] [INFO] Creating vocabulary... (generate_features@data.py:65)\n",
            "100%|███████████████████████████████████| 31600/31600 [00:08<00:00, 3947.68it/s]\n",
            "epoch: 0 loss: 1.03458762: 100%|██████████████| 713/713 [00:07<00:00, 93.45it/s]\n",
            "accuracy (dev): 0.8500\n",
            "f-measure (dev): 0.8488\n",
            "epoch: 1 loss: 0.67376113: 100%|██████████████| 713/713 [00:08<00:00, 88.44it/s]\n",
            "accuracy (dev): 0.8833\n",
            "f-measure (dev): 0.8831\n",
            "epoch: 2 loss: 0.32969204: 100%|██████████████| 713/713 [00:08<00:00, 87.98it/s]\n",
            "accuracy (dev): 0.8950\n",
            "f-measure (dev): 0.8952\n",
            "epoch: 3 loss: 0.04163206: 100%|██████████████| 713/713 [00:08<00:00, 83.77it/s]\n",
            "accuracy (dev): 0.8883\n",
            "f-measure (dev): 0.8882\n",
            "epoch: 4 loss: 0.18047337: 100%|██████████████| 713/713 [00:08<00:00, 81.86it/s]\n",
            "accuracy (dev): 0.8833\n",
            "f-measure (dev): 0.8836\n",
            "epoch: 5 loss: 0.02365106: 100%|██████████████| 713/713 [00:08<00:00, 80.96it/s]\n",
            "accuracy (dev): 0.8858\n",
            "f-measure (dev): 0.8856\n",
            "accuracy (test): 0.8709\n",
            "f-measure (test): 0.8709\n"
          ],
          "name": "stdout"
        }
      ]
    },
    {
      "cell_type": "code",
      "metadata": {
        "colab": {
          "base_uri": "https://localhost:8080/"
        },
        "id": "NsAkOXuBwrVF",
        "outputId": "4238e9e1-95d9-419d-d486-4fb69bdf8018"
      },
      "source": [
        "!python main.py train-classifier enwiki_20180420_lg1_300d.pkl enwiki_20180420_entity_linker.pkl --dataset=agnews --dataset-path='sentiment_datasets/ag_news_csv' --sample_ratio=0.2 --patience=3 --dim-size=20 --warmup-epochs=8"
      ],
      "execution_count": 20,
      "outputs": [
        {
          "output_type": "stream",
          "text": [
            "{'patience': 3, 'dim_size': 20, 'warmup_epochs': 8, 'min_count': None, 'max_word_length': None, 'max_entity_length': None, 'batch_size': None, 'learning_rate': None, 'weight_decay': None, 'dropout_prob': None, 'use_gpu': False, 'use_word': True}\n",
            "[2021-04-19 06:59:21,285] [INFO] Note: NumExpr detected 16 cores but \"NUMEXPR_MAX_THREADS\" not set, so enforcing safe limit of 8. (_init_num_threads@utils.py:129)\n",
            "[2021-04-19 06:59:21,285] [INFO] NumExpr defaulting to 8 threads. (_init_num_threads@utils.py:141)\n",
            "1200\n",
            "[2021-04-19 06:59:22,617] [INFO] Creating vocabulary... (generate_features@data.py:65)\n",
            "100%|███████████████████████████████████| 31600/31600 [00:07<00:00, 4060.41it/s]\n",
            "epoch: 0 loss: 1.31058002: 100%|██████████████| 713/713 [00:07<00:00, 91.19it/s]\n",
            "accuracy (dev): 0.6783\n",
            "f-measure (dev): 0.6657\n",
            "epoch: 1 loss: 0.69626158: 100%|██████████████| 713/713 [00:08<00:00, 88.49it/s]\n",
            "accuracy (dev): 0.8750\n",
            "f-measure (dev): 0.8745\n",
            "epoch: 2 loss: 0.40284395: 100%|██████████████| 713/713 [00:08<00:00, 88.64it/s]\n",
            "accuracy (dev): 0.8858\n",
            "f-measure (dev): 0.8859\n",
            "epoch: 3 loss: 0.08430912: 100%|██████████████| 713/713 [00:08<00:00, 85.35it/s]\n",
            "accuracy (dev): 0.8875\n",
            "f-measure (dev): 0.8876\n",
            "epoch: 4 loss: 0.14176962: 100%|██████████████| 713/713 [00:08<00:00, 81.62it/s]\n",
            "accuracy (dev): 0.8892\n",
            "f-measure (dev): 0.8892\n",
            "epoch: 5 loss: 0.13106133: 100%|██████████████| 713/713 [00:08<00:00, 80.36it/s]\n",
            "accuracy (dev): 0.8867\n",
            "f-measure (dev): 0.8869\n",
            "epoch: 6 loss: 0.24614295: 100%|██████████████| 713/713 [00:08<00:00, 80.42it/s]\n",
            "accuracy (dev): 0.8825\n",
            "f-measure (dev): 0.8828\n",
            "epoch: 7 loss: 0.23843254: 100%|██████████████| 713/713 [00:08<00:00, 80.26it/s]\n",
            "accuracy (dev): 0.8792\n",
            "f-measure (dev): 0.8790\n",
            "accuracy (test): 0.8649\n",
            "f-measure (test): 0.8649\n"
          ],
          "name": "stdout"
        }
      ]
    },
    {
      "cell_type": "code",
      "metadata": {
        "colab": {
          "base_uri": "https://localhost:8080/"
        },
        "id": "cM8JdbABxM5Y",
        "outputId": "d745d433-f102-48fb-b544-770bd37e6fe7"
      },
      "source": [
        "!python main.py train-classifier enwiki_20180420_lg1_300d.pkl enwiki_20180420_entity_linker.pkl --dataset=agnews --dataset-path='sentiment_datasets/ag_news_csv' --sample_ratio=0.2 --patience=3 --dim-size=20 --warmup-epochs=16"
      ],
      "execution_count": 21,
      "outputs": [
        {
          "output_type": "stream",
          "text": [
            "{'patience': 3, 'dim_size': 20, 'warmup_epochs': 16, 'min_count': None, 'max_word_length': None, 'max_entity_length': None, 'batch_size': None, 'learning_rate': None, 'weight_decay': None, 'dropout_prob': None, 'use_gpu': False, 'use_word': True}\n",
            "[2021-04-19 07:00:42,949] [INFO] Note: NumExpr detected 16 cores but \"NUMEXPR_MAX_THREADS\" not set, so enforcing safe limit of 8. (_init_num_threads@utils.py:129)\n",
            "[2021-04-19 07:00:42,950] [INFO] NumExpr defaulting to 8 threads. (_init_num_threads@utils.py:141)\n",
            "1200\n",
            "[2021-04-19 07:00:44,235] [INFO] Creating vocabulary... (generate_features@data.py:65)\n",
            "100%|███████████████████████████████████| 31600/31600 [00:07<00:00, 3992.63it/s]\n",
            "epoch: 0 loss: 1.38557351: 100%|██████████████| 713/713 [00:07<00:00, 92.75it/s]\n",
            "accuracy (dev): 0.3283\n",
            "f-measure (dev): 0.2106\n",
            "epoch: 1 loss: 1.03833508: 100%|██████████████| 713/713 [00:08<00:00, 88.08it/s]\n",
            "accuracy (dev): 0.8608\n",
            "f-measure (dev): 0.8598\n",
            "epoch: 2 loss: 0.58301306: 100%|██████████████| 713/713 [00:08<00:00, 86.34it/s]\n",
            "accuracy (dev): 0.8767\n",
            "f-measure (dev): 0.8764\n",
            "epoch: 3 loss: 0.18918148: 100%|██████████████| 713/713 [00:08<00:00, 81.05it/s]\n",
            "accuracy (dev): 0.8850\n",
            "f-measure (dev): 0.8849\n",
            "epoch: 4 loss: 0.28146863: 100%|██████████████| 713/713 [00:09<00:00, 78.30it/s]\n",
            "accuracy (dev): 0.8892\n",
            "f-measure (dev): 0.8893\n",
            "epoch: 5 loss: 0.30364791: 100%|██████████████| 713/713 [00:09<00:00, 78.31it/s]\n",
            "accuracy (dev): 0.8892\n",
            "f-measure (dev): 0.8893\n",
            "epoch: 6 loss: 0.46839413: 100%|██████████████| 713/713 [00:08<00:00, 81.82it/s]\n",
            "accuracy (dev): 0.8942\n",
            "f-measure (dev): 0.8941\n",
            "epoch: 7 loss: 0.08021805: 100%|██████████████| 713/713 [00:08<00:00, 83.05it/s]\n",
            "accuracy (dev): 0.8883\n",
            "f-measure (dev): 0.8885\n",
            "epoch: 8 loss: 0.06412030: 100%|██████████████| 713/713 [00:08<00:00, 83.51it/s]\n",
            "accuracy (dev): 0.8825\n",
            "f-measure (dev): 0.8828\n",
            "epoch: 9 loss: 0.14833358: 100%|██████████████| 713/713 [00:08<00:00, 81.57it/s]\n",
            "accuracy (dev): 0.8767\n",
            "f-measure (dev): 0.8768\n",
            "accuracy (test): 0.8634\n",
            "f-measure (test): 0.8634\n"
          ],
          "name": "stdout"
        }
      ]
    },
    {
      "cell_type": "code",
      "metadata": {
        "colab": {
          "base_uri": "https://localhost:8080/"
        },
        "id": "CgmMWsn_1WGI",
        "outputId": "250bdf22-626b-4cf2-e741-b7386cd09b0d"
      },
      "source": [
        "!python main.py train-classifier enwiki_20180420_lg1_300d.pkl enwiki_20180420_entity_linker.pkl --dataset=agnews --dataset-path='sentiment_datasets/ag_news_csv' --sample_ratio=0.2 --patience=3 --dim-size=20 --warmup-epochs=32"
      ],
      "execution_count": 24,
      "outputs": [
        {
          "output_type": "stream",
          "text": [
            "{'patience': 3, 'dim_size': 20, 'warmup_epochs': 32, 'min_count': None, 'max_word_length': None, 'max_entity_length': None, 'batch_size': None, 'learning_rate': None, 'weight_decay': None, 'dropout_prob': None, 'use_gpu': False, 'use_word': True}\n",
            "[2021-04-19 07:17:02,343] [INFO] Note: NumExpr detected 16 cores but \"NUMEXPR_MAX_THREADS\" not set, so enforcing safe limit of 8. (_init_num_threads@utils.py:129)\n",
            "[2021-04-19 07:17:02,343] [INFO] NumExpr defaulting to 8 threads. (_init_num_threads@utils.py:141)\n",
            "1200\n",
            "[2021-04-19 07:17:03,645] [INFO] Creating vocabulary... (generate_features@data.py:65)\n",
            "100%|███████████████████████████████████| 31600/31600 [00:08<00:00, 3770.99it/s]\n",
            "epoch: 0 loss: 1.40541923: 100%|██████████████| 713/713 [00:07<00:00, 89.96it/s]\n",
            "accuracy (dev): 0.2675\n",
            "f-measure (dev): 0.1071\n",
            "epoch: 1 loss: 1.27761734: 100%|██████████████| 713/713 [00:08<00:00, 87.30it/s]\n",
            "accuracy (dev): 0.6733\n",
            "f-measure (dev): 0.6597\n",
            "epoch: 2 loss: 1.01901221: 100%|██████████████| 713/713 [00:08<00:00, 81.30it/s]\n",
            "accuracy (dev): 0.8625\n",
            "f-measure (dev): 0.8616\n",
            "epoch: 3 loss: 0.46258667: 100%|██████████████| 713/713 [00:09<00:00, 78.71it/s]\n",
            "accuracy (dev): 0.8775\n",
            "f-measure (dev): 0.8769\n",
            "epoch: 4 loss: 0.43302295: 100%|██████████████| 713/713 [00:09<00:00, 77.81it/s]\n",
            "accuracy (dev): 0.8825\n",
            "f-measure (dev): 0.8823\n",
            "epoch: 5 loss: 0.49930531: 100%|██████████████| 713/713 [00:09<00:00, 78.23it/s]\n",
            "accuracy (dev): 0.8842\n",
            "f-measure (dev): 0.8841\n",
            "epoch: 6 loss: 0.60759252: 100%|██████████████| 713/713 [00:08<00:00, 82.82it/s]\n",
            "accuracy (dev): 0.8883\n",
            "f-measure (dev): 0.8882\n",
            "epoch: 7 loss: 0.08474625: 100%|██████████████| 713/713 [00:08<00:00, 84.55it/s]\n",
            "accuracy (dev): 0.8908\n",
            "f-measure (dev): 0.8910\n",
            "epoch: 8 loss: 0.16115646: 100%|██████████████| 713/713 [00:08<00:00, 83.81it/s]\n",
            "accuracy (dev): 0.8908\n",
            "f-measure (dev): 0.8911\n",
            "epoch: 9 loss: 0.29062521: 100%|██████████████| 713/713 [00:08<00:00, 81.61it/s]\n",
            "accuracy (dev): 0.8917\n",
            "f-measure (dev): 0.8919\n",
            "epoch: 10 loss: 0.04815209: 100%|█████████████| 713/713 [00:08<00:00, 81.59it/s]\n",
            "accuracy (dev): 0.8917\n",
            "f-measure (dev): 0.8920\n",
            "epoch: 11 loss: 0.08920432: 100%|█████████████| 713/713 [00:08<00:00, 81.20it/s]\n",
            "accuracy (dev): 0.8883\n",
            "f-measure (dev): 0.8887\n",
            "epoch: 12 loss: 0.01608308: 100%|█████████████| 713/713 [00:08<00:00, 81.20it/s]\n",
            "accuracy (dev): 0.8808\n",
            "f-measure (dev): 0.8812\n",
            "accuracy (test): 0.8639\n",
            "f-measure (test): 0.8641\n"
          ],
          "name": "stdout"
        }
      ]
    },
    {
      "cell_type": "code",
      "metadata": {
        "id": "sn95OLx2HmLY"
      },
      "source": [
        "#dropout_prob=0.4"
      ],
      "execution_count": 5,
      "outputs": []
    },
    {
      "cell_type": "code",
      "metadata": {
        "colab": {
          "base_uri": "https://localhost:8080/"
        },
        "id": "C5ISmY_HHqcX",
        "outputId": "79685b43-0208-491b-c953-9c787292c46a"
      },
      "source": [
        "!python main.py train-classifier enwiki_20180420_lg1_300d.pkl enwiki_20180420_entity_linker.pkl --dataset=agnews --dataset-path='sentiment_datasets/ag_news_csv' --sample_ratio=0.2 --patience=3 --dropout-prob=0.2"
      ],
      "execution_count": 8,
      "outputs": [
        {
          "output_type": "stream",
          "text": [
            "{'patience': 3, 'dropout_prob': 0.2, 'min_count': None, 'max_word_length': None, 'max_entity_length': None, 'batch_size': None, 'learning_rate': None, 'weight_decay': None, 'warmup_epochs': None, 'use_gpu': False, 'use_word': True}\n",
            "[2021-04-18 17:12:03,754] [INFO] Note: NumExpr detected 16 cores but \"NUMEXPR_MAX_THREADS\" not set, so enforcing safe limit of 8. (_init_num_threads@utils.py:129)\n",
            "[2021-04-18 17:12:03,754] [INFO] NumExpr defaulting to 8 threads. (_init_num_threads@utils.py:141)\n",
            "1200\n",
            "[2021-04-18 17:12:05,048] [INFO] Creating vocabulary... (generate_features@data.py:65)\n",
            "100%|███████████████████████████████████| 31600/31600 [00:08<00:00, 3589.20it/s]\n",
            "epoch: 0 loss: 0.37532973: 100%|██████████████| 713/713 [01:18<00:00,  9.03it/s]\n",
            "accuracy (dev): 0.8558\n",
            "f-measure (dev): 0.8552\n",
            "epoch: 1 loss: 0.20480226: 100%|██████████████| 713/713 [01:18<00:00,  9.07it/s]\n",
            "accuracy (dev): 0.8942\n",
            "f-measure (dev): 0.8939\n",
            "epoch: 2 loss: 0.19900559: 100%|██████████████| 713/713 [01:19<00:00,  8.99it/s]\n",
            "accuracy (dev): 0.8783\n",
            "f-measure (dev): 0.8785\n",
            "epoch: 3 loss: 0.06470610: 100%|██████████████| 713/713 [01:18<00:00,  9.03it/s]\n",
            "accuracy (dev): 0.8783\n",
            "f-measure (dev): 0.8781\n",
            "epoch: 4 loss: 0.00744918: 100%|██████████████| 713/713 [01:18<00:00,  9.07it/s]\n",
            "accuracy (dev): 0.8800\n",
            "f-measure (dev): 0.8797\n",
            "accuracy (test): 0.8642\n",
            "f-measure (test): 0.8644\n"
          ],
          "name": "stdout"
        }
      ]
    },
    {
      "cell_type": "code",
      "metadata": {
        "colab": {
          "base_uri": "https://localhost:8080/"
        },
        "id": "vjF2shVtHvfZ",
        "outputId": "bf2c7f63-996f-4d72-b562-67e44838f7d2"
      },
      "source": [
        "!python main.py train-classifier enwiki_20180420_lg1_300d.pkl enwiki_20180420_entity_linker.pkl --dataset=agnews --dataset-path='sentiment_datasets/ag_news_csv' --sample_ratio=0.2 --patience=3 --dropout-prob=0.8"
      ],
      "execution_count": 9,
      "outputs": [
        {
          "output_type": "stream",
          "text": [
            "{'patience': 3, 'dropout_prob': 0.8, 'min_count': None, 'max_word_length': None, 'max_entity_length': None, 'batch_size': None, 'learning_rate': None, 'weight_decay': None, 'warmup_epochs': None, 'use_gpu': False, 'use_word': True}\n",
            "[2021-04-18 17:18:59,141] [INFO] Note: NumExpr detected 16 cores but \"NUMEXPR_MAX_THREADS\" not set, so enforcing safe limit of 8. (_init_num_threads@utils.py:129)\n",
            "[2021-04-18 17:18:59,141] [INFO] NumExpr defaulting to 8 threads. (_init_num_threads@utils.py:141)\n",
            "1200\n",
            "[2021-04-18 17:19:00,428] [INFO] Creating vocabulary... (generate_features@data.py:65)\n",
            "100%|███████████████████████████████████| 31600/31600 [00:08<00:00, 3917.79it/s]\n",
            "epoch: 0 loss: 0.62678760: 100%|██████████████| 713/713 [01:18<00:00,  9.13it/s]\n",
            "accuracy (dev): 0.8242\n",
            "f-measure (dev): 0.8234\n",
            "epoch: 1 loss: 0.28783217: 100%|██████████████| 713/713 [01:19<00:00,  9.02it/s]\n",
            "accuracy (dev): 0.8742\n",
            "f-measure (dev): 0.8737\n",
            "epoch: 2 loss: 0.44036064: 100%|██████████████| 713/713 [01:18<00:00,  9.10it/s]\n",
            "accuracy (dev): 0.8925\n",
            "f-measure (dev): 0.8925\n",
            "epoch: 3 loss: 0.10808747: 100%|██████████████| 713/713 [01:18<00:00,  9.09it/s]\n",
            "accuracy (dev): 0.8958\n",
            "f-measure (dev): 0.8959\n",
            "epoch: 4 loss: 0.24461307: 100%|██████████████| 713/713 [01:18<00:00,  9.09it/s]\n",
            "accuracy (dev): 0.8867\n",
            "f-measure (dev): 0.8867\n",
            "epoch: 5 loss: 0.02669002: 100%|██████████████| 713/713 [01:18<00:00,  9.08it/s]\n",
            "accuracy (dev): 0.8875\n",
            "f-measure (dev): 0.8876\n",
            "epoch: 6 loss: 0.44896880: 100%|██████████████| 713/713 [01:18<00:00,  9.09it/s]\n",
            "accuracy (dev): 0.8917\n",
            "f-measure (dev): 0.8917\n",
            "accuracy (test): 0.8688\n",
            "f-measure (test): 0.8687\n"
          ],
          "name": "stdout"
        }
      ]
    },
    {
      "cell_type": "code",
      "metadata": {
        "colab": {
          "base_uri": "https://localhost:8080/"
        },
        "id": "uhBlzA5O19IL",
        "outputId": "b6cc9906-04e2-40bd-eb41-58a6c6b1742a"
      },
      "source": [
        "!python main.py train-classifier enwiki_20180420_lg1_300d.pkl enwiki_20180420_entity_linker.pkl --dataset=agnews --dataset-path='sentiment_datasets/ag_news_csv' --sample_ratio=0.3 --dev-size=0.33 --patience=3 --dropout-prob=0.95 --dim-size=20"
      ],
      "execution_count": 28,
      "outputs": [
        {
          "output_type": "stream",
          "text": [
            "{'patience': 3, 'dropout_prob': 0.95, 'dim_size': 20, 'min_count': None, 'max_word_length': None, 'max_entity_length': None, 'batch_size': None, 'learning_rate': None, 'weight_decay': None, 'warmup_epochs': None, 'use_gpu': False, 'use_word': True}\n",
            "[2021-04-18 21:57:44,415] [INFO] Note: NumExpr detected 16 cores but \"NUMEXPR_MAX_THREADS\" not set, so enforcing safe limit of 8. (_init_num_threads@utils.py:129)\n",
            "[2021-04-18 21:57:44,415] [INFO] NumExpr defaulting to 8 threads. (_init_num_threads@utils.py:141)\n",
            "11880\n",
            "[2021-04-18 21:57:45,740] [INFO] Creating vocabulary... (generate_features@data.py:65)\n",
            "100%|███████████████████████████████████| 43600/43600 [00:12<00:00, 3550.20it/s]\n",
            "epoch: 0 loss: 1.27766168: 100%|██████████████| 754/754 [00:09<00:00, 80.84it/s]\n",
            "accuracy (dev): 0.7878\n",
            "f-measure (dev): 0.7869\n",
            "epoch: 1 loss: 1.17743349: 100%|██████████████| 754/754 [00:09<00:00, 80.61it/s]\n",
            "accuracy (dev): 0.8348\n",
            "f-measure (dev): 0.8349\n",
            "epoch: 2 loss: 1.01345861: 100%|██████████████| 754/754 [00:09<00:00, 77.95it/s]\n",
            "accuracy (dev): 0.8428\n",
            "f-measure (dev): 0.8432\n",
            "epoch: 3 loss: 1.23772848: 100%|██████████████| 754/754 [00:09<00:00, 77.62it/s]\n",
            "accuracy (dev): 0.8520\n",
            "f-measure (dev): 0.8524\n",
            "epoch: 4 loss: 0.96353608: 100%|██████████████| 754/754 [00:10<00:00, 72.04it/s]\n",
            "accuracy (dev): 0.8497\n",
            "f-measure (dev): 0.8503\n",
            "epoch: 5 loss: 0.70772505: 100%|██████████████| 754/754 [00:11<00:00, 68.33it/s]\n",
            "accuracy (dev): 0.8553\n",
            "f-measure (dev): 0.8557\n",
            "epoch: 6 loss: 0.89446831: 100%|██████████████| 754/754 [00:10<00:00, 69.41it/s]\n",
            "accuracy (dev): 0.8586\n",
            "f-measure (dev): 0.8589\n",
            "epoch: 7 loss: 1.95112169: 100%|██████████████| 754/754 [00:10<00:00, 70.71it/s]\n",
            "accuracy (dev): 0.8611\n",
            "f-measure (dev): 0.8617\n",
            "epoch: 8 loss: 0.95007569: 100%|██████████████| 754/754 [00:10<00:00, 71.00it/s]\n",
            "accuracy (dev): 0.8609\n",
            "f-measure (dev): 0.8614\n",
            "epoch: 9 loss: 1.03758061: 100%|██████████████| 754/754 [00:10<00:00, 70.93it/s]\n",
            "accuracy (dev): 0.8590\n",
            "f-measure (dev): 0.8597\n",
            "epoch: 10 loss: 1.10248721: 100%|█████████████| 754/754 [00:10<00:00, 71.44it/s]\n",
            "accuracy (dev): 0.8616\n",
            "f-measure (dev): 0.8621\n",
            "epoch: 11 loss: 0.68500537: 100%|█████████████| 754/754 [00:10<00:00, 71.92it/s]\n",
            "accuracy (dev): 0.8648\n",
            "f-measure (dev): 0.8652\n",
            "epoch: 12 loss: 0.86169285: 100%|█████████████| 754/754 [00:10<00:00, 69.81it/s]\n",
            "accuracy (dev): 0.8659\n",
            "f-measure (dev): 0.8665\n",
            "epoch: 13 loss: 0.92736644: 100%|█████████████| 754/754 [00:11<00:00, 67.94it/s]\n",
            "accuracy (dev): 0.8634\n",
            "f-measure (dev): 0.8640\n",
            "epoch: 14 loss: 0.78318530: 100%|█████████████| 754/754 [00:11<00:00, 67.91it/s]\n",
            "accuracy (dev): 0.8657\n",
            "f-measure (dev): 0.8662\n",
            "epoch: 15 loss: 0.82354927: 100%|█████████████| 754/754 [00:10<00:00, 69.43it/s]\n",
            "accuracy (dev): 0.8685\n",
            "f-measure (dev): 0.8689\n",
            "epoch: 16 loss: 0.83323812: 100%|█████████████| 754/754 [00:11<00:00, 68.13it/s]\n",
            "accuracy (dev): 0.8687\n",
            "f-measure (dev): 0.8691\n",
            "epoch: 17 loss: 1.07552052: 100%|█████████████| 754/754 [00:10<00:00, 70.39it/s]\n",
            "accuracy (dev): 0.8706\n",
            "f-measure (dev): 0.8710\n",
            "epoch: 18 loss: 0.78181344: 100%|█████████████| 754/754 [00:10<00:00, 73.28it/s]\n",
            "accuracy (dev): 0.8680\n",
            "f-measure (dev): 0.8685\n",
            "epoch: 19 loss: 0.80097699: 100%|█████████████| 754/754 [00:10<00:00, 74.33it/s]\n",
            "accuracy (dev): 0.8715\n",
            "f-measure (dev): 0.8719\n",
            "epoch: 20 loss: 0.61972815: 100%|█████████████| 754/754 [00:10<00:00, 73.87it/s]\n",
            "accuracy (dev): 0.8708\n",
            "f-measure (dev): 0.8711\n",
            "epoch: 21 loss: 0.88609642: 100%|█████████████| 754/754 [00:10<00:00, 72.49it/s]\n",
            "accuracy (dev): 0.8686\n",
            "f-measure (dev): 0.8690\n",
            "epoch: 22 loss: 0.65507531: 100%|█████████████| 754/754 [00:10<00:00, 70.75it/s]\n",
            "accuracy (dev): 0.8679\n",
            "f-measure (dev): 0.8685\n",
            "accuracy (test): 0.8426\n",
            "f-measure (test): 0.8431\n"
          ],
          "name": "stdout"
        }
      ]
    },
    {
      "cell_type": "code",
      "metadata": {
        "id": "OuuWZjPYzdT3"
      },
      "source": [
        "#test the effect of using 10% of all data as dev set"
      ],
      "execution_count": null,
      "outputs": []
    },
    {
      "cell_type": "code",
      "metadata": {
        "colab": {
          "base_uri": "https://localhost:8080/"
        },
        "id": "X3FQYeUAJLtq",
        "outputId": "ffce8b98-a335-474e-b872-8cf3d6f06936"
      },
      "source": [
        "!python main.py train-classifier enwiki_20180420_lg1_300d.pkl enwiki_20180420_entity_linker.pkl --dataset=agnews --dataset-path='sentiment_datasets/ag_news_csv' --sample_ratio=0.3 --dev-size=0.33 --patience=3"
      ],
      "execution_count": 10,
      "outputs": [
        {
          "output_type": "stream",
          "text": [
            "{'patience': 3, 'min_count': None, 'max_word_length': None, 'max_entity_length': None, 'batch_size': None, 'learning_rate': None, 'weight_decay': None, 'warmup_epochs': None, 'dropout_prob': None, 'use_gpu': False, 'use_word': True}\n",
            "[2021-04-18 17:28:30,315] [INFO] Note: NumExpr detected 16 cores but \"NUMEXPR_MAX_THREADS\" not set, so enforcing safe limit of 8. (_init_num_threads@utils.py:129)\n",
            "[2021-04-18 17:28:30,315] [INFO] NumExpr defaulting to 8 threads. (_init_num_threads@utils.py:141)\n",
            "11880\n",
            "[2021-04-18 17:28:31,547] [INFO] Creating vocabulary... (generate_features@data.py:65)\n",
            "100%|███████████████████████████████████| 43600/43600 [00:10<00:00, 4191.76it/s]\n",
            "epoch: 0 loss: 0.27541691: 100%|██████████████| 754/754 [01:30<00:00,  8.30it/s]\n",
            "accuracy (dev): 0.8519\n",
            "f-measure (dev): 0.8518\n",
            "epoch: 1 loss: 0.22377980: 100%|██████████████| 754/754 [01:35<00:00,  7.91it/s]\n",
            "accuracy (dev): 0.8846\n",
            "f-measure (dev): 0.8847\n",
            "epoch: 2 loss: 0.07205369: 100%|██████████████| 754/754 [01:34<00:00,  7.94it/s]\n",
            "accuracy (dev): 0.8891\n",
            "f-measure (dev): 0.8891\n",
            "epoch: 3 loss: 0.23523171: 100%|██████████████| 754/754 [01:35<00:00,  7.89it/s]\n",
            "accuracy (dev): 0.8848\n",
            "f-measure (dev): 0.8850\n",
            "epoch: 4 loss: 0.12309730: 100%|██████████████| 754/754 [01:35<00:00,  7.87it/s]\n",
            "accuracy (dev): 0.8880\n",
            "f-measure (dev): 0.8878\n",
            "epoch: 5 loss: 0.01138304: 100%|██████████████| 754/754 [01:35<00:00,  7.86it/s]\n",
            "accuracy (dev): 0.8852\n",
            "f-measure (dev): 0.8852\n",
            "accuracy (test): 0.8668\n",
            "f-measure (test): 0.8668\n"
          ],
          "name": "stdout"
        }
      ]
    },
    {
      "cell_type": "code",
      "metadata": {
        "id": "2JMmKTuYHBAW"
      },
      "source": [
        "#test the effect of embedding dimension (dim_size)\n",
        "#conclusion: dimension=10 is enough"
      ],
      "execution_count": null,
      "outputs": []
    },
    {
      "cell_type": "code",
      "metadata": {
        "colab": {
          "base_uri": "https://localhost:8080/"
        },
        "id": "ZhN_JCA3737E",
        "outputId": "6ada77df-c2b4-48d3-d2be-b7eddbbeaac2"
      },
      "source": [
        "!python main.py train-classifier enwiki_20180420_lg1_300d.pkl enwiki_20180420_entity_linker.pkl --dataset=agnews --dataset-path='sentiment_datasets/ag_news_csv' --sample_ratio=0.3 --dev-size=0.33 --patience=3 --dim-size=300"
      ],
      "execution_count": 14,
      "outputs": [
        {
          "output_type": "stream",
          "text": [
            "{'patience': 3, 'dim_size': 300, 'min_count': None, 'max_word_length': None, 'max_entity_length': None, 'batch_size': None, 'learning_rate': None, 'weight_decay': None, 'warmup_epochs': None, 'dropout_prob': None, 'use_gpu': False, 'use_word': True}\n",
            "[2021-04-18 19:05:35,377] [INFO] Note: NumExpr detected 16 cores but \"NUMEXPR_MAX_THREADS\" not set, so enforcing safe limit of 8. (_init_num_threads@utils.py:129)\n",
            "[2021-04-18 19:05:35,377] [INFO] NumExpr defaulting to 8 threads. (_init_num_threads@utils.py:141)\n",
            "11880\n",
            "[2021-04-18 19:05:36,666] [INFO] Creating vocabulary... (generate_features@data.py:65)\n",
            "100%|███████████████████████████████████| 43600/43600 [00:10<00:00, 4090.30it/s]\n",
            "epoch: 0 loss: 0.27541691: 100%|██████████████| 754/754 [01:35<00:00,  7.90it/s]\n",
            "accuracy (dev): 0.8519\n",
            "f-measure (dev): 0.8518\n",
            "epoch: 1 loss: 0.22377980: 100%|██████████████| 754/754 [01:36<00:00,  7.82it/s]\n",
            "accuracy (dev): 0.8846\n",
            "f-measure (dev): 0.8847\n",
            "epoch: 2 loss: 0.07205369: 100%|██████████████| 754/754 [01:35<00:00,  7.87it/s]\n",
            "accuracy (dev): 0.8891\n",
            "f-measure (dev): 0.8891\n",
            "epoch: 3 loss: 0.23523171: 100%|██████████████| 754/754 [01:36<00:00,  7.85it/s]\n",
            "accuracy (dev): 0.8848\n",
            "f-measure (dev): 0.8850\n",
            "epoch: 4 loss: 0.12309730: 100%|██████████████| 754/754 [01:36<00:00,  7.81it/s]\n",
            "accuracy (dev): 0.8880\n",
            "f-measure (dev): 0.8878\n",
            "epoch: 5 loss: 0.01138304: 100%|██████████████| 754/754 [01:36<00:00,  7.81it/s]\n",
            "accuracy (dev): 0.8852\n",
            "f-measure (dev): 0.8852\n",
            "accuracy (test): 0.8668\n",
            "f-measure (test): 0.8668\n"
          ],
          "name": "stdout"
        }
      ]
    },
    {
      "cell_type": "code",
      "metadata": {
        "colab": {
          "base_uri": "https://localhost:8080/"
        },
        "id": "Epu3g_ifLEFp",
        "outputId": "c998f092-dbbe-4bc4-a226-06d2eff1d8af"
      },
      "source": [
        "!python main.py train-classifier enwiki_20180420_lg1_300d.pkl enwiki_20180420_entity_linker.pkl --dataset=agnews --dataset-path='sentiment_datasets/ag_news_csv' --sample_ratio=0.3 --dev-size=0.33 --patience=3 --dim-size=100"
      ],
      "execution_count": 17,
      "outputs": [
        {
          "output_type": "stream",
          "text": [
            "{'patience': 3, 'dim_size': 100, 'min_count': None, 'max_word_length': None, 'max_entity_length': None, 'batch_size': None, 'learning_rate': None, 'weight_decay': None, 'warmup_epochs': None, 'dropout_prob': None, 'use_gpu': False, 'use_word': True}\n",
            "[2021-04-18 19:23:50,312] [INFO] Note: NumExpr detected 16 cores but \"NUMEXPR_MAX_THREADS\" not set, so enforcing safe limit of 8. (_init_num_threads@utils.py:129)\n",
            "[2021-04-18 19:23:50,312] [INFO] NumExpr defaulting to 8 threads. (_init_num_threads@utils.py:141)\n",
            "11880\n",
            "[2021-04-18 19:23:51,606] [INFO] Creating vocabulary... (generate_features@data.py:65)\n",
            "100%|███████████████████████████████████| 43600/43600 [00:10<00:00, 4170.89it/s]\n",
            "epoch: 0 loss: 0.24819005: 100%|██████████████| 754/754 [00:34<00:00, 21.72it/s]\n",
            "accuracy (dev): 0.8662\n",
            "f-measure (dev): 0.8660\n",
            "epoch: 1 loss: 0.09105700: 100%|██████████████| 754/754 [00:33<00:00, 22.47it/s]\n",
            "accuracy (dev): 0.8864\n",
            "f-measure (dev): 0.8864\n",
            "epoch: 2 loss: 0.25775036: 100%|██████████████| 754/754 [00:33<00:00, 22.49it/s]\n",
            "accuracy (dev): 0.8902\n",
            "f-measure (dev): 0.8901\n",
            "epoch: 3 loss: 0.01230514: 100%|██████████████| 754/754 [00:33<00:00, 22.49it/s]\n",
            "accuracy (dev): 0.8874\n",
            "f-measure (dev): 0.8874\n",
            "epoch: 4 loss: 0.00138213: 100%|██████████████| 754/754 [00:33<00:00, 22.46it/s]\n",
            "accuracy (dev): 0.8831\n",
            "f-measure (dev): 0.8831\n",
            "epoch: 5 loss: 0.02953488: 100%|██████████████| 754/754 [00:33<00:00, 22.43it/s]\n",
            "accuracy (dev): 0.8863\n",
            "f-measure (dev): 0.8865\n",
            "accuracy (test): 0.8634\n",
            "f-measure (test): 0.8631\n"
          ],
          "name": "stdout"
        }
      ]
    },
    {
      "cell_type": "code",
      "metadata": {
        "colab": {
          "base_uri": "https://localhost:8080/"
        },
        "id": "TJmd2uv1qSom",
        "outputId": "4eb8cb04-4aaa-4d3c-a3c2-73087bff0a93"
      },
      "source": [
        "\n",
        "!python main.py train-classifier enwiki_20180420_lg1_300d.pkl enwiki_20180420_entity_linker.pkl --dataset=agnews --dataset-path='sentiment_datasets/ag_news_csv' --sample_ratio=0.3 --dev-size=0.33 --patience=3 --dim-size=20"
      ],
      "execution_count": 21,
      "outputs": [
        {
          "output_type": "stream",
          "text": [
            "{'patience': 3, 'dim_size': 20, 'min_count': None, 'max_word_length': None, 'max_entity_length': None, 'batch_size': None, 'learning_rate': None, 'weight_decay': None, 'warmup_epochs': None, 'dropout_prob': None, 'use_gpu': False, 'use_word': True}\n",
            "[2021-04-18 21:05:35,404] [INFO] Note: NumExpr detected 16 cores but \"NUMEXPR_MAX_THREADS\" not set, so enforcing safe limit of 8. (_init_num_threads@utils.py:129)\n",
            "[2021-04-18 21:05:35,404] [INFO] NumExpr defaulting to 8 threads. (_init_num_threads@utils.py:141)\n",
            "11880\n",
            "[2021-04-18 21:05:36,762] [INFO] Creating vocabulary... (generate_features@data.py:65)\n",
            "100%|███████████████████████████████████| 43600/43600 [00:10<00:00, 4024.08it/s]\n",
            "epoch: 0 loss: 0.72138524: 100%|██████████████| 754/754 [00:08<00:00, 84.65it/s]\n",
            "accuracy (dev): 0.8514\n",
            "f-measure (dev): 0.8510\n",
            "epoch: 1 loss: 0.55409890: 100%|██████████████| 754/754 [00:09<00:00, 81.93it/s]\n",
            "accuracy (dev): 0.8799\n",
            "f-measure (dev): 0.8798\n",
            "epoch: 2 loss: 0.35931602: 100%|██████████████| 754/754 [00:09<00:00, 80.63it/s]\n",
            "accuracy (dev): 0.8838\n",
            "f-measure (dev): 0.8838\n",
            "epoch: 3 loss: 0.03570683: 100%|██████████████| 754/754 [00:09<00:00, 81.48it/s]\n",
            "accuracy (dev): 0.8848\n",
            "f-measure (dev): 0.8849\n",
            "epoch: 4 loss: 0.04894085: 100%|██████████████| 754/754 [00:09<00:00, 79.53it/s]\n",
            "accuracy (dev): 0.8816\n",
            "f-measure (dev): 0.8817\n",
            "epoch: 5 loss: 0.03927485: 100%|██████████████| 754/754 [00:09<00:00, 78.91it/s]\n",
            "accuracy (dev): 0.8810\n",
            "f-measure (dev): 0.8810\n",
            "epoch: 6 loss: 0.22047125: 100%|██████████████| 754/754 [00:09<00:00, 77.56it/s]\n",
            "accuracy (dev): 0.8775\n",
            "f-measure (dev): 0.8776\n",
            "accuracy (test): 0.8626\n",
            "f-measure (test): 0.8626\n"
          ],
          "name": "stdout"
        }
      ]
    },
    {
      "cell_type": "code",
      "metadata": {
        "colab": {
          "base_uri": "https://localhost:8080/"
        },
        "id": "37ZTM8G1LFsq",
        "outputId": "6744cdc2-a360-4e71-bb9e-8e61307f571a"
      },
      "source": [
        "!python main.py train-classifier enwiki_20180420_lg1_300d.pkl enwiki_20180420_entity_linker.pkl --dataset=agnews --dataset-path='sentiment_datasets/ag_news_csv' --sample_ratio=0.3 --dev-size=0.33 --patience=3 --dim-size=10"
      ],
      "execution_count": 18,
      "outputs": [
        {
          "output_type": "stream",
          "text": [
            "{'patience': 3, 'dim_size': 10, 'min_count': None, 'max_word_length': None, 'max_entity_length': None, 'batch_size': None, 'learning_rate': None, 'weight_decay': None, 'warmup_epochs': None, 'dropout_prob': None, 'use_gpu': False, 'use_word': True}\n",
            "[2021-04-18 19:51:28,122] [INFO] Note: NumExpr detected 16 cores but \"NUMEXPR_MAX_THREADS\" not set, so enforcing safe limit of 8. (_init_num_threads@utils.py:129)\n",
            "[2021-04-18 19:51:28,123] [INFO] NumExpr defaulting to 8 threads. (_init_num_threads@utils.py:141)\n",
            "11880\n",
            "[2021-04-18 19:51:29,409] [INFO] Creating vocabulary... (generate_features@data.py:65)\n",
            "100%|███████████████████████████████████| 43600/43600 [00:10<00:00, 4250.16it/s]\n",
            "epoch: 0 loss: 0.74027365: 100%|█████████████| 754/754 [00:07<00:00, 100.71it/s]\n",
            "accuracy (dev): 0.8449\n",
            "f-measure (dev): 0.8444\n",
            "epoch: 1 loss: 0.15134956: 100%|██████████████| 754/754 [00:07<00:00, 95.28it/s]\n",
            "accuracy (dev): 0.8763\n",
            "f-measure (dev): 0.8762\n",
            "epoch: 2 loss: 0.08319517: 100%|██████████████| 754/754 [00:07<00:00, 95.15it/s]\n",
            "accuracy (dev): 0.8841\n",
            "f-measure (dev): 0.8842\n",
            "epoch: 3 loss: 0.17516701: 100%|██████████████| 754/754 [00:08<00:00, 93.82it/s]\n",
            "accuracy (dev): 0.8848\n",
            "f-measure (dev): 0.8849\n",
            "epoch: 4 loss: 0.08088956: 100%|██████████████| 754/754 [00:08<00:00, 91.05it/s]\n",
            "accuracy (dev): 0.8827\n",
            "f-measure (dev): 0.8827\n",
            "epoch: 5 loss: 0.05935910: 100%|██████████████| 754/754 [00:08<00:00, 90.88it/s]\n",
            "accuracy (dev): 0.8812\n",
            "f-measure (dev): 0.8814\n",
            "epoch: 6 loss: 0.04840488: 100%|██████████████| 754/754 [00:08<00:00, 90.06it/s]\n",
            "accuracy (dev): 0.8809\n",
            "f-measure (dev): 0.8809\n",
            "accuracy (test): 0.8663\n",
            "f-measure (test): 0.8663\n"
          ],
          "name": "stdout"
        }
      ]
    },
    {
      "cell_type": "code",
      "metadata": {
        "colab": {
          "base_uri": "https://localhost:8080/"
        },
        "id": "6-mLUXh8esA5",
        "outputId": "f3a7762f-a178-4aac-b94b-6d693fd8a22f"
      },
      "source": [
        "!python main.py train-classifier enwiki_20180420_lg1_300d.pkl enwiki_20180420_entity_linker.pkl --dataset=agnews --dataset-path='sentiment_datasets/ag_news_csv' --sample_ratio=0.3 --dev-size=0.33 --patience=3 --dim-size=5"
      ],
      "execution_count": 20,
      "outputs": [
        {
          "output_type": "stream",
          "text": [
            "{'patience': 3, 'dim_size': 5, 'min_count': None, 'max_word_length': None, 'max_entity_length': None, 'batch_size': None, 'learning_rate': None, 'weight_decay': None, 'warmup_epochs': None, 'dropout_prob': None, 'use_gpu': False, 'use_word': True}\n",
            "[2021-04-18 20:14:54,517] [INFO] Note: NumExpr detected 16 cores but \"NUMEXPR_MAX_THREADS\" not set, so enforcing safe limit of 8. (_init_num_threads@utils.py:129)\n",
            "[2021-04-18 20:14:54,517] [INFO] NumExpr defaulting to 8 threads. (_init_num_threads@utils.py:141)\n",
            "11880\n",
            "[2021-04-18 20:14:56,057] [INFO] Creating vocabulary... (generate_features@data.py:65)\n",
            "100%|███████████████████████████████████| 43600/43600 [00:11<00:00, 3716.81it/s]\n",
            "epoch: 0 loss: 0.95982498: 100%|█████████████| 754/754 [00:07<00:00, 107.11it/s]\n",
            "accuracy (dev): 0.8396\n",
            "f-measure (dev): 0.8389\n",
            "epoch: 1 loss: 0.58879846: 100%|█████████████| 754/754 [00:07<00:00, 104.32it/s]\n",
            "accuracy (dev): 0.8746\n",
            "f-measure (dev): 0.8745\n",
            "epoch: 2 loss: 0.24550717: 100%|█████████████| 754/754 [00:07<00:00, 102.15it/s]\n",
            "accuracy (dev): 0.8870\n",
            "f-measure (dev): 0.8871\n",
            "epoch: 3 loss: 0.25376812: 100%|█████████████| 754/754 [00:07<00:00, 101.10it/s]\n",
            "accuracy (dev): 0.8876\n",
            "f-measure (dev): 0.8877\n",
            "epoch: 4 loss: 0.16284345: 100%|██████████████| 754/754 [00:08<00:00, 92.55it/s]\n",
            "accuracy (dev): 0.8845\n",
            "f-measure (dev): 0.8846\n",
            "epoch: 5 loss: 0.25380999: 100%|██████████████| 754/754 [00:08<00:00, 87.38it/s]\n",
            "accuracy (dev): 0.8838\n",
            "f-measure (dev): 0.8839\n",
            "epoch: 6 loss: 0.13194224: 100%|██████████████| 754/754 [00:08<00:00, 85.67it/s]\n",
            "accuracy (dev): 0.8828\n",
            "f-measure (dev): 0.8828\n",
            "accuracy (test): 0.8671\n",
            "f-measure (test): 0.8672\n"
          ],
          "name": "stdout"
        }
      ]
    },
    {
      "cell_type": "code",
      "metadata": {
        "colab": {
          "base_uri": "https://localhost:8080/"
        },
        "id": "lskI-ublZkwM",
        "outputId": "4294a09d-b57a-43ea-e0a1-768513240e53"
      },
      "source": [
        "!python main.py train-classifier enwiki_20180420_lg1_300d.pkl enwiki_20180420_entity_linker.pkl --dataset=agnews --dataset-path='sentiment_datasets/ag_news_csv' --sample_ratio=0.3 --dev-size=0.33 --patience=3 --dim-size=2"
      ],
      "execution_count": 19,
      "outputs": [
        {
          "output_type": "stream",
          "text": [
            "{'patience': 3, 'dim_size': 2, 'min_count': None, 'max_word_length': None, 'max_entity_length': None, 'batch_size': None, 'learning_rate': None, 'weight_decay': None, 'warmup_epochs': None, 'dropout_prob': None, 'use_gpu': False, 'use_word': True}\n",
            "[2021-04-18 20:13:03,787] [INFO] Note: NumExpr detected 16 cores but \"NUMEXPR_MAX_THREADS\" not set, so enforcing safe limit of 8. (_init_num_threads@utils.py:129)\n",
            "[2021-04-18 20:13:03,787] [INFO] NumExpr defaulting to 8 threads. (_init_num_threads@utils.py:141)\n",
            "11880\n",
            "[2021-04-18 20:13:05,095] [INFO] Creating vocabulary... (generate_features@data.py:65)\n",
            "100%|███████████████████████████████████| 43600/43600 [00:10<00:00, 4036.79it/s]\n",
            "epoch: 0 loss: 1.29236352: 100%|██████████████| 754/754 [00:07<00:00, 96.11it/s]\n",
            "accuracy (dev): 0.6465\n",
            "f-measure (dev): 0.6451\n",
            "epoch: 1 loss: 0.79416919: 100%|██████████████| 754/754 [00:07<00:00, 94.45it/s]\n",
            "accuracy (dev): 0.7620\n",
            "f-measure (dev): 0.7638\n",
            "epoch: 2 loss: 0.71892554: 100%|██████████████| 754/754 [00:07<00:00, 94.61it/s]\n",
            "accuracy (dev): 0.7726\n",
            "f-measure (dev): 0.7740\n",
            "epoch: 3 loss: 0.95673627: 100%|██████████████| 754/754 [00:08<00:00, 93.24it/s]\n",
            "accuracy (dev): 0.7773\n",
            "f-measure (dev): 0.7788\n",
            "epoch: 4 loss: 0.87298661: 100%|██████████████| 754/754 [00:08<00:00, 91.15it/s]\n",
            "accuracy (dev): 0.7771\n",
            "f-measure (dev): 0.7785\n",
            "epoch: 5 loss: 0.77596575: 100%|██████████████| 754/754 [00:08<00:00, 90.66it/s]\n",
            "accuracy (dev): 0.7797\n",
            "f-measure (dev): 0.7813\n",
            "epoch: 6 loss: 0.68980986: 100%|██████████████| 754/754 [00:08<00:00, 90.42it/s]\n",
            "accuracy (dev): 0.7742\n",
            "f-measure (dev): 0.7756\n",
            "epoch: 7 loss: 0.78855866: 100%|██████████████| 754/754 [00:08<00:00, 91.16it/s]\n",
            "accuracy (dev): 0.7735\n",
            "f-measure (dev): 0.7757\n",
            "epoch: 8 loss: 0.44030038: 100%|██████████████| 754/754 [00:08<00:00, 84.48it/s]\n",
            "accuracy (dev): 0.7758\n",
            "f-measure (dev): 0.7780\n",
            "accuracy (test): 0.7453\n",
            "f-measure (test): 0.7473\n"
          ],
          "name": "stdout"
        }
      ]
    },
    {
      "cell_type": "code",
      "metadata": {
        "colab": {
          "base_uri": "https://localhost:8080/"
        },
        "id": "W0slJjwymwkN",
        "outputId": "135caf84-b645-4b65-bf2c-048190b8bb9b"
      },
      "source": [
        "!python main.py train-classifier enwiki_20180420_lg1_300d.pkl enwiki_20180420_entity_linker.pkl --dataset=agnews --dataset-path='sentiment_datasets/ag_news_csv' --sample_ratio=0.3 --dev-size=0.33 --patience=3 --dim-size=1"
      ],
      "execution_count": 22,
      "outputs": [
        {
          "output_type": "stream",
          "text": [
            "{'patience': 3, 'dim_size': 1, 'min_count': None, 'max_word_length': None, 'max_entity_length': None, 'batch_size': None, 'learning_rate': None, 'weight_decay': None, 'warmup_epochs': None, 'dropout_prob': None, 'use_gpu': False, 'use_word': True}\n",
            "[2021-04-18 21:13:51,745] [INFO] Note: NumExpr detected 16 cores but \"NUMEXPR_MAX_THREADS\" not set, so enforcing safe limit of 8. (_init_num_threads@utils.py:129)\n",
            "[2021-04-18 21:13:51,746] [INFO] NumExpr defaulting to 8 threads. (_init_num_threads@utils.py:141)\n",
            "11880\n",
            "[2021-04-18 21:13:53,088] [INFO] Creating vocabulary... (generate_features@data.py:65)\n",
            "100%|███████████████████████████████████| 43600/43600 [00:11<00:00, 3902.51it/s]\n",
            "epoch: 0 loss: 1.30217612: 100%|█████████████| 754/754 [00:06<00:00, 123.28it/s]\n",
            "accuracy (dev): 0.4295\n",
            "f-measure (dev): 0.2911\n",
            "epoch: 1 loss: 0.91083628: 100%|█████████████| 754/754 [00:06<00:00, 119.65it/s]\n",
            "accuracy (dev): 0.5133\n",
            "f-measure (dev): 0.4638\n",
            "epoch: 2 loss: 1.24727368: 100%|█████████████| 754/754 [00:06<00:00, 119.50it/s]\n",
            "accuracy (dev): 0.6118\n",
            "f-measure (dev): 0.5772\n",
            "epoch: 3 loss: 0.88193822: 100%|█████████████| 754/754 [00:06<00:00, 118.96it/s]\n",
            "accuracy (dev): 0.6060\n",
            "f-measure (dev): 0.5857\n",
            "epoch: 4 loss: 0.91872931: 100%|█████████████| 754/754 [00:06<00:00, 118.92it/s]\n",
            "accuracy (dev): 0.6397\n",
            "f-measure (dev): 0.6435\n",
            "epoch: 5 loss: 0.99831671: 100%|█████████████| 754/754 [00:06<00:00, 118.87it/s]\n",
            "accuracy (dev): 0.5984\n",
            "f-measure (dev): 0.5340\n",
            "epoch: 6 loss: 0.89596874: 100%|█████████████| 754/754 [00:06<00:00, 118.83it/s]\n",
            "accuracy (dev): 0.6388\n",
            "f-measure (dev): 0.6335\n",
            "epoch: 7 loss: 0.88454294: 100%|█████████████| 754/754 [00:06<00:00, 117.91it/s]\n",
            "accuracy (dev): 0.6183\n",
            "f-measure (dev): 0.5809\n",
            "accuracy (test): 0.6341\n",
            "f-measure (test): 0.6345\n"
          ],
          "name": "stdout"
        }
      ]
    },
    {
      "cell_type": "code",
      "metadata": {
        "id": "wDQAAkTgsXiy"
      },
      "source": [
        "#test patience\n",
        "#conclusion: patience doesn't have any effect"
      ],
      "execution_count": null,
      "outputs": []
    },
    {
      "cell_type": "code",
      "metadata": {
        "colab": {
          "base_uri": "https://localhost:8080/"
        },
        "id": "47TbxkDTszKc",
        "outputId": "1ef7a20a-4d05-468d-b0c2-e08c55217963"
      },
      "source": [
        "#test weight-decay\n",
        "!python main.py train-classifier enwiki_20180420_lg1_300d.pkl enwiki_20180420_entity_linker.pkl --dataset=agnews --dataset-path='sentiment_datasets/ag_news_csv' --sample_ratio=0.3 --dev-size=0.33 --patience=3 --dim-size=20 --weight-decay=0"
      ],
      "execution_count": 46,
      "outputs": [
        {
          "output_type": "stream",
          "text": [
            "{'patience': 3, 'dim_size': 30, 'weight_decay': 0.0, 'min_count': None, 'max_word_length': None, 'max_entity_length': None, 'batch_size': None, 'learning_rate': None, 'warmup_epochs': None, 'dropout_prob': None, 'use_gpu': False, 'use_word': True}\n",
            "[2021-04-19 05:53:30,209] [INFO] Note: NumExpr detected 16 cores but \"NUMEXPR_MAX_THREADS\" not set, so enforcing safe limit of 8. (_init_num_threads@utils.py:129)\n",
            "[2021-04-19 05:53:30,209] [INFO] NumExpr defaulting to 8 threads. (_init_num_threads@utils.py:141)\n",
            "11880\n",
            "[2021-04-19 05:53:31,667] [INFO] Creating vocabulary... (generate_features@data.py:65)\n",
            "100%|███████████████████████████████████| 43600/43600 [00:11<00:00, 3707.38it/s]\n",
            "epoch: 0 loss: 0.48876694: 100%|██████████████| 754/754 [00:11<00:00, 63.27it/s]\n",
            "accuracy (dev): 0.8562\n",
            "f-measure (dev): 0.8557\n",
            "epoch: 1 loss: 0.14257501: 100%|██████████████| 754/754 [00:11<00:00, 63.83it/s]\n",
            "accuracy (dev): 0.8871\n",
            "f-measure (dev): 0.8872\n",
            "epoch: 2 loss: 0.04594561: 100%|██████████████| 754/754 [00:11<00:00, 62.98it/s]\n",
            "accuracy (dev): 0.8885\n",
            "f-measure (dev): 0.8884\n",
            "epoch: 3 loss: 0.02016139: 100%|██████████████| 754/754 [00:11<00:00, 63.37it/s]\n",
            "accuracy (dev): 0.8858\n",
            "f-measure (dev): 0.8859\n",
            "epoch: 4 loss: 0.00424318: 100%|██████████████| 754/754 [00:11<00:00, 64.65it/s]\n",
            "accuracy (dev): 0.8838\n",
            "f-measure (dev): 0.8838\n",
            "epoch: 5 loss: 0.01852205: 100%|██████████████| 754/754 [00:11<00:00, 64.63it/s]\n",
            "accuracy (dev): 0.8837\n",
            "f-measure (dev): 0.8837\n",
            "accuracy (test): 0.8646\n",
            "f-measure (test): 0.8644\n"
          ],
          "name": "stdout"
        }
      ]
    },
    {
      "cell_type": "code",
      "metadata": {
        "colab": {
          "base_uri": "https://localhost:8080/"
        },
        "id": "kHhIb-VisfAK",
        "outputId": "0784c868-32d3-45b1-bc91-7b67bf1c8c86"
      },
      "source": [
        "!python main.py train-classifier enwiki_20180420_lg1_300d.pkl enwiki_20180420_entity_linker.pkl --dataset=agnews --dataset-path='sentiment_datasets/ag_news_csv' --sample_ratio=0.3 --dev-size=0.33 --patience=7 --dim-size=20"
      ],
      "execution_count": 26,
      "outputs": [
        {
          "output_type": "stream",
          "text": [
            "{'patience': 7, 'dim_size': 30, 'min_count': None, 'max_word_length': None, 'max_entity_length': None, 'batch_size': None, 'learning_rate': None, 'weight_decay': None, 'warmup_epochs': None, 'dropout_prob': None, 'use_gpu': False, 'use_word': True}\n",
            "[2021-04-18 21:46:13,087] [INFO] Note: NumExpr detected 16 cores but \"NUMEXPR_MAX_THREADS\" not set, so enforcing safe limit of 8. (_init_num_threads@utils.py:129)\n",
            "[2021-04-18 21:46:13,087] [INFO] NumExpr defaulting to 8 threads. (_init_num_threads@utils.py:141)\n",
            "11880\n",
            "[2021-04-18 21:46:14,432] [INFO] Creating vocabulary... (generate_features@data.py:65)\n",
            "100%|███████████████████████████████████| 43600/43600 [00:10<00:00, 4081.58it/s]\n",
            "epoch: 0 loss: 0.48916975: 100%|██████████████| 754/754 [00:11<00:00, 63.69it/s]\n",
            "accuracy (dev): 0.8561\n",
            "f-measure (dev): 0.8556\n",
            "epoch: 1 loss: 0.14455046: 100%|██████████████| 754/754 [00:11<00:00, 64.55it/s]\n",
            "accuracy (dev): 0.8870\n",
            "f-measure (dev): 0.8871\n",
            "epoch: 2 loss: 0.04804389: 100%|██████████████| 754/754 [00:11<00:00, 66.15it/s]\n",
            "accuracy (dev): 0.8887\n",
            "f-measure (dev): 0.8886\n",
            "epoch: 3 loss: 0.02089938: 100%|██████████████| 754/754 [00:11<00:00, 66.75it/s]\n",
            "accuracy (dev): 0.8858\n",
            "f-measure (dev): 0.8859\n",
            "epoch: 4 loss: 0.00459154: 100%|██████████████| 754/754 [00:12<00:00, 62.68it/s]\n",
            "accuracy (dev): 0.8836\n",
            "f-measure (dev): 0.8836\n",
            "epoch: 5 loss: 0.01865712: 100%|██████████████| 754/754 [00:11<00:00, 63.37it/s]\n",
            "accuracy (dev): 0.8843\n",
            "f-measure (dev): 0.8843\n",
            "epoch: 6 loss: 0.00629843: 100%|██████████████| 754/754 [00:12<00:00, 62.67it/s]\n",
            "accuracy (dev): 0.8802\n",
            "f-measure (dev): 0.8803\n",
            "epoch: 7 loss: 0.03297251: 100%|██████████████| 754/754 [00:11<00:00, 62.96it/s]\n",
            "accuracy (dev): 0.8795\n",
            "f-measure (dev): 0.8794\n",
            "epoch: 8 loss: 0.00885376: 100%|██████████████| 754/754 [00:11<00:00, 63.54it/s]\n",
            "accuracy (dev): 0.8789\n",
            "f-measure (dev): 0.8790\n",
            "epoch: 9 loss: 0.00054632: 100%|██████████████| 754/754 [00:11<00:00, 63.24it/s]\n",
            "accuracy (dev): 0.8785\n",
            "f-measure (dev): 0.8786\n",
            "accuracy (test): 0.8643\n",
            "f-measure (test): 0.8641\n"
          ],
          "name": "stdout"
        }
      ]
    },
    {
      "cell_type": "code",
      "metadata": {
        "colab": {
          "base_uri": "https://localhost:8080/"
        },
        "id": "XM2fi6inspiw",
        "outputId": "d97a3c95-8d5f-404e-e570-c0689b2d87ff"
      },
      "source": [
        "!python main.py train-classifier enwiki_20180420_lg1_300d.pkl enwiki_20180420_entity_linker.pkl --dataset=agnews --dataset-path='sentiment_datasets/ag_news_csv' --sample_ratio=0.3 --dev-size=0.33 --patience=15 --dim-size=20"
      ],
      "execution_count": 24,
      "outputs": [
        {
          "output_type": "stream",
          "text": [
            "{'patience': 15, 'dim_size': 10, 'min_count': None, 'max_word_length': None, 'max_entity_length': None, 'batch_size': None, 'learning_rate': None, 'weight_decay': None, 'warmup_epochs': None, 'dropout_prob': None, 'use_gpu': False, 'use_word': True}\n",
            "[2021-04-18 21:17:49,943] [INFO] Note: NumExpr detected 16 cores but \"NUMEXPR_MAX_THREADS\" not set, so enforcing safe limit of 8. (_init_num_threads@utils.py:129)\n",
            "[2021-04-18 21:17:49,943] [INFO] NumExpr defaulting to 8 threads. (_init_num_threads@utils.py:141)\n",
            "11880\n",
            "[2021-04-18 21:17:51,362] [INFO] Creating vocabulary... (generate_features@data.py:65)\n",
            "100%|███████████████████████████████████| 43600/43600 [00:11<00:00, 3648.51it/s]\n",
            "epoch: 0 loss: 0.74027365: 100%|█████████████| 754/754 [00:07<00:00, 100.07it/s]\n",
            "accuracy (dev): 0.8449\n",
            "f-measure (dev): 0.8444\n",
            "epoch: 1 loss: 0.15134956: 100%|██████████████| 754/754 [00:07<00:00, 94.72it/s]\n",
            "accuracy (dev): 0.8763\n",
            "f-measure (dev): 0.8762\n",
            "epoch: 2 loss: 0.08319517: 100%|██████████████| 754/754 [00:08<00:00, 90.06it/s]\n",
            "accuracy (dev): 0.8841\n",
            "f-measure (dev): 0.8842\n",
            "epoch: 3 loss: 0.17516701: 100%|██████████████| 754/754 [00:09<00:00, 79.98it/s]\n",
            "accuracy (dev): 0.8848\n",
            "f-measure (dev): 0.8849\n",
            "epoch: 4 loss: 0.08088956: 100%|██████████████| 754/754 [00:09<00:00, 78.03it/s]\n",
            "accuracy (dev): 0.8827\n",
            "f-measure (dev): 0.8827\n",
            "epoch: 5 loss: 0.05935910: 100%|██████████████| 754/754 [00:09<00:00, 79.05it/s]\n",
            "accuracy (dev): 0.8812\n",
            "f-measure (dev): 0.8814\n",
            "epoch: 6 loss: 0.04840488: 100%|██████████████| 754/754 [00:09<00:00, 81.85it/s]\n",
            "accuracy (dev): 0.8809\n",
            "f-measure (dev): 0.8809\n",
            "epoch: 7 loss: 0.12567903: 100%|██████████████| 754/754 [00:09<00:00, 79.08it/s]\n",
            "accuracy (dev): 0.8822\n",
            "f-measure (dev): 0.8824\n",
            "epoch: 8 loss: 0.01799578: 100%|██████████████| 754/754 [00:09<00:00, 80.05it/s]\n",
            "accuracy (dev): 0.8810\n",
            "f-measure (dev): 0.8810\n",
            "epoch: 9 loss: 0.00353378: 100%|██████████████| 754/754 [00:09<00:00, 83.44it/s]\n",
            "accuracy (dev): 0.8774\n",
            "f-measure (dev): 0.8775\n",
            "epoch: 10 loss: 0.00953704: 100%|█████████████| 754/754 [00:08<00:00, 84.31it/s]\n",
            "accuracy (dev): 0.8784\n",
            "f-measure (dev): 0.8785\n",
            "epoch: 11 loss: 0.06211156: 100%|█████████████| 754/754 [00:09<00:00, 77.55it/s]\n",
            "accuracy (dev): 0.8763\n",
            "f-measure (dev): 0.8763\n",
            "epoch: 12 loss: 0.00348008: 100%|█████████████| 754/754 [00:09<00:00, 81.26it/s]\n",
            "accuracy (dev): 0.8748\n",
            "f-measure (dev): 0.8752\n",
            "epoch: 13 loss: 0.03065022: 100%|█████████████| 754/754 [00:08<00:00, 83.89it/s]\n",
            "accuracy (dev): 0.8766\n",
            "f-measure (dev): 0.8767\n",
            "epoch: 14 loss: 0.01054730: 100%|█████████████| 754/754 [00:09<00:00, 77.03it/s]\n",
            "accuracy (dev): 0.8766\n",
            "f-measure (dev): 0.8767\n",
            "epoch: 15 loss: 0.00710523: 100%|█████████████| 754/754 [00:10<00:00, 72.54it/s]\n",
            "accuracy (dev): 0.8751\n",
            "f-measure (dev): 0.8752\n",
            "epoch: 16 loss: 0.00089856: 100%|█████████████| 754/754 [00:09<00:00, 82.04it/s]\n",
            "accuracy (dev): 0.8750\n",
            "f-measure (dev): 0.8752\n",
            "epoch: 17 loss: 0.00052869: 100%|█████████████| 754/754 [00:08<00:00, 83.89it/s]\n",
            "accuracy (dev): 0.8753\n",
            "f-measure (dev): 0.8755\n",
            "epoch: 18 loss: 0.00048190: 100%|█████████████| 754/754 [00:09<00:00, 83.64it/s]\n",
            "accuracy (dev): 0.8751\n",
            "f-measure (dev): 0.8753\n",
            "accuracy (test): 0.8663\n",
            "f-measure (test): 0.8663\n"
          ],
          "name": "stdout"
        }
      ]
    },
    {
      "cell_type": "code",
      "metadata": {
        "colab": {
          "base_uri": "https://localhost:8080/"
        },
        "id": "YXBag6vtvLSA",
        "outputId": "ab0fb1a1-3be8-4186-90f9-0af466227f66"
      },
      "source": [
        "!python main.py train-classifier enwiki_20180420_lg1_300d.pkl enwiki_20180420_entity_linker.pkl --dataset=agnews --dataset-path='sentiment_datasets/ag_news_csv' --sample_ratio=0.3 --dev-size=0.33 --patience=30 --dim-size=20"
      ],
      "execution_count": 23,
      "outputs": [
        {
          "output_type": "stream",
          "text": [
            "{'patience': 30, 'dim_size': 20, 'min_count': None, 'max_word_length': None, 'max_entity_length': None, 'batch_size': None, 'learning_rate': None, 'weight_decay': None, 'warmup_epochs': None, 'dropout_prob': None, 'use_gpu': False, 'use_word': True}\n",
            "[2021-04-19 07:10:30,661] [INFO] Note: NumExpr detected 16 cores but \"NUMEXPR_MAX_THREADS\" not set, so enforcing safe limit of 8. (_init_num_threads@utils.py:129)\n",
            "[2021-04-19 07:10:30,662] [INFO] NumExpr defaulting to 8 threads. (_init_num_threads@utils.py:141)\n",
            "11880\n",
            "[2021-04-19 07:10:31,915] [INFO] Creating vocabulary... (generate_features@data.py:65)\n",
            "100%|███████████████████████████████████| 43600/43600 [00:12<00:00, 3566.21it/s]\n",
            "epoch: 0 loss: 0.72138524: 100%|██████████████| 754/754 [00:09<00:00, 80.03it/s]\n",
            "accuracy (dev): 0.8514\n",
            "f-measure (dev): 0.8510\n",
            "epoch: 1 loss: 0.55409890: 100%|██████████████| 754/754 [00:09<00:00, 81.94it/s]\n",
            "accuracy (dev): 0.8799\n",
            "f-measure (dev): 0.8798\n",
            "epoch: 2 loss: 0.35931602: 100%|██████████████| 754/754 [00:09<00:00, 83.41it/s]\n",
            "accuracy (dev): 0.8838\n",
            "f-measure (dev): 0.8838\n",
            "epoch: 3 loss: 0.03570683: 100%|██████████████| 754/754 [00:09<00:00, 83.68it/s]\n",
            "accuracy (dev): 0.8848\n",
            "f-measure (dev): 0.8849\n",
            "epoch: 4 loss: 0.04894085: 100%|██████████████| 754/754 [00:09<00:00, 77.59it/s]\n",
            "accuracy (dev): 0.8816\n",
            "f-measure (dev): 0.8817\n",
            "epoch: 5 loss: 0.03927485: 100%|██████████████| 754/754 [00:09<00:00, 83.15it/s]\n",
            "accuracy (dev): 0.8810\n",
            "f-measure (dev): 0.8810\n",
            "epoch: 6 loss: 0.22047125: 100%|██████████████| 754/754 [00:09<00:00, 77.25it/s]\n",
            "accuracy (dev): 0.8775\n",
            "f-measure (dev): 0.8776\n",
            "epoch: 7 loss: 0.01187214: 100%|██████████████| 754/754 [00:09<00:00, 79.93it/s]\n",
            "accuracy (dev): 0.8782\n",
            "f-measure (dev): 0.8785\n",
            "epoch: 8 loss: 0.00838304: 100%|██████████████| 754/754 [00:09<00:00, 79.11it/s]\n",
            "accuracy (dev): 0.8769\n",
            "f-measure (dev): 0.8769\n",
            "epoch: 9 loss: 0.03910718: 100%|██████████████| 754/754 [00:09<00:00, 76.68it/s]\n",
            "accuracy (dev): 0.8752\n",
            "f-measure (dev): 0.8751\n",
            "epoch: 10 loss: 0.00031694: 100%|█████████████| 754/754 [00:09<00:00, 77.28it/s]\n",
            "accuracy (dev): 0.8788\n",
            "f-measure (dev): 0.8788\n",
            "epoch: 11 loss: 0.12803681: 100%|█████████████| 754/754 [00:09<00:00, 76.72it/s]\n",
            "accuracy (dev): 0.8748\n",
            "f-measure (dev): 0.8749\n",
            "epoch: 12 loss: 0.00083121: 100%|█████████████| 754/754 [00:10<00:00, 71.13it/s]\n",
            "accuracy (dev): 0.8748\n",
            "f-measure (dev): 0.8751\n",
            "epoch: 13 loss: 0.00445434: 100%|█████████████| 754/754 [00:09<00:00, 76.01it/s]\n",
            "accuracy (dev): 0.8747\n",
            "f-measure (dev): 0.8748\n",
            "epoch: 14 loss: 0.00429885: 100%|█████████████| 754/754 [00:10<00:00, 72.79it/s]\n",
            "accuracy (dev): 0.8749\n",
            "f-measure (dev): 0.8750\n",
            "epoch: 15 loss: 0.00034901: 100%|█████████████| 754/754 [00:10<00:00, 70.69it/s]\n",
            "accuracy (dev): 0.8692\n",
            "f-measure (dev): 0.8691\n",
            "epoch: 16 loss: 0.02300337: 100%|█████████████| 754/754 [00:10<00:00, 70.00it/s]\n",
            "accuracy (dev): 0.8729\n",
            "f-measure (dev): 0.8731\n",
            "epoch: 17 loss: 0.00128003: 100%|█████████████| 754/754 [00:09<00:00, 77.35it/s]\n",
            "accuracy (dev): 0.8722\n",
            "f-measure (dev): 0.8724\n",
            "epoch: 18 loss: 0.00008599: 100%|█████████████| 754/754 [00:09<00:00, 79.51it/s]\n",
            "accuracy (dev): 0.8722\n",
            "f-measure (dev): 0.8724\n",
            "epoch: 19 loss: 0.00083299: 100%|█████████████| 754/754 [00:09<00:00, 79.33it/s]\n",
            "accuracy (dev): 0.8731\n",
            "f-measure (dev): 0.8733\n",
            "epoch: 20 loss: 0.00008919: 100%|█████████████| 754/754 [00:09<00:00, 78.62it/s]\n",
            "accuracy (dev): 0.8715\n",
            "f-measure (dev): 0.8718\n",
            "epoch: 21 loss: 0.00018322: 100%|█████████████| 754/754 [00:09<00:00, 76.68it/s]\n",
            "accuracy (dev): 0.8728\n",
            "f-measure (dev): 0.8730\n",
            "epoch: 22 loss: 0.00037650: 100%|█████████████| 754/754 [00:09<00:00, 76.65it/s]\n",
            "accuracy (dev): 0.8720\n",
            "f-measure (dev): 0.8722\n",
            "epoch: 23 loss: 0.00028410: 100%|█████████████| 754/754 [00:10<00:00, 75.10it/s]\n",
            "accuracy (dev): 0.8721\n",
            "f-measure (dev): 0.8721\n",
            "epoch: 24 loss: 0.00116751: 100%|█████████████| 754/754 [00:10<00:00, 72.91it/s]\n",
            "accuracy (dev): 0.8718\n",
            "f-measure (dev): 0.8718\n",
            "epoch: 25 loss: 0.00005142: 100%|█████████████| 754/754 [00:10<00:00, 72.29it/s]\n",
            "accuracy (dev): 0.8726\n",
            "f-measure (dev): 0.8725\n",
            "epoch: 26 loss: 0.00030561: 100%|█████████████| 754/754 [00:10<00:00, 74.95it/s]\n",
            "accuracy (dev): 0.8713\n",
            "f-measure (dev): 0.8715\n",
            "epoch: 27 loss: 0.00307393: 100%|█████████████| 754/754 [00:09<00:00, 78.75it/s]\n",
            "accuracy (dev): 0.8678\n",
            "f-measure (dev): 0.8678\n",
            "epoch: 28 loss: 0.01027101: 100%|█████████████| 754/754 [00:09<00:00, 78.05it/s]\n",
            "accuracy (dev): 0.8694\n",
            "f-measure (dev): 0.8694\n",
            "epoch: 29 loss: 0.00023216: 100%|█████████████| 754/754 [00:10<00:00, 70.94it/s]\n",
            "accuracy (dev): 0.8684\n",
            "f-measure (dev): 0.8684\n",
            "epoch: 30 loss: 0.00062730: 100%|█████████████| 754/754 [00:10<00:00, 73.04it/s]\n",
            "accuracy (dev): 0.8667\n",
            "f-measure (dev): 0.8667\n",
            "epoch: 31 loss: 0.00002915: 100%|█████████████| 754/754 [00:09<00:00, 75.74it/s]\n",
            "accuracy (dev): 0.8682\n",
            "f-measure (dev): 0.8684\n",
            "epoch: 32 loss: 0.00005166: 100%|█████████████| 754/754 [00:09<00:00, 75.63it/s]\n",
            "accuracy (dev): 0.8694\n",
            "f-measure (dev): 0.8696\n",
            "epoch: 33 loss: 0.00023335: 100%|█████████████| 754/754 [00:09<00:00, 75.41it/s]\n",
            "accuracy (dev): 0.8700\n",
            "f-measure (dev): 0.8702\n",
            "accuracy (test): 0.8626\n",
            "f-measure (test): 0.8626\n"
          ],
          "name": "stdout"
        }
      ]
    },
    {
      "cell_type": "code",
      "metadata": {
        "colab": {
          "base_uri": "https://localhost:8080/"
        },
        "id": "mcoIJQwBi6h5",
        "outputId": "a25f6240-9b51-476d-c252-2ce6cb195364"
      },
      "source": [
        "#test weight-decay\n",
        "!python main.py train-classifier enwiki_20180420_lg1_300d.pkl enwiki_20180420_entity_linker.pkl --dataset=agnews --dataset-path='sentiment_datasets/ag_news_csv' --sample_ratio=0.3 --dev-size=0.33 --patience=3 --dim-size=30 --weight-decay=0.1"
      ],
      "execution_count": 47,
      "outputs": [
        {
          "output_type": "stream",
          "text": [
            "{'patience': 3, 'dim_size': 30, 'weight_decay': 0.1, 'min_count': None, 'max_word_length': None, 'max_entity_length': None, 'batch_size': None, 'learning_rate': None, 'warmup_epochs': None, 'dropout_prob': None, 'use_gpu': False, 'use_word': True}\n",
            "[2021-04-19 05:55:05,578] [INFO] Note: NumExpr detected 16 cores but \"NUMEXPR_MAX_THREADS\" not set, so enforcing safe limit of 8. (_init_num_threads@utils.py:129)\n",
            "[2021-04-19 05:55:05,578] [INFO] NumExpr defaulting to 8 threads. (_init_num_threads@utils.py:141)\n",
            "11880\n",
            "[2021-04-19 05:55:06,844] [INFO] Creating vocabulary... (generate_features@data.py:65)\n",
            "100%|███████████████████████████████████| 43600/43600 [00:10<00:00, 4030.41it/s]\n",
            "epoch: 0 loss: 0.49332750: 100%|██████████████| 754/754 [00:12<00:00, 61.87it/s]\n",
            "accuracy (dev): 0.8560\n",
            "f-measure (dev): 0.8555\n",
            "epoch: 1 loss: 0.16265494: 100%|██████████████| 754/754 [00:12<00:00, 62.13it/s]\n",
            "accuracy (dev): 0.8858\n",
            "f-measure (dev): 0.8858\n",
            "epoch: 2 loss: 0.06735275: 100%|██████████████| 754/754 [00:12<00:00, 61.57it/s]\n",
            "accuracy (dev): 0.8882\n",
            "f-measure (dev): 0.8881\n",
            "epoch: 3 loss: 0.03910635: 100%|██████████████| 754/754 [00:12<00:00, 62.14it/s]\n",
            "accuracy (dev): 0.8839\n",
            "f-measure (dev): 0.8840\n",
            "epoch: 4 loss: 0.01494034: 100%|██████████████| 754/754 [00:12<00:00, 62.19it/s]\n",
            "accuracy (dev): 0.8796\n",
            "f-measure (dev): 0.8796\n",
            "epoch: 5 loss: 0.03368092: 100%|██████████████| 754/754 [00:12<00:00, 62.26it/s]\n",
            "accuracy (dev): 0.8743\n",
            "f-measure (dev): 0.8743\n",
            "accuracy (test): 0.8621\n",
            "f-measure (test): 0.8619\n"
          ],
          "name": "stdout"
        }
      ]
    },
    {
      "cell_type": "code",
      "metadata": {
        "colab": {
          "base_uri": "https://localhost:8080/"
        },
        "id": "n43M1GJooYVo",
        "outputId": "cf86fd53-c922-42e9-cd2e-93ad9615b017"
      },
      "source": [
        "#test weight-decay\n",
        "!python main.py train-classifier enwiki_20180420_lg1_300d.pkl enwiki_20180420_entity_linker.pkl --dataset=agnews --dataset-path='sentiment_datasets/ag_news_csv' --sample_ratio=0.3 --dev-size=0.33 --patience=3 --dim-size=30 --weight-decay=0.2"
      ],
      "execution_count": 1,
      "outputs": [
        {
          "output_type": "stream",
          "text": [
            "{'patience': 3, 'dim_size': 30, 'weight_decay': 0.2, 'min_count': None, 'max_word_length': None, 'max_entity_length': None, 'batch_size': None, 'learning_rate': None, 'warmup_epochs': None, 'dropout_prob': None, 'use_gpu': False, 'use_word': True}\n",
            "[2021-04-19 06:16:59,115] [INFO] Note: NumExpr detected 16 cores but \"NUMEXPR_MAX_THREADS\" not set, so enforcing safe limit of 8. (_init_num_threads@utils.py:129)\n",
            "[2021-04-19 06:16:59,115] [INFO] NumExpr defaulting to 8 threads. (_init_num_threads@utils.py:141)\n",
            "11880\n",
            "[2021-04-19 06:17:00,949] [INFO] Creating vocabulary... (generate_features@data.py:65)\n",
            "100%|███████████████████████████████████| 43600/43600 [00:12<00:00, 3626.21it/s]\n",
            "epoch: 0 loss: 0.49898657: 100%|██████████████| 754/754 [00:11<00:00, 62.86it/s]\n",
            "accuracy (dev): 0.8550\n",
            "f-measure (dev): 0.8545\n",
            "epoch: 1 loss: 0.18366091: 100%|██████████████| 754/754 [00:12<00:00, 62.37it/s]\n",
            "accuracy (dev): 0.8841\n",
            "f-measure (dev): 0.8841\n",
            "epoch: 2 loss: 0.09034809: 100%|██████████████| 754/754 [00:12<00:00, 61.91it/s]\n",
            "accuracy (dev): 0.8857\n",
            "f-measure (dev): 0.8856\n",
            "epoch: 3 loss: 0.09900817: 100%|██████████████| 754/754 [00:12<00:00, 62.32it/s]\n",
            "accuracy (dev): 0.8816\n",
            "f-measure (dev): 0.8817\n",
            "epoch: 4 loss: 0.04467248: 100%|██████████████| 754/754 [00:11<00:00, 64.01it/s]\n",
            "accuracy (dev): 0.8765\n",
            "f-measure (dev): 0.8766\n",
            "epoch: 5 loss: 0.07880546: 100%|██████████████| 754/754 [00:11<00:00, 63.86it/s]\n",
            "accuracy (dev): 0.8722\n",
            "f-measure (dev): 0.8722\n",
            "accuracy (test): 0.8633\n",
            "f-measure (test): 0.8631\n"
          ],
          "name": "stdout"
        }
      ]
    },
    {
      "cell_type": "code",
      "metadata": {
        "colab": {
          "base_uri": "https://localhost:8080/"
        },
        "id": "J-IFxYyqjLWT",
        "outputId": "74e1568c-4cfc-4b84-97e6-3a88553ceabb"
      },
      "source": [
        "#test weight-decay\n",
        "!python main.py train-classifier enwiki_20180420_lg1_300d.pkl enwiki_20180420_entity_linker.pkl --dataset=agnews --dataset-path='sentiment_datasets/ag_news_csv' --sample_ratio=0.3 --dev-size=0.33 --patience=3 --dim-size=30 --weight-decay=0.4"
      ],
      "execution_count": 2,
      "outputs": [
        {
          "output_type": "stream",
          "text": [
            "{'patience': 3, 'dim_size': 30, 'weight_decay': 0.4, 'min_count': None, 'max_word_length': None, 'max_entity_length': None, 'batch_size': None, 'learning_rate': None, 'warmup_epochs': None, 'dropout_prob': None, 'use_gpu': False, 'use_word': True}\n",
            "[2021-04-19 06:18:35,687] [INFO] Note: NumExpr detected 16 cores but \"NUMEXPR_MAX_THREADS\" not set, so enforcing safe limit of 8. (_init_num_threads@utils.py:129)\n",
            "[2021-04-19 06:18:35,687] [INFO] NumExpr defaulting to 8 threads. (_init_num_threads@utils.py:141)\n",
            "11880\n",
            "[2021-04-19 06:18:36,829] [INFO] Creating vocabulary... (generate_features@data.py:65)\n",
            "100%|███████████████████████████████████| 43600/43600 [00:09<00:00, 4439.41it/s]\n",
            "epoch: 0 loss: 0.51324546: 100%|██████████████| 754/754 [00:11<00:00, 67.54it/s]\n",
            "accuracy (dev): 0.8543\n",
            "f-measure (dev): 0.8538\n",
            "epoch: 1 loss: 0.22821410: 100%|██████████████| 754/754 [00:12<00:00, 61.54it/s]\n",
            "accuracy (dev): 0.8811\n",
            "f-measure (dev): 0.8812\n",
            "epoch: 2 loss: 0.14779682: 100%|██████████████| 754/754 [00:12<00:00, 60.90it/s]\n",
            "accuracy (dev): 0.8794\n",
            "f-measure (dev): 0.8794\n",
            "epoch: 3 loss: 0.20531227: 100%|██████████████| 754/754 [00:12<00:00, 62.01it/s]\n",
            "accuracy (dev): 0.8790\n",
            "f-measure (dev): 0.8791\n",
            "epoch: 4 loss: 0.13971858: 100%|██████████████| 754/754 [00:11<00:00, 63.73it/s]\n",
            "accuracy (dev): 0.8756\n",
            "f-measure (dev): 0.8757\n",
            "accuracy (test): 0.8672\n",
            "f-measure (test): 0.8673\n"
          ],
          "name": "stdout"
        }
      ]
    },
    {
      "cell_type": "code",
      "metadata": {
        "colab": {
          "base_uri": "https://localhost:8080/"
        },
        "id": "hbtnQIbrjQbE",
        "outputId": "c6cae209-1740-45ff-e903-523a783316b9"
      },
      "source": [
        "#test weight-decay\n",
        "!python main.py train-classifier enwiki_20180420_lg1_300d.pkl enwiki_20180420_entity_linker.pkl --dataset=agnews --dataset-path='sentiment_datasets/ag_news_csv' --sample_ratio=0.3 --dev-size=0.33 --patience=3 --dim-size=30 --weight-decay=0.8"
      ],
      "execution_count": 3,
      "outputs": [
        {
          "output_type": "stream",
          "text": [
            "{'patience': 3, 'dim_size': 30, 'weight_decay': 0.8, 'min_count': None, 'max_word_length': None, 'max_entity_length': None, 'batch_size': None, 'learning_rate': None, 'warmup_epochs': None, 'dropout_prob': None, 'use_gpu': False, 'use_word': True}\n",
            "[2021-04-19 06:19:56,220] [INFO] Note: NumExpr detected 16 cores but \"NUMEXPR_MAX_THREADS\" not set, so enforcing safe limit of 8. (_init_num_threads@utils.py:129)\n",
            "[2021-04-19 06:19:56,221] [INFO] NumExpr defaulting to 8 threads. (_init_num_threads@utils.py:141)\n",
            "11880\n",
            "[2021-04-19 06:19:57,596] [INFO] Creating vocabulary... (generate_features@data.py:65)\n",
            "100%|███████████████████████████████████| 43600/43600 [00:10<00:00, 4102.77it/s]\n",
            "epoch: 0 loss: 0.55153555: 100%|██████████████| 754/754 [00:11<00:00, 64.88it/s]\n",
            "accuracy (dev): 0.8519\n",
            "f-measure (dev): 0.8513\n",
            "epoch: 1 loss: 0.33243099: 100%|██████████████| 754/754 [00:11<00:00, 66.12it/s]\n",
            "accuracy (dev): 0.8740\n",
            "f-measure (dev): 0.8739\n",
            "epoch: 2 loss: 0.28969181: 100%|██████████████| 754/754 [00:11<00:00, 66.75it/s]\n",
            "accuracy (dev): 0.8719\n",
            "f-measure (dev): 0.8719\n",
            "epoch: 3 loss: 0.39156047: 100%|██████████████| 754/754 [00:11<00:00, 66.52it/s]\n",
            "accuracy (dev): 0.8697\n",
            "f-measure (dev): 0.8697\n",
            "epoch: 4 loss: 0.36788157: 100%|██████████████| 754/754 [00:11<00:00, 66.28it/s]\n",
            "accuracy (dev): 0.8742\n",
            "f-measure (dev): 0.8742\n",
            "epoch: 5 loss: 0.38521063: 100%|██████████████| 754/754 [00:11<00:00, 67.26it/s]\n",
            "accuracy (dev): 0.8748\n",
            "f-measure (dev): 0.8744\n",
            "epoch: 6 loss: 0.37340704: 100%|██████████████| 754/754 [00:11<00:00, 65.21it/s]\n",
            "accuracy (dev): 0.8752\n",
            "f-measure (dev): 0.8750\n",
            "epoch: 7 loss: 0.39059302: 100%|██████████████| 754/754 [00:11<00:00, 63.94it/s]\n",
            "accuracy (dev): 0.8745\n",
            "f-measure (dev): 0.8745\n",
            "epoch: 8 loss: 0.31205401: 100%|██████████████| 754/754 [00:11<00:00, 63.09it/s]\n",
            "accuracy (dev): 0.8749\n",
            "f-measure (dev): 0.8748\n",
            "epoch: 9 loss: 0.35791895: 100%|██████████████| 754/754 [00:11<00:00, 63.56it/s]\n",
            "accuracy (dev): 0.8752\n",
            "f-measure (dev): 0.8753\n",
            "accuracy (test): 0.8622\n",
            "f-measure (test): 0.8620\n"
          ],
          "name": "stdout"
        }
      ]
    },
    {
      "cell_type": "code",
      "metadata": {
        "colab": {
          "base_uri": "https://localhost:8080/"
        },
        "id": "1Ru-KElIpB04",
        "outputId": "d3cd4377-4df1-4b83-bac2-be1b23f6004b"
      },
      "source": [
        "#test weight-decay\n",
        "!python main.py train-classifier enwiki_20180420_lg1_300d.pkl enwiki_20180420_entity_linker.pkl --dataset=agnews --dataset-path='sentiment_datasets/ag_news_csv' --sample_ratio=0.3 --dev-size=0.33 --patience=3 --dim-size=30 --weight-decay=1.6"
      ],
      "execution_count": 4,
      "outputs": [
        {
          "output_type": "stream",
          "text": [
            "{'patience': 3, 'dim_size': 30, 'weight_decay': 1.6, 'min_count': None, 'max_word_length': None, 'max_entity_length': None, 'batch_size': None, 'learning_rate': None, 'warmup_epochs': None, 'dropout_prob': None, 'use_gpu': False, 'use_word': True}\n",
            "[2021-04-19 06:22:18,310] [INFO] Note: NumExpr detected 16 cores but \"NUMEXPR_MAX_THREADS\" not set, so enforcing safe limit of 8. (_init_num_threads@utils.py:129)\n",
            "[2021-04-19 06:22:18,310] [INFO] NumExpr defaulting to 8 threads. (_init_num_threads@utils.py:141)\n",
            "11880\n",
            "[2021-04-19 06:22:19,651] [INFO] Creating vocabulary... (generate_features@data.py:65)\n",
            "100%|███████████████████████████████████| 43600/43600 [00:10<00:00, 4152.70it/s]\n",
            "epoch: 0 loss: 0.65671206: 100%|██████████████| 754/754 [00:11<00:00, 64.35it/s]\n",
            "accuracy (dev): 0.8484\n",
            "f-measure (dev): 0.8476\n",
            "epoch: 1 loss: 0.59035248: 100%|██████████████| 754/754 [00:11<00:00, 64.17it/s]\n",
            "accuracy (dev): 0.8583\n",
            "f-measure (dev): 0.8580\n",
            "epoch: 2 loss: 0.58102101: 100%|██████████████| 754/754 [00:11<00:00, 64.05it/s]\n",
            "accuracy (dev): 0.8577\n",
            "f-measure (dev): 0.8575\n",
            "epoch: 3 loss: 0.69787246: 100%|██████████████| 754/754 [00:11<00:00, 63.97it/s]\n",
            "accuracy (dev): 0.8534\n",
            "f-measure (dev): 0.8531\n",
            "epoch: 4 loss: 0.71155518: 100%|██████████████| 754/754 [00:11<00:00, 64.25it/s]\n",
            "accuracy (dev): 0.8549\n",
            "f-measure (dev): 0.8547\n",
            "accuracy (test): 0.8518\n",
            "f-measure (test): 0.8513\n"
          ],
          "name": "stdout"
        }
      ]
    },
    {
      "cell_type": "code",
      "metadata": {
        "colab": {
          "base_uri": "https://localhost:8080/"
        },
        "id": "Sa9_O2h6jSKV",
        "outputId": "9529c86c-48d2-42a3-b385-dd86847c401e"
      },
      "source": [
        "#test weight-decay\n",
        "!python main.py train-classifier enwiki_20180420_lg1_300d.pkl enwiki_20180420_entity_linker.pkl --dataset=agnews --dataset-path='sentiment_datasets/ag_news_csv' --sample_ratio=0.3 --dev-size=0.33 --patience=3 --dim-size=30 --weight-decay=3.2"
      ],
      "execution_count": 5,
      "outputs": [
        {
          "output_type": "stream",
          "text": [
            "{'patience': 3, 'dim_size': 30, 'weight_decay': 3.2, 'min_count': None, 'max_word_length': None, 'max_entity_length': None, 'batch_size': None, 'learning_rate': None, 'warmup_epochs': None, 'dropout_prob': None, 'use_gpu': False, 'use_word': True}\n",
            "[2021-04-19 06:23:38,451] [INFO] Note: NumExpr detected 16 cores but \"NUMEXPR_MAX_THREADS\" not set, so enforcing safe limit of 8. (_init_num_threads@utils.py:129)\n",
            "[2021-04-19 06:23:38,451] [INFO] NumExpr defaulting to 8 threads. (_init_num_threads@utils.py:141)\n",
            "11880\n",
            "[2021-04-19 06:23:39,674] [INFO] Creating vocabulary... (generate_features@data.py:65)\n",
            "100%|███████████████████████████████████| 43600/43600 [00:10<00:00, 4051.79it/s]\n",
            "epoch: 0 loss: 0.90111160: 100%|██████████████| 754/754 [00:12<00:00, 62.45it/s]\n",
            "accuracy (dev): 0.8380\n",
            "f-measure (dev): 0.8366\n",
            "epoch: 1 loss: 1.04934573: 100%|██████████████| 754/754 [00:12<00:00, 61.27it/s]\n",
            "accuracy (dev): 0.8328\n",
            "f-measure (dev): 0.8318\n",
            "epoch: 2 loss: 1.04461682: 100%|██████████████| 754/754 [00:12<00:00, 62.33it/s]\n",
            "accuracy (dev): 0.8278\n",
            "f-measure (dev): 0.8272\n",
            "epoch: 3 loss: 1.08537424: 100%|██████████████| 754/754 [00:12<00:00, 61.99it/s]\n",
            "accuracy (dev): 0.8176\n",
            "f-measure (dev): 0.8170\n",
            "accuracy (test): 0.8318\n",
            "f-measure (test): 0.8304\n"
          ],
          "name": "stdout"
        }
      ]
    },
    {
      "cell_type": "code",
      "metadata": {
        "colab": {
          "base_uri": "https://localhost:8080/"
        },
        "id": "BdNuZo01jTh0",
        "outputId": "67c0ecac-37d5-47f8-e02d-ff1c82ef85d0"
      },
      "source": [
        "#test weight-decay\n",
        "!python main.py train-classifier enwiki_20180420_lg1_300d.pkl enwiki_20180420_entity_linker.pkl --dataset=agnews --dataset-path='sentiment_datasets/ag_news_csv' --sample_ratio=0.3 --dev-size=0.33 --patience=3 --dim-size=30 --weight-decay=10"
      ],
      "execution_count": 51,
      "outputs": [
        {
          "output_type": "stream",
          "text": [
            "{'patience': 3, 'dim_size': 30, 'weight_decay': 10.0, 'min_count': None, 'max_word_length': None, 'max_entity_length': None, 'batch_size': None, 'learning_rate': None, 'warmup_epochs': None, 'dropout_prob': None, 'use_gpu': False, 'use_word': True}\n",
            "[2021-04-19 06:01:08,554] [INFO] Note: NumExpr detected 16 cores but \"NUMEXPR_MAX_THREADS\" not set, so enforcing safe limit of 8. (_init_num_threads@utils.py:129)\n",
            "[2021-04-19 06:01:08,554] [INFO] NumExpr defaulting to 8 threads. (_init_num_threads@utils.py:141)\n",
            "11880\n",
            "[2021-04-19 06:01:09,807] [INFO] Creating vocabulary... (generate_features@data.py:65)\n",
            "100%|███████████████████████████████████| 43600/43600 [00:10<00:00, 4183.78it/s]\n",
            "epoch: 0 loss: 1.32853770: 100%|██████████████| 754/754 [00:11<00:00, 64.01it/s]\n",
            "accuracy (dev): 0.7848\n",
            "f-measure (dev): 0.7803\n",
            "epoch: 1 loss: 1.35569000: 100%|██████████████| 754/754 [00:11<00:00, 64.42it/s]\n",
            "accuracy (dev): 0.6753\n",
            "f-measure (dev): 0.6599\n",
            "epoch: 2 loss: 1.33920133: 100%|██████████████| 754/754 [00:11<00:00, 64.39it/s]\n",
            "accuracy (dev): 0.5891\n",
            "f-measure (dev): 0.5606\n",
            "epoch: 3 loss: 1.35672152: 100%|██████████████| 754/754 [00:11<00:00, 64.55it/s]\n",
            "accuracy (dev): 0.4400\n",
            "f-measure (dev): 0.2935\n",
            "accuracy (test): 0.7766\n",
            "f-measure (test): 0.7721\n"
          ],
          "name": "stdout"
        }
      ]
    },
    {
      "cell_type": "code",
      "metadata": {
        "id": "IedyO1DnByys"
      },
      "source": [
        "#embedding weights not trainable - horrible performance "
      ],
      "execution_count": null,
      "outputs": []
    },
    {
      "cell_type": "code",
      "metadata": {
        "colab": {
          "base_uri": "https://localhost:8080/"
        },
        "id": "5afqzkrAB1xD",
        "outputId": "7daf7b0c-5ea7-4917-84ed-74c5f68618f7"
      },
      "source": [
        "!python main.py train-classifier enwiki_20180420_lg1_300d.pkl enwiki_20180420_entity_linker.pkl --dataset=agnews --dataset-path='sentiment_datasets/ag_news_csv' --sample_ratio=0.3 --dev-size=0.33 --patience=3 --dim-size=30"
      ],
      "execution_count": 2,
      "outputs": [
        {
          "output_type": "stream",
          "text": [
            "{'patience': 3, 'dim_size': 30, 'min_count': None, 'max_word_length': None, 'max_entity_length': None, 'batch_size': None, 'learning_rate': None, 'weight_decay': None, 'warmup_epochs': None, 'dropout_prob': None, 'use_gpu': False, 'use_word': True}\n",
            "[2021-04-19 22:07:49,809] [INFO] Note: NumExpr detected 16 cores but \"NUMEXPR_MAX_THREADS\" not set, so enforcing safe limit of 8. (_init_num_threads@utils.py:129)\n",
            "[2021-04-19 22:07:49,809] [INFO] NumExpr defaulting to 8 threads. (_init_num_threads@utils.py:141)\n",
            "11880\n",
            "[2021-04-19 22:07:51,194] [INFO] Creating vocabulary... (generate_features@data.py:65)\n",
            "100%|███████████████████████████████████| 43600/43600 [00:11<00:00, 3922.37it/s]\n",
            "epoch: 0 loss: 1.38938236: 100%|█████████████| 754/754 [00:03<00:00, 223.87it/s]\n",
            "accuracy (dev): 0.2971\n",
            "f-measure (dev): 0.1990\n",
            "epoch: 1 loss: 1.38208997: 100%|█████████████| 754/754 [00:03<00:00, 228.04it/s]\n",
            "accuracy (dev): 0.3303\n",
            "f-measure (dev): 0.2901\n",
            "epoch: 2 loss: 1.38477361: 100%|█████████████| 754/754 [00:03<00:00, 220.50it/s]\n",
            "accuracy (dev): 0.3732\n",
            "f-measure (dev): 0.3677\n",
            "epoch: 3 loss: 1.35752153: 100%|█████████████| 754/754 [00:03<00:00, 214.07it/s]\n",
            "accuracy (dev): 0.3670\n",
            "f-measure (dev): 0.3642\n",
            "epoch: 4 loss: 1.40510464: 100%|█████████████| 754/754 [00:03<00:00, 221.56it/s]\n",
            "accuracy (dev): 0.3623\n",
            "f-measure (dev): 0.3504\n",
            "epoch: 5 loss: 1.34756052: 100%|█████████████| 754/754 [00:03<00:00, 210.50it/s]\n",
            "accuracy (dev): 0.3606\n",
            "f-measure (dev): 0.3421\n",
            "accuracy (test): 0.3658\n",
            "f-measure (test): 0.3617\n"
          ],
          "name": "stdout"
        }
      ]
    },
    {
      "cell_type": "code",
      "metadata": {
        "id": "107EzmNOCU7S"
      },
      "source": [
        "#embedding weights pretrained"
      ],
      "execution_count": null,
      "outputs": []
    },
    {
      "cell_type": "code",
      "metadata": {
        "colab": {
          "base_uri": "https://localhost:8080/"
        },
        "id": "5BW-tNvCCjsB",
        "outputId": "078179f7-ee31-4692-c65c-b7df5e5cecbb"
      },
      "source": [
        "!python main.py train-classifier enwiki_20180420_lg1_300d.pkl enwiki_20180420_entity_linker.pkl --dataset=agnews --dataset-path='sentiment_datasets/ag_news_csv' --sample_ratio=0.3 --dev-size=0.33 --patience=3 "
      ],
      "execution_count": 4,
      "outputs": [
        {
          "output_type": "stream",
          "text": [
            "{'patience': 3, 'dim_size': 30, 'min_count': None, 'max_word_length': None, 'max_entity_length': None, 'batch_size': None, 'learning_rate': None, 'weight_decay': None, 'warmup_epochs': None, 'dropout_prob': None, 'use_gpu': False, 'use_word': True}\n",
            "[2021-04-19 22:11:23,504] [INFO] Note: NumExpr detected 16 cores but \"NUMEXPR_MAX_THREADS\" not set, so enforcing safe limit of 8. (_init_num_threads@utils.py:129)\n",
            "[2021-04-19 22:11:23,504] [INFO] NumExpr defaulting to 8 threads. (_init_num_threads@utils.py:141)\n",
            "11880\n",
            "[2021-04-19 22:11:24,891] [INFO] Creating vocabulary... (generate_features@data.py:65)\n",
            "100%|███████████████████████████████████| 43600/43600 [00:12<00:00, 3577.56it/s]\n",
            "epoch: 0 loss: 0.67419654: 100%|██████████████| 754/754 [00:11<00:00, 63.98it/s]\n",
            "accuracy (dev): 0.7652\n",
            "f-measure (dev): 0.7649\n",
            "epoch: 1 loss: 0.52082962: 100%|██████████████| 754/754 [00:14<00:00, 52.42it/s]\n",
            "accuracy (dev): 0.7940\n",
            "f-measure (dev): 0.7940\n",
            "epoch: 2 loss: 0.41320327: 100%|██████████████| 754/754 [00:14<00:00, 52.74it/s]\n",
            "accuracy (dev): 0.8008\n",
            "f-measure (dev): 0.8002\n",
            "epoch: 3 loss: 0.71220660: 100%|██████████████| 754/754 [00:14<00:00, 53.01it/s]\n",
            "accuracy (dev): 0.7981\n",
            "f-measure (dev): 0.7978\n",
            "epoch: 4 loss: 1.11768687: 100%|██████████████| 754/754 [00:14<00:00, 52.94it/s]\n",
            "accuracy (dev): 0.7989\n",
            "f-measure (dev): 0.7976\n",
            "epoch: 5 loss: 0.64777213: 100%|██████████████| 754/754 [00:14<00:00, 52.92it/s]\n",
            "accuracy (dev): 0.7989\n",
            "f-measure (dev): 0.7982\n",
            "accuracy (test): 0.7986\n",
            "f-measure (test): 0.7978\n"
          ],
          "name": "stdout"
        }
      ]
    },
    {
      "cell_type": "code",
      "metadata": {
        "colab": {
          "base_uri": "https://localhost:8080/"
        },
        "id": "h1RgvBWlTUW4",
        "outputId": "1fb12d70-b0e3-49f4-9ef5-522747f830e0"
      },
      "source": [
        "!python main.py train-classifier enwiki_20180420_lg1_300d.pkl enwiki_20180420_entity_linker.pkl --dataset=agnews --dataset-path='sentiment_datasets/ag_news_csv' --sample_ratio=1 --dev-size=0.1 --patience=3 "
      ],
      "execution_count": 1,
      "outputs": [
        {
          "output_type": "stream",
          "text": [
            "{'patience': 3, 'min_count': None, 'max_word_length': None, 'max_entity_length': None, 'batch_size': None, 'learning_rate': None, 'weight_decay': None, 'warmup_epochs': None, 'dropout_prob': None, 'use_gpu': False, 'use_word': True, 'dim_size': 300}\n",
            "[2021-04-19 23:25:08,485] [INFO] Note: NumExpr detected 16 cores but \"NUMEXPR_MAX_THREADS\" not set, so enforcing safe limit of 8. (_init_num_threads@utils.py:129)\n",
            "[2021-04-19 23:25:08,486] [INFO] NumExpr defaulting to 8 threads. (_init_num_threads@utils.py:141)\n",
            "12000\n",
            "[2021-04-19 23:25:10,636] [INFO] Creating vocabulary... (generate_features@data.py:65)\n",
            "100%|█████████████████████████████████| 127600/127600 [00:27<00:00, 4645.75it/s]\n",
            "epoch: 0 loss: 0.54806042: 100%|████████████| 3375/3375 [01:04<00:00, 52.72it/s]\n",
            "accuracy (dev): 0.8040\n",
            "f-measure (dev): 0.8032\n",
            "epoch: 1 loss: 0.53157073: 100%|████████████| 3375/3375 [01:03<00:00, 53.16it/s]\n",
            "accuracy (dev): 0.8145\n",
            "f-measure (dev): 0.8145\n",
            "epoch: 2 loss: 0.35161698: 100%|████████████| 3375/3375 [01:03<00:00, 53.10it/s]\n",
            "accuracy (dev): 0.8083\n",
            "f-measure (dev): 0.8085\n",
            "epoch: 3 loss: 0.65604556: 100%|████████████| 3375/3375 [00:58<00:00, 57.98it/s]\n",
            "accuracy (dev): 0.8052\n",
            "f-measure (dev): 0.8046\n",
            "epoch: 4 loss: 0.53143877: 100%|████████████| 3375/3375 [01:00<00:00, 55.63it/s]\n",
            "accuracy (dev): 0.8092\n",
            "f-measure (dev): 0.8087\n",
            "accuracy (test): 0.7987\n",
            "f-measure (test): 0.7987\n"
          ],
          "name": "stdout"
        }
      ]
    },
    {
      "cell_type": "code",
      "metadata": {
        "id": "Im_CiHn1C-wx"
      },
      "source": [
        "!python main.py train-classifier enwiki_20180420_lg1_300d.pkl enwiki_20180420_entity_linker.pkl --dataset=agnews --dataset-path='sentiment_datasets/ag_news_csv' --sample_ratio=0.3 --dev-size=0.33 --patience=3 "
      ],
      "execution_count": null,
      "outputs": []
    },
    {
      "cell_type": "code",
      "metadata": {
        "colab": {
          "base_uri": "https://localhost:8080/"
        },
        "id": "Ym0PGdWXZM6g",
        "outputId": "1c8ea329-3486-4fd5-bc82-fa10440c2bcb"
      },
      "source": [
        "!python main.py train-classifier enwiki_20180420_lg1_300d.pkl enwiki_20180420_entity_linker.pkl --dataset=agnews --dataset-path='sentiment_datasets/ag_news_csv' --sample_ratio=0.3 --dev-size=0.33 --patience=3 "
      ],
      "execution_count": 1,
      "outputs": [
        {
          "output_type": "stream",
          "text": [
            "{'patience': 3, 'min_count': None, 'max_word_length': None, 'max_entity_length': None, 'batch_size': None, 'learning_rate': None, 'weight_decay': None, 'warmup_epochs': None, 'dropout_prob': None, 'use_gpu': False, 'use_word': True, 'dim_size': 300}\n",
            "[2021-04-20 05:32:28,691] [INFO] Note: NumExpr detected 16 cores but \"NUMEXPR_MAX_THREADS\" not set, so enforcing safe limit of 8. (_init_num_threads@utils.py:129)\n",
            "[2021-04-20 05:32:28,692] [INFO] NumExpr defaulting to 8 threads. (_init_num_threads@utils.py:141)\n",
            "11880\n",
            "[2021-04-20 05:32:30,635] [INFO] Creating vocabulary... (generate_features@data.py:65)\n",
            "100%|███████████████████████████████████| 43600/43600 [00:12<00:00, 3414.17it/s]\n",
            "trainable params:1207\n",
            "epoch: 0 loss: 0.67419654: 100%|██████████████| 754/754 [00:14<00:00, 50.99it/s]\n",
            "accuracy (dev): 0.7652\n",
            "f-measure (dev): 0.7649\n",
            "epoch: 1 loss: 0.52082962: 100%|██████████████| 754/754 [00:13<00:00, 56.61it/s]\n",
            "accuracy (dev): 0.7940\n",
            "f-measure (dev): 0.7940\n",
            "epoch: 2 loss: 0.41320327: 100%|██████████████| 754/754 [00:12<00:00, 58.62it/s]\n",
            "accuracy (dev): 0.8008\n",
            "f-measure (dev): 0.8002\n",
            "epoch: 3 loss: 0.71220660: 100%|██████████████| 754/754 [00:12<00:00, 58.58it/s]\n",
            "accuracy (dev): 0.7981\n",
            "f-measure (dev): 0.7978\n",
            "epoch: 4 loss: 1.11768687: 100%|██████████████| 754/754 [00:12<00:00, 59.46it/s]\n",
            "accuracy (dev): 0.7989\n",
            "f-measure (dev): 0.7976\n",
            "epoch: 5 loss: 0.64777213: 100%|██████████████| 754/754 [00:13<00:00, 53.95it/s]\n",
            "accuracy (dev): 0.7989\n",
            "f-measure (dev): 0.7982\n",
            "accuracy (test): 0.7986\n",
            "f-measure (test): 0.7978\n"
          ],
          "name": "stdout"
        }
      ]
    },
    {
      "cell_type": "code",
      "metadata": {
        "colab": {
          "base_uri": "https://localhost:8080/"
        },
        "id": "IfGdGX3Doh2C",
        "outputId": "8eac252f-0f3a-4659-e174-c3bf1f22e941"
      },
      "source": [
        "!python main.py train-classifier enwiki_20180420_lg1_300d.pkl enwiki_20180420_entity_linker.pkl --dataset=agnews --dataset-path='sentiment_datasets/ag_news_csv' --sample_ratio=0.3 --dev-size=0.33 --patience=3 "
      ],
      "execution_count": 2,
      "outputs": [
        {
          "output_type": "stream",
          "text": [
            "{'patience': 3, 'min_count': None, 'max_word_length': None, 'max_entity_length': None, 'batch_size': None, 'learning_rate': None, 'weight_decay': None, 'warmup_epochs': None, 'dropout_prob': None, 'use_gpu': False, 'use_word': True, 'dim_size': 300}\n",
            "[2021-04-20 05:35:08,380] [INFO] Note: NumExpr detected 16 cores but \"NUMEXPR_MAX_THREADS\" not set, so enforcing safe limit of 8. (_init_num_threads@utils.py:129)\n",
            "[2021-04-20 05:35:08,380] [INFO] NumExpr defaulting to 8 threads. (_init_num_threads@utils.py:141)\n",
            "11880\n",
            "[2021-04-20 05:35:10,290] [INFO] Creating vocabulary... (generate_features@data.py:65)\n",
            "100%|███████████████████████████████████| 43600/43600 [00:11<00:00, 3855.83it/s]\n",
            "trainable params:15403207\n",
            "epoch: 0 loss: 0.27541691: 100%|██████████████| 754/754 [01:39<00:00,  7.57it/s]\n",
            "accuracy (dev): 0.8519\n",
            "f-measure (dev): 0.8518\n",
            "epoch: 1 loss: 0.22377980: 100%|██████████████| 754/754 [01:39<00:00,  7.59it/s]\n",
            "accuracy (dev): 0.8846\n",
            "f-measure (dev): 0.8847\n",
            "epoch: 2 loss: 0.07205369: 100%|██████████████| 754/754 [01:38<00:00,  7.63it/s]\n",
            "accuracy (dev): 0.8891\n",
            "f-measure (dev): 0.8891\n",
            "epoch: 3 loss: 0.21323453:  58%|████████▏     | 440/754 [00:58<00:42,  7.44it/s]^C\n",
            "epoch: 3 loss: 0.02953911:  58%|████████▏     | 441/754 [00:58<00:41,  7.55it/s]\n",
            "\n",
            "Aborted!\n"
          ],
          "name": "stdout"
        }
      ]
    },
    {
      "cell_type": "markdown",
      "metadata": {
        "id": "Z1_iu5HoxoTF"
      },
      "source": [
        "# Positional Encodings"
      ]
    },
    {
      "cell_type": "code",
      "metadata": {
        "id": "ep54VJPvinjX"
      },
      "source": [
        "#1. positional encodings with pretrained embeddings-code changed"
      ],
      "execution_count": null,
      "outputs": []
    },
    {
      "cell_type": "code",
      "metadata": {
        "colab": {
          "base_uri": "https://localhost:8080/"
        },
        "id": "3zg2n2_hxFiw",
        "outputId": "ea10a82b-05a8-4c80-ce73-4523f6394033"
      },
      "source": [
        "!python main.py train-classifier enwiki_20180420_lg1_300d.pkl enwiki_20180420_entity_linker.pkl --dataset=agnews --dataset-path='sentiment_datasets/ag_news_csv' --sample_ratio=0.3 --dev-size=0.33 --patience=3 "
      ],
      "execution_count": 2,
      "outputs": [
        {
          "output_type": "stream",
          "text": [
            "{'patience': 3, 'min_count': None, 'max_word_length': None, 'max_entity_length': None, 'batch_size': None, 'learning_rate': None, 'weight_decay': None, 'warmup_epochs': None, 'dropout_prob': None, 'use_gpu': False, 'use_word': True, 'dim_size': 300}\n",
            "[2021-04-20 12:08:03,702] [INFO] Note: NumExpr detected 16 cores but \"NUMEXPR_MAX_THREADS\" not set, so enforcing safe limit of 8. (_init_num_threads@utils.py:129)\n",
            "[2021-04-20 12:08:03,702] [INFO] NumExpr defaulting to 8 threads. (_init_num_threads@utils.py:141)\n",
            "11880\n",
            "[2021-04-20 12:08:04,867] [INFO] Creating vocabulary... (generate_features@data.py:65)\n",
            "100%|███████████████████████████████████| 43600/43600 [00:12<00:00, 3526.80it/s]\n",
            "trainable params:1207\n",
            "epoch: 0 loss: 0.87837654: 100%|██████████████| 754/754 [00:38<00:00, 19.65it/s]\n",
            "accuracy (dev): 0.7407\n",
            "f-measure (dev): 0.7411\n",
            "epoch: 1 loss: 0.51857001: 100%|██████████████| 754/754 [00:40<00:00, 18.51it/s]\n",
            "accuracy (dev): 0.7748\n",
            "f-measure (dev): 0.7732\n",
            "epoch: 2 loss: 0.49885586: 100%|██████████████| 754/754 [00:40<00:00, 18.72it/s]\n",
            "accuracy (dev): 0.7630\n",
            "f-measure (dev): 0.7591\n",
            "epoch: 3 loss: 0.80319762: 100%|██████████████| 754/754 [00:41<00:00, 18.36it/s]\n",
            "accuracy (dev): 0.7864\n",
            "f-measure (dev): 0.7858\n",
            "epoch: 4 loss: 1.22401917: 100%|██████████████| 754/754 [00:39<00:00, 19.05it/s]\n",
            "accuracy (dev): 0.7766\n",
            "f-measure (dev): 0.7747\n",
            "epoch: 5 loss: 0.65671057: 100%|██████████████| 754/754 [00:39<00:00, 19.28it/s]\n",
            "accuracy (dev): 0.7822\n",
            "f-measure (dev): 0.7820\n",
            "epoch: 6 loss: 0.76551032: 100%|██████████████| 754/754 [00:41<00:00, 18.31it/s]\n",
            "accuracy (dev): 0.7705\n",
            "f-measure (dev): 0.7695\n",
            "accuracy (test): 0.7783\n",
            "f-measure (test): 0.7777\n"
          ],
          "name": "stdout"
        }
      ]
    },
    {
      "cell_type": "code",
      "metadata": {
        "colab": {
          "base_uri": "https://localhost:8080/"
        },
        "id": "ENGF7E8gj7f0",
        "outputId": "61498956-60d7-4963-bc67-17c29ca01a05"
      },
      "source": [
        "!python main.py train-classifier enwiki_20180420_lg1_300d.pkl enwiki_20180420_entity_linker.pkl --dataset=r8 --dataset-path='reuters-21578' --patience=3 "
      ],
      "execution_count": 20,
      "outputs": [
        {
          "output_type": "stream",
          "text": [
            "{'patience': 3, 'min_count': None, 'max_word_length': None, 'max_entity_length': None, 'batch_size': None, 'learning_rate': None, 'weight_decay': None, 'warmup_epochs': None, 'dropout_prob': None, 'use_gpu': False, 'use_word': True, 'dim_size': 300}\n",
            "[2021-04-20 14:38:46,368] [INFO] Creating vocabulary... (generate_features@data.py:65)\n",
            "100%|██████████████████████████████████████| 7674/7674 [00:10<00:00, 708.77it/s]\n",
            "trainable params:2411\n",
            "epoch: 0 loss: 0.97391814: 100%|██████████████| 163/163 [00:23<00:00,  7.07it/s]\n",
            "accuracy (dev): 0.6606\n",
            "f-measure (dev): 0.1781\n",
            "epoch: 1 loss: 0.75208479: 100%|██████████████| 163/163 [00:22<00:00,  7.11it/s]\n",
            "accuracy (dev): 0.7190\n",
            "f-measure (dev): 0.2974\n",
            "epoch: 2 loss: 0.74639136: 100%|██████████████| 163/163 [00:23<00:00,  6.99it/s]\n",
            "accuracy (dev): 0.7920\n",
            "f-measure (dev): 0.4914\n",
            "epoch: 3 loss: 0.40875810: 100%|██████████████| 163/163 [00:23<00:00,  6.90it/s]\n",
            "accuracy (dev): 0.8285\n",
            "f-measure (dev): 0.6631\n",
            "epoch: 4 loss: 0.49731544: 100%|██████████████| 163/163 [00:23<00:00,  6.85it/s]\n",
            "accuracy (dev): 0.8431\n",
            "f-measure (dev): 0.7050\n",
            "epoch: 5 loss: 0.35820299: 100%|██████████████| 163/163 [00:24<00:00,  6.72it/s]\n",
            "accuracy (dev): 0.8431\n",
            "f-measure (dev): 0.7338\n",
            "epoch: 6 loss: 0.44600493: 100%|██████████████| 163/163 [00:23<00:00,  6.83it/s]\n",
            "accuracy (dev): 0.8540\n",
            "f-measure (dev): 0.8089\n",
            "epoch: 7 loss: 0.22612745: 100%|██████████████| 163/163 [00:22<00:00,  7.20it/s]\n",
            "accuracy (dev): 0.8832\n",
            "f-measure (dev): 0.8413\n",
            "epoch: 8 loss: 0.32511860: 100%|██████████████| 163/163 [00:22<00:00,  7.28it/s]\n",
            "accuracy (dev): 0.8686\n",
            "f-measure (dev): 0.8301\n",
            "epoch: 9 loss: 0.72474086: 100%|██████████████| 163/163 [00:22<00:00,  7.36it/s]\n",
            "accuracy (dev): 0.8869\n",
            "f-measure (dev): 0.8227\n",
            "epoch: 10 loss: 0.30930465: 100%|█████████████| 163/163 [00:22<00:00,  7.34it/s]\n",
            "accuracy (dev): 0.9015\n",
            "f-measure (dev): 0.8112\n",
            "epoch: 11 loss: 0.24690266: 100%|█████████████| 163/163 [00:22<00:00,  7.33it/s]\n",
            "accuracy (dev): 0.8905\n",
            "f-measure (dev): 0.8378\n",
            "epoch: 12 loss: 0.37429509: 100%|█████████████| 163/163 [00:22<00:00,  7.30it/s]\n",
            "accuracy (dev): 0.8759\n",
            "f-measure (dev): 0.8367\n",
            "epoch: 13 loss: 0.60195249: 100%|█████████████| 163/163 [00:22<00:00,  7.29it/s]\n",
            "accuracy (dev): 0.9051\n",
            "f-measure (dev): 0.8464\n",
            "epoch: 14 loss: 0.32108143: 100%|█████████████| 163/163 [00:22<00:00,  7.26it/s]\n",
            "accuracy (dev): 0.8650\n",
            "f-measure (dev): 0.8292\n",
            "epoch: 15 loss: 0.09863943: 100%|█████████████| 163/163 [00:22<00:00,  7.24it/s]\n",
            "accuracy (dev): 0.8686\n",
            "f-measure (dev): 0.8218\n",
            "epoch: 16 loss: 0.31809425: 100%|█████████████| 163/163 [00:22<00:00,  7.18it/s]\n",
            "accuracy (dev): 0.8978\n",
            "f-measure (dev): 0.8562\n",
            "accuracy (test): 0.9324\n",
            "f-measure (test): 0.8568\n"
          ],
          "name": "stdout"
        }
      ]
    },
    {
      "cell_type": "code",
      "metadata": {
        "colab": {
          "base_uri": "https://localhost:8080/"
        },
        "id": "f7c0zyrXDGoJ",
        "outputId": "41d25f2a-3ba6-4fbc-cb6a-4b811aa421a8"
      },
      "source": [
        "!python main.py train-classifier enwiki_20180420_lg1_300d.pkl enwiki_20180420_entity_linker.pkl --dataset='20ng' --patience=3 "
      ],
      "execution_count": 19,
      "outputs": [
        {
          "output_type": "stream",
          "text": [
            "{'patience': 3, 'min_count': None, 'max_word_length': None, 'max_entity_length': None, 'batch_size': None, 'learning_rate': None, 'weight_decay': None, 'warmup_epochs': None, 'dropout_prob': None, 'use_gpu': False, 'use_word': True, 'dim_size': 300}\n",
            "[2021-04-20 14:33:28,148] [INFO] Creating vocabulary... (generate_features@data.py:65)\n",
            "100%|████████████████████████████████████| 18846/18846 [01:11<00:00, 262.90it/s]\n",
            "trainable params:6023\n",
            "epoch: 0 loss: 2.99712372: 100%|██████████████| 336/336 [00:15<00:00, 21.41it/s]\n",
            "accuracy (dev): 0.0938\n",
            "f-measure (dev): 0.0640\n",
            "epoch: 1 loss: 2.86046410: 100%|██████████████| 336/336 [00:15<00:00, 21.25it/s]\n",
            "accuracy (dev): 0.2796\n",
            "f-measure (dev): 0.2223\n",
            "epoch: 2 loss: 2.61102104: 100%|██████████████| 336/336 [00:15<00:00, 21.52it/s]\n",
            "accuracy (dev): 0.3681\n",
            "f-measure (dev): 0.3296\n",
            "epoch: 3 loss: 2.36069298: 100%|██████████████| 336/336 [00:15<00:00, 21.46it/s]\n",
            "accuracy (dev): 0.4319\n",
            "f-measure (dev): 0.3667\n",
            "epoch: 4 loss: 2.22352386: 100%|██████████████| 336/336 [00:15<00:00, 21.24it/s]\n",
            "accuracy (dev): 0.4991\n",
            "f-measure (dev): 0.4738\n",
            "epoch: 5 loss: 2.12588811: 100%|██████████████| 336/336 [00:15<00:00, 21.28it/s]\n",
            "accuracy (dev): 0.5345\n",
            "f-measure (dev): 0.4985\n",
            "epoch: 6 loss: 1.62912714: 100%|██████████████| 336/336 [00:15<00:00, 21.16it/s]\n",
            "accuracy (dev): 0.5593\n",
            "f-measure (dev): 0.5258\n",
            "epoch: 7 loss: 1.92638886: 100%|██████████████| 336/336 [00:16<00:00, 20.69it/s]\n",
            "accuracy (dev): 0.5788\n",
            "f-measure (dev): 0.5619\n",
            "epoch: 8 loss: 2.16881371: 100%|██████████████| 336/336 [00:16<00:00, 20.76it/s]\n",
            "accuracy (dev): 0.6283\n",
            "f-measure (dev): 0.6211\n",
            "epoch: 9 loss: 1.47366345: 100%|██████████████| 336/336 [00:16<00:00, 20.82it/s]\n",
            "accuracy (dev): 0.6283\n",
            "f-measure (dev): 0.6138\n",
            "epoch: 10 loss: 1.79105461: 100%|█████████████| 336/336 [00:15<00:00, 21.01it/s]\n",
            "accuracy (dev): 0.6000\n",
            "f-measure (dev): 0.5882\n",
            "epoch: 11 loss: 1.72469103: 100%|█████████████| 336/336 [00:16<00:00, 20.65it/s]\n",
            "accuracy (dev): 0.6071\n",
            "f-measure (dev): 0.5883\n",
            "accuracy (test): 0.6223\n",
            "f-measure (test): 0.6086\n"
          ],
          "name": "stdout"
        }
      ]
    },
    {
      "cell_type": "code",
      "metadata": {
        "id": "EHmueR8TJPuo"
      },
      "source": [
        "#2. Positional Embeddings with learned embeddings"
      ],
      "execution_count": null,
      "outputs": []
    },
    {
      "cell_type": "code",
      "metadata": {
        "colab": {
          "base_uri": "https://localhost:8080/"
        },
        "id": "D_2NBIp3JRSm",
        "outputId": "fa203fdd-1341-462d-ab1f-5d049938a7a8"
      },
      "source": [
        "!python main.py train-classifier enwiki_20180420_lg1_300d.pkl enwiki_20180420_entity_linker.pkl --dataset=agnews --dataset-path='sentiment_datasets/ag_news_csv' --sample_ratio=0.3 --dev-size=0.33 --patience=3 "
      ],
      "execution_count": 14,
      "outputs": [
        {
          "output_type": "stream",
          "text": [
            "{'patience': 3, 'min_count': None, 'max_word_length': None, 'max_entity_length': None, 'batch_size': None, 'learning_rate': None, 'weight_decay': None, 'warmup_epochs': None, 'dropout_prob': None, 'use_gpu': False, 'use_word': True, 'dim_size': 300}\n",
            "[2021-04-20 12:39:32,008] [INFO] Note: NumExpr detected 16 cores but \"NUMEXPR_MAX_THREADS\" not set, so enforcing safe limit of 8. (_init_num_threads@utils.py:129)\n",
            "[2021-04-20 12:39:32,008] [INFO] NumExpr defaulting to 8 threads. (_init_num_threads@utils.py:141)\n",
            "11880\n",
            "[2021-04-20 12:39:33,374] [INFO] Creating vocabulary... (generate_features@data.py:65)\n",
            "100%|███████████████████████████████████| 43600/43600 [00:12<00:00, 3512.63it/s]\n",
            "trainable params:15403207\n",
            "epoch: 0 loss: 0.39047870: 100%|██████████████| 754/754 [02:05<00:00,  6.03it/s]\n",
            "accuracy (dev): 0.8428\n",
            "f-measure (dev): 0.8425\n",
            "epoch: 1 loss: 0.16040744: 100%|██████████████| 754/754 [02:27<00:00,  5.10it/s]\n",
            "accuracy (dev): 0.8829\n",
            "f-measure (dev): 0.8830\n",
            "epoch: 2 loss: 0.09728407: 100%|██████████████| 754/754 [02:16<00:00,  5.54it/s]\n",
            "accuracy (dev): 0.8862\n",
            "f-measure (dev): 0.8864\n",
            "epoch: 3 loss: 0.34899235: 100%|██████████████| 754/754 [02:28<00:00,  5.07it/s]\n",
            "accuracy (dev): 0.8841\n",
            "f-measure (dev): 0.8841\n",
            "epoch: 4 loss: 0.30656096: 100%|██████████████| 754/754 [02:16<00:00,  5.52it/s]\n",
            "accuracy (dev): 0.8893\n",
            "f-measure (dev): 0.8889\n",
            "epoch: 5 loss: 0.03552313: 100%|██████████████| 754/754 [02:18<00:00,  5.46it/s]\n",
            "accuracy (dev): 0.8855\n",
            "f-measure (dev): 0.8855\n",
            "epoch: 6 loss: 0.02900033: 100%|██████████████| 754/754 [02:29<00:00,  5.03it/s]\n",
            "accuracy (dev): 0.8801\n",
            "f-measure (dev): 0.8802\n",
            "epoch: 7 loss: 0.00488341: 100%|██████████████| 754/754 [02:24<00:00,  5.21it/s]\n",
            "accuracy (dev): 0.8848\n",
            "f-measure (dev): 0.8847\n",
            "accuracy (test): 0.8566\n",
            "f-measure (test): 0.8558\n"
          ],
          "name": "stdout"
        }
      ]
    },
    {
      "cell_type": "code",
      "metadata": {
        "colab": {
          "base_uri": "https://localhost:8080/"
        },
        "id": "uxSQ8P3iPBCM",
        "outputId": "17c4e368-5af6-4b95-ee25-41e4fe8016c2"
      },
      "source": [
        "!python main.py train-classifier enwiki_20180420_lg1_300d.pkl enwiki_20180420_entity_linker.pkl --dataset=r8 --dataset-path='reuters-21578' --patience=3 "
      ],
      "execution_count": 17,
      "outputs": [
        {
          "output_type": "stream",
          "text": [
            "{'patience': 3, 'min_count': None, 'max_word_length': None, 'max_entity_length': None, 'batch_size': None, 'learning_rate': None, 'weight_decay': None, 'warmup_epochs': None, 'dropout_prob': None, 'use_gpu': False, 'use_word': True, 'dim_size': 300}\n",
            "[2021-04-20 13:04:51,824] [INFO] Creating vocabulary... (generate_features@data.py:65)\n",
            "100%|██████████████████████████████████████| 7674/7674 [00:10<00:00, 725.20it/s]\n",
            "trainable params:11137211\n",
            "epoch: 0 loss: 0.72213984: 100%|██████████████| 163/163 [00:40<00:00,  4.01it/s]\n",
            "accuracy (dev): 0.7263\n",
            "f-measure (dev): 0.2145\n",
            "epoch: 1 loss: 0.16910115: 100%|██████████████| 163/163 [00:42<00:00,  3.79it/s]\n",
            "accuracy (dev): 0.9343\n",
            "f-measure (dev): 0.7388\n",
            "epoch: 2 loss: 0.14280237: 100%|██████████████| 163/163 [00:43<00:00,  3.78it/s]\n",
            "accuracy (dev): 0.9489\n",
            "f-measure (dev): 0.8898\n",
            "epoch: 3 loss: 0.01714265: 100%|██████████████| 163/163 [00:42<00:00,  3.80it/s]\n",
            "accuracy (dev): 0.9818\n",
            "f-measure (dev): 0.9652\n",
            "epoch: 4 loss: 0.01747063: 100%|██████████████| 163/163 [00:42<00:00,  3.80it/s]\n",
            "accuracy (dev): 0.9854\n",
            "f-measure (dev): 0.9802\n",
            "epoch: 5 loss: 0.00211423: 100%|██████████████| 163/163 [00:42<00:00,  3.80it/s]\n",
            "accuracy (dev): 0.9745\n",
            "f-measure (dev): 0.9347\n",
            "epoch: 6 loss: 0.04981449: 100%|██████████████| 163/163 [00:42<00:00,  3.79it/s]\n",
            "accuracy (dev): 0.9818\n",
            "f-measure (dev): 0.9602\n",
            "epoch: 7 loss: 0.00058248: 100%|██████████████| 163/163 [00:43<00:00,  3.79it/s]\n",
            "accuracy (dev): 0.9781\n",
            "f-measure (dev): 0.9589\n",
            "accuracy (test): 0.9758\n",
            "f-measure (test): 0.9186\n"
          ],
          "name": "stdout"
        }
      ]
    },
    {
      "cell_type": "code",
      "metadata": {
        "colab": {
          "base_uri": "https://localhost:8080/"
        },
        "id": "M7p4VvbzRR3R",
        "outputId": "5b2e4d2e-8fa4-4c26-ee5e-33a6bf4587c2"
      },
      "source": [
        "!python main.py train-classifier enwiki_20180420_lg1_300d.pkl enwiki_20180420_entity_linker.pkl --dataset='20ng' --patience=3 "
      ],
      "execution_count": 18,
      "outputs": [
        {
          "output_type": "stream",
          "text": [
            "{'patience': 3, 'min_count': None, 'max_word_length': None, 'max_entity_length': None, 'batch_size': None, 'learning_rate': None, 'weight_decay': None, 'warmup_epochs': None, 'dropout_prob': None, 'use_gpu': False, 'use_word': True, 'dim_size': 300}\n",
            "[2021-04-20 13:13:06,080] [INFO] Creating vocabulary... (generate_features@data.py:65)\n",
            "100%|████████████████████████████████████| 18846/18846 [01:08<00:00, 274.94it/s]\n",
            "trainable params:59540423\n",
            "epoch: 0 loss: 2.97698307: 100%|██████████████| 336/336 [03:09<00:00,  1.78it/s]\n",
            "accuracy (dev): 0.1381\n",
            "f-measure (dev): 0.1094\n",
            "epoch: 1 loss: 2.77377367: 100%|██████████████| 336/336 [03:07<00:00,  1.79it/s]\n",
            "accuracy (dev): 0.4513\n",
            "f-measure (dev): 0.3911\n",
            "epoch: 2 loss: 2.17071080: 100%|██████████████| 336/336 [03:08<00:00,  1.78it/s]\n",
            "accuracy (dev): 0.6283\n",
            "f-measure (dev): 0.5866\n",
            "epoch: 3 loss: 1.31894052: 100%|██████████████| 336/336 [03:12<00:00,  1.75it/s]\n",
            "accuracy (dev): 0.7628\n",
            "f-measure (dev): 0.7276\n",
            "epoch: 4 loss: 0.87232262: 100%|██████████████| 336/336 [03:12<00:00,  1.75it/s]\n",
            "accuracy (dev): 0.8761\n",
            "f-measure (dev): 0.8685\n",
            "epoch: 5 loss: 0.56755906: 100%|██████████████| 336/336 [03:12<00:00,  1.75it/s]\n",
            "accuracy (dev): 0.8973\n",
            "f-measure (dev): 0.8930\n",
            "epoch: 6 loss: 0.25528899: 100%|██████████████| 336/336 [03:10<00:00,  1.76it/s]\n",
            "accuracy (dev): 0.9080\n",
            "f-measure (dev): 0.9043\n",
            "epoch: 7 loss: 0.34578305: 100%|██████████████| 336/336 [03:09<00:00,  1.77it/s]\n",
            "accuracy (dev): 0.9257\n",
            "f-measure (dev): 0.9228\n",
            "epoch: 8 loss: 0.16300079: 100%|██████████████| 336/336 [03:12<00:00,  1.75it/s]\n",
            "accuracy (dev): 0.9398\n",
            "f-measure (dev): 0.9382\n",
            "epoch: 9 loss: 0.14293629: 100%|██████████████| 336/336 [03:12<00:00,  1.74it/s]\n",
            "accuracy (dev): 0.9398\n",
            "f-measure (dev): 0.9369\n",
            "epoch: 10 loss: 0.13425781: 100%|█████████████| 336/336 [03:13<00:00,  1.74it/s]\n",
            "accuracy (dev): 0.9487\n",
            "f-measure (dev): 0.9466\n",
            "epoch: 11 loss: 0.09081089: 100%|█████████████| 336/336 [03:11<00:00,  1.75it/s]\n",
            "accuracy (dev): 0.9487\n",
            "f-measure (dev): 0.9465\n",
            "epoch: 12 loss: 0.06947453: 100%|█████████████| 336/336 [03:10<00:00,  1.76it/s]\n",
            "accuracy (dev): 0.9540\n",
            "f-measure (dev): 0.9520\n",
            "epoch: 13 loss: 0.07013832: 100%|█████████████| 336/336 [03:11<00:00,  1.76it/s]\n",
            "accuracy (dev): 0.9522\n",
            "f-measure (dev): 0.9500\n",
            "epoch: 14 loss: 0.05122401: 100%|█████████████| 336/336 [03:12<00:00,  1.75it/s]\n",
            "accuracy (dev): 0.9540\n",
            "f-measure (dev): 0.9519\n",
            "epoch: 15 loss: 0.01539063: 100%|█████████████| 336/336 [03:11<00:00,  1.76it/s]\n",
            "accuracy (dev): 0.9558\n",
            "f-measure (dev): 0.9536\n",
            "epoch: 16 loss: 0.01361696: 100%|█████████████| 336/336 [03:11<00:00,  1.76it/s]\n",
            "accuracy (dev): 0.9558\n",
            "f-measure (dev): 0.9539\n",
            "epoch: 17 loss: 0.05202843: 100%|█████████████| 336/336 [03:11<00:00,  1.76it/s]\n",
            "accuracy (dev): 0.9540\n",
            "f-measure (dev): 0.9517\n",
            "epoch: 18 loss: 0.02244772: 100%|█████████████| 336/336 [03:11<00:00,  1.75it/s]\n",
            "accuracy (dev): 0.9558\n",
            "f-measure (dev): 0.9536\n",
            "accuracy (test): 0.8743\n",
            "f-measure (test): 0.8687\n"
          ],
          "name": "stdout"
        }
      ]
    },
    {
      "cell_type": "code",
      "metadata": {
        "id": "fZmH3caojFs8"
      },
      "source": [
        "#3. Without Positional Encoding with learned embeddings -> data already obtained"
      ],
      "execution_count": null,
      "outputs": []
    },
    {
      "cell_type": "code",
      "metadata": {
        "id": "9qsd_krSjJIg"
      },
      "source": [
        "#3. Without Positional Encoding with pretrained embeddings -> data already obtained"
      ],
      "execution_count": null,
      "outputs": []
    },
    {
      "cell_type": "code",
      "metadata": {
        "id": "dbc4wj8jI7H_"
      },
      "source": [
        "!python main.py train-classifier enwiki_20180420_lg1_300d.pkl enwiki_20180420_entity_linker.pkl --dataset=agnews --dataset-path='sentiment_datasets/ag_news_csv' --sample_ratio=0.3 --dev-size=0.33 --patience=3 "
      ],
      "execution_count": null,
      "outputs": []
    },
    {
      "cell_type": "code",
      "metadata": {
        "colab": {
          "base_uri": "https://localhost:8080/"
        },
        "id": "rvssH850GJ0G",
        "outputId": "a914c764-0081-401d-f6ed-478c3336f5af"
      },
      "source": [
        "import torch\n",
        "pe = torch.tensor(range(256))\n",
        "pe[1::2].shape"
      ],
      "execution_count": 8,
      "outputs": [
        {
          "output_type": "execute_result",
          "data": {
            "text/plain": [
              "torch.Size([128])"
            ]
          },
          "metadata": {
            "tags": []
          },
          "execution_count": 8
        }
      ]
    },
    {
      "cell_type": "code",
      "metadata": {
        "id": "lCT3WIS_HKr5"
      },
      "source": [
        ""
      ],
      "execution_count": null,
      "outputs": []
    },
    {
      "cell_type": "code",
      "metadata": {
        "colab": {
          "base_uri": "https://localhost:8080/"
        },
        "id": "qndJja1bG3BI",
        "outputId": "278d6564-6ff9-4461-b0f1-016600d2fb38"
      },
      "source": [
        "pe[0::2].shape"
      ],
      "execution_count": 9,
      "outputs": [
        {
          "output_type": "execute_result",
          "data": {
            "text/plain": [
              "torch.Size([128])"
            ]
          },
          "metadata": {
            "tags": []
          },
          "execution_count": 9
        }
      ]
    },
    {
      "cell_type": "code",
      "metadata": {
        "id": "U_3ECr-3_7zL"
      },
      "source": [
        "A = torch.tensor([[0,1],[3,4]])\n",
        "B = torch.tensor([[0,1],[3,10]])"
      ],
      "execution_count": 46,
      "outputs": []
    },
    {
      "cell_type": "code",
      "metadata": {
        "colab": {
          "base_uri": "https://localhost:8080/"
        },
        "id": "7jPC5DhbAC1B",
        "outputId": "7e93472c-b63c-44b8-89ad-21af124780e4"
      },
      "source": [
        "A[B == 0] = 1\n",
        "A"
      ],
      "execution_count": 49,
      "outputs": [
        {
          "output_type": "execute_result",
          "data": {
            "text/plain": [
              "tensor([[1, 1],\n",
              "        [3, 4]])"
            ]
          },
          "metadata": {
            "tags": []
          },
          "execution_count": 49
        }
      ]
    },
    {
      "cell_type": "code",
      "metadata": {
        "colab": {
          "base_uri": "https://localhost:8080/"
        },
        "id": "L05z8_m9-Xav",
        "outputId": "2aac059f-e926-4794-d5c3-45b69debd29d"
      },
      "source": [
        "d_model = 300\n",
        "torch.exp(torch.arange(0, d_model, 2) * -(math.log(10000.0) / d_model)).dtype"
      ],
      "execution_count": 41,
      "outputs": [
        {
          "output_type": "execute_result",
          "data": {
            "text/plain": [
              "torch.float32"
            ]
          },
          "metadata": {
            "tags": []
          },
          "execution_count": 41
        }
      ]
    },
    {
      "cell_type": "code",
      "metadata": {
        "colab": {
          "base_uri": "https://localhost:8080/"
        },
        "id": "WIJsrPZR9qm1",
        "outputId": "f3cb4a26-0a1b-4e28-ba81-5d79d95470f9"
      },
      "source": [
        "print('a', 2)"
      ],
      "execution_count": 36,
      "outputs": [
        {
          "output_type": "stream",
          "text": [
            "a 2\n"
          ],
          "name": "stdout"
        }
      ]
    },
    {
      "cell_type": "code",
      "metadata": {
        "colab": {
          "base_uri": "https://localhost:8080/"
        },
        "id": "u4gKJVZl2o8E",
        "outputId": "c1262579-5ea2-4a92-bc96-6b9b34f26a15"
      },
      "source": [
        "import torch\n",
        "a = torch.tensor([[1,2],[3,4]])\n",
        "a"
      ],
      "execution_count": 13,
      "outputs": [
        {
          "output_type": "execute_result",
          "data": {
            "text/plain": [
              "tensor([[1, 2],\n",
              "        [3, 4]])"
            ]
          },
          "metadata": {
            "tags": []
          },
          "execution_count": 13
        }
      ]
    },
    {
      "cell_type": "code",
      "metadata": {
        "colab": {
          "base_uri": "https://localhost:8080/"
        },
        "id": "YZ8Wpn016IZy",
        "outputId": "cd7c9e33-51db-49c8-e9fa-4de88da82fc4"
      },
      "source": [
        "a + torch.tensor([[1,1]])"
      ],
      "execution_count": 31,
      "outputs": [
        {
          "output_type": "execute_result",
          "data": {
            "text/plain": [
              "tensor([[2, 3],\n",
              "        [4, 5]])"
            ]
          },
          "metadata": {
            "tags": []
          },
          "execution_count": 31
        }
      ]
    },
    {
      "cell_type": "code",
      "metadata": {
        "colab": {
          "base_uri": "https://localhost:8080/"
        },
        "id": "lJWlExow2tbz",
        "outputId": "afd2055a-8e30-4945-fcef-7daa78319971"
      },
      "source": [
        "a == 0"
      ],
      "execution_count": 14,
      "outputs": [
        {
          "output_type": "execute_result",
          "data": {
            "text/plain": [
              "tensor([[False, False],\n",
              "        [False, False]])"
            ]
          },
          "metadata": {
            "tags": []
          },
          "execution_count": 14
        }
      ]
    },
    {
      "cell_type": "code",
      "metadata": {
        "colab": {
          "base_uri": "https://localhost:8080/"
        },
        "id": "Dz15wjzT2vdx",
        "outputId": "05350a53-5c5f-48fa-ffab-bea8e491cce1"
      },
      "source": [
        "a[a==0]"
      ],
      "execution_count": 15,
      "outputs": [
        {
          "output_type": "execute_result",
          "data": {
            "text/plain": [
              "tensor([], dtype=torch.int64)"
            ]
          },
          "metadata": {
            "tags": []
          },
          "execution_count": 15
        }
      ]
    },
    {
      "cell_type": "code",
      "metadata": {
        "id": "QkAvDfgo3c11"
      },
      "source": [
        "import torch.nn as nn\n",
        "import math\n",
        "class PositionalEncoding(nn.Module):\n",
        "    \"Implement the PE function.\"\n",
        "\n",
        "    def __init__(self, d_model, dropout, max_len=5000):\n",
        "        super(PositionalEncoding, self).__init__()\n",
        "        self.dropout = nn.Dropout(p=dropout)\n",
        "\n",
        "        # Compute the positional encodings once in log space.\n",
        "        pe = torch.zeros(max_len, d_model)\n",
        "        position = torch.arange(0, max_len).unsqueeze(1)\n",
        "        div_term = torch.exp(torch.arange(0, d_model, 2) *\n",
        "                             -(math.log(10000.0) / d_model))\n",
        "        pe[:, 0::2] = torch.sin(position * div_term)\n",
        "        pe[:, 1::2] = torch.cos(position * div_term)\n",
        "        pe = pe.unsqueeze(0)\n",
        "        self.register_buffer('pe', pe)\n",
        "\n",
        "    def forward(self, x):\n",
        "        x = x + Variable(self.pe[:, :x.size(1)],\n",
        "                         requires_grad=False)\n",
        "        return self.dropout(x)"
      ],
      "execution_count": 20,
      "outputs": []
    },
    {
      "cell_type": "code",
      "metadata": {
        "colab": {
          "base_uri": "https://localhost:8080/"
        },
        "id": "_HjTNXIR3hVZ",
        "outputId": "5e8f34b1-9177-4572-8847-7ffe7eae20d9"
      },
      "source": [
        "pe = PositionalEncoding(300, 0.3, 256)\n",
        "pe.pe.shape"
      ],
      "execution_count": 26,
      "outputs": [
        {
          "output_type": "execute_result",
          "data": {
            "text/plain": [
              "torch.Size([1, 256, 300])"
            ]
          },
          "metadata": {
            "tags": []
          },
          "execution_count": 26
        }
      ]
    },
    {
      "cell_type": "code",
      "metadata": {
        "colab": {
          "base_uri": "https://localhost:8080/"
        },
        "id": "dgwPE_bS4NGZ",
        "outputId": "e4fdf12c-dfd8-4444-cf18-0a82950130c8"
      },
      "source": [
        "pe.pe"
      ],
      "execution_count": 28,
      "outputs": [
        {
          "output_type": "execute_result",
          "data": {
            "text/plain": [
              "tensor([[[ 0.0000e+00,  1.0000e+00,  0.0000e+00,  ...,  1.0000e+00,\n",
              "           0.0000e+00,  1.0000e+00],\n",
              "         [ 8.4147e-01,  5.4030e-01,  8.0782e-01,  ...,  1.0000e+00,\n",
              "           1.0633e-04,  1.0000e+00],\n",
              "         [ 9.0930e-01, -4.1615e-01,  9.5231e-01,  ...,  1.0000e+00,\n",
              "           2.1267e-04,  1.0000e+00],\n",
              "         ...,\n",
              "         [ 9.9482e-01, -1.0162e-01, -7.3692e-01,  ...,  9.9959e-01,\n",
              "           2.6899e-02,  9.9964e-01],\n",
              "         [ 4.5200e-01, -8.9202e-01,  1.1171e-01,  ...,  9.9959e-01,\n",
              "           2.7005e-02,  9.9964e-01],\n",
              "         [-5.0639e-01, -8.6230e-01,  8.6861e-01,  ...,  9.9958e-01,\n",
              "           2.7112e-02,  9.9963e-01]]])"
            ]
          },
          "metadata": {
            "tags": []
          },
          "execution_count": 28
        }
      ]
    },
    {
      "cell_type": "code",
      "metadata": {
        "colab": {
          "base_uri": "https://localhost:8080/"
        },
        "id": "pVGXXjYN3u3W",
        "outputId": "b0244f0e-6246-4730-9116-5c9ab61a9ba8"
      },
      "source": [
        "pe.pe.repeat(32, 1, 1).shape"
      ],
      "execution_count": 27,
      "outputs": [
        {
          "output_type": "execute_result",
          "data": {
            "text/plain": [
              "torch.Size([32, 256, 300])"
            ]
          },
          "metadata": {
            "tags": []
          },
          "execution_count": 27
        }
      ]
    },
    {
      "cell_type": "markdown",
      "metadata": {
        "id": "K74zpcjvZOTH"
      },
      "source": [
        "## Test on Other datasets."
      ]
    },
    {
      "cell_type": "code",
      "metadata": {
        "id": "e4cN6aXAZS6-"
      },
      "source": [
        ""
      ],
      "execution_count": null,
      "outputs": []
    },
    {
      "cell_type": "markdown",
      "metadata": {
        "id": "xAwn_-eTXEMa"
      },
      "source": [
        "# Comparison Between Datasets\n"
      ]
    },
    {
      "cell_type": "code",
      "metadata": {
        "id": "mF0lboTGfmKD"
      },
      "source": [
        "#Conclusion: Not able to figure out why pretrained models perform worse on AG news."
      ],
      "execution_count": null,
      "outputs": []
    },
    {
      "cell_type": "markdown",
      "metadata": {
        "id": "t7J6q8ySXNA6"
      },
      "source": [
        "## 20 Newsgroup"
      ]
    },
    {
      "cell_type": "code",
      "metadata": {
        "id": "tT9lmBmtXXmL"
      },
      "source": [
        "from sklearn.datasets import fetch_20newsgroups\n",
        "ng20_train = fetch_20newsgroups(subset='train')"
      ],
      "execution_count": 4,
      "outputs": []
    },
    {
      "cell_type": "code",
      "metadata": {
        "colab": {
          "base_uri": "https://localhost:8080/"
        },
        "id": "IbRDhhjjXlV2",
        "outputId": "3ab21fb1-ca19-46b2-a64f-a9e5d6fd99c1"
      },
      "source": [
        "ng20_train.keys()"
      ],
      "execution_count": 6,
      "outputs": [
        {
          "output_type": "execute_result",
          "data": {
            "text/plain": [
              "dict_keys(['data', 'filenames', 'target_names', 'target', 'DESCR'])"
            ]
          },
          "metadata": {
            "tags": []
          },
          "execution_count": 6
        }
      ]
    },
    {
      "cell_type": "code",
      "metadata": {
        "colab": {
          "base_uri": "https://localhost:8080/"
        },
        "id": "onxLrAOmXwQB",
        "outputId": "c8afcf25-b127-4df5-d5b4-bb90d28185c4"
      },
      "source": [
        "ng20_train['target']"
      ],
      "execution_count": 8,
      "outputs": [
        {
          "output_type": "execute_result",
          "data": {
            "text/plain": [
              "array([7, 4, 4, ..., 3, 1, 8])"
            ]
          },
          "metadata": {
            "tags": []
          },
          "execution_count": 8
        }
      ]
    },
    {
      "cell_type": "code",
      "metadata": {
        "colab": {
          "base_uri": "https://localhost:8080/"
        },
        "id": "IaD-5dTiX_56",
        "outputId": "ff72301a-cb1c-4d1a-f36f-ef8186afae6b"
      },
      "source": [
        "ng20_train['target_names']"
      ],
      "execution_count": 9,
      "outputs": [
        {
          "output_type": "execute_result",
          "data": {
            "text/plain": [
              "['alt.atheism',\n",
              " 'comp.graphics',\n",
              " 'comp.os.ms-windows.misc',\n",
              " 'comp.sys.ibm.pc.hardware',\n",
              " 'comp.sys.mac.hardware',\n",
              " 'comp.windows.x',\n",
              " 'misc.forsale',\n",
              " 'rec.autos',\n",
              " 'rec.motorcycles',\n",
              " 'rec.sport.baseball',\n",
              " 'rec.sport.hockey',\n",
              " 'sci.crypt',\n",
              " 'sci.electronics',\n",
              " 'sci.med',\n",
              " 'sci.space',\n",
              " 'soc.religion.christian',\n",
              " 'talk.politics.guns',\n",
              " 'talk.politics.mideast',\n",
              " 'talk.politics.misc',\n",
              " 'talk.religion.misc']"
            ]
          },
          "metadata": {
            "tags": []
          },
          "execution_count": 9
        }
      ]
    },
    {
      "cell_type": "code",
      "metadata": {
        "colab": {
          "base_uri": "https://localhost:8080/"
        },
        "id": "qTvR-Y8dYBra",
        "outputId": "253b25ae-7f72-44a7-9349-c51563752e72"
      },
      "source": [
        "print(ng20_train['data'][0])"
      ],
      "execution_count": 12,
      "outputs": [
        {
          "output_type": "stream",
          "text": [
            "From: lerxst@wam.umd.edu (where's my thing)\n",
            "Subject: WHAT car is this!?\n",
            "Nntp-Posting-Host: rac3.wam.umd.edu\n",
            "Organization: University of Maryland, College Park\n",
            "Lines: 15\n",
            "\n",
            " I was wondering if anyone out there could enlighten me on this car I saw\n",
            "the other day. It was a 2-door sports car, looked to be from the late 60s/\n",
            "early 70s. It was called a Bricklin. The doors were really small. In addition,\n",
            "the front bumper was separate from the rest of the body. This is \n",
            "all I know. If anyone can tellme a model name, engine specs, years\n",
            "of production, where this car is made, history, or whatever info you\n",
            "have on this funky looking car, please e-mail.\n",
            "\n",
            "Thanks,\n",
            "- IL\n",
            "   ---- brought to you by your neighborhood Lerxst ----\n",
            "\n",
            "\n",
            "\n",
            "\n",
            "\n"
          ],
          "name": "stdout"
        }
      ]
    },
    {
      "cell_type": "code",
      "metadata": {
        "colab": {
          "base_uri": "https://localhost:8080/"
        },
        "id": "CafHTdEuYPor",
        "outputId": "6bcccc2c-6a60-456d-933c-2c882a89a3f6"
      },
      "source": [
        "print(ng20_train['data'][20])"
      ],
      "execution_count": 14,
      "outputs": [
        {
          "output_type": "stream",
          "text": [
            "From: keith@cco.caltech.edu (Keith Allan Schneider)\n",
            "Subject: Re: <<Pompous ass\n",
            "Organization: California Institute of Technology, Pasadena\n",
            "Lines: 16\n",
            "NNTP-Posting-Host: punisher.caltech.edu\n",
            "\n",
            "livesey@solntze.wpd.sgi.com (Jon Livesey) writes:\n",
            "\n",
            "[...]\n",
            ">>The \"`little' things\" above were in reference to Germany, clearly.  People\n",
            ">>said that there were similar things in Germany, but no one could name any.\n",
            ">That's not true.  I gave you two examples.  One was the rather\n",
            ">pevasive anti-semitism in German Christianity well before Hitler\n",
            ">arrived.  The other was the system of social ranks that were used\n",
            ">in Imperail Germany and Austria to distinguish Jews from the rest \n",
            ">of the population.\n",
            "\n",
            "These don't seem like \"little things\" to me.  At least, they are orders\n",
            "worse than the motto.  Do you think that the motto is a \"little thing\"\n",
            "that will lead to worse things?\n",
            "\n",
            "keith\n",
            "\n"
          ],
          "name": "stdout"
        }
      ]
    },
    {
      "cell_type": "code",
      "metadata": {
        "colab": {
          "base_uri": "https://localhost:8080/"
        },
        "id": "F3U01RfMb3Eq",
        "outputId": "4ac6964f-2e9f-40b2-9417-c61875820df0"
      },
      "source": [
        "print(ng20_train['target_names'] [ ng20_train['target'][20] ] )"
      ],
      "execution_count": 18,
      "outputs": [
        {
          "output_type": "stream",
          "text": [
            "alt.atheism\n"
          ],
          "name": "stdout"
        }
      ]
    },
    {
      "cell_type": "code",
      "metadata": {
        "colab": {
          "base_uri": "https://localhost:8080/"
        },
        "id": "3tj9NPnUbzFA",
        "outputId": "7aeb4470-bacf-4b7a-cf76-b1cb516528bb"
      },
      "source": [
        "print(ng20_train['data'][40])"
      ],
      "execution_count": 19,
      "outputs": [
        {
          "output_type": "stream",
          "text": [
            "From:  (Sean Garrison)\n",
            "Subject: Re: Bonilla\n",
            "Nntp-Posting-Host: berkeley-kstar-node.net.yale.edu\n",
            "Organization: Yale Univeristy\n",
            "Lines: 37\n",
            "\n",
            "In article <1993Apr17.213553.2181@organpipe.uug.arizona.edu>,\n",
            "krueger@helium.gas.uug.arizona.edu (theodore r krueger) wrote:\n",
            " \n",
            "> Isn't it funny that  a white person calls comeone a \"nigger\" and gets banned \n",
            "> for a year, but a black person calls someone a \"faggot\" and there is no \n",
            "> consequence?\n",
            "\n",
            "> Ted\n",
            "\n",
            "\n",
            "Ted, you're missing a vital point.  As Roger Lustig pointed out in a\n",
            "previous response, the reason why Schott was banned from baseball was\n",
            "because she had been known to call and think in a racially biased manner on\n",
            "a constant basis.  Such thoughts affected her hiring practices.  Bonilla,\n",
            "on the other hand, was found to have mentioned this one word a single time.\n",
            " If he had been known to go around, criticizing homosexuals, it would be a\n",
            "different story.  Furthermore, he is merely an athlete.  He doesn't have to\n",
            "hire anyone as Schott had to do.  Dave Pallone, the former NL umpire who is\n",
            "an admitted homosexual, has decided to assist in a protest before a Mets\n",
            "game at Shea.  He, like you, thinks that Bonilla should be suspended from\n",
            "baseball.  Pallone is hoping for a year's suspension.  In my opinion,\n",
            "that's downright ludicrous.  As Howie Rose on WFAN said, if you start\n",
            "suspending athletes who have mentioned a derogatory word even a single time\n",
            "under whatever conditions, then you'd probably have enough people remaining\n",
            "to play a three-on-three game.  Now, honestly, if you truly analyze the\n",
            "differences between the two cases that you bring up in your article, I\n",
            "would think that you'd reconsider your thoughts.\n",
            "\n",
            "\n",
            "                                    -Sean\n",
            "\n",
            "\n",
            "\n",
            "*******************************************************************************\n",
            "  \"Behind the bag!\"\n",
            "            - Vin Scully\n",
            "*******************************************************************************\n",
            "\n"
          ],
          "name": "stdout"
        }
      ]
    },
    {
      "cell_type": "code",
      "metadata": {
        "colab": {
          "base_uri": "https://localhost:8080/"
        },
        "id": "PSe7oq_NcMoS",
        "outputId": "0ff6fff4-3886-4d0c-999d-204a5655f93e"
      },
      "source": [
        "print(ng20_train['target_names'] [ ng20_train['target'][40] ] )"
      ],
      "execution_count": 20,
      "outputs": [
        {
          "output_type": "stream",
          "text": [
            "rec.sport.baseball\n"
          ],
          "name": "stdout"
        }
      ]
    },
    {
      "cell_type": "markdown",
      "metadata": {
        "id": "ha6SuOFjgbD-"
      },
      "source": [
        "# Test Positional Encoding"
      ]
    },
    {
      "cell_type": "code",
      "metadata": {
        "id": "BJkv6uzVhUqy"
      },
      "source": [
        "import torch\n",
        "import math"
      ],
      "execution_count": 35,
      "outputs": []
    },
    {
      "cell_type": "code",
      "metadata": {
        "id": "V2zDdYFAcSO_"
      },
      "source": [
        "d_model = 30\n",
        "max_len = 100"
      ],
      "execution_count": 36,
      "outputs": []
    },
    {
      "cell_type": "code",
      "metadata": {
        "id": "MKPL38xFhTRA"
      },
      "source": [
        "pe = torch.zeros(max_len, d_model)"
      ],
      "execution_count": 37,
      "outputs": []
    },
    {
      "cell_type": "code",
      "metadata": {
        "id": "zBWjLD1shYUi"
      },
      "source": [
        "position = torch.arange(0, max_len).unsqueeze(1)"
      ],
      "execution_count": 38,
      "outputs": []
    },
    {
      "cell_type": "code",
      "metadata": {
        "colab": {
          "base_uri": "https://localhost:8080/"
        },
        "id": "Cn8zl7yMhb6q",
        "outputId": "d23b88cb-fa0b-445b-ab52-dc331e4c8e75"
      },
      "source": [
        "position.shape"
      ],
      "execution_count": 39,
      "outputs": [
        {
          "output_type": "execute_result",
          "data": {
            "text/plain": [
              "torch.Size([100, 1])"
            ]
          },
          "metadata": {
            "tags": []
          },
          "execution_count": 39
        }
      ]
    },
    {
      "cell_type": "code",
      "metadata": {
        "id": "zuTlIU2xgYS7"
      },
      "source": [
        "div_term = torch.exp(torch.arange(0, d_model, 2) * -(math.log(10000.0) / d_model))"
      ],
      "execution_count": 40,
      "outputs": []
    },
    {
      "cell_type": "code",
      "metadata": {
        "colab": {
          "base_uri": "https://localhost:8080/"
        },
        "id": "EXK5-WVAhhpQ",
        "outputId": "36bfbda8-d82d-4211-83af-6d4af254324f"
      },
      "source": [
        "div_term"
      ],
      "execution_count": 41,
      "outputs": [
        {
          "output_type": "execute_result",
          "data": {
            "text/plain": [
              "tensor([1.0000e+00, 5.4117e-01, 2.9286e-01, 1.5849e-01, 8.5770e-02, 4.6416e-02,\n",
              "        2.5119e-02, 1.3594e-02, 7.3564e-03, 3.9811e-03, 2.1544e-03, 1.1659e-03,\n",
              "        6.3096e-04, 3.4146e-04, 1.8479e-04])"
            ]
          },
          "metadata": {
            "tags": []
          },
          "execution_count": 41
        }
      ]
    },
    {
      "cell_type": "code",
      "metadata": {
        "id": "wDKupQkph3M6"
      },
      "source": [
        "pe[:, 0::2] = torch.sin(position * div_term)\n",
        "pe[:, 1::2] = torch.cos(position * div_term)\n",
        "pe = pe.unsqueeze(0)"
      ],
      "execution_count": 42,
      "outputs": []
    },
    {
      "cell_type": "code",
      "metadata": {
        "colab": {
          "base_uri": "https://localhost:8080/"
        },
        "id": "thtpGM8zh-IN",
        "outputId": "fc9dacf8-99f0-4ad5-d36c-a603b28c3399"
      },
      "source": [
        "pe"
      ],
      "execution_count": 43,
      "outputs": [
        {
          "output_type": "execute_result",
          "data": {
            "text/plain": [
              "tensor([[[ 0.0000e+00,  1.0000e+00,  0.0000e+00,  ...,  1.0000e+00,\n",
              "           0.0000e+00,  1.0000e+00],\n",
              "         [ 8.4147e-01,  5.4030e-01,  5.1514e-01,  ...,  1.0000e+00,\n",
              "           1.8479e-04,  1.0000e+00],\n",
              "         [ 9.0930e-01, -4.1615e-01,  8.8306e-01,  ...,  1.0000e+00,\n",
              "           3.6957e-04,  1.0000e+00],\n",
              "         ...,\n",
              "         [ 3.7961e-01, -9.2515e-01,  7.9173e-01,  ...,  9.9945e-01,\n",
              "           1.7923e-02,  9.9984e-01],\n",
              "         [-5.7338e-01, -8.1929e-01,  3.6391e-01,  ...,  9.9944e-01,\n",
              "           1.8108e-02,  9.9984e-01],\n",
              "         [-9.9921e-01,  3.9821e-02, -1.6791e-01,  ...,  9.9943e-01,\n",
              "           1.8293e-02,  9.9983e-01]]])"
            ]
          },
          "metadata": {
            "tags": []
          },
          "execution_count": 43
        }
      ]
    },
    {
      "cell_type": "code",
      "metadata": {
        "colab": {
          "base_uri": "https://localhost:8080/"
        },
        "id": "j65SsvC0iGXy",
        "outputId": "34adcd1a-3257-4208-e7d2-d013887df49e"
      },
      "source": [
        "pe.shape"
      ],
      "execution_count": 44,
      "outputs": [
        {
          "output_type": "execute_result",
          "data": {
            "text/plain": [
              "torch.Size([1, 100, 30])"
            ]
          },
          "metadata": {
            "tags": []
          },
          "execution_count": 44
        }
      ]
    },
    {
      "cell_type": "code",
      "metadata": {
        "colab": {
          "base_uri": "https://localhost:8080/"
        },
        "id": "xTI4kb4eiv9a",
        "outputId": "dd02c0e3-803c-4c3c-dfca-edc0358c9eb0"
      },
      "source": [
        "pe[:, :2]"
      ],
      "execution_count": 45,
      "outputs": [
        {
          "output_type": "execute_result",
          "data": {
            "text/plain": [
              "tensor([[[0.0000e+00, 1.0000e+00, 0.0000e+00, 1.0000e+00, 0.0000e+00,\n",
              "          1.0000e+00, 0.0000e+00, 1.0000e+00, 0.0000e+00, 1.0000e+00,\n",
              "          0.0000e+00, 1.0000e+00, 0.0000e+00, 1.0000e+00, 0.0000e+00,\n",
              "          1.0000e+00, 0.0000e+00, 1.0000e+00, 0.0000e+00, 1.0000e+00,\n",
              "          0.0000e+00, 1.0000e+00, 0.0000e+00, 1.0000e+00, 0.0000e+00,\n",
              "          1.0000e+00, 0.0000e+00, 1.0000e+00, 0.0000e+00, 1.0000e+00],\n",
              "         [8.4147e-01, 5.4030e-01, 5.1514e-01, 8.5711e-01, 2.8870e-01,\n",
              "          9.5742e-01, 1.5783e-01, 9.8747e-01, 8.5664e-02, 9.9632e-01,\n",
              "          4.6399e-02, 9.9892e-01, 2.5116e-02, 9.9968e-01, 1.3593e-02,\n",
              "          9.9991e-01, 7.3564e-03, 9.9997e-01, 3.9811e-03, 9.9999e-01,\n",
              "          2.1544e-03, 1.0000e+00, 1.1659e-03, 1.0000e+00, 6.3096e-04,\n",
              "          1.0000e+00, 3.4146e-04, 1.0000e+00, 1.8479e-04, 1.0000e+00]]])"
            ]
          },
          "metadata": {
            "tags": []
          },
          "execution_count": 45
        }
      ]
    },
    {
      "cell_type": "code",
      "metadata": {
        "id": "fbsDSuocnjID"
      },
      "source": [
        ""
      ],
      "execution_count": null,
      "outputs": []
    }
  ]
}