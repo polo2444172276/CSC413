{
 "cells": [
  {
   "cell_type": "markdown",
   "metadata": {},
   "source": [
    "# CSC413 - Tutorial 2"
   ]
  },
  {
   "cell_type": "markdown",
   "metadata": {},
   "source": [
    "## Tutorial overview\n",
    "\n",
    "- Introduction to interactive notebooks\n",
    "\n",
    "- Introduction to Autograd and PyTorch\n",
    "\n",
    "- Walk-through several PyTorch models (with increasing levels of complexity and abstraction"
   ]
  },
  {
   "cell_type": "markdown",
   "metadata": {},
   "source": [
    "## Interactive notebooks\n",
    "\n",
    "### Overview\n",
    "\n",
    "- Keep documentation, code, and outputs in the same file.\n",
    "\n",
    "- Many different implementations (e.g. Jupyter, Google Colab, Zeppelin, etc.)\n",
    "\n",
    "- Many different languages (e.g. Python, C++ (xeus), Scala, etc.)\n",
    "\n",
    "### Jupyter notebooks / lab\n",
    "\n",
    "-\n",
    "\n",
    "### Google Colab\n",
    "\n",
    "- Hosted interactive notebooks (similar to Jupyter notebooks).\n",
    "\n",
    "- Can get a free GPU or TPU (for at most 12 hours...).\n",
    "\n",
    "- (Note to self:) Make sure to select a runtime with a GPU."
   ]
  },
  {
   "cell_type": "markdown",
   "metadata": {
    "colab_type": "text",
    "id": "oW6E9VvcmYpd"
   },
   "source": [
    "## Automatic differentiation\n",
    "\n",
    "References:\n",
    "\n",
    "- Ryan Adams' talk: https://www.youtube.com/watch?v=sq2gPzlrM0g\n",
    "- Backpropagation notes from Stanford's CS231n: http://cs231n.github.io/optimization-2/\n",
    "- Autograd Github Repository (contains a tutorial and examples): https://github.com/HIPS/autograd\n",
    "\n",
    "### Approaches for Computing Derivatives\n",
    "\n",
    "- **Symbolic differentiation:** automatic manipulation of mathematical expressions to get derivatives\n",
    "    - Takes a math expression and returns a math expression: $f(x) = x^2 \\rightarrow \\frac{df(x)}{dx} = 2x$\n",
    "    - Used in Mathematica, Maple, SymPy, etc.\n",
    "\n",
    "- **Numeric differentiation:** Approximating derivatives by finite differences:\n",
    "$$\n",
    "\\frac{\\partial}{\\partial x_i} f(x_1, \\dots, x_N) = \\lim_{h \\to 0} \\frac{f(x_1, \\dots, x_i + h, \\dots, x_N) - f(x_1, \\dots, x_i - h, \\dots, x_N)}{2h}\n",
    "$$\n",
    "\n",
    "- **Automatic differentiation:** Takes code that computes a function and returns code that computes the derivative of that function.\n",
    "    - Reverse Mode AD: A method to get exact derivatives efficiently, by storing information as you go forward that you can reuse as you go backwards\n",
    "    - _\"The goal isn't to obtain closed-form solutions, but to be able to wirte a program that efficiently computes the derivatives.\"_ - Lecture 6 Slides (Backpropagation)\n",
    "    - **PyTorch**, **Autograd**, **JAX**"
   ]
  },
  {
   "cell_type": "markdown",
   "metadata": {
    "colab_type": "text",
    "id": "oW6E9VvcmYpd"
   },
   "source": [
    "### Reverse mode automatic differentiation\n",
    "\n",
    "In machine learning, we have functions that have large fan-in, e.g. a neural net can have millions of parameters, that all squeeze down to one scalar that tells you how well it predicts something.\n",
    "\n",
    "#### General idea for implementation\n",
    "\n",
    "* Create a \"tape\" data structure that tracks the operations performed in computing a function.\n",
    "* Overload primitives to:\n",
    "    - Add themselves to the tape when called.\n",
    "    - Compute gradients with respect to their local inputs.\n",
    "* _Forward pass_ computes the function, and adds operations to the tape.\n",
    "* _Reverse pass_ accumulates the local gradients using the chain rule.\n",
    "* This is efficient for graphs with large fan-in, like most loss functions in ML."
   ]
  },
  {
   "cell_type": "markdown",
   "metadata": {
    "colab_type": "text",
    "id": "0JxunitHmYpf"
   },
   "source": [
    "### Autograd\n",
    "\n",
    "* [Autograd](https://github.com/HIPS/autograd) is a Python package for automatic differentiation.\n",
    "* To install Autograd:\n",
    "                pip install autograd\n",
    "* There are a lot of great [examples](https://github.com/HIPS/autograd/tree/master/examples) provided with the source code.\n",
    "\n",
    "### What can Autograd do?\n",
    "\n",
    "From the Autograd Github repository:\n",
    "\n",
    "* Autograd can automatically differentiate native Python and Numpy code.\n",
    "* It can handle a large subset of Python's features, including loops, conditional statements (if/else), recursion and closures\n",
    "* It can also compute higher-order derivatives\n",
    "* It uses reverse-mode differentiation (a.k.a. backpropagation) so it can efficiently take gradients of scalar-valued functions with respect to array-valued arguments.\n",
    "\n",
    "\n",
    "### Autograd vs Tensorflow, Theano, etc.\n",
    "\n",
    "Many deep learning packages implement automatic differentiation using small _domain-specific languages_ within Python:\n",
    "- Theano\n",
    "- Caffe\n",
    "- Vanilla Torch (as compared to Autograd for Torch)\n",
    "- Tensorflow\n",
    "\n",
    "Most of these alternatives require you to _explicitly_ construct a computation graph; Autograd constructs a computation graph _implicitly_, by tracking the sequence of operations that have been performed during the execution of a program.\n"
   ]
  },
  {
   "cell_type": "markdown",
   "metadata": {
    "colab_type": "text",
    "id": "1kDjpkTqmYph"
   },
   "source": [
    "### Autograd basic usage"
   ]
  },
  {
   "cell_type": "code",
   "execution_count": 1,
   "metadata": {},
   "outputs": [],
   "source": [
    "import autograd.numpy as jnp  # Import thinly-wrapped numpy\n",
    "from autograd import grad  # Basicallly the only autograd function you need"
   ]
  },
  {
   "cell_type": "code",
   "execution_count": 2,
   "metadata": {
    "colab": {
     "base_uri": "https://localhost:8080/",
     "height": 51
    },
    "colab_type": "code",
    "id": "szDksM6wmYpn",
    "outputId": "f0f05894-4e66-4679-8db0-c8a2424c2237"
   },
   "outputs": [
    {
     "name": "stdout",
     "output_type": "stream",
     "text": [
      "0.39322386648296376\n",
      "0.39322386636453377\n"
     ]
    }
   ],
   "source": [
    "# Define a function like normal, using Python and (autograd's) NumPy\n",
    "def tanh(x):\n",
    "    y = jnp.exp(-x)\n",
    "    return (1.0 - y) / (1.0 + y)\n",
    "\n",
    "\n",
    "# Create a *function* that computes the gradient of tanh\n",
    "grad_tanh = grad(tanh)\n",
    "\n",
    "# Evaluate the gradient at x = 1.0\n",
    "print(grad_tanh(1.0))\n",
    "\n",
    "# Compare to numeric gradient computed using finite differences\n",
    "print((tanh(1.0001) - tanh(0.9999)) / 0.0002)"
   ]
  },
  {
   "cell_type": "markdown",
   "metadata": {
    "colab_type": "text",
    "id": "SDGKdlknJMuK"
   },
   "source": [
    "## PyTorch\n",
    "\n",
    "- Makes it possible to work with arrays and tensors efficiently in Python (wraps NumPy for CPU tensors).\n",
    "\n",
    "- Adds GPU support.\n",
    "\n",
    "- Adds automatic differentiation.\n",
    "\n",
    "- Provides a high-level abstractions for working with neural networks."
   ]
  },
  {
   "cell_type": "code",
   "execution_count": 3,
   "metadata": {},
   "outputs": [],
   "source": [
    "import matplotlib.pyplot as plt\n",
    "import numpy as np\n",
    "import numpy.random as npr\n",
    "import torch\n",
    "\n",
    "%matplotlib inline"
   ]
  },
  {
   "cell_type": "markdown",
   "metadata": {},
   "source": [
    "### PyTorch — API\n",
    "\n",
    "See: https://pytorch.org/docs/stable/index.html (especially `torch`, `torch.nn`, `torch.nn.functional`, and `torch.Tensor`)."
   ]
  },
  {
   "cell_type": "code",
   "execution_count": 4,
   "metadata": {},
   "outputs": [
    {
     "data": {
      "text/plain": [
       "tensor([1., 2., 3., 4.])"
      ]
     },
     "execution_count": 4,
     "metadata": {},
     "output_type": "execute_result"
    }
   ],
   "source": [
    "x = torch.tensor([1.0, 2.0, 3.0, 4.0])\n",
    "\n",
    "x"
   ]
  },
  {
   "cell_type": "code",
   "execution_count": 5,
   "metadata": {},
   "outputs": [
    {
     "data": {
      "text/plain": [
       "tensor([100., 200., 300.,   4.])"
      ]
     },
     "execution_count": 5,
     "metadata": {},
     "output_type": "execute_result"
    }
   ],
   "source": [
    "x_np = np.array([1.0, 2.0, 3.0, 4.0], dtype=np.float32)\n",
    "x = torch.from_numpy(x_np)\n",
    "\n",
    "# Torch abstracts over NumPy but uses a NumPy-compatible representation under the hood\n",
    "x_np[0] = 100.0\n",
    "x[1] = 200.0\n",
    "x.data.numpy()[2] = 300\n",
    "\n",
    "x"
   ]
  },
  {
   "cell_type": "code",
   "execution_count": 6,
   "metadata": {},
   "outputs": [
    {
     "data": {
      "text/plain": [
       "tensor([[200., 300., 400., 104.],\n",
       "        [300., 400., 500., 204.],\n",
       "        [400., 500., 600., 304.],\n",
       "        [104., 204., 304.,   8.]])"
      ]
     },
     "execution_count": 6,
     "metadata": {},
     "output_type": "execute_result"
    }
   ],
   "source": [
    "# Broadcasting\n",
    "x.reshape(-1, 1) + x"
   ]
  },
  {
   "cell_type": "code",
   "execution_count": 7,
   "metadata": {},
   "outputs": [
    {
     "data": {
      "text/plain": [
       "tensor(140016.)"
      ]
     },
     "execution_count": 7,
     "metadata": {},
     "output_type": "execute_result"
    }
   ],
   "source": [
    "# Dot product\n",
    "x @ x.T"
   ]
  },
  {
   "cell_type": "markdown",
   "metadata": {},
   "source": [
    "### PyTorch — GPU support\n",
    "\n",
    "We can move PyTorch tensors to the GPU, which allows us to perform some computations much faster."
   ]
  },
  {
   "cell_type": "code",
   "execution_count": 8,
   "metadata": {},
   "outputs": [
    {
     "data": {
      "text/plain": [
       "device(type='cuda')"
      ]
     },
     "execution_count": 8,
     "metadata": {},
     "output_type": "execute_result"
    }
   ],
   "source": [
    "device = torch.device(\"cuda\" if torch.cuda.is_available() else \"cpu\")\n",
    "\n",
    "device"
   ]
  },
  {
   "cell_type": "code",
   "execution_count": 9,
   "metadata": {},
   "outputs": [
    {
     "data": {
      "text/plain": [
       "tensor([100., 200., 300.,   4.], device='cuda:0')"
      ]
     },
     "execution_count": 9,
     "metadata": {},
     "output_type": "execute_result"
    }
   ],
   "source": [
    "x = x.to(device=device)\n",
    "\n",
    "x"
   ]
  },
  {
   "cell_type": "code",
   "execution_count": 10,
   "metadata": {},
   "outputs": [
    {
     "data": {
      "text/plain": [
       "tensor(140016., device='cuda:0')"
      ]
     },
     "execution_count": 10,
     "metadata": {},
     "output_type": "execute_result"
    }
   ],
   "source": [
    "x @ x.T"
   ]
  },
  {
   "cell_type": "markdown",
   "metadata": {
    "colab_type": "text",
    "id": "SDGKdlknJMuK"
   },
   "source": [
    "### PyTorch — Automatic differentiation\n",
    "\n",
    "PyTorch allows us to dynamically define computational graphs that can be evaluated efficently on GPUs."
   ]
  },
  {
   "cell_type": "code",
   "execution_count": 11,
   "metadata": {},
   "outputs": [
    {
     "data": {
      "text/plain": [
       "tensor([1.])"
      ]
     },
     "execution_count": 11,
     "metadata": {},
     "output_type": "execute_result"
    }
   ],
   "source": [
    "data = torch.tensor([1.0])\n",
    "data"
   ]
  },
  {
   "cell_type": "code",
   "execution_count": 12,
   "metadata": {},
   "outputs": [
    {
     "data": {
      "text/plain": [
       "tensor([1.], requires_grad=True)"
      ]
     },
     "execution_count": 12,
     "metadata": {},
     "output_type": "execute_result"
    }
   ],
   "source": [
    "param = torch.tensor([1.0], requires_grad=True)\n",
    "param"
   ]
  },
  {
   "cell_type": "code",
   "execution_count": 13,
   "metadata": {},
   "outputs": [
    {
     "data": {
      "text/plain": [
       "tensor([2.], grad_fn=<AddBackward0>)"
      ]
     },
     "execution_count": 13,
     "metadata": {},
     "output_type": "execute_result"
    }
   ],
   "source": [
    "(data + param)"
   ]
  },
  {
   "cell_type": "markdown",
   "metadata": {},
   "source": [
    "For a more concrete example, let's work with the function:\n",
    "\n",
    "$$f(x) = x^2 + 2x + 6$$"
   ]
  },
  {
   "cell_type": "code",
   "execution_count": 14,
   "metadata": {
    "colab": {
     "base_uri": "https://localhost:8080/",
     "height": 34
    },
    "colab_type": "code",
    "id": "lKC3Lzwqs07E",
    "outputId": "ef425156-f89a-43ac-aa1d-1671544c6065"
   },
   "outputs": [
    {
     "name": "stdout",
     "output_type": "stream",
     "text": [
      "tensor([30.], dtype=torch.float64, grad_fn=<AddBackward0>)\n"
     ]
    }
   ],
   "source": [
    "def f(x):\n",
    "    return x ** 2 + 2 * x + 6\n",
    "\n",
    "\n",
    "np_x = np.array([4.0])\n",
    "x = torch.from_numpy(np_x).requires_grad_(True)\n",
    "y = f(x)\n",
    "print(y)"
   ]
  },
  {
   "cell_type": "code",
   "execution_count": 15,
   "metadata": {
    "colab": {
     "base_uri": "https://localhost:8080/",
     "height": 34
    },
    "colab_type": "code",
    "id": "kWQJmBlytIOV",
    "outputId": "2075ad1e-e13a-4f3b-98b7-4991060cf467"
   },
   "outputs": [
    {
     "data": {
      "text/plain": [
       "tensor([10.], dtype=torch.float64)"
      ]
     },
     "execution_count": 15,
     "metadata": {},
     "output_type": "execute_result"
    }
   ],
   "source": [
    "y.backward()\n",
    "x.grad"
   ]
  },
  {
   "cell_type": "code",
   "execution_count": 16,
   "metadata": {
    "colab": {},
    "colab_type": "code",
    "id": "nCdN3mtXtX-N"
   },
   "outputs": [],
   "source": [
    "np_x = np.array([5.0])\n",
    "x = torch.from_numpy(np_x).requires_grad_(True)\n",
    "y = f(x)"
   ]
  },
  {
   "cell_type": "code",
   "execution_count": 17,
   "metadata": {
    "colab": {
     "base_uri": "https://localhost:8080/",
     "height": 34
    },
    "colab_type": "code",
    "id": "2TWXc5gmtdrA",
    "outputId": "2e058699-1e92-470b-8128-749cb5938c45"
   },
   "outputs": [
    {
     "data": {
      "text/plain": [
       "tensor([12.], dtype=torch.float64)"
      ]
     },
     "execution_count": 17,
     "metadata": {},
     "output_type": "execute_result"
    }
   ],
   "source": [
    "y.backward()\n",
    "x.grad"
   ]
  },
  {
   "cell_type": "markdown",
   "metadata": {
    "colab_type": "text",
    "id": "v60TtmvumYps"
   },
   "source": [
    "### PyTorch autodiff vs. manual gradients via staged computation\n",
    "\n",
    "In this example, we will see how a complicated computation can be written as a composition of simpler functions, and how this provides a scalable strategy for computing gradients using the chain rule.\n",
    "\n",
    "Say we want to write a function to compute the gradient of the *sigmoid function*:\n",
    "$$\n",
    "\\sigma(x) = \\frac{1}{1 + e^{-x}}\n",
    "$$\n",
    "We can write $\\sigma(x)$ as a composition of several elementary functions, as $\\sigma(x) = s(c(b(a(x))))$, where:\n",
    "\n",
    "$$\n",
    "a(x) = -x\n",
    "$$\n",
    "\n",
    "$$\n",
    "b(a) = e^a\n",
    "$$\n",
    "\n",
    "$$\n",
    "c(b) = 1 + b\n",
    "$$\n",
    "\n",
    "$$\n",
    "s(c) = \\frac{1}{c}\n",
    "$$\n",
    "\n",
    "Here, we have \"staged\" the computation such that it contains several intermediate variables, each of which are basic expressions for which we can easily compute the local gradients.\n",
    "\n",
    "The computation graph for this expression is shown in the figure below. \n",
    " \n",
    "![Gradient Computation Image](https://drive.google.com/uc?export=view&id=1bvdPv0MI2eM3GeobsHFsFjLrLsibuhJa)\n",
    "\n",
    "The input to this function is $x$, and the output is represented by node $s$. We wish compute the gradient of $s$ with respect to $x$, $\\frac{\\partial s}{\\partial x}$. In order to make use of our intermediate computations, we can use the chain rule as follows:\n",
    "$$\n",
    "\\frac{\\partial s}{\\partial x} = \\frac{\\partial s}{\\partial c} \\frac{\\partial c}{\\partial b} \\frac{\\partial b}{\\partial a} \\frac{\\partial a}{\\partial x}\n",
    "$$\n",
    "\n",
    "<!--\n",
    "Given a vector-to-scalar function, $\\mathbb{R}^D \\to \\mathbb{R}$, composed of a set of primitive functions\n",
    "$\\mathbb{R}^M \\to \\mathbb{R}^N$ (for various $M$, $N$), the gradient of the composition is given by the product of the gradients of the primitive functions, according to the chain rule. But the chain rule doesn’t prescribe the order in which to multiply the gradients. From the perspective of computational complexity, the order makes all the\n",
    "difference.\n",
    "-->"
   ]
  },
  {
   "cell_type": "code",
   "execution_count": 18,
   "metadata": {
    "colab": {
     "base_uri": "https://localhost:8080/",
     "height": 51
    },
    "colab_type": "code",
    "id": "D5RUMyRsmYpt",
    "outputId": "60bb0e8a-e8da-4ea3-dd80-483fa8c50dd0"
   },
   "outputs": [
    {
     "name": "stdout",
     "output_type": "stream",
     "text": [
      "autograd: 0.10499356687068939\n",
      "manual: 0.10499357432126999\n",
      "symbolic: 0.10499362647533417\n"
     ]
    }
   ],
   "source": [
    "def sigmoid(x):\n",
    "    \"\"\"Sigmoid function reimplemented for clarity. Use `torch.sigmoid` in real life!\"\"\"\n",
    "    y = 1.0 / (1.0 + torch.exp(-x))\n",
    "    return y\n",
    "\n",
    "\n",
    "def grad_sigmoid_pytorch(x):\n",
    "    x = x.clone().requires_grad_(True)\n",
    "    y = sigmoid(x)\n",
    "    y.backward()\n",
    "    return x.grad\n",
    "\n",
    "\n",
    "def grad_sigmoid_manual(x):\n",
    "    \"\"\"Implements the gradient of the logistic sigmoid function\n",
    "    $\\sigma(x) = 1 / (1 + e^{-x})$ using staged computation\n",
    "    \"\"\"\n",
    "    # Forward pass, keeping track of intermediate values for use in the\n",
    "    # backward pass\n",
    "    a = -x  # -x in denominator\n",
    "    b = np.exp(a)  # e^{-x} in denominator\n",
    "    c = 1 + b  # 1 + e^{-x} in denominator\n",
    "    s = 1.0 / c  # Final result, 1.0 / (1 + e^{-x})\n",
    "\n",
    "    # Backward pass\n",
    "    dsdc = -1.0 / (c ** 2)\n",
    "    dsdb = dsdc * 1\n",
    "    dsda = dsdb * torch.exp(a)\n",
    "    dsdx = dsda * (-1)\n",
    "\n",
    "    return dsdx\n",
    "\n",
    "\n",
    "def grad_sigmoid_symbolic(x):\n",
    "    # Since d sigmoid(x) / dx = sigmoid(x) * (1 - sigmoid(x))\n",
    "    s = sigmoid(x)\n",
    "    dsdx = s * (1 - s)\n",
    "    return dsdx\n",
    "\n",
    "\n",
    "input_x = torch.tensor([2.0])\n",
    "\n",
    "\n",
    "# Compare the results of manual and automatic gradient functions:\n",
    "print(\"autograd:\", grad_sigmoid_pytorch(input_x).item())\n",
    "print(\"manual:\", grad_sigmoid_manual(input_x).item())\n",
    "print(\"symbolic:\", grad_sigmoid_symbolic(input_x).item())"
   ]
  },
  {
   "cell_type": "markdown",
   "metadata": {
    "colab_type": "text",
    "id": "YTHQYM2ImYq4"
   },
   "source": [
    "### Implementing custom gradients\n",
    "\n",
    "One thing you can do is define custom gradients for your own functions. There are several reasons you might want to do this, including:\n",
    "\n",
    "1. **Speed:** You may know a faster way to compute the gradient for a specific function.\n",
    "2. **Numerical Stability**\n",
    "3. When your code depends on **external library calls**\n",
    "\n",
    "The `@primitive` decorator wraps a function so that its gradient can be specified manually and its invocation can be recorded."
   ]
  },
  {
   "cell_type": "code",
   "execution_count": 19,
   "metadata": {},
   "outputs": [],
   "source": [
    "class MySigmoid(torch.autograd.Function):\n",
    "    \"\"\"\n",
    "    We can implement our own custom autograd Functions by subclassing\n",
    "    torch.autograd.Function and implementing the forward and backward passes\n",
    "    which operate on Tensors.\n",
    "    \"\"\"\n",
    "\n",
    "    @staticmethod\n",
    "    def forward(ctx, input):\n",
    "        \"\"\"\n",
    "        In the forward pass we receive a Tensor containing the input and return\n",
    "        a Tensor containing the output. ctx is a context object that can be used\n",
    "        to stash information for backward computation. You can cache arbitrary\n",
    "        objects for use in the backward pass using the ctx.save_for_backward method.\n",
    "        \"\"\"\n",
    "        ans = 1.0 / (1.0 + torch.exp(-input))\n",
    "        ctx.save_for_backward(input, ans)\n",
    "        return ans\n",
    "\n",
    "    @staticmethod\n",
    "    def backward(ctx, grad_output):\n",
    "        \"\"\"\n",
    "        In the backward pass we receive a Tensor containing the gradient of the loss\n",
    "        with respect to the output, and we need to compute the gradient of the loss\n",
    "        with respect to the input.\n",
    "        \"\"\"\n",
    "        input, ans = ctx.saved_tensors\n",
    "        return grad_output * ans * (1 - ans)"
   ]
  },
  {
   "cell_type": "code",
   "execution_count": 20,
   "metadata": {},
   "outputs": [
    {
     "data": {
      "text/plain": [
       "0.10499362647533417"
      ]
     },
     "execution_count": 20,
     "metadata": {},
     "output_type": "execute_result"
    }
   ],
   "source": [
    "my_sigmoid = MySigmoid.apply\n",
    "\n",
    "x = input_x.clone().requires_grad_(True)\n",
    "y = my_sigmoid(x)\n",
    "y.backward()\n",
    "x.grad.item()"
   ]
  },
  {
   "cell_type": "markdown",
   "metadata": {
    "colab_type": "text",
    "id": "I-ePOja_mYrA"
   },
   "source": [
    "## Basic models\n",
    "\n",
    "The next three sections of the notebook show examples of using pytorch in the context of three problems:\n",
    "\n",
    "1. **1-D linear regression**, where we try to fit a model to a function $y = wx + b$\n",
    "2. **Linear regression using a polynomial feature map**, to fit a function of the form $y = w_0 + w_1 x + w_2 x^2 + \\dots + w_M x^M$\n",
    "3. **Nonlinear regression using a neural network**"
   ]
  },
  {
   "cell_type": "markdown",
   "metadata": {
    "colab_type": "text",
    "id": "JBs8UkXfmYrC"
   },
   "source": [
    "### Linear Regression"
   ]
  },
  {
   "cell_type": "markdown",
   "metadata": {
    "colab_type": "text",
    "id": "cLHB3U0BmYrD"
   },
   "source": [
    "#### Review\n",
    "\n",
    "We are given a set of data points $\\{ (x_1, t_1), (x_2, t_2), \\dots, (x_N, t_N) \\}$, where each point $(x_i, t_i)$ consists of an *input value* $x_i$ and a *target value* $t_i$. \n",
    "\n",
    "The **model** we use is:\n",
    "$$\n",
    "y_i = wx_i + b\n",
    "$$\n",
    "\n",
    "We want each predicted value $y_i$ to be close to the ground truth value $t_i$. In linear regression, we use squared error to quantify the disagreement between $y_i$ and $t_i$. The **loss function** for a single example is:\n",
    "$$\n",
    "\\mathcal{L}(y_i,t_i) = \\frac{1}{2} (y_i - t_i)^2\n",
    "$$\n",
    "\n",
    "The **cost function** is the loss averaged over all the training examples:\n",
    "$$\n",
    "\\mathcal{E}(w,b) = \\frac{1}{N} \\sum_{i=1}^N \\mathcal{L}(y_i, t_i) = \\frac{1}{N} \\sum_{i=1}^N \\frac{1}{2} \\left(wx_i + b - t_i \\right)^2\n",
    "$$"
   ]
  },
  {
   "cell_type": "markdown",
   "metadata": {
    "colab": {},
    "colab_type": "code",
    "id": "dOjH3W31ITDU"
   },
   "source": [
    "#### Data generation"
   ]
  },
  {
   "cell_type": "markdown",
   "metadata": {
    "colab_type": "text",
    "id": "b-BhEYZOmYrJ"
   },
   "source": [
    "We generate a synthetic dataset $\\{ (x_i, t_i) \\}$ by first taking the $x_i$ to be linearly spaced in the range $[0, 10]$ and generating the corresponding value of $t_i$ using the following equation (where $w = 4$ and $b=10$):\n",
    "$$\n",
    "t_i = 4 x_i + 10 + \\epsilon\n",
    "$$\n",
    "\n",
    "Here, $\\epsilon \\sim \\mathcal{N}(0, 2)$ (that is, $\\epsilon$ is drawn from a Gaussian distribution with mean 0 and variance 2). This introduces some random fluctuation in the data, to mimic real data that has an underlying regularity, but for which individual observations are corrupted by random noise."
   ]
  },
  {
   "cell_type": "code",
   "execution_count": 21,
   "metadata": {
    "colab": {
     "base_uri": "https://localhost:8080/",
     "height": 265
    },
    "colab_type": "code",
    "id": "mOLDubBYmYrK",
    "outputId": "5c85ac5d-bb0e-4ec9-f0cb-74c2d707006f"
   },
   "outputs": [
    {
     "data": {
      "image/png": "[encoded data removed]",
      "text/plain": [
       "<Figure size 432x288 with 1 Axes>"
      ]
     },
     "metadata": {
      "needs_background": "light"
     },
     "output_type": "display_data"
    }
   ],
   "source": [
    "# In our synthetic data, we have w = 4 and b = 10\n",
    "N = 100  # Number of training data points\n",
    "x = np.linspace(0, 10, N)\n",
    "\n",
    "t = 4 * x + 10 + npr.normal(0, 2, x.shape[0])\n",
    "plt.plot(x, t, \"r.\")\n",
    "\n",
    "x = torch.from_numpy(x)\n",
    "t = torch.from_numpy(t)"
   ]
  },
  {
   "cell_type": "code",
   "execution_count": 22,
   "metadata": {
    "colab": {
     "base_uri": "https://localhost:8080/",
     "height": 1000
    },
    "colab_type": "code",
    "id": "DWKVaOrimYrO",
    "outputId": "1a1e3f1d-5389-45c7-9da2-91472cdf95a7"
   },
   "outputs": [
    {
     "name": "stdout",
     "output_type": "stream",
     "text": [
      "i: 0     loss: 392.1020\n",
      "i: 100   loss: 8.4249\n",
      "i: 200   loss: 5.8527\n",
      "i: 300   loss: 4.2880\n",
      "i: 400   loss: 3.3361\n",
      "i: 500   loss: 2.7570\n",
      "i: 600   loss: 2.4047\n",
      "i: 700   loss: 2.1904\n",
      "i: 800   loss: 2.0600\n",
      "i: 900   loss: 1.9807\n",
      "{'w': tensor([4.0975], requires_grad=True), 'b': tensor([9.4508], requires_grad=True)}\n"
     ]
    }
   ],
   "source": [
    "# Initialize random parameters\n",
    "params = {\n",
    "    \"w\": torch.randn(1).requires_grad_(True),\n",
    "    \"b\": torch.randn(1).requires_grad_(True),\n",
    "}\n",
    "\n",
    "\n",
    "def cost(params):\n",
    "    y = params[\"w\"] * x + params[\"b\"]\n",
    "    return (1 / N) * torch.sum(0.5 * (y - t) ** 2)\n",
    "\n",
    "\n",
    "# Find the gradient of the cost function using pytorch\n",
    "num_epochs = 1000  # Number of epochs of training\n",
    "alpha = 0.01  # Learning rate\n",
    "\n",
    "for i in range(num_epochs):\n",
    "    # Evaluate the gradient of the current parameters stored in params\n",
    "    loss = cost(params)\n",
    "    loss.backward()\n",
    "\n",
    "    if i % 100 == 0:\n",
    "        print(f\"i: {i:<5d} loss: {loss.item():.4f}\")\n",
    "\n",
    "    # Update parameters w and b\n",
    "    with torch.no_grad():\n",
    "        params[\"w\"].data = params[\"w\"] - alpha * params[\"w\"].grad\n",
    "        params[\"b\"].data = params[\"b\"] - alpha * params[\"b\"].grad\n",
    "        params[\"w\"].grad.zero_()\n",
    "        params[\"b\"].grad.zero_()\n",
    "\n",
    "print(params)"
   ]
  },
  {
   "cell_type": "code",
   "execution_count": 23,
   "metadata": {
    "colab": {
     "base_uri": "https://localhost:8080/",
     "height": 282
    },
    "colab_type": "code",
    "id": "Q6JKtls8mYrY",
    "outputId": "154d136d-5e78-49cd-8cbf-46fa2029ff08"
   },
   "outputs": [
    {
     "data": {
      "text/plain": [
       "[<matplotlib.lines.Line2D at 0x7fbde0447850>]"
      ]
     },
     "execution_count": 23,
     "metadata": {},
     "output_type": "execute_result"
    },
    {
     "data": {
      "image/png": "[encoded data removed]",
      "text/plain": [
       "<Figure size 432x288 with 1 Axes>"
      ]
     },
     "metadata": {
      "needs_background": "light"
     },
     "output_type": "display_data"
    }
   ],
   "source": [
    "# Plot the training data again, together with the line defined by y = wx + b\n",
    "# where w and b are our final learned parameters\n",
    "plt.plot(x, t, \"r.\")\n",
    "plt.plot([0, 10], [params[\"b\"], params[\"w\"] * 10 + params[\"b\"]], \"b-\")"
   ]
  },
  {
   "cell_type": "markdown",
   "metadata": {
    "colab_type": "text",
    "id": "UMf3GbOhmYrc"
   },
   "source": [
    "### Linear regression with a feature mapping"
   ]
  },
  {
   "cell_type": "markdown",
   "metadata": {
    "colab_type": "text",
    "id": "I6sur0MDmYrd"
   },
   "source": [
    "In this example we will fit a polynomial using linear regression with a polynomial feature mapping.\n",
    "The target function is:\n",
    "\n",
    "$$\n",
    "t = x^4 - 10 x^2 + 10 x + \\epsilon\n",
    "$$\n",
    "\n",
    "where $\\epsilon \\sim \\mathcal{N}(0, 4)$. \n",
    "\n",
    "This is an example of a _generalized linear model_, in which we perform a fixed nonlinear transformation of the inputs $\\mathbf{x} = (x_1, x_2, \\dots, x_D)$, and the model is still linear in the _parameters_. We can define a set of _feature mappings_ (also called feature functions or basis functions) $\\phi$ to implement the fixed transformations.\n",
    "\n",
    "In this case, we have $x \\in \\mathbb{R}$, and we define the feature mapping:\n",
    "$$\n",
    "\\mathbf{\\phi}(x) = \\begin{pmatrix}\\phi_1(x) \\\\ \\phi_2(x) \\\\ \\phi_3(x) \\\\ \\phi_4(x) \\end{pmatrix} = \\begin{pmatrix}1\\\\x\\\\x^2\\\\x^3\\end{pmatrix}\n",
    "$$"
   ]
  },
  {
   "cell_type": "code",
   "execution_count": 24,
   "metadata": {
    "colab": {
     "base_uri": "https://localhost:8080/",
     "height": 265
    },
    "colab_type": "code",
    "id": "D-XKvKC4mYre",
    "outputId": "47d5582c-ef14-4989-d23d-826b94d3a762"
   },
   "outputs": [
    {
     "data": {
      "image/png": "[encoded data removed]",
      "text/plain": [
       "<Figure size 432x288 with 1 Axes>"
      ]
     },
     "metadata": {
      "needs_background": "light"
     },
     "output_type": "display_data"
    }
   ],
   "source": [
    "# Generate synthetic data\n",
    "N = 100  # Number of data points\n",
    "x = np.linspace(-3, 3, N)  # Generate N values linearly-spaced between -3 and 3\n",
    "t = x ** 4 - 10 * x ** 2 + 10 * x + npr.normal(0, 4, x.shape[0])  # Generate corresponding targets\n",
    "plt.plot(x, t, \"r.\")  # Plot data points\n",
    "\n",
    "t = torch.from_numpy(t).view(-1, 1)"
   ]
  },
  {
   "cell_type": "code",
   "execution_count": 25,
   "metadata": {
    "colab": {
     "base_uri": "https://localhost:8080/",
     "height": 1000
    },
    "colab_type": "code",
    "id": "oGgROsxlmYrk",
    "outputId": "c47b640f-3343-413b-f453-82825c30219a"
   },
   "outputs": [
    {
     "name": "stdout",
     "output_type": "stream",
     "text": [
      "torch.Size([5, 1])\n",
      "i: 0     loss: 1642.5674\n",
      "i: 100   loss: 75.2039\n",
      "i: 200   loss: 59.8006\n",
      "i: 300   loss: 48.5979\n",
      "i: 400   loss: 40.3790\n",
      "i: 500   loss: 34.2864\n",
      "i: 600   loss: 29.7154\n",
      "i: 700   loss: 26.2385\n",
      "i: 800   loss: 23.5535\n",
      "i: 900   loss: 21.4459\n",
      "tensor([[-2.6254],\n",
      "        [ 3.9200],\n",
      "        [-6.1207],\n",
      "        [ 0.9389],\n",
      "        [ 0.5118]], requires_grad=True)\n"
     ]
    }
   ],
   "source": [
    "M = 4  # Degree of polynomial to fit to the data (this is a hyperparameter)\n",
    "\n",
    "feature_matrix = torch.tensor(\n",
    "    [[item ** i for i in range(M + 1)] for item in x], dtype=torch.float32\n",
    ")\n",
    "\n",
    "params = {\n",
    "    \"w\": torch.randn(M + 1, 1).requires_grad_(True),\n",
    "}\n",
    "print(params[\"w\"].shape)\n",
    "\n",
    "\n",
    "def cost(params):\n",
    "    y = torch.mm(feature_matrix, params[\"w\"])\n",
    "    return (1.0 / N) * torch.sum(0.5 * (y - t) ** 2)\n",
    "\n",
    "\n",
    "# Compute the gradient of the cost function using Autograd\n",
    "\n",
    "\n",
    "num_epochs = 1000\n",
    "learning_rate = 0.001\n",
    "\n",
    "# Manually implement gradient descent\n",
    "for i in range(num_epochs):\n",
    "    loss = cost(params)\n",
    "    loss.backward()\n",
    "    if i % 100 == 0:\n",
    "        print(f\"i: {i:<5d} loss: {loss.item():.4f}\")\n",
    "    with torch.no_grad():\n",
    "        params[\"w\"].data = params[\"w\"] - learning_rate * params[\"w\"].grad\n",
    "        params[\"w\"].grad.zero_()\n",
    "\n",
    "\n",
    "# Print the final learned parameters.\n",
    "print(params[\"w\"])\n",
    "w = params[\"w\"].detach().cpu().numpy()"
   ]
  },
  {
   "cell_type": "code",
   "execution_count": 26,
   "metadata": {
    "colab": {
     "base_uri": "https://localhost:8080/",
     "height": 282
    },
    "colab_type": "code",
    "id": "CY3XajWcmYrp",
    "outputId": "2d6298d8-472a-472c-c970-60989157078b"
   },
   "outputs": [
    {
     "data": {
      "text/plain": [
       "[<matplotlib.lines.Line2D at 0x7fbde03941c0>]"
      ]
     },
     "execution_count": 26,
     "metadata": {},
     "output_type": "execute_result"
    },
    {
     "data": {
      "image/png": "[encoded data removed]",
      "text/plain": [
       "<Figure size 432x288 with 1 Axes>"
      ]
     },
     "metadata": {
      "needs_background": "light"
     },
     "output_type": "display_data"
    }
   ],
   "source": [
    "# Plot the original training data again, together with the polynomial we fit\n",
    "plt.plot(x, t, \"r.\")\n",
    "plt.plot(x, np.dot(feature_matrix, w), \"b-\")"
   ]
  },
  {
   "cell_type": "markdown",
   "metadata": {
    "colab_type": "text",
    "id": "OWYEe11YmYrs"
   },
   "source": [
    "### Neural net regression"
   ]
  },
  {
   "cell_type": "markdown",
   "metadata": {
    "colab_type": "text",
    "id": "C7bnv5LemYru"
   },
   "source": [
    "In this example we will implement a (nonlinear) regression model using a neural network. To implement and train a neural net using Autograd, you only have to define the forward pass of the network and the loss function you wish to use; you do _not_ need to implement the _backward pass_ of the network. When you take the gradient of the loss function using `grad`, Autograd automatically computes computes the backward pass. It essentially executes the backpropagation algorithm implicitly.\n",
    "\n",
    "![Neural Network Architecture for Regression](https://drive.google.com/uc?export=view&id=1iBNS40V_afm_Y1MUosDqeio0wbxgycfh)"
   ]
  },
  {
   "cell_type": "code",
   "execution_count": 27,
   "metadata": {
    "colab": {
     "base_uri": "https://localhost:8080/",
     "height": 265
    },
    "colab_type": "code",
    "id": "0TuIWDkCmYr5",
    "outputId": "7a7ead0c-353a-47ba-e020-568c9b652000"
   },
   "outputs": [
    {
     "data": {
      "image/png": "[encoded data removed]",
      "text/plain": [
       "<Figure size 432x288 with 1 Axes>"
      ]
     },
     "metadata": {
      "needs_background": "light"
     },
     "output_type": "display_data"
    }
   ],
   "source": [
    "# Generate synthetic data\n",
    "x = np.linspace(-5, 5, 1000)\n",
    "t = x ** 3 - 20 * x + 10 + npr.normal(0, 4, x.shape[0])\n",
    "plt.plot(x, t, \"r.\")\n",
    "\n",
    "x = torch.from_numpy(x).float()\n",
    "t = torch.from_numpy(t)"
   ]
  },
  {
   "cell_type": "code",
   "execution_count": 28,
   "metadata": {
    "colab": {
     "base_uri": "https://localhost:8080/",
     "height": 1000
    },
    "colab_type": "code",
    "id": "yphlCjMmmYr9",
    "outputId": "13396351-9c29-425b-85ac-65692a823a4c"
   },
   "outputs": [
    {
     "name": "stdout",
     "output_type": "stream",
     "text": [
      "tensor(295.3063, dtype=torch.float64, grad_fn=<MulBackward0>)\n",
      "i: 0     loss: 295.3063\n",
      "i: 500   loss: 36.7253\n",
      "i: 1000  loss: 27.0040\n",
      "i: 1500  loss: 24.3326\n",
      "i: 2000  loss: 22.7004\n",
      "i: 2500  loss: 21.5779\n",
      "i: 3000  loss: 20.7207\n",
      "i: 3500  loss: 20.0173\n",
      "i: 4000  loss: 19.3916\n",
      "i: 4500  loss: 18.8098\n",
      "i: 5000  loss: 18.2722\n",
      "i: 5500  loss: 17.7829\n",
      "i: 6000  loss: 17.3313\n",
      "i: 6500  loss: 16.9110\n",
      "i: 7000  loss: 16.5139\n",
      "i: 7500  loss: 16.1476\n",
      "i: 8000  loss: 15.7981\n",
      "i: 8500  loss: 15.4753\n",
      "i: 9000  loss: 15.1755\n",
      "i: 9500  loss: 14.8995\n"
     ]
    },
    {
     "data": {
      "image/png": "[encoded data removed]",
      "text/plain": [
       "<Figure size 432x288 with 1 Axes>"
      ]
     },
     "metadata": {
      "needs_background": "light"
     },
     "output_type": "display_data"
    }
   ],
   "source": [
    "inputs = x.reshape(x.shape[-1], 1)\n",
    "\n",
    "params = {\n",
    "    \"W1\": torch.randn(1, 4).requires_grad_(True),\n",
    "    \"b1\": torch.randn(4).requires_grad_(True),\n",
    "    \"W2\": torch.randn(4, 4).requires_grad_(True),\n",
    "    \"b2\": torch.randn(4).requires_grad_(True),\n",
    "    \"W3\": torch.randn(4, 1).requires_grad_(True),\n",
    "    \"b3\": torch.randn(1).requires_grad_(True),\n",
    "}\n",
    "\n",
    "\n",
    "# We can define an optimizer which takes care of updating parameters based on their gradient. We can use more complex optimizers like SGD+Momntum or Adam.\n",
    "optimizer = torch.optim.SGD(params.values(), lr=0.0001, weight_decay=0.0001, momentum=0.9)\n",
    "\n",
    "# Pytorch also has implementation of wide range of activation functions such as: Tanh, ReLU, LeakyReLU, ...\n",
    "nonlinearity = torch.nn.ReLU()\n",
    "\n",
    "\n",
    "def predict(params, inputs):\n",
    "    h1 = nonlinearity(torch.mm(inputs, params[\"W1\"]) + params[\"b1\"])\n",
    "    h2 = nonlinearity(torch.mm(h1, params[\"W2\"]) + params[\"b2\"])\n",
    "    output = torch.mm(h2, params[\"W3\"]) + params[\"b3\"]\n",
    "    return output\n",
    "\n",
    "\n",
    "def cost(params):\n",
    "    output = predict(params, inputs)\n",
    "    return (1.0 / inputs.shape[0]) * torch.sum(0.5 * (output.reshape(output.shape[0]) - t) ** 2)\n",
    "\n",
    "\n",
    "print(cost(params))\n",
    "\n",
    "num_epochs = 10000\n",
    "\n",
    "for i in range(num_epochs):\n",
    "    # Evaluate the gradient of the current parameters stored in params\n",
    "    loss = cost(params)\n",
    "    if i % 500 == 0:\n",
    "        print(f\"i: {i:<5d} loss: {loss.item():.4f}\")\n",
    "    optimizer.zero_grad()\n",
    "    loss.backward()\n",
    "    optimizer.step()\n",
    "\n",
    "with torch.no_grad():\n",
    "    final_y = predict(params, inputs)\n",
    "    plt.plot(x, t, \"r.\")\n",
    "    plt.plot(x, final_y, \"b-\")"
   ]
  },
  {
   "cell_type": "markdown",
   "metadata": {},
   "source": [
    "## Neural network models"
   ]
  },
  {
   "cell_type": "markdown",
   "metadata": {
    "colab_type": "text",
    "id": "QPKpJ3UyanuH"
   },
   "source": [
    "Unlike Tensorflow, we can define the graph on the fly. That is why it is more convenient to define a function in Python: we call the function as part of constructing the graph.\n",
    "\n",
    "Let's now create a simple model for classifiying MNIST digits."
   ]
  },
  {
   "cell_type": "markdown",
   "metadata": {
    "colab_type": "text",
    "id": "lkdDq61Ea38-"
   },
   "source": [
    "### MNIST classification"
   ]
  },
  {
   "cell_type": "markdown",
   "metadata": {
    "colab_type": "text",
    "id": "hiJiOPA5a-lu"
   },
   "source": [
    "MNIST is a famous dataset containing hand-written digits. The training set contains 60k and the test set contains 10k images. Pytorch has built-in functions for downloading well-known datasets like MNIST."
   ]
  },
  {
   "cell_type": "code",
   "execution_count": 29,
   "metadata": {
    "colab": {
     "base_uri": "https://localhost:8080/",
     "height": 513
    },
    "colab_type": "code",
    "id": "eeeIOIMha5da",
    "outputId": "7855870d-92d3-419a-e635-b9172ab46e34"
   },
   "outputs": [],
   "source": [
    "from torchvision import datasets, transforms\n",
    "\n",
    "mnist_train = datasets.MNIST(\"data\", train=True, download=True, transform=transforms.ToTensor())\n",
    "\n",
    "mnist_test = datasets.MNIST(\"../data\", train=False, download=True, transform=transforms.ToTensor())"
   ]
  },
  {
   "cell_type": "code",
   "execution_count": 30,
   "metadata": {
    "colab": {
     "base_uri": "https://localhost:8080/",
     "height": 221
    },
    "colab_type": "code",
    "id": "nTdP7vjzb35H",
    "outputId": "37165ce6-13ed-43fb-adda-d1b73fbbad65"
   },
   "outputs": [
    {
     "name": "stdout",
     "output_type": "stream",
     "text": [
      "Dataset MNIST\n",
      "    Number of datapoints: 60000\n",
      "    Root location: data\n",
      "    Split: Train\n",
      "    StandardTransform\n",
      "Transform: ToTensor()\n",
      "Dataset MNIST\n",
      "    Number of datapoints: 10000\n",
      "    Root location: ../data\n",
      "    Split: Test\n",
      "    StandardTransform\n",
      "Transform: ToTensor()\n"
     ]
    }
   ],
   "source": [
    "print(mnist_train)\n",
    "print(mnist_test)"
   ]
  },
  {
   "cell_type": "code",
   "execution_count": 31,
   "metadata": {
    "colab": {
     "base_uri": "https://localhost:8080/",
     "height": 282
    },
    "colab_type": "code",
    "id": "1dWTw-Rgbh5O",
    "outputId": "b19feac0-8842-45a4-cf4e-b10354777392"
   },
   "outputs": [
    {
     "name": "stdout",
     "output_type": "stream",
     "text": [
      "Label:  2\n"
     ]
    },
    {
     "data": {
      "image/png": "[encoded data removed]",
      "text/plain": [
       "<Figure size 432x288 with 1 Axes>"
      ]
     },
     "metadata": {
      "needs_background": "light"
     },
     "output_type": "display_data"
    }
   ],
   "source": [
    "i = npr.randint(1, 50000)\n",
    "example = mnist_train[i]\n",
    "print(\"Label: \", example[1])\n",
    "plt.imshow(example[0].reshape((28, 28)), cmap=plt.cm.gray)\n",
    "plt.grid(None)"
   ]
  },
  {
   "cell_type": "markdown",
   "metadata": {
    "colab_type": "text",
    "id": "F5cYaF7PcB7v"
   },
   "source": [
    "Pytorch's DataLoader is responsible for creating an iterator over the dataset.  "
   ]
  },
  {
   "cell_type": "code",
   "execution_count": 32,
   "metadata": {
    "colab": {
     "base_uri": "https://localhost:8080/",
     "height": 231
    },
    "colab_type": "code",
    "id": "4WDyu63wcV3Z",
    "outputId": "2160a2b1-c814-47de-fc8d-88ce272bebf2"
   },
   "outputs": [
    {
     "data": {
      "text/plain": [
       "<matplotlib.image.AxesImage at 0x7fbde0188d00>"
      ]
     },
     "execution_count": 32,
     "metadata": {},
     "output_type": "execute_result"
    },
    {
     "data": {
      "image/png": "[encoded data removed]",
      "text/plain": [
       "<Figure size 576x576 with 1 Axes>"
      ]
     },
     "metadata": {
      "needs_background": "light"
     },
     "output_type": "display_data"
    }
   ],
   "source": [
    "import torchvision\n",
    "from torch.utils.data import DataLoader\n",
    "\n",
    "mnist_train = datasets.MNIST(\"data\", train=True, download=True, transform=transforms.ToTensor())\n",
    "\n",
    "mnist_test = datasets.MNIST(\"data\", train=False, download=True, transform=transforms.ToTensor())\n",
    "\n",
    "bs = 32\n",
    "train_dl = DataLoader(mnist_train, batch_size=bs)\n",
    "test_dl = DataLoader(mnist_test, batch_size=100)\n",
    "\n",
    "dataiter = iter(train_dl)\n",
    "images, labels = dataiter.next()\n",
    "viz = torchvision.utils.make_grid(images, nrow=10, padding=2).numpy()\n",
    "fig, ax = plt.subplots(figsize=(8, 8))\n",
    "ax.imshow(np.transpose(viz, (1, 2, 0)))\n",
    "# ax.grid(None)"
   ]
  },
  {
   "cell_type": "markdown",
   "metadata": {
    "colab_type": "text",
    "id": "779GU7DKdVbn"
   },
   "source": [
    "Using pytorch built-in function we can easily define any model like multi-layer perceptrons. After training, we just care about the average test accuracy, so let's write a function to compute the accuracy over test set."
   ]
  },
  {
   "cell_type": "code",
   "execution_count": 33,
   "metadata": {
    "colab": {},
    "colab_type": "code",
    "id": "2Led8bErdZrw"
   },
   "outputs": [],
   "source": [
    "def get_test_stat(model, dl, device):\n",
    "    model.eval()\n",
    "    cum_loss, cum_acc = 0.0, 0.0\n",
    "    for i, (xb, yb) in enumerate(dl):\n",
    "        xb = xb.to(device)\n",
    "        yb = yb.to(device)\n",
    "\n",
    "        xb = xb.view(xb.size(0), -1)\n",
    "        y_pred = model(xb)\n",
    "        loss = loss_fn(y_pred, yb)\n",
    "        acc = (torch.max(y_pred.data, 1)[1] == yb).sum()  # accuracy(y_pred, yb)\n",
    "        cum_loss += loss.item() * len(yb)\n",
    "        cum_acc += acc.item() * len(yb)\n",
    "    cum_loss /= 10000\n",
    "    cum_acc /= 10000\n",
    "    model.train()\n",
    "    return cum_loss, cum_acc"
   ]
  },
  {
   "cell_type": "code",
   "execution_count": 34,
   "metadata": {
    "colab": {
     "base_uri": "https://localhost:8080/",
     "height": 85
    },
    "colab_type": "code",
    "id": "ohxuCpR9eLGt",
    "outputId": "bf710e4d-25eb-4595-c66a-8f340947cde2"
   },
   "outputs": [
    {
     "name": "stdout",
     "output_type": "stream",
     "text": [
      "Using cuda\n",
      "0\n",
      "Test loss: 0.41430835381150244  Test acc: 88.73\n",
      "1\n",
      "Test loss: 0.33078665044158695  Test acc: 90.71\n"
     ]
    }
   ],
   "source": [
    "dim_x = 784\n",
    "dim_h = 100\n",
    "dim_out = 10\n",
    "\n",
    "model = torch.nn.Sequential(\n",
    "    torch.nn.Linear(dim_x, dim_h),\n",
    "    torch.nn.ReLU(),\n",
    "    torch.nn.Linear(dim_h, dim_out),\n",
    ")\n",
    "\n",
    "learning_rate = 1e-2\n",
    "epochs = 2\n",
    "\n",
    "optimizer = torch.optim.SGD(model.parameters(), lr=learning_rate)\n",
    "\n",
    "# Using GPUs in PyTorch is pretty straightforward\n",
    "if torch.cuda.is_available():\n",
    "    print(\"Using cuda\")\n",
    "    use_cuda = True\n",
    "    device = torch.device(\"cuda\")\n",
    "else:\n",
    "    device = \"cpu\"\n",
    "\n",
    "# we need to tell pytorch to move the model to gpu\n",
    "model.to(device)\n",
    "\n",
    "loss_fn = torch.nn.CrossEntropyLoss()\n",
    "\n",
    "model.train()\n",
    "for epoch in range(epochs):\n",
    "    print(epoch)\n",
    "    for i, (xb, yb) in enumerate(train_dl):\n",
    "\n",
    "        # We also need to transfer the data to the target device\n",
    "        xb = xb.to(device)\n",
    "        yb = yb.to(device)\n",
    "        xb = xb.view(xb.size(0), -1)\n",
    "\n",
    "        # Forward pass\n",
    "        y_pred = model(xb)\n",
    "        loss = loss_fn(y_pred, yb)\n",
    "\n",
    "        # Backward pass\n",
    "        model.zero_grad()  # Zero out the previous gradient computation\n",
    "        loss.backward()  # Compute the gradient\n",
    "        optimizer.step()  # Use the gradient information to make a step\n",
    "\n",
    "    test_loss, test_acc = get_test_stat(model, test_dl, device)\n",
    "    print(\"Test loss: {}  Test acc: {}\".format(test_loss, test_acc))"
   ]
  },
  {
   "cell_type": "markdown",
   "metadata": {
    "colab_type": "text",
    "id": "nSTuUZlRgeUD"
   },
   "source": [
    "### Dynamic network"
   ]
  },
  {
   "cell_type": "markdown",
   "metadata": {
    "colab_type": "text",
    "id": "Ji_qMWsOgbbj"
   },
   "source": [
    "To showcase the power of PyTorch dynamic graphs, we will implement a very strange model: a fully-connected ReLU network that on each forward pass randomly chooses a number between 1 and 4 and has that many hidden layers, reusing the same weights multiple times to compute the innermost hidden layers.\n",
    "\n",
    "By Justin Johnson https://github.com/jcjohnson/pytorch-examples/blob/master/nn/dynamic_net.py"
   ]
  },
  {
   "cell_type": "code",
   "execution_count": 35,
   "metadata": {
    "colab": {
     "base_uri": "https://localhost:8080/",
     "height": 901
    },
    "colab_type": "code",
    "id": "D5dRsCN9gnvU",
    "outputId": "53d5f259-33e5-471a-c77c-3a4e311e3202"
   },
   "outputs": [
    {
     "name": "stdout",
     "output_type": "stream",
     "text": [
      "0 78.12210083007812\n",
      "10 22.95820426940918\n",
      "20 70.96601104736328\n",
      "30 54.48167419433594\n",
      "40 18.41326904296875\n"
     ]
    }
   ],
   "source": [
    "import random\n",
    "\n",
    "\n",
    "class DynamicNet(torch.nn.Module):\n",
    "    def __init__(self, D_in, H, D_out):\n",
    "        \"\"\"\n",
    "        In the constructor we construct three nn.Linear instances that we will use\n",
    "        in the forward pass.\n",
    "        \"\"\"\n",
    "        super(DynamicNet, self).__init__()\n",
    "        self.input_linear = torch.nn.Linear(D_in, H)\n",
    "        self.middle_linear = torch.nn.Linear(H, H)\n",
    "        self.output_linear = torch.nn.Linear(H, D_out)\n",
    "\n",
    "    def forward(self, x, verbose=False):\n",
    "        \"\"\"\n",
    "        For the forward pass of the model, we randomly choose either 0, 1, 2, or 3\n",
    "        and reuse the middle_linear Module that many times to compute hidden layer\n",
    "        representations.\n",
    "        Since each forward pass builds a dynamic computation graph, we can use normal\n",
    "        Python control-flow operators like loops or conditional statements when\n",
    "        defining the forward pass of the model.\n",
    "        Here we also see that it is perfectly safe to reuse the same Module many\n",
    "        times when defining a computational graph. This is a big improvement from Lua\n",
    "        Torch, where each Module could be used only once.\n",
    "        \"\"\"\n",
    "        h_relu = self.input_linear(x).clamp(min=0)\n",
    "        n_layers = random.randint(0, 3)\n",
    "        if verbose:\n",
    "            print(\"The number of layers for this run is\", n_layers)\n",
    "            # print(h_relu)\n",
    "        for _ in range(n_layers):\n",
    "            h_relu = self.middle_linear(h_relu).clamp(min=0)\n",
    "            if verbose:\n",
    "                pass\n",
    "                # print(h_relu)\n",
    "        y_pred = self.output_linear(h_relu)\n",
    "        return y_pred\n",
    "\n",
    "\n",
    "# N is batch size; D_in is input dimension;\n",
    "# H is hidden dimension; D_out is output dimension.\n",
    "N, D_in, H, D_out = 64, 1000, 10, 1\n",
    "\n",
    "# Create random Tensors to hold inputs and outputs, and wrap them in Variables\n",
    "x = torch.randn(N, D_in)\n",
    "y = torch.randn(N, D_out).requires_grad_(False)\n",
    "\n",
    "# Construct our model by instantiating the class defined above\n",
    "model = DynamicNet(D_in, H, D_out)\n",
    "\n",
    "# Construct our loss function and an Optimizer. Training this strange model with\n",
    "# vanilla stochastic gradient descent is tough, so we use momentum\n",
    "criterion = torch.nn.MSELoss(reduction=\"sum\")\n",
    "optimizer = torch.optim.SGD(model.parameters(), lr=1e-4, momentum=0.9)\n",
    "for t in range(50):\n",
    "    # Forward pass: Compute predicted y by passing x to the model\n",
    "    y_pred = model(x)\n",
    "\n",
    "    # Compute and print loss\n",
    "    loss = criterion(y_pred, y)\n",
    "    if t % 10 == 0:\n",
    "        print(t, loss.data.item())\n",
    "\n",
    "    # Zero gradients, perform a backward pass, and update the weights.\n",
    "    optimizer.zero_grad()\n",
    "    loss.backward()\n",
    "    optimizer.step()"
   ]
  },
  {
   "cell_type": "markdown",
   "metadata": {
    "colab_type": "text",
    "id": "FX-mRC_5iNvs"
   },
   "source": [
    "### CIFAR10 classification"
   ]
  },
  {
   "cell_type": "markdown",
   "metadata": {
    "colab_type": "text",
    "id": "KVftofphh-ng"
   },
   "source": [
    "We will finish with an example on CIFAR10, highlighting the importance of applying transformations to your inputs. Example is lifted from:\n",
    "\n",
    "https://github.com/uoguelph-mlrg/Cutout/blob/master/train.py"
   ]
  },
  {
   "cell_type": "code",
   "execution_count": 36,
   "metadata": {
    "colab": {},
    "colab_type": "code",
    "id": "9iAw2caKiW97"
   },
   "outputs": [],
   "source": [
    "import torch.nn as nn\n",
    "import torch.nn.functional as F\n",
    "\n",
    "\n",
    "class Net(nn.Module):\n",
    "    def __init__(self):\n",
    "        super(Net, self).__init__()\n",
    "        self.conv1 = nn.Conv2d(3, 6, 5)\n",
    "        self.pool = nn.MaxPool2d(2, 2)\n",
    "        self.conv2 = nn.Conv2d(6, 16, 5)\n",
    "        self.fc1 = nn.Linear(16 * 5 * 5, 120)\n",
    "        self.fc2 = nn.Linear(120, 120)\n",
    "        self.fc3 = nn.Linear(120, 10)\n",
    "\n",
    "    def forward(self, x):\n",
    "        x = self.pool(F.relu(self.conv1(x)))\n",
    "        x = self.pool(F.relu(self.conv2(x)))\n",
    "        x = x.view(-1, 16 * 5 * 5)\n",
    "        x = F.relu(self.fc1(x))\n",
    "        x = F.relu(self.fc2(x))\n",
    "        x = self.fc3(x)\n",
    "        return x"
   ]
  },
  {
   "cell_type": "code",
   "execution_count": 37,
   "metadata": {
    "colab": {},
    "colab_type": "code",
    "id": "A3p2SQViibIc"
   },
   "outputs": [],
   "source": [
    "def get_data(data_normalize=False, data_augment=False):\n",
    "    train_transform = transforms.Compose([])\n",
    "    test_transform = transforms.Compose([])\n",
    "\n",
    "    if data_augment:\n",
    "        train_transform.transforms.append(transforms.RandomCrop(32, padding=4))\n",
    "        train_transform.transforms.append(transforms.RandomHorizontalFlip())\n",
    "\n",
    "    train_transform.transforms.append(transforms.ToTensor())\n",
    "    test_transform.transforms.append(transforms.ToTensor())\n",
    "\n",
    "    if data_normalize:\n",
    "        normalize = transforms.Normalize(\n",
    "            mean=[x / 255.0 for x in [125.3, 123.0, 113.9]],\n",
    "            std=[x / 255.0 for x in [63.0, 62.1, 66.7]],\n",
    "        )\n",
    "        train_transform.transforms.append(normalize)\n",
    "        test_transform.transforms.append(normalize)\n",
    "\n",
    "    train_dataset = datasets.CIFAR10(\n",
    "        root=\"data/\", train=True, transform=train_transform, download=True\n",
    "    )\n",
    "\n",
    "    test_dataset = datasets.CIFAR10(\n",
    "        root=\"data/\", train=False, transform=test_transform, download=True\n",
    "    )\n",
    "    train_loader = torch.utils.data.DataLoader(\n",
    "        dataset=train_dataset, batch_size=128, shuffle=True, num_workers=2\n",
    "    )\n",
    "\n",
    "    test_loader = torch.utils.data.DataLoader(\n",
    "        dataset=test_dataset, batch_size=128, shuffle=False, num_workers=2\n",
    "    )\n",
    "    return train_loader, test_loader\n",
    "\n",
    "\n",
    "def test(net, loader):\n",
    "    net.eval()  # Change model to 'eval' mode (BN uses moving mean/var).\n",
    "    correct = 0.0\n",
    "    total = 0.0\n",
    "    for images, labels in loader:\n",
    "        with torch.no_grad():\n",
    "            pred = net(images)\n",
    "\n",
    "        pred = torch.max(pred.data, 1)[1]\n",
    "        total += labels.size(0)\n",
    "        correct += (pred == labels).sum().item()\n",
    "\n",
    "    val_acc = correct / total\n",
    "    net.train()\n",
    "    return val_acc"
   ]
  },
  {
   "cell_type": "code",
   "execution_count": 38,
   "metadata": {
    "colab": {},
    "colab_type": "code",
    "id": "-GR395vyihIU"
   },
   "outputs": [],
   "source": [
    "def train_model(train_loader, test_loader, epochs=5):\n",
    "\n",
    "    net = Net()\n",
    "    optimizer = torch.optim.SGD(net.parameters(), lr=0.1, momentum=0.9)\n",
    "    criterion = nn.CrossEntropyLoss()\n",
    "    train_accs = []\n",
    "    test_accs = []\n",
    "\n",
    "    net.train()\n",
    "\n",
    "    for epoch in range(epochs):\n",
    "        print(epoch)\n",
    "\n",
    "        xentropy_loss_avg = 0.0\n",
    "        correct = 0.0\n",
    "        total = 0.0\n",
    "\n",
    "        for i, (images, labels) in enumerate(train_loader):\n",
    "\n",
    "            net.zero_grad()\n",
    "            pred = net(images)\n",
    "            xentropy_loss = criterion(pred, labels)\n",
    "            xentropy_loss.backward()\n",
    "            optimizer.step()\n",
    "\n",
    "            xentropy_loss_avg += xentropy_loss.item()\n",
    "\n",
    "            # Calculate running average of accuracy\n",
    "            pred = torch.max(pred.data, 1)[1]\n",
    "            total += labels.size(0)\n",
    "            correct += (pred == labels.data).sum().item()\n",
    "            accuracy = correct / total\n",
    "\n",
    "        test_acc = test(net, test_loader)\n",
    "        print(\"Test acc: \", test_acc)\n",
    "        train_accs.append(accuracy)\n",
    "        test_accs.append(test_acc)\n",
    "    return train_accs, test_accs"
   ]
  },
  {
   "cell_type": "code",
   "execution_count": 39,
   "metadata": {
    "colab": {
     "base_uri": "https://localhost:8080/",
     "height": 187
    },
    "colab_type": "code",
    "id": "MADQb81UijK7",
    "outputId": "de18d442-5354-4099-95c1-6ab26a4cba3e"
   },
   "outputs": [
    {
     "name": "stdout",
     "output_type": "stream",
     "text": [
      "Files already downloaded and verified\n",
      "Files already downloaded and verified\n",
      "0\n",
      "Test acc:  0.3353\n",
      "1\n",
      "Test acc:  0.3274\n",
      "2\n",
      "Test acc:  0.356\n"
     ]
    }
   ],
   "source": [
    "train_loader, test_loader = get_data(data_augment=False, data_normalize=False)\n",
    "train_accs, test_accs = train_model(train_loader, test_loader, epochs=3)"
   ]
  },
  {
   "cell_type": "code",
   "execution_count": 40,
   "metadata": {
    "colab": {
     "base_uri": "https://localhost:8080/",
     "height": 153
    },
    "colab_type": "code",
    "id": "UnYCP-REikzs",
    "outputId": "661de97c-cc2f-4c88-9dc9-49fcf1db96a2"
   },
   "outputs": [
    {
     "name": "stdout",
     "output_type": "stream",
     "text": [
      "Files already downloaded and verified\n",
      "Files already downloaded and verified\n",
      "0\n",
      "Test acc:  0.4023\n",
      "1\n",
      "Test acc:  0.4303\n",
      "2\n",
      "Test acc:  0.4417\n"
     ]
    }
   ],
   "source": [
    "train_loader, test_loader = get_data(data_augment=False, data_normalize=True)\n",
    "normalize_train_accs, normalize_test_accs = train_model(train_loader, test_loader, epochs=3)"
   ]
  },
  {
   "cell_type": "code",
   "execution_count": 41,
   "metadata": {
    "colab": {
     "base_uri": "https://localhost:8080/",
     "height": 295
    },
    "colab_type": "code",
    "id": "aRwFghLzimSJ",
    "outputId": "adf16f14-c354-4bfd-a9d7-f97b4d8bc759"
   },
   "outputs": [
    {
     "data": {
      "image/png": "[encoded data removed]",
      "text/plain": [
       "<Figure size 432x288 with 1 Axes>"
      ]
     },
     "metadata": {
      "needs_background": "light"
     },
     "output_type": "display_data"
    }
   ],
   "source": [
    "fig, ax = plt.subplots()\n",
    "epochs = 3\n",
    "ax.plot(range(epochs), train_accs, c=\"blue\", label=\"no input normalization\")\n",
    "ax.plot(range(epochs), normalize_train_accs, c=\"red\", label=\"input normalization\")\n",
    "ax.legend()\n",
    "ax.set_xlabel(\"Epochs\")\n",
    "ax.set_ylabel(\"Accuracy\")\n",
    "ax.set_title(\"Train Accuracy\")\n",
    "fig.show()"
   ]
  },
  {
   "cell_type": "code",
   "execution_count": null,
   "metadata": {},
   "outputs": [],
   "source": []
  }
 ],
 "metadata": {
  "colab": {
   "collapsed_sections": [],
   "name": "autograd_tutorial.ipynb",
   "provenance": []
  },
  "kernelspec": {
   "display_name": "Python 3",
   "language": "python",
   "name": "python3"
  },
  "language_info": {
   "codemirror_mode": {
    "name": "ipython",
    "version": 3
   },
   "file_extension": ".py",
   "mimetype": "text/x-python",
   "name": "python",
   "nbconvert_exporter": "python",
   "pygments_lexer": "ipython3",
   "version": "3.8.6"
  }
 },
 "nbformat": 4,
 "nbformat_minor": 4
}
