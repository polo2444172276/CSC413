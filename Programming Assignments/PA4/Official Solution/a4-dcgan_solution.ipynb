{
  "nbformat": 4,
  "nbformat_minor": 0,
  "metadata": {
    "accelerator": "GPU",
    "colab": {
      "name": "CSC413 2021 gan_solution.ipynb",
      "provenance": [],
      "collapsed_sections": []
    },
    "kernelspec": {
      "display_name": "Python 3",
      "language": "python",
      "name": "python3"
    },
    "language_info": {
      "codemirror_mode": {
        "name": "ipython",
        "version": 3
      },
      "file_extension": ".py",
      "mimetype": "text/x-python",
      "name": "python",
      "nbconvert_exporter": "python",
      "pygments_lexer": "ipython3",
      "version": "3.7.6"
    }
  },
  "cells": [
    {
      "cell_type": "markdown",
      "metadata": {
        "id": "TjPTaRB4mpCd"
      },
      "source": [
        "# Colab FAQ\n",
        "\n",
        "For some basic overview and features offered in Colab notebooks, check out: [Overview of Colaboratory Features](https://colab.research.google.com/notebooks/basic_features_overview.ipynb)\n",
        "\n",
        "You need to use the colab GPU for this assignmentby selecting:\n",
        "\n",
        "> **Runtime**   →   **Change runtime type**   →   **Hardware Accelerator: GPU**"
      ]
    },
    {
      "cell_type": "markdown",
      "metadata": {
        "id": "s9IS9B9-yUU5"
      },
      "source": [
        "## Setup PyTorch\n",
        "All files are stored at /content/csc421/a4/ folder\n"
      ]
    },
    {
      "cell_type": "code",
      "metadata": {
        "id": "Z-6MQhMOlHXD",
        "colab": {
          "base_uri": "https://localhost:8080/"
        },
        "outputId": "a43cdf05-a128-44d8-f394-096bc76b7511"
      },
      "source": [
        "######################################################################\n",
        "# Setup python environment and change the current working directory\n",
        "######################################################################\n",
        "!pip install torch torchvision\n",
        "!pip install imageio\n",
        "\n",
        "!pip install matplotlib\n",
        "\n",
        "%mkdir -p /content/csc413/a4/\n",
        "%cd /content/csc413/a4"
      ],
      "execution_count": null,
      "outputs": [
        {
          "output_type": "stream",
          "text": [
            "Requirement already satisfied: torch in /usr/local/lib/python3.7/dist-packages (1.8.0+cu101)\n",
            "Requirement already satisfied: torchvision in /usr/local/lib/python3.7/dist-packages (0.9.0+cu101)\n",
            "Requirement already satisfied: numpy in /usr/local/lib/python3.7/dist-packages (from torch) (1.19.5)\n",
            "Requirement already satisfied: typing-extensions in /usr/local/lib/python3.7/dist-packages (from torch) (3.7.4.3)\n",
            "Requirement already satisfied: pillow>=4.1.1 in /usr/local/lib/python3.7/dist-packages (from torchvision) (7.0.0)\n",
            "Requirement already satisfied: imageio in /usr/local/lib/python3.7/dist-packages (2.4.1)\n",
            "Requirement already satisfied: pillow in /usr/local/lib/python3.7/dist-packages (from imageio) (7.0.0)\n",
            "Requirement already satisfied: numpy in /usr/local/lib/python3.7/dist-packages (from imageio) (1.19.5)\n",
            "Requirement already satisfied: matplotlib in /usr/local/lib/python3.7/dist-packages (3.2.2)\n",
            "Requirement already satisfied: pyparsing!=2.0.4,!=2.1.2,!=2.1.6,>=2.0.1 in /usr/local/lib/python3.7/dist-packages (from matplotlib) (2.4.7)\n",
            "Requirement already satisfied: numpy>=1.11 in /usr/local/lib/python3.7/dist-packages (from matplotlib) (1.19.5)\n",
            "Requirement already satisfied: python-dateutil>=2.1 in /usr/local/lib/python3.7/dist-packages (from matplotlib) (2.8.1)\n",
            "Requirement already satisfied: cycler>=0.10 in /usr/local/lib/python3.7/dist-packages (from matplotlib) (0.10.0)\n",
            "Requirement already satisfied: kiwisolver>=1.0.1 in /usr/local/lib/python3.7/dist-packages (from matplotlib) (1.3.1)\n",
            "Requirement already satisfied: six>=1.5 in /usr/local/lib/python3.7/dist-packages (from python-dateutil>=2.1->matplotlib) (1.15.0)\n",
            "/content/csc413/a4\n"
          ],
          "name": "stdout"
        }
      ]
    },
    {
      "cell_type": "markdown",
      "metadata": {
        "id": "9DaTdRNuUra7"
      },
      "source": [
        "# Helper code"
      ]
    },
    {
      "cell_type": "markdown",
      "metadata": {
        "id": "4BIpGwANoQOg"
      },
      "source": [
        "## Utility functions"
      ]
    },
    {
      "cell_type": "code",
      "metadata": {
        "id": "D-UJHBYZkh7f"
      },
      "source": [
        "import os\n",
        "\n",
        "import numpy as np\n",
        "import matplotlib.pyplot as plt\n",
        "\n",
        "import torch\n",
        "from torch import nn\n",
        "from torch.nn import Parameter\n",
        "import torch.nn.functional as F\n",
        "import torch.optim as optim\n",
        "from torch.autograd import Variable\n",
        "from torch.utils.data import DataLoader\n",
        "from torchvision import datasets\n",
        "from torchvision import transforms\n",
        "\n",
        "from six.moves.urllib.request import urlretrieve\n",
        "import tarfile\n",
        "\n",
        "import imageio\n",
        "from urllib.error import URLError\n",
        "from urllib.error import HTTPError\n",
        "\n",
        "\n",
        "def get_file(fname,\n",
        "             origin,\n",
        "             untar=False,\n",
        "             extract=False,\n",
        "             archive_format='auto',\n",
        "             cache_dir='data'):\n",
        "    datadir = os.path.join(cache_dir)\n",
        "    if not os.path.exists(datadir):\n",
        "        os.makedirs(datadir)\n",
        "\n",
        "    if untar:\n",
        "        untar_fpath = os.path.join(datadir, fname)\n",
        "        fpath = untar_fpath + '.tar.gz'\n",
        "    else:\n",
        "        fpath = os.path.join(datadir, fname)\n",
        "\n",
        "    print(fpath)\n",
        "    if not os.path.exists(fpath):\n",
        "        print('Downloading data from', origin)\n",
        "\n",
        "        error_msg = 'URL fetch failure on {}: {} -- {}'\n",
        "        try:\n",
        "            try:\n",
        "                urlretrieve(origin, fpath)\n",
        "            except URLError as e:\n",
        "                raise Exception(error_msg.format(origin, e.errno, e.reason))\n",
        "            except HTTPError as e:\n",
        "                raise Exception(error_msg.format(origin, e.code, e.msg))\n",
        "        except (Exception, KeyboardInterrupt) as e:\n",
        "            if os.path.exists(fpath):\n",
        "                os.remove(fpath)\n",
        "            raise\n",
        "\n",
        "    if untar:\n",
        "        if not os.path.exists(untar_fpath):\n",
        "            print('Extracting file.')\n",
        "            with tarfile.open(fpath) as archive:\n",
        "                archive.extractall(datadir)\n",
        "        return untar_fpath\n",
        "\n",
        "    return fpath\n",
        "\n",
        "\n",
        "class AttrDict(dict):\n",
        "    def __init__(self, *args, **kwargs):\n",
        "        super(AttrDict, self).__init__(*args, **kwargs)\n",
        "        self.__dict__ = self\n",
        "\n",
        "                \n",
        "def to_var(tensor, cuda=True):\n",
        "    \"\"\"Wraps a Tensor in a Variable, optionally placing it on the GPU.\n",
        "\n",
        "        Arguments:\n",
        "            tensor: A Tensor object.\n",
        "            cuda: A boolean flag indicating whether to use the GPU.\n",
        "\n",
        "        Returns:\n",
        "            A Variable object, on the GPU if cuda==True.\n",
        "    \"\"\"\n",
        "    if cuda:\n",
        "        return Variable(tensor.cuda())\n",
        "    else:\n",
        "        return Variable(tensor)\n",
        "\n",
        "    \n",
        "def to_data(x):\n",
        "    \"\"\"Converts variable to numpy.\"\"\"\n",
        "    if torch.cuda.is_available():\n",
        "        x = x.cpu()\n",
        "    return x.data.numpy()\n",
        "\n",
        "\n",
        "def create_dir(directory):\n",
        "    \"\"\"Creates a directory if it doesn't already exist.\n",
        "    \"\"\"\n",
        "    if not os.path.exists(directory):\n",
        "        os.makedirs(directory)\n",
        "\n",
        "\n",
        "def gan_checkpoint(iteration, G, D, opts):\n",
        "    \"\"\"Saves the parameters of the generator G and discriminator D.\n",
        "    \"\"\"\n",
        "    G_path = os.path.join(opts.checkpoint_dir, 'G.pkl')\n",
        "    D_path = os.path.join(opts.checkpoint_dir, 'D.pkl')\n",
        "    torch.save(G.state_dict(), G_path)\n",
        "    torch.save(D.state_dict(), D_path)\n",
        "\n",
        "def load_checkpoint(opts):\n",
        "    \"\"\"Loads the generator and discriminator models from checkpoints.\n",
        "    \"\"\"\n",
        "    G_path = os.path.join(opts.load, 'G.pkl')\n",
        "    D_path = os.path.join(opts.load, 'D_.pkl')\n",
        "\n",
        "    G = DCGenerator(noise_size=opts.noise_size, conv_dim=opts.g_conv_dim, spectral_norm=opts.spectral_norm)\n",
        "    D = DCDiscriminator(conv_dim=opts.d_conv_dim)\n",
        "\n",
        "    G.load_state_dict(torch.load(G_path, map_location=lambda storage, loc: storage))\n",
        "    D.load_state_dict(torch.load(D_path, map_location=lambda storage, loc: storage))\n",
        "\n",
        "    if torch.cuda.is_available():\n",
        "        G.cuda()\n",
        "        D.cuda()\n",
        "        print('Models moved to GPU.')\n",
        "\n",
        "    return G, D\n",
        "\n",
        "\n",
        "def merge_images(sources, targets, opts):\n",
        "    \"\"\"Creates a grid consisting of pairs of columns, where the first column in\n",
        "    each pair contains images source images and the second column in each pair\n",
        "    contains images generated by the CycleGAN from the corresponding images in\n",
        "    the first column.\n",
        "    \"\"\"\n",
        "    _, _, h, w = sources.shape\n",
        "    row = int(np.sqrt(opts.batch_size))\n",
        "    merged = np.zeros([3, row * h, row * w * 2])\n",
        "    for (idx, s, t) in (zip(range(row ** 2), sources, targets, )):\n",
        "        i = idx // row\n",
        "        j = idx % row\n",
        "        merged[:, i * h:(i + 1) * h, (j * 2) * h:(j * 2 + 1) * h] = s\n",
        "        merged[:, i * h:(i + 1) * h, (j * 2 + 1) * h:(j * 2 + 2) * h] = t\n",
        "    return merged.transpose(1, 2, 0)\n",
        "\n",
        "\n",
        "def generate_gif(directory_path, keyword=None):\n",
        "    images = []\n",
        "    for filename in sorted(os.listdir(directory_path)):\n",
        "        if filename.endswith(\".png\") and (keyword is None or keyword in filename):\n",
        "            img_path = os.path.join(directory_path, filename)\n",
        "            print(\"adding image {}\".format(img_path))\n",
        "            images.append(imageio.imread(img_path))\n",
        "\n",
        "    if keyword:\n",
        "        imageio.mimsave(\n",
        "            os.path.join(directory_path, 'anim_{}.gif'.format(keyword)), images)\n",
        "    else:\n",
        "        imageio.mimsave(os.path.join(directory_path, 'anim.gif'), images)\n",
        "\n",
        "\n",
        "def create_image_grid(array, ncols=None):\n",
        "    \"\"\"\n",
        "    \"\"\"\n",
        "    num_images, channels, cell_h, cell_w = array.shape\n",
        "    if not ncols:\n",
        "        ncols = int(np.sqrt(num_images))\n",
        "    nrows = int(np.math.floor(num_images / float(ncols)))\n",
        "    result = np.zeros((cell_h * nrows, cell_w * ncols, channels), dtype=array.dtype)\n",
        "    for i in range(0, nrows):\n",
        "        for j in range(0, ncols):\n",
        "            result[i * cell_h:(i + 1) * cell_h, j * cell_w:(j + 1) * cell_w, :] = array[i * ncols + j].transpose(1, 2,\n",
        "                                                                                                                 0)\n",
        "\n",
        "    if channels == 1:\n",
        "        result = result.squeeze()\n",
        "    return result\n",
        "\n",
        "\n",
        "def gan_save_samples(G, fixed_noise, iteration, opts):\n",
        "    generated_images = G(fixed_noise)\n",
        "    generated_images = to_data(generated_images)\n",
        "\n",
        "    grid = create_image_grid(generated_images)\n",
        "\n",
        "    # merged = merge_images(X, fake_Y, opts)\n",
        "    path = os.path.join(opts.sample_dir, 'sample-{:06d}.png'.format(iteration))\n",
        "    imageio.imwrite(path, grid)\n",
        "    print('Saved {}'.format(path))"
      ],
      "execution_count": null,
      "outputs": []
    },
    {
      "cell_type": "markdown",
      "metadata": {
        "id": "pbvpn4MaV0I1"
      },
      "source": [
        "## Data loader"
      ]
    },
    {
      "cell_type": "code",
      "metadata": {
        "id": "XVT4TNTOV3Eg"
      },
      "source": [
        "def get_emoji_loader(emoji_type, opts):\n",
        "    \"\"\"Creates training and test data loaders.\n",
        "    \"\"\"\n",
        "    transform = transforms.Compose([\n",
        "                    transforms.Scale(opts.image_size),\n",
        "                    transforms.ToTensor(),\n",
        "                    transforms.Normalize((0.5, 0.5, 0.5), (0.5, 0.5, 0.5))\n",
        "                ])\n",
        "\n",
        "    train_path = os.path.join('data/emojis', emoji_type)\n",
        "    test_path = os.path.join('data/emojis', 'Test_{}'.format(emoji_type))\n",
        "\n",
        "    train_dataset = datasets.ImageFolder(train_path, transform)\n",
        "    test_dataset = datasets.ImageFolder(test_path, transform)\n",
        "\n",
        "    train_dloader = DataLoader(dataset=train_dataset, batch_size=opts.batch_size, shuffle=True, num_workers=opts.num_workers)\n",
        "    test_dloader = DataLoader(dataset=test_dataset, batch_size=opts.batch_size, shuffle=False, num_workers=opts.num_workers)\n",
        "\n",
        "    return train_dloader, test_dloader"
      ],
      "execution_count": null,
      "outputs": []
    },
    {
      "cell_type": "markdown",
      "metadata": {
        "id": "bRWfRdmVVjUl"
      },
      "source": [
        "## Training and evaluation code"
      ]
    },
    {
      "cell_type": "code",
      "metadata": {
        "id": "nSIhQp41q_Nu"
      },
      "source": [
        "def print_models(G_XtoY, G_YtoX, D_X, D_Y):\n",
        "    \"\"\"Prints model information for the generators and discriminators.\n",
        "    \"\"\"\n",
        "    print(\"                 G                     \")\n",
        "    print(\"---------------------------------------\")\n",
        "    print(G_XtoY)\n",
        "    print(\"---------------------------------------\")\n",
        "\n",
        "    print(\"                  D                    \")\n",
        "    print(\"---------------------------------------\")\n",
        "    print(D_X)\n",
        "    print(\"---------------------------------------\")\n",
        "\n",
        "\n",
        "def create_model(opts):\n",
        "    \"\"\"Builds the generators and discriminators.\n",
        "    \"\"\"\n",
        "    ### GAN\n",
        "    G = DCGenerator(noise_size=opts.noise_size, conv_dim=opts.g_conv_dim, spectral_norm=opts.spectral_norm)\n",
        "    D = DCDiscriminator(conv_dim=opts.d_conv_dim, spectral_norm=opts.spectral_norm)\n",
        "\n",
        "    print_models(G, None, D, None)\n",
        "\n",
        "    if torch.cuda.is_available():\n",
        "        G.cuda()\n",
        "        D.cuda()\n",
        "        print('Models moved to GPU.')\n",
        "    return G, D\n",
        "\n",
        "def train(opts):\n",
        "    \"\"\"Loads the data, creates checkpoint and sample directories, and starts the training loop.\n",
        "    \"\"\"\n",
        "\n",
        "    # Create train and test dataloaders for images from the two domains X and Y\n",
        "    dataloader_X, test_dataloader_X = get_emoji_loader(emoji_type=opts.X, opts=opts)\n",
        "    \n",
        "    # Create checkpoint and sample directories\n",
        "    create_dir(opts.checkpoint_dir)\n",
        "    create_dir(opts.sample_dir)\n",
        "\n",
        "    # Start training\n",
        "    G, D = gan_training_loop(dataloader_X, test_dataloader_X, opts)\n",
        "    return G, D\n",
        "\n",
        "def print_opts(opts):\n",
        "    \"\"\"Prints the values of all command-line arguments.\n",
        "    \"\"\"\n",
        "    print('=' * 80)\n",
        "    print('Opts'.center(80))\n",
        "    print('-' * 80)\n",
        "    for key in opts.__dict__:\n",
        "        if opts.__dict__[key]:\n",
        "            print('{:>30}: {:<30}'.format(key, opts.__dict__[key]).center(80))\n",
        "    print('=' * 80)\n"
      ],
      "execution_count": null,
      "outputs": []
    },
    {
      "cell_type": "markdown",
      "metadata": {
        "id": "bXNsLNkOn38w"
      },
      "source": [
        "# Your code for generators and discriminators"
      ]
    },
    {
      "cell_type": "markdown",
      "metadata": {
        "id": "u0KxX0sDpXKb"
      },
      "source": [
        "## Helper modules"
      ]
    },
    {
      "cell_type": "code",
      "metadata": {
        "id": "y7s0etAmpUgT"
      },
      "source": [
        "def sample_noise(batch_size, dim):\n",
        "    \"\"\"\n",
        "    Generate a PyTorch Tensor of uniform random noise.\n",
        "\n",
        "    Input:\n",
        "    - batch_size: Integer giving the batch size of noise to generate.\n",
        "    - dim: Integer giving the dimension of noise to generate.\n",
        "\n",
        "    Output:\n",
        "    - A PyTorch Tensor of shape (batch_size, dim, 1, 1) containing uniform\n",
        "      random noise in the range (-1, 1).\n",
        "    \"\"\"\n",
        "    return to_var(torch.rand(batch_size, dim) * 2 - 1).unsqueeze(2).unsqueeze(3)\n",
        "  \n",
        "\n",
        "def upconv(in_channels, out_channels, kernel_size, stride=2, padding=2, batch_norm=True, spectral_norm=False):\n",
        "    \"\"\"Creates a upsample-and-convolution layer, with optional batch normalization.\n",
        "    \"\"\"\n",
        "    layers = []\n",
        "    if stride>1:\n",
        "        layers.append(nn.Upsample(scale_factor=stride))\n",
        "    conv_layer = nn.Conv2d(in_channels=in_channels, out_channels=out_channels, kernel_size=kernel_size, stride=1, padding=padding, bias=False)\n",
        "    if spectral_norm:\n",
        "        layers.append(SpectralNorm(conv_layer))\n",
        "    else:\n",
        "        layers.append(conv_layer)\n",
        "    if batch_norm:\n",
        "        layers.append(nn.BatchNorm2d(out_channels))\n",
        "    return nn.Sequential(*layers)\n",
        "\n",
        "\n",
        "def conv(in_channels, out_channels, kernel_size, stride=2, padding=2, batch_norm=True, init_zero_weights=False, spectral_norm=False):\n",
        "    \"\"\"Creates a convolutional layer, with optional batch normalization.\n",
        "    \"\"\"\n",
        "    layers = []\n",
        "    conv_layer = nn.Conv2d(in_channels=in_channels, out_channels=out_channels, kernel_size=kernel_size, stride=stride, padding=padding, bias=False)\n",
        "    if init_zero_weights:\n",
        "        conv_layer.weight.data = torch.randn(out_channels, in_channels, kernel_size, kernel_size) * 0.001\n",
        "            \n",
        "    if spectral_norm:\n",
        "        layers.append(SpectralNorm(conv_layer))\n",
        "    else:\n",
        "        layers.append(conv_layer)\n",
        "\n",
        "    if batch_norm:\n",
        "        layers.append(nn.BatchNorm2d(out_channels))\n",
        "    return nn.Sequential(*layers)\n",
        "  \n",
        "\n",
        "class ResnetBlock(nn.Module):\n",
        "    def __init__(self, conv_dim):\n",
        "        super(ResnetBlock, self).__init__()\n",
        "        self.conv_layer = conv(in_channels=conv_dim, out_channels=conv_dim, kernel_size=3, stride=1, padding=1)\n",
        "\n",
        "    def forward(self, x):\n",
        "        out = x + self.conv_layer(x)\n",
        "        return out"
      ],
      "execution_count": null,
      "outputs": []
    },
    {
      "cell_type": "markdown",
      "metadata": {
        "id": "S0_YbBwe5k35"
      },
      "source": [
        "## DCGAN"
      ]
    },
    {
      "cell_type": "markdown",
      "metadata": {
        "id": "m1E_jDaBLT1P"
      },
      "source": [
        "## Spectral Norm class"
      ]
    },
    {
      "cell_type": "code",
      "metadata": {
        "id": "2hy97i1-LT1Q"
      },
      "source": [
        "def l2normalize(v, eps=1e-12):\n",
        "    return v / (v.norm() + eps)\n",
        "\n",
        "\n",
        "class SpectralNorm(nn.Module):\n",
        "    def __init__(self, module, name='weight', power_iterations=1):\n",
        "        super(SpectralNorm, self).__init__()\n",
        "        self.module = module\n",
        "        self.name = name\n",
        "        self.power_iterations = power_iterations\n",
        "        if not self._made_params():\n",
        "            self._make_params()\n",
        "\n",
        "    def _update_u_v(self):\n",
        "        u = getattr(self.module, self.name + \"_u\")\n",
        "        v = getattr(self.module, self.name + \"_v\")\n",
        "        w = getattr(self.module, self.name + \"_bar\")\n",
        "\n",
        "        height = w.data.shape[0]\n",
        "        for _ in range(self.power_iterations):\n",
        "            v.data = l2normalize(torch.mv(torch.t(w.view(height,-1).data), u.data))\n",
        "            u.data = l2normalize(torch.mv(w.view(height,-1).data, v.data))\n",
        "\n",
        "        # sigma = torch.dot(u.data, torch.mv(w.view(height,-1).data, v.data))\n",
        "        sigma = u.dot(w.view(height, -1).mv(v))\n",
        "        setattr(self.module, self.name, w / sigma.expand_as(w))\n",
        "\n",
        "    def _made_params(self):\n",
        "        try:\n",
        "            u = getattr(self.module, self.name + \"_u\")\n",
        "            v = getattr(self.module, self.name + \"_v\")\n",
        "            w = getattr(self.module, self.name + \"_bar\")\n",
        "            return True\n",
        "        except AttributeError:\n",
        "            return False\n",
        "\n",
        "    def _make_params(self):\n",
        "        w = getattr(self.module, self.name)\n",
        "\n",
        "        height = w.data.shape[0]\n",
        "        width = w.view(height, -1).data.shape[1]\n",
        "\n",
        "        u = Parameter(w.data.new(height).normal_(0, 1), requires_grad=False)\n",
        "        v = Parameter(w.data.new(width).normal_(0, 1), requires_grad=False)\n",
        "        u.data = l2normalize(u.data)\n",
        "        v.data = l2normalize(v.data)\n",
        "        w_bar = Parameter(w.data)\n",
        "\n",
        "        del self.module._parameters[self.name]\n",
        "\n",
        "        self.module.register_parameter(self.name + \"_u\", u)\n",
        "        self.module.register_parameter(self.name + \"_v\", v)\n",
        "        self.module.register_parameter(self.name + \"_bar\", w_bar)\n",
        "\n",
        "    def forward(self, *args):\n",
        "        self._update_u_v()\n",
        "        return self.module.forward(*args)"
      ],
      "execution_count": null,
      "outputs": []
    },
    {
      "cell_type": "markdown",
      "metadata": {
        "id": "_BAfi_8yWB3y"
      },
      "source": [
        "### GAN generator"
      ]
    },
    {
      "cell_type": "code",
      "metadata": {
        "id": "9ztmyA5Ro67o"
      },
      "source": [
        "class DCGenerator(nn.Module):\n",
        "    def __init__(self, noise_size, conv_dim, spectral_norm=False):\n",
        "        super(DCGenerator, self).__init__()\n",
        "\n",
        "        self.conv_dim = conv_dim\n",
        "        ###########################################\n",
        "        ##   FILL THIS IN: CREATE ARCHITECTURE   ##\n",
        "        ###########################################\n",
        "\n",
        "        self.linear_bn = upconv(noise_size, conv_dim*4*4*4, kernel_size=1, stride=1, padding=0, spectral_norm=spectral_norm)\n",
        "        self.upconv1 = upconv(conv_dim*4, conv_dim*2, kernel_size=5, stride=2, padding=2, spectral_norm=spectral_norm)\n",
        "        self.upconv2 = upconv(conv_dim*2, conv_dim, kernel_size=5, stride=2, padding=2, spectral_norm=spectral_norm)\n",
        "        self.upconv3 = upconv(conv_dim, 3, kernel_size=5, stride=2, padding=2, batch_norm=False, spectral_norm=spectral_norm)\n",
        "\n",
        "    def forward(self, z):\n",
        "        \"\"\"Generates an image given a sample of random noise.\n",
        "\n",
        "            Input\n",
        "            -----\n",
        "                z: BS x noise_size x 1 x 1   -->  BSx100x1x1 (during training)\n",
        "\n",
        "            Output\n",
        "            ------\n",
        "                out: BS x channels x image_width x image_height  -->  BSx3x32x32 (during training)\n",
        "        \"\"\"\n",
        "        batch_size = z.size(0)\n",
        "        \n",
        "        out = F.relu(self.linear_bn(z)).view(-1, self.conv_dim*4, 4, 4)    # BS x 128 x 4 x 4\n",
        "        out = F.relu(self.upconv1(out))  # BS x 64 x 8 x 8\n",
        "        out = F.relu(self.upconv2(out))  # BS x 32 x 16 x 16\n",
        "        out = F.tanh(self.upconv3(out))  # BS x 3 x 32 x 32\n",
        "        \n",
        "        out_size = out.size()\n",
        "        if out_size != torch.Size([batch_size, 3, 32, 32]):\n",
        "            raise ValueError(\"expect {} x 3 x 32 x 32, but get {}\".format(batch_size, out_size))\n",
        "        return out\n"
      ],
      "execution_count": null,
      "outputs": []
    },
    {
      "cell_type": "markdown",
      "metadata": {
        "id": "cG4uqAVPp8_B"
      },
      "source": [
        "### GAN discriminator"
      ]
    },
    {
      "cell_type": "code",
      "metadata": {
        "id": "0GkjXydnqARR"
      },
      "source": [
        "class DCDiscriminator(nn.Module):\n",
        "    \"\"\"Defines the architecture of the discriminator network.\n",
        "       Note: Both discriminators D_X and D_Y have the same architecture in this assignment.\n",
        "    \"\"\"\n",
        "    def __init__(self, conv_dim=64, spectral_norm=False):\n",
        "        super(DCDiscriminator, self).__init__()\n",
        "\n",
        "        ###########################################\n",
        "        ##   FILL THIS IN: CREATE ARCHITECTURE   ##\n",
        "        ###########################################\n",
        "\n",
        "        self.conv1 = conv(in_channels=3, out_channels=conv_dim, kernel_size=5, stride=2, spectral_norm=spectral_norm)\n",
        "        self.conv2 = conv(in_channels=conv_dim, out_channels=conv_dim*2, kernel_size=5, stride=2, spectral_norm=spectral_norm)\n",
        "        self.conv3 = conv(in_channels=conv_dim*2, out_channels=conv_dim*4, kernel_size=5, stride=2, spectral_norm=spectral_norm)\n",
        "        self.conv4 = conv(in_channels=conv_dim*4, out_channels=1, kernel_size=5, stride=2, padding=1, batch_norm=False, spectral_norm=spectral_norm)\n",
        "\n",
        "    def forward(self, x):\n",
        "        batch_size = x.size(0)\n",
        "\n",
        "        out = F.relu(self.conv1(x))    # BS x 64 x 16 x 16\n",
        "        out = F.relu(self.conv2(out))    # BS x 64 x 8 x 8\n",
        "        out = F.relu(self.conv3(out))    # BS x 64 x 4 x 4\n",
        "\n",
        "        out = self.conv4(out).squeeze()\n",
        "        out_size = out.size()\n",
        "        if out_size != torch.Size([batch_size,]):\n",
        "            raise ValueError(\"expect {} x 1, but get {}\".format(batch_size, out_size))\n",
        "        return out"
      ],
      "execution_count": null,
      "outputs": []
    },
    {
      "cell_type": "markdown",
      "metadata": {
        "id": "G8RtBMu55ysm"
      },
      "source": [
        "### GAN training loop"
      ]
    },
    {
      "cell_type": "code",
      "metadata": {
        "id": "MxIJ2Zua51KI"
      },
      "source": [
        "def gan_training_loop(dataloader, test_dataloader, opts):\n",
        "    \"\"\"Runs the training loop.\n",
        "        * Saves checkpoint every opts.checkpoint_every iterations\n",
        "        * Saves generated samples every opts.sample_every iterations\n",
        "    \"\"\"\n",
        "\n",
        "    # Create generators and discriminators\n",
        "    G, D = create_model(opts)\n",
        "\n",
        "    g_params = G.parameters()  # Get generator parameters\n",
        "    d_params = D.parameters()  # Get discriminator parameters\n",
        "\n",
        "    # Create optimizers for the generators and discriminators\n",
        "    g_optimizer = optim.Adam(g_params, opts.lr, [opts.beta1, opts.beta2])\n",
        "    d_optimizer = optim.Adam(d_params, opts.lr * 2., [opts.beta1, opts.beta2])\n",
        "\n",
        "    train_iter = iter(dataloader)\n",
        "\n",
        "    test_iter = iter(test_dataloader)\n",
        "\n",
        "    # Get some fixed data from domains X and Y for sampling. These are images that are held\n",
        "    # constant throughout training, that allow us to inspect the model's performance.\n",
        "    fixed_noise = sample_noise(100, opts.noise_size)  # # 100 x noise_size x 1 x 1\n",
        "\n",
        "    iter_per_epoch = len(train_iter)\n",
        "    total_train_iters = opts.train_iters\n",
        "\n",
        "    losses = {\"iteration\": [], \"D_fake_loss\": [], \"D_real_loss\": [], \"G_loss\": []}\n",
        "\n",
        "    # adversarial_loss = torch.nn.BCEWithLogitsLoss()\n",
        "    gp_weight = 1\n",
        "\n",
        "    try:\n",
        "        for iteration in range(1, opts.train_iters + 1):\n",
        "\n",
        "            # Reset data_iter for each epoch\n",
        "            if iteration % iter_per_epoch == 0:\n",
        "                train_iter = iter(dataloader)\n",
        "\n",
        "            real_images, real_labels = train_iter.next()\n",
        "            real_images, real_labels = to_var(real_images), to_var(real_labels).long().squeeze()\n",
        "\n",
        "            # ones = Variable(torch.Tensor(real_images.shape[0]).float().cuda().fill_(1.0), requires_grad=False)\n",
        "\n",
        "            for d_i in range(opts.d_train_iters):\n",
        "                d_optimizer.zero_grad()\n",
        "\n",
        "                # FILL THIS IN\n",
        "                # 1. Compute the discriminator loss on real images\n",
        "                # D_real_loss = ...\n",
        "                # D_real_loss = adversarial_loss(D(real_images), ones)\n",
        "                D_real_loss = torch.mean((D(real_images) - 1) ** 2)\n",
        "\n",
        "                # 2. Sample noise\n",
        "                # noise = ...\n",
        "                noise = sample_noise(real_images.shape[0], opts.noise_size)\n",
        "\n",
        "                # 3. Generate fake images from the noise\n",
        "                # fake_images = ...\n",
        "                fake_images = G(noise)\n",
        "                # zeros = Variable(torch.Tensor(fake_images.shape[0]).float().cuda().fill_(0.0), requires_grad=False)\n",
        "                # ones_fake = Variable(torch.Tensor(fake_images.shape[0]).float().cuda().fill_(1.0), requires_grad=False)\n",
        "\n",
        "                # 4. Compute the discriminator loss on the fake images\n",
        "                # D_fake_loss = ...\n",
        "                # D_fake_loss = adversarial_loss(D(fake_images.detach()), zeros)\n",
        "                D_fake_loss = torch.mean(D(fake_images.detach()) ** 2)\n",
        "\n",
        "                # ---- Gradient Penalty ----\n",
        "                if opts.gradient_penalty:\n",
        "                    alpha = torch.rand(real_images.shape[0], 1, 1, 1)\n",
        "                    alpha = alpha.expand_as(real_images).cuda()\n",
        "                    interp_images = Variable(alpha * real_images.data + (1 - alpha) * fake_images.data, requires_grad=True).cuda()\n",
        "                    D_interp_output = D(interp_images)\n",
        "\n",
        "                    gradients = torch.autograd.grad(outputs=D_interp_output, inputs=interp_images,\n",
        "                                                    grad_outputs=torch.ones(D_interp_output.size()).cuda(),\n",
        "                                                    create_graph=True, retain_graph=True)[0]\n",
        "                    gradients = gradients.view(real_images.shape[0], -1)\n",
        "                    gradients_norm = torch.sqrt(torch.sum(gradients ** 2, dim=1) + 1e-12)\n",
        "\n",
        "                    gp = gp_weight * gradients_norm.mean()\n",
        "                else:\n",
        "                    gp = 0.0\n",
        "\n",
        "                # --------------------------\n",
        "                # 5. Compute the total discriminator loss\n",
        "                # D_total_loss = ...\n",
        "                D_total_loss = .5 * (D_real_loss + D_fake_loss + gp)\n",
        "\n",
        "                D_total_loss.backward()\n",
        "                d_optimizer.step()\n",
        "\n",
        "            ###########################################\n",
        "            ###          TRAIN THE GENERATOR        ###\n",
        "            ###########################################\n",
        "\n",
        "            g_optimizer.zero_grad()\n",
        "\n",
        "            # FILL THIS IN\n",
        "            # 1. Sample noise\n",
        "            # noise = ...\n",
        "            noise = sample_noise(opts.batch_size, opts.noise_size)\n",
        "\n",
        "            # 2. Generate fake images from the noise\n",
        "            # fake_images = ...\n",
        "            fake_images = G(noise)\n",
        "\n",
        "            # 3. Compute the generator loss\n",
        "            # G_loss = ...\n",
        "            # G_loss = adversarial_loss(D(fake_images), ones_fake)\n",
        "            G_loss = torch.mean((D(fake_images) - 1) ** 2)\n",
        "\n",
        "            G_loss.backward()\n",
        "            g_optimizer.step()\n",
        "\n",
        "            # Print the log info\n",
        "            if iteration % opts.log_step == 0:\n",
        "                losses['iteration'].append(iteration)\n",
        "                losses['D_real_loss'].append(D_real_loss.item())\n",
        "                losses['D_fake_loss'].append(D_fake_loss.item())\n",
        "                losses['G_loss'].append(G_loss.item())\n",
        "                print('Iteration [{:4d}/{:4d}] | D_real_loss: {:6.4f} | D_fake_loss: {:6.4f} | G_loss: {:6.4f}'.format(\n",
        "                    iteration, total_train_iters, D_real_loss.item(), D_fake_loss.item(), G_loss.item()))\n",
        "\n",
        "            # Save the generated samples\n",
        "            if iteration % opts.sample_every == 0:\n",
        "                gan_save_samples(G, fixed_noise, iteration, opts)\n",
        "\n",
        "            # Save the model parameters\n",
        "            if iteration % opts.checkpoint_every == 0:\n",
        "                gan_checkpoint(iteration, G, D, opts)\n",
        "\n",
        "    except KeyboardInterrupt:\n",
        "        print('Exiting early from training.')\n",
        "        return G, D\n",
        "\n",
        "    plt.figure()\n",
        "    plt.plot(losses['iteration'], losses['D_real_loss'], label='D_real')\n",
        "    plt.plot(losses['iteration'], losses['D_fake_loss'], label='D_fake')\n",
        "    plt.plot(losses['iteration'], losses['G_loss'], label='G')\n",
        "    plt.legend()\n",
        "    plt.savefig(os.path.join(opts.sample_dir, 'losses.png'))\n",
        "    plt.close()\n",
        "    return G, D"
      ],
      "execution_count": null,
      "outputs": []
    },
    {
      "cell_type": "markdown",
      "metadata": {
        "id": "XuNFd6LNo0-o"
      },
      "source": [
        "# Training\n"
      ]
    },
    {
      "cell_type": "markdown",
      "metadata": {
        "id": "kiUwiOITHTW4"
      },
      "source": [
        "## Download dataset"
      ]
    },
    {
      "cell_type": "code",
      "metadata": {
        "id": "xwcFjsEpHRbI",
        "colab": {
          "base_uri": "https://localhost:8080/"
        },
        "outputId": "eb6a7853-df93-4826-a8a0-562d4ef2f49e"
      },
      "source": [
        "######################################################################\n",
        "# Download Translation datasets\n",
        "######################################################################\n",
        "data_fpath = get_file(fname='emojis', \n",
        "                         origin='http://www.cs.toronto.edu/~jba/emojis.tar.gz', \n",
        "                         untar=True)"
      ],
      "execution_count": null,
      "outputs": [
        {
          "output_type": "stream",
          "text": [
            "data/emojis.tar.gz\n",
            "Downloading data from http://www.cs.toronto.edu/~jba/emojis.tar.gz\n",
            "Extracting file.\n"
          ],
          "name": "stdout"
        }
      ]
    },
    {
      "cell_type": "markdown",
      "metadata": {
        "id": "hmQmyJDSRFKR"
      },
      "source": [
        "## DCGAN"
      ]
    },
    {
      "cell_type": "code",
      "metadata": {
        "id": "0LKaRF1jwhH7",
        "scrolled": true,
        "colab": {
          "base_uri": "https://localhost:8080/"
        },
        "outputId": "8d0bbdd9-3b2d-4fcf-b043-aafdc834234d"
      },
      "source": [
        "SEED = 11\n",
        "\n",
        "# Set the random seed manually for reproducibility.\n",
        "np.random.seed(SEED)\n",
        "torch.manual_seed(SEED)\n",
        "if torch.cuda.is_available():\n",
        "    torch.cuda.manual_seed(SEED)\n",
        "\n",
        "\n",
        "args = AttrDict()\n",
        "args_dict = {\n",
        "              'image_size':32, \n",
        "              'g_conv_dim':32, \n",
        "              'd_conv_dim':64,\n",
        "              'noise_size':100,\n",
        "              'num_workers': 0,\n",
        "              'train_iters':20000,\n",
        "              'X':'Windows',  # options: 'Windows' / 'Apple'\n",
        "              'Y': None,\n",
        "              'lr':0.00003,\n",
        "              'beta1':0.5,\n",
        "              'beta2':0.999,\n",
        "              'batch_size':32, \n",
        "              'checkpoint_dir': 'results/checkpoints_gan_gp1_lr3e-5',\n",
        "              'sample_dir': 'results/samples_gan_gp1_lr3e-5',\n",
        "              'load': None,\n",
        "              'log_step':200,\n",
        "              'sample_every':200,\n",
        "              'checkpoint_every':1000,\n",
        "              'spectral_norm': False,\n",
        "              'gradient_penalty': True,\n",
        "              'd_train_iters': 1\n",
        "}\n",
        "args.update(args_dict)\n",
        "\n",
        "print_opts(args)\n",
        "G, D = train(args)\n",
        "\n",
        "generate_gif(\"results/samples_gan_gp1_lr3e-5\")"
      ],
      "execution_count": null,
      "outputs": [
        {
          "output_type": "stream",
          "text": [
            "================================================================================\n",
            "                                      Opts                                      \n",
            "--------------------------------------------------------------------------------\n",
            "                             image_size: 32                                     \n",
            "                             g_conv_dim: 32                                     \n",
            "                             d_conv_dim: 64                                     \n",
            "                             noise_size: 100                                    \n",
            "                            train_iters: 20000                                  \n",
            "                                      X: Windows                                \n",
            "                                     lr: 3e-05                                  \n",
            "                                  beta1: 0.5                                    \n",
            "                                  beta2: 0.999                                  \n",
            "                             batch_size: 32                                     \n",
            "                       checkpoint_dir: results/checkpoints_gan_gp1_lr3e-5       \n",
            "                             sample_dir: results/samples_gan_gp1_lr3e-5         \n",
            "                               log_step: 200                                    \n",
            "                           sample_every: 200                                    \n",
            "                       checkpoint_every: 1000                                   \n",
            "                       gradient_penalty: 1                                      \n",
            "                          d_train_iters: 1                                      \n",
            "================================================================================\n",
            "                 G                     \n",
            "---------------------------------------\n",
            "DCGenerator(\n",
            "  (linear_bn): Sequential(\n",
            "    (0): Conv2d(100, 2048, kernel_size=(1, 1), stride=(1, 1), bias=False)\n",
            "    (1): BatchNorm2d(2048, eps=1e-05, momentum=0.1, affine=True, track_running_stats=True)\n",
            "  )\n",
            "  (upconv1): Sequential(\n",
            "    (0): Upsample(scale_factor=2.0, mode=nearest)\n",
            "    (1): Conv2d(128, 64, kernel_size=(5, 5), stride=(1, 1), padding=(2, 2), bias=False)\n",
            "    (2): BatchNorm2d(64, eps=1e-05, momentum=0.1, affine=True, track_running_stats=True)\n",
            "  )\n",
            "  (upconv2): Sequential(\n",
            "    (0): Upsample(scale_factor=2.0, mode=nearest)\n",
            "    (1): Conv2d(64, 32, kernel_size=(5, 5), stride=(1, 1), padding=(2, 2), bias=False)\n",
            "    (2): BatchNorm2d(32, eps=1e-05, momentum=0.1, affine=True, track_running_stats=True)\n",
            "  )\n",
            "  (upconv3): Sequential(\n",
            "    (0): Upsample(scale_factor=2.0, mode=nearest)\n",
            "    (1): Conv2d(32, 3, kernel_size=(5, 5), stride=(1, 1), padding=(2, 2), bias=False)\n",
            "  )\n",
            ")\n",
            "---------------------------------------\n",
            "                  D                    \n",
            "---------------------------------------\n",
            "DCDiscriminator(\n",
            "  (conv1): Sequential(\n",
            "    (0): Conv2d(3, 64, kernel_size=(5, 5), stride=(2, 2), padding=(2, 2), bias=False)\n",
            "    (1): BatchNorm2d(64, eps=1e-05, momentum=0.1, affine=True, track_running_stats=True)\n",
            "  )\n",
            "  (conv2): Sequential(\n",
            "    (0): Conv2d(64, 128, kernel_size=(5, 5), stride=(2, 2), padding=(2, 2), bias=False)\n",
            "    (1): BatchNorm2d(128, eps=1e-05, momentum=0.1, affine=True, track_running_stats=True)\n",
            "  )\n",
            "  (conv3): Sequential(\n",
            "    (0): Conv2d(128, 256, kernel_size=(5, 5), stride=(2, 2), padding=(2, 2), bias=False)\n",
            "    (1): BatchNorm2d(256, eps=1e-05, momentum=0.1, affine=True, track_running_stats=True)\n",
            "  )\n",
            "  (conv4): Sequential(\n",
            "    (0): Conv2d(256, 1, kernel_size=(5, 5), stride=(2, 2), padding=(1, 1), bias=False)\n",
            "  )\n",
            ")\n",
            "---------------------------------------\n"
          ],
          "name": "stdout"
        },
        {
          "output_type": "stream",
          "text": [
            "/usr/local/lib/python3.7/dist-packages/torchvision/transforms/transforms.py:285: UserWarning: The use of the transforms.Scale transform is deprecated, please use transforms.Resize instead.\n",
            "  warnings.warn(\"The use of the transforms.Scale transform is deprecated, \" +\n"
          ],
          "name": "stderr"
        },
        {
          "output_type": "stream",
          "text": [
            "Models moved to GPU.\n"
          ],
          "name": "stdout"
        },
        {
          "output_type": "stream",
          "text": [
            "/usr/local/lib/python3.7/dist-packages/PIL/Image.py:932: UserWarning: Palette images with Transparency expressed in bytes should be converted to RGBA images\n",
            "  \"Palette images with Transparency expressed in bytes should be \"\n",
            "/usr/local/lib/python3.7/dist-packages/torch/nn/functional.py:1698: UserWarning: nn.functional.tanh is deprecated. Use torch.tanh instead.\n",
            "  warnings.warn(\"nn.functional.tanh is deprecated. Use torch.tanh instead.\")\n",
            "WARNING:root:Lossy conversion from float32 to uint8. Range [-0.9806066751480103, 0.9976022839546204]. Convert image to uint8 prior to saving to suppress this warning.\n"
          ],
          "name": "stderr"
        },
        {
          "output_type": "stream",
          "text": [
            "Iteration [ 200/20000] | D_real_loss: 0.0467 | D_fake_loss: 0.0632 | G_loss: 0.6799\n",
            "Saved results/samples_gan_gp1_lr3e-5/sample-000200.png\n"
          ],
          "name": "stdout"
        },
        {
          "output_type": "stream",
          "text": [
            "WARNING:root:Lossy conversion from float32 to uint8. Range [-0.9627406597137451, 0.9963762164115906]. Convert image to uint8 prior to saving to suppress this warning.\n"
          ],
          "name": "stderr"
        },
        {
          "output_type": "stream",
          "text": [
            "Iteration [ 400/20000] | D_real_loss: 0.0296 | D_fake_loss: 0.0370 | G_loss: 0.7986\n",
            "Saved results/samples_gan_gp1_lr3e-5/sample-000400.png\n"
          ],
          "name": "stdout"
        },
        {
          "output_type": "stream",
          "text": [
            "WARNING:root:Lossy conversion from float32 to uint8. Range [-0.9500102996826172, 0.9969678521156311]. Convert image to uint8 prior to saving to suppress this warning.\n"
          ],
          "name": "stderr"
        },
        {
          "output_type": "stream",
          "text": [
            "Iteration [ 600/20000] | D_real_loss: 0.0500 | D_fake_loss: 0.0319 | G_loss: 0.6956\n",
            "Saved results/samples_gan_gp1_lr3e-5/sample-000600.png\n"
          ],
          "name": "stdout"
        },
        {
          "output_type": "stream",
          "text": [
            "WARNING:root:Lossy conversion from float32 to uint8. Range [-0.9542855024337769, 0.9989120960235596]. Convert image to uint8 prior to saving to suppress this warning.\n"
          ],
          "name": "stderr"
        },
        {
          "output_type": "stream",
          "text": [
            "Iteration [ 800/20000] | D_real_loss: 0.0155 | D_fake_loss: 0.0331 | G_loss: 0.9533\n",
            "Saved results/samples_gan_gp1_lr3e-5/sample-000800.png\n"
          ],
          "name": "stdout"
        },
        {
          "output_type": "stream",
          "text": [
            "WARNING:root:Lossy conversion from float32 to uint8. Range [-0.9737533330917358, 0.9990891218185425]. Convert image to uint8 prior to saving to suppress this warning.\n"
          ],
          "name": "stderr"
        },
        {
          "output_type": "stream",
          "text": [
            "Iteration [1000/20000] | D_real_loss: 0.0247 | D_fake_loss: 0.0289 | G_loss: 0.6744\n",
            "Saved results/samples_gan_gp1_lr3e-5/sample-001000.png\n"
          ],
          "name": "stdout"
        },
        {
          "output_type": "stream",
          "text": [
            "WARNING:root:Lossy conversion from float32 to uint8. Range [-0.9668769836425781, 0.9990516901016235]. Convert image to uint8 prior to saving to suppress this warning.\n"
          ],
          "name": "stderr"
        },
        {
          "output_type": "stream",
          "text": [
            "Iteration [1200/20000] | D_real_loss: 0.0829 | D_fake_loss: 0.0036 | G_loss: 0.7048\n",
            "Saved results/samples_gan_gp1_lr3e-5/sample-001200.png\n"
          ],
          "name": "stdout"
        },
        {
          "output_type": "stream",
          "text": [
            "WARNING:root:Lossy conversion from float32 to uint8. Range [-0.9570016264915466, 0.9957361221313477]. Convert image to uint8 prior to saving to suppress this warning.\n"
          ],
          "name": "stderr"
        },
        {
          "output_type": "stream",
          "text": [
            "Iteration [1400/20000] | D_real_loss: 0.0264 | D_fake_loss: 0.0171 | G_loss: 0.8381\n",
            "Saved results/samples_gan_gp1_lr3e-5/sample-001400.png\n"
          ],
          "name": "stdout"
        },
        {
          "output_type": "stream",
          "text": [
            "WARNING:root:Lossy conversion from float32 to uint8. Range [-0.9723856449127197, 0.9976804256439209]. Convert image to uint8 prior to saving to suppress this warning.\n"
          ],
          "name": "stderr"
        },
        {
          "output_type": "stream",
          "text": [
            "Iteration [1600/20000] | D_real_loss: 0.0040 | D_fake_loss: 0.0356 | G_loss: 0.8183\n",
            "Saved results/samples_gan_gp1_lr3e-5/sample-001600.png\n"
          ],
          "name": "stdout"
        },
        {
          "output_type": "stream",
          "text": [
            "WARNING:root:Lossy conversion from float32 to uint8. Range [-0.9609624147415161, 0.9939823746681213]. Convert image to uint8 prior to saving to suppress this warning.\n"
          ],
          "name": "stderr"
        },
        {
          "output_type": "stream",
          "text": [
            "Iteration [1800/20000] | D_real_loss: 0.0414 | D_fake_loss: 0.0239 | G_loss: 0.5736\n",
            "Saved results/samples_gan_gp1_lr3e-5/sample-001800.png\n"
          ],
          "name": "stdout"
        },
        {
          "output_type": "stream",
          "text": [
            "WARNING:root:Lossy conversion from float32 to uint8. Range [-0.9536948204040527, 0.9965143203735352]. Convert image to uint8 prior to saving to suppress this warning.\n"
          ],
          "name": "stderr"
        },
        {
          "output_type": "stream",
          "text": [
            "Iteration [2000/20000] | D_real_loss: 0.0207 | D_fake_loss: 0.0164 | G_loss: 0.9071\n",
            "Saved results/samples_gan_gp1_lr3e-5/sample-002000.png\n"
          ],
          "name": "stdout"
        },
        {
          "output_type": "stream",
          "text": [
            "WARNING:root:Lossy conversion from float32 to uint8. Range [-0.9624229669570923, 0.9901623725891113]. Convert image to uint8 prior to saving to suppress this warning.\n"
          ],
          "name": "stderr"
        },
        {
          "output_type": "stream",
          "text": [
            "Iteration [2200/20000] | D_real_loss: 0.0085 | D_fake_loss: 0.0280 | G_loss: 1.1187\n",
            "Saved results/samples_gan_gp1_lr3e-5/sample-002200.png\n"
          ],
          "name": "stdout"
        },
        {
          "output_type": "stream",
          "text": [
            "WARNING:root:Lossy conversion from float32 to uint8. Range [-0.9344341158866882, 0.9788472056388855]. Convert image to uint8 prior to saving to suppress this warning.\n"
          ],
          "name": "stderr"
        },
        {
          "output_type": "stream",
          "text": [
            "Iteration [2400/20000] | D_real_loss: 0.0070 | D_fake_loss: 0.0134 | G_loss: 0.9751\n",
            "Saved results/samples_gan_gp1_lr3e-5/sample-002400.png\n"
          ],
          "name": "stdout"
        },
        {
          "output_type": "stream",
          "text": [
            "WARNING:root:Lossy conversion from float32 to uint8. Range [-0.9444411993026733, 0.9756336212158203]. Convert image to uint8 prior to saving to suppress this warning.\n"
          ],
          "name": "stderr"
        },
        {
          "output_type": "stream",
          "text": [
            "Iteration [2600/20000] | D_real_loss: 0.0093 | D_fake_loss: 0.0365 | G_loss: 0.9431\n",
            "Saved results/samples_gan_gp1_lr3e-5/sample-002600.png\n"
          ],
          "name": "stdout"
        },
        {
          "output_type": "stream",
          "text": [
            "WARNING:root:Lossy conversion from float32 to uint8. Range [-0.893460214138031, 0.9425173401832581]. Convert image to uint8 prior to saving to suppress this warning.\n"
          ],
          "name": "stderr"
        },
        {
          "output_type": "stream",
          "text": [
            "Iteration [2800/20000] | D_real_loss: 0.0555 | D_fake_loss: 0.0084 | G_loss: 0.9602\n",
            "Saved results/samples_gan_gp1_lr3e-5/sample-002800.png\n"
          ],
          "name": "stdout"
        },
        {
          "output_type": "stream",
          "text": [
            "WARNING:root:Lossy conversion from float32 to uint8. Range [-0.8597057461738586, 0.906528115272522]. Convert image to uint8 prior to saving to suppress this warning.\n"
          ],
          "name": "stderr"
        },
        {
          "output_type": "stream",
          "text": [
            "Iteration [3000/20000] | D_real_loss: 0.0226 | D_fake_loss: 0.0040 | G_loss: 0.6405\n",
            "Saved results/samples_gan_gp1_lr3e-5/sample-003000.png\n"
          ],
          "name": "stdout"
        },
        {
          "output_type": "stream",
          "text": [
            "WARNING:root:Lossy conversion from float32 to uint8. Range [-0.8821063041687012, 0.8988767266273499]. Convert image to uint8 prior to saving to suppress this warning.\n"
          ],
          "name": "stderr"
        },
        {
          "output_type": "stream",
          "text": [
            "Iteration [3200/20000] | D_real_loss: 0.0051 | D_fake_loss: 0.0228 | G_loss: 0.9117\n",
            "Saved results/samples_gan_gp1_lr3e-5/sample-003200.png\n"
          ],
          "name": "stdout"
        },
        {
          "output_type": "stream",
          "text": [
            "WARNING:root:Lossy conversion from float32 to uint8. Range [-0.8632951974868774, 0.8957949876785278]. Convert image to uint8 prior to saving to suppress this warning.\n"
          ],
          "name": "stderr"
        },
        {
          "output_type": "stream",
          "text": [
            "Iteration [3400/20000] | D_real_loss: 0.0276 | D_fake_loss: 0.0052 | G_loss: 0.6911\n",
            "Saved results/samples_gan_gp1_lr3e-5/sample-003400.png\n"
          ],
          "name": "stdout"
        },
        {
          "output_type": "stream",
          "text": [
            "WARNING:root:Lossy conversion from float32 to uint8. Range [-0.7967423796653748, 0.861713171005249]. Convert image to uint8 prior to saving to suppress this warning.\n"
          ],
          "name": "stderr"
        },
        {
          "output_type": "stream",
          "text": [
            "Iteration [3600/20000] | D_real_loss: 0.0087 | D_fake_loss: 0.0082 | G_loss: 1.3077\n",
            "Saved results/samples_gan_gp1_lr3e-5/sample-003600.png\n"
          ],
          "name": "stdout"
        },
        {
          "output_type": "stream",
          "text": [
            "WARNING:root:Lossy conversion from float32 to uint8. Range [-0.8006065487861633, 0.8483119606971741]. Convert image to uint8 prior to saving to suppress this warning.\n"
          ],
          "name": "stderr"
        },
        {
          "output_type": "stream",
          "text": [
            "Iteration [3800/20000] | D_real_loss: 0.0036 | D_fake_loss: 0.0242 | G_loss: 0.8966\n",
            "Saved results/samples_gan_gp1_lr3e-5/sample-003800.png\n"
          ],
          "name": "stdout"
        },
        {
          "output_type": "stream",
          "text": [
            "WARNING:root:Lossy conversion from float32 to uint8. Range [-0.7818519473075867, 0.8267943859100342]. Convert image to uint8 prior to saving to suppress this warning.\n"
          ],
          "name": "stderr"
        },
        {
          "output_type": "stream",
          "text": [
            "Iteration [4000/20000] | D_real_loss: 0.0050 | D_fake_loss: 0.0390 | G_loss: 0.8478\n",
            "Saved results/samples_gan_gp1_lr3e-5/sample-004000.png\n"
          ],
          "name": "stdout"
        },
        {
          "output_type": "stream",
          "text": [
            "WARNING:root:Lossy conversion from float32 to uint8. Range [-0.7979766726493835, 0.8732476234436035]. Convert image to uint8 prior to saving to suppress this warning.\n"
          ],
          "name": "stderr"
        },
        {
          "output_type": "stream",
          "text": [
            "Iteration [4200/20000] | D_real_loss: 0.0174 | D_fake_loss: 0.0069 | G_loss: 1.1090\n",
            "Saved results/samples_gan_gp1_lr3e-5/sample-004200.png\n"
          ],
          "name": "stdout"
        },
        {
          "output_type": "stream",
          "text": [
            "WARNING:root:Lossy conversion from float32 to uint8. Range [-0.7315824031829834, 0.7833355665206909]. Convert image to uint8 prior to saving to suppress this warning.\n"
          ],
          "name": "stderr"
        },
        {
          "output_type": "stream",
          "text": [
            "Iteration [4400/20000] | D_real_loss: 0.0529 | D_fake_loss: 0.0069 | G_loss: 0.6595\n",
            "Saved results/samples_gan_gp1_lr3e-5/sample-004400.png\n"
          ],
          "name": "stdout"
        },
        {
          "output_type": "stream",
          "text": [
            "WARNING:root:Lossy conversion from float32 to uint8. Range [-0.765739917755127, 0.7726984024047852]. Convert image to uint8 prior to saving to suppress this warning.\n"
          ],
          "name": "stderr"
        },
        {
          "output_type": "stream",
          "text": [
            "Iteration [4600/20000] | D_real_loss: 0.0043 | D_fake_loss: 0.0027 | G_loss: 1.3196\n",
            "Saved results/samples_gan_gp1_lr3e-5/sample-004600.png\n"
          ],
          "name": "stdout"
        },
        {
          "output_type": "stream",
          "text": [
            "WARNING:root:Lossy conversion from float32 to uint8. Range [-0.7996887564659119, 0.769408106803894]. Convert image to uint8 prior to saving to suppress this warning.\n"
          ],
          "name": "stderr"
        },
        {
          "output_type": "stream",
          "text": [
            "Iteration [4800/20000] | D_real_loss: 0.0075 | D_fake_loss: 0.0051 | G_loss: 0.9055\n",
            "Saved results/samples_gan_gp1_lr3e-5/sample-004800.png\n"
          ],
          "name": "stdout"
        },
        {
          "output_type": "stream",
          "text": [
            "WARNING:root:Lossy conversion from float32 to uint8. Range [-0.7333025336265564, 0.7855197191238403]. Convert image to uint8 prior to saving to suppress this warning.\n"
          ],
          "name": "stderr"
        },
        {
          "output_type": "stream",
          "text": [
            "Iteration [5000/20000] | D_real_loss: 0.0041 | D_fake_loss: 0.0030 | G_loss: 0.7127\n",
            "Saved results/samples_gan_gp1_lr3e-5/sample-005000.png\n"
          ],
          "name": "stdout"
        },
        {
          "output_type": "stream",
          "text": [
            "WARNING:root:Lossy conversion from float32 to uint8. Range [-0.6790399551391602, 0.8306796550750732]. Convert image to uint8 prior to saving to suppress this warning.\n"
          ],
          "name": "stderr"
        },
        {
          "output_type": "stream",
          "text": [
            "Iteration [5200/20000] | D_real_loss: 0.0338 | D_fake_loss: 0.0053 | G_loss: 1.0154\n",
            "Saved results/samples_gan_gp1_lr3e-5/sample-005200.png\n"
          ],
          "name": "stdout"
        },
        {
          "output_type": "stream",
          "text": [
            "WARNING:root:Lossy conversion from float32 to uint8. Range [-0.6887229681015015, 0.8377367854118347]. Convert image to uint8 prior to saving to suppress this warning.\n"
          ],
          "name": "stderr"
        },
        {
          "output_type": "stream",
          "text": [
            "Iteration [5400/20000] | D_real_loss: 0.0225 | D_fake_loss: 0.0086 | G_loss: 0.7321\n",
            "Saved results/samples_gan_gp1_lr3e-5/sample-005400.png\n"
          ],
          "name": "stdout"
        },
        {
          "output_type": "stream",
          "text": [
            "WARNING:root:Lossy conversion from float32 to uint8. Range [-0.739280104637146, 0.7262654304504395]. Convert image to uint8 prior to saving to suppress this warning.\n"
          ],
          "name": "stderr"
        },
        {
          "output_type": "stream",
          "text": [
            "Iteration [5600/20000] | D_real_loss: 0.0112 | D_fake_loss: 0.0032 | G_loss: 1.1142\n",
            "Saved results/samples_gan_gp1_lr3e-5/sample-005600.png\n"
          ],
          "name": "stdout"
        },
        {
          "output_type": "stream",
          "text": [
            "WARNING:root:Lossy conversion from float32 to uint8. Range [-0.6910203695297241, 0.7773736119270325]. Convert image to uint8 prior to saving to suppress this warning.\n"
          ],
          "name": "stderr"
        },
        {
          "output_type": "stream",
          "text": [
            "Iteration [5800/20000] | D_real_loss: 0.0522 | D_fake_loss: 0.0207 | G_loss: 0.9681\n",
            "Saved results/samples_gan_gp1_lr3e-5/sample-005800.png\n"
          ],
          "name": "stdout"
        },
        {
          "output_type": "stream",
          "text": [
            "WARNING:root:Lossy conversion from float32 to uint8. Range [-0.6798123121261597, 0.776628851890564]. Convert image to uint8 prior to saving to suppress this warning.\n"
          ],
          "name": "stderr"
        },
        {
          "output_type": "stream",
          "text": [
            "Iteration [6000/20000] | D_real_loss: 0.1037 | D_fake_loss: 0.0214 | G_loss: 0.7453\n",
            "Saved results/samples_gan_gp1_lr3e-5/sample-006000.png\n"
          ],
          "name": "stdout"
        },
        {
          "output_type": "stream",
          "text": [
            "WARNING:root:Lossy conversion from float32 to uint8. Range [-0.7243638634681702, 0.7516176700592041]. Convert image to uint8 prior to saving to suppress this warning.\n"
          ],
          "name": "stderr"
        },
        {
          "output_type": "stream",
          "text": [
            "Iteration [6200/20000] | D_real_loss: 0.0147 | D_fake_loss: 0.0131 | G_loss: 1.1639\n",
            "Saved results/samples_gan_gp1_lr3e-5/sample-006200.png\n"
          ],
          "name": "stdout"
        },
        {
          "output_type": "stream",
          "text": [
            "WARNING:root:Lossy conversion from float32 to uint8. Range [-0.6541756391525269, 0.7667924165725708]. Convert image to uint8 prior to saving to suppress this warning.\n"
          ],
          "name": "stderr"
        },
        {
          "output_type": "stream",
          "text": [
            "Iteration [6400/20000] | D_real_loss: 0.0014 | D_fake_loss: 0.0135 | G_loss: 1.0525\n",
            "Saved results/samples_gan_gp1_lr3e-5/sample-006400.png\n"
          ],
          "name": "stdout"
        },
        {
          "output_type": "stream",
          "text": [
            "WARNING:root:Lossy conversion from float32 to uint8. Range [-0.6846561431884766, 0.770117998123169]. Convert image to uint8 prior to saving to suppress this warning.\n"
          ],
          "name": "stderr"
        },
        {
          "output_type": "stream",
          "text": [
            "Iteration [6600/20000] | D_real_loss: 0.0159 | D_fake_loss: 0.0206 | G_loss: 1.3370\n",
            "Saved results/samples_gan_gp1_lr3e-5/sample-006600.png\n"
          ],
          "name": "stdout"
        },
        {
          "output_type": "stream",
          "text": [
            "WARNING:root:Lossy conversion from float32 to uint8. Range [-0.6687644720077515, 0.7879488468170166]. Convert image to uint8 prior to saving to suppress this warning.\n"
          ],
          "name": "stderr"
        },
        {
          "output_type": "stream",
          "text": [
            "Iteration [6800/20000] | D_real_loss: 0.0011 | D_fake_loss: 0.0158 | G_loss: 1.2219\n",
            "Saved results/samples_gan_gp1_lr3e-5/sample-006800.png\n"
          ],
          "name": "stdout"
        },
        {
          "output_type": "stream",
          "text": [
            "WARNING:root:Lossy conversion from float32 to uint8. Range [-0.7060587406158447, 0.7645353078842163]. Convert image to uint8 prior to saving to suppress this warning.\n"
          ],
          "name": "stderr"
        },
        {
          "output_type": "stream",
          "text": [
            "Iteration [7000/20000] | D_real_loss: 0.0257 | D_fake_loss: 0.0046 | G_loss: 0.8707\n",
            "Saved results/samples_gan_gp1_lr3e-5/sample-007000.png\n"
          ],
          "name": "stdout"
        },
        {
          "output_type": "stream",
          "text": [
            "WARNING:root:Lossy conversion from float32 to uint8. Range [-0.6488262414932251, 0.7767787575721741]. Convert image to uint8 prior to saving to suppress this warning.\n"
          ],
          "name": "stderr"
        },
        {
          "output_type": "stream",
          "text": [
            "Iteration [7200/20000] | D_real_loss: 0.0026 | D_fake_loss: 0.0050 | G_loss: 0.8881\n",
            "Saved results/samples_gan_gp1_lr3e-5/sample-007200.png\n"
          ],
          "name": "stdout"
        },
        {
          "output_type": "stream",
          "text": [
            "WARNING:root:Lossy conversion from float32 to uint8. Range [-0.6966508626937866, 0.8063424229621887]. Convert image to uint8 prior to saving to suppress this warning.\n"
          ],
          "name": "stderr"
        },
        {
          "output_type": "stream",
          "text": [
            "Iteration [7400/20000] | D_real_loss: 0.0154 | D_fake_loss: 0.0060 | G_loss: 0.5448\n",
            "Saved results/samples_gan_gp1_lr3e-5/sample-007400.png\n"
          ],
          "name": "stdout"
        },
        {
          "output_type": "stream",
          "text": [
            "WARNING:root:Lossy conversion from float32 to uint8. Range [-0.7415174841880798, 0.7619525790214539]. Convert image to uint8 prior to saving to suppress this warning.\n"
          ],
          "name": "stderr"
        },
        {
          "output_type": "stream",
          "text": [
            "Iteration [7600/20000] | D_real_loss: 0.0017 | D_fake_loss: 0.0044 | G_loss: 0.9643\n",
            "Saved results/samples_gan_gp1_lr3e-5/sample-007600.png\n"
          ],
          "name": "stdout"
        },
        {
          "output_type": "stream",
          "text": [
            "WARNING:root:Lossy conversion from float32 to uint8. Range [-0.6990306377410889, 0.7574644684791565]. Convert image to uint8 prior to saving to suppress this warning.\n"
          ],
          "name": "stderr"
        },
        {
          "output_type": "stream",
          "text": [
            "Iteration [7800/20000] | D_real_loss: 0.0027 | D_fake_loss: 0.0027 | G_loss: 1.2846\n",
            "Saved results/samples_gan_gp1_lr3e-5/sample-007800.png\n"
          ],
          "name": "stdout"
        },
        {
          "output_type": "stream",
          "text": [
            "WARNING:root:Lossy conversion from float32 to uint8. Range [-0.6211392283439636, 0.7729065418243408]. Convert image to uint8 prior to saving to suppress this warning.\n"
          ],
          "name": "stderr"
        },
        {
          "output_type": "stream",
          "text": [
            "Iteration [8000/20000] | D_real_loss: 0.0173 | D_fake_loss: 0.0144 | G_loss: 0.9550\n",
            "Saved results/samples_gan_gp1_lr3e-5/sample-008000.png\n"
          ],
          "name": "stdout"
        },
        {
          "output_type": "stream",
          "text": [
            "WARNING:root:Lossy conversion from float32 to uint8. Range [-0.6379280090332031, 0.7681514024734497]. Convert image to uint8 prior to saving to suppress this warning.\n"
          ],
          "name": "stderr"
        },
        {
          "output_type": "stream",
          "text": [
            "Iteration [8200/20000] | D_real_loss: 0.0069 | D_fake_loss: 0.0030 | G_loss: 1.2666\n",
            "Saved results/samples_gan_gp1_lr3e-5/sample-008200.png\n"
          ],
          "name": "stdout"
        },
        {
          "output_type": "stream",
          "text": [
            "WARNING:root:Lossy conversion from float32 to uint8. Range [-0.6192152500152588, 0.737545371055603]. Convert image to uint8 prior to saving to suppress this warning.\n"
          ],
          "name": "stderr"
        },
        {
          "output_type": "stream",
          "text": [
            "Iteration [8400/20000] | D_real_loss: 0.0175 | D_fake_loss: 0.0270 | G_loss: 1.0116\n",
            "Saved results/samples_gan_gp1_lr3e-5/sample-008400.png\n"
          ],
          "name": "stdout"
        },
        {
          "output_type": "stream",
          "text": [
            "WARNING:root:Lossy conversion from float32 to uint8. Range [-0.6385366320610046, 0.7555906772613525]. Convert image to uint8 prior to saving to suppress this warning.\n"
          ],
          "name": "stderr"
        },
        {
          "output_type": "stream",
          "text": [
            "Iteration [8600/20000] | D_real_loss: 0.0076 | D_fake_loss: 0.0019 | G_loss: 1.0045\n",
            "Saved results/samples_gan_gp1_lr3e-5/sample-008600.png\n"
          ],
          "name": "stdout"
        },
        {
          "output_type": "stream",
          "text": [
            "WARNING:root:Lossy conversion from float32 to uint8. Range [-0.6651315689086914, 0.7316516637802124]. Convert image to uint8 prior to saving to suppress this warning.\n"
          ],
          "name": "stderr"
        },
        {
          "output_type": "stream",
          "text": [
            "Iteration [8800/20000] | D_real_loss: 0.0015 | D_fake_loss: 0.0133 | G_loss: 0.8806\n",
            "Saved results/samples_gan_gp1_lr3e-5/sample-008800.png\n"
          ],
          "name": "stdout"
        },
        {
          "output_type": "stream",
          "text": [
            "WARNING:root:Lossy conversion from float32 to uint8. Range [-0.6947271227836609, 0.7284587025642395]. Convert image to uint8 prior to saving to suppress this warning.\n"
          ],
          "name": "stderr"
        },
        {
          "output_type": "stream",
          "text": [
            "Iteration [9000/20000] | D_real_loss: 0.0007 | D_fake_loss: 0.0090 | G_loss: 0.8307\n",
            "Saved results/samples_gan_gp1_lr3e-5/sample-009000.png\n"
          ],
          "name": "stdout"
        },
        {
          "output_type": "stream",
          "text": [
            "WARNING:root:Lossy conversion from float32 to uint8. Range [-0.6420756578445435, 0.7240045070648193]. Convert image to uint8 prior to saving to suppress this warning.\n"
          ],
          "name": "stderr"
        },
        {
          "output_type": "stream",
          "text": [
            "Iteration [9200/20000] | D_real_loss: 0.0055 | D_fake_loss: 0.0031 | G_loss: 0.7665\n",
            "Saved results/samples_gan_gp1_lr3e-5/sample-009200.png\n"
          ],
          "name": "stdout"
        },
        {
          "output_type": "stream",
          "text": [
            "WARNING:root:Lossy conversion from float32 to uint8. Range [-0.6375156044960022, 0.7263050079345703]. Convert image to uint8 prior to saving to suppress this warning.\n"
          ],
          "name": "stderr"
        },
        {
          "output_type": "stream",
          "text": [
            "Iteration [9400/20000] | D_real_loss: 0.0054 | D_fake_loss: 0.0070 | G_loss: 1.0479\n",
            "Saved results/samples_gan_gp1_lr3e-5/sample-009400.png\n"
          ],
          "name": "stdout"
        },
        {
          "output_type": "stream",
          "text": [
            "WARNING:root:Lossy conversion from float32 to uint8. Range [-0.6522594690322876, 0.7527995705604553]. Convert image to uint8 prior to saving to suppress this warning.\n"
          ],
          "name": "stderr"
        },
        {
          "output_type": "stream",
          "text": [
            "Iteration [9600/20000] | D_real_loss: 0.0495 | D_fake_loss: 0.0149 | G_loss: 1.2223\n",
            "Saved results/samples_gan_gp1_lr3e-5/sample-009600.png\n"
          ],
          "name": "stdout"
        },
        {
          "output_type": "stream",
          "text": [
            "WARNING:root:Lossy conversion from float32 to uint8. Range [-0.6522446274757385, 0.735443115234375]. Convert image to uint8 prior to saving to suppress this warning.\n"
          ],
          "name": "stderr"
        },
        {
          "output_type": "stream",
          "text": [
            "Iteration [9800/20000] | D_real_loss: 0.0051 | D_fake_loss: 0.0019 | G_loss: 1.0604\n",
            "Saved results/samples_gan_gp1_lr3e-5/sample-009800.png\n"
          ],
          "name": "stdout"
        },
        {
          "output_type": "stream",
          "text": [
            "WARNING:root:Lossy conversion from float32 to uint8. Range [-0.6345938444137573, 0.7626079320907593]. Convert image to uint8 prior to saving to suppress this warning.\n"
          ],
          "name": "stderr"
        },
        {
          "output_type": "stream",
          "text": [
            "Iteration [10000/20000] | D_real_loss: 0.0060 | D_fake_loss: 0.0107 | G_loss: 0.9591\n",
            "Saved results/samples_gan_gp1_lr3e-5/sample-010000.png\n"
          ],
          "name": "stdout"
        },
        {
          "output_type": "stream",
          "text": [
            "WARNING:root:Lossy conversion from float32 to uint8. Range [-0.7131950259208679, 0.770927369594574]. Convert image to uint8 prior to saving to suppress this warning.\n"
          ],
          "name": "stderr"
        },
        {
          "output_type": "stream",
          "text": [
            "Iteration [10200/20000] | D_real_loss: 0.0100 | D_fake_loss: 0.0094 | G_loss: 1.0580\n",
            "Saved results/samples_gan_gp1_lr3e-5/sample-010200.png\n"
          ],
          "name": "stdout"
        },
        {
          "output_type": "stream",
          "text": [
            "WARNING:root:Lossy conversion from float32 to uint8. Range [-0.684182345867157, 0.7664231061935425]. Convert image to uint8 prior to saving to suppress this warning.\n"
          ],
          "name": "stderr"
        },
        {
          "output_type": "stream",
          "text": [
            "Iteration [10400/20000] | D_real_loss: 0.0158 | D_fake_loss: 0.0051 | G_loss: 0.8730\n",
            "Saved results/samples_gan_gp1_lr3e-5/sample-010400.png\n"
          ],
          "name": "stdout"
        },
        {
          "output_type": "stream",
          "text": [
            "WARNING:root:Lossy conversion from float32 to uint8. Range [-0.6714729070663452, 0.7598033547401428]. Convert image to uint8 prior to saving to suppress this warning.\n"
          ],
          "name": "stderr"
        },
        {
          "output_type": "stream",
          "text": [
            "Iteration [10600/20000] | D_real_loss: 0.0206 | D_fake_loss: 0.0132 | G_loss: 1.2047\n",
            "Saved results/samples_gan_gp1_lr3e-5/sample-010600.png\n"
          ],
          "name": "stdout"
        },
        {
          "output_type": "stream",
          "text": [
            "WARNING:root:Lossy conversion from float32 to uint8. Range [-0.7302888631820679, 0.7785933017730713]. Convert image to uint8 prior to saving to suppress this warning.\n"
          ],
          "name": "stderr"
        },
        {
          "output_type": "stream",
          "text": [
            "Iteration [10800/20000] | D_real_loss: 0.0131 | D_fake_loss: 0.0097 | G_loss: 1.2172\n",
            "Saved results/samples_gan_gp1_lr3e-5/sample-010800.png\n"
          ],
          "name": "stdout"
        },
        {
          "output_type": "stream",
          "text": [
            "WARNING:root:Lossy conversion from float32 to uint8. Range [-0.6828365325927734, 0.7738624811172485]. Convert image to uint8 prior to saving to suppress this warning.\n"
          ],
          "name": "stderr"
        },
        {
          "output_type": "stream",
          "text": [
            "Iteration [11000/20000] | D_real_loss: 0.0026 | D_fake_loss: 0.0015 | G_loss: 0.9226\n",
            "Saved results/samples_gan_gp1_lr3e-5/sample-011000.png\n"
          ],
          "name": "stdout"
        },
        {
          "output_type": "stream",
          "text": [
            "WARNING:root:Lossy conversion from float32 to uint8. Range [-0.6952319145202637, 0.7563807964324951]. Convert image to uint8 prior to saving to suppress this warning.\n"
          ],
          "name": "stderr"
        },
        {
          "output_type": "stream",
          "text": [
            "Iteration [11200/20000] | D_real_loss: 0.0413 | D_fake_loss: 0.0224 | G_loss: 0.9385\n",
            "Saved results/samples_gan_gp1_lr3e-5/sample-011200.png\n"
          ],
          "name": "stdout"
        },
        {
          "output_type": "stream",
          "text": [
            "WARNING:root:Lossy conversion from float32 to uint8. Range [-0.7113981246948242, 0.7467523813247681]. Convert image to uint8 prior to saving to suppress this warning.\n"
          ],
          "name": "stderr"
        },
        {
          "output_type": "stream",
          "text": [
            "Iteration [11400/20000] | D_real_loss: 0.0288 | D_fake_loss: 0.0344 | G_loss: 1.0141\n",
            "Saved results/samples_gan_gp1_lr3e-5/sample-011400.png\n"
          ],
          "name": "stdout"
        },
        {
          "output_type": "stream",
          "text": [
            "WARNING:root:Lossy conversion from float32 to uint8. Range [-0.6765697598457336, 0.7600586414337158]. Convert image to uint8 prior to saving to suppress this warning.\n"
          ],
          "name": "stderr"
        },
        {
          "output_type": "stream",
          "text": [
            "Iteration [11600/20000] | D_real_loss: 0.0079 | D_fake_loss: 0.0080 | G_loss: 1.0212\n",
            "Saved results/samples_gan_gp1_lr3e-5/sample-011600.png\n"
          ],
          "name": "stdout"
        },
        {
          "output_type": "stream",
          "text": [
            "WARNING:root:Lossy conversion from float32 to uint8. Range [-0.7298271656036377, 0.7547454833984375]. Convert image to uint8 prior to saving to suppress this warning.\n"
          ],
          "name": "stderr"
        },
        {
          "output_type": "stream",
          "text": [
            "Iteration [11800/20000] | D_real_loss: 0.0025 | D_fake_loss: 0.0025 | G_loss: 0.9118\n",
            "Saved results/samples_gan_gp1_lr3e-5/sample-011800.png\n"
          ],
          "name": "stdout"
        },
        {
          "output_type": "stream",
          "text": [
            "WARNING:root:Lossy conversion from float32 to uint8. Range [-0.6676642894744873, 0.7215834856033325]. Convert image to uint8 prior to saving to suppress this warning.\n"
          ],
          "name": "stderr"
        },
        {
          "output_type": "stream",
          "text": [
            "Iteration [12000/20000] | D_real_loss: 0.0016 | D_fake_loss: 0.0030 | G_loss: 0.9370\n",
            "Saved results/samples_gan_gp1_lr3e-5/sample-012000.png\n"
          ],
          "name": "stdout"
        },
        {
          "output_type": "stream",
          "text": [
            "WARNING:root:Lossy conversion from float32 to uint8. Range [-0.6456457376480103, 0.7093254327774048]. Convert image to uint8 prior to saving to suppress this warning.\n"
          ],
          "name": "stderr"
        },
        {
          "output_type": "stream",
          "text": [
            "Iteration [12200/20000] | D_real_loss: 0.0012 | D_fake_loss: 0.0017 | G_loss: 1.0132\n",
            "Saved results/samples_gan_gp1_lr3e-5/sample-012200.png\n"
          ],
          "name": "stdout"
        },
        {
          "output_type": "stream",
          "text": [
            "WARNING:root:Lossy conversion from float32 to uint8. Range [-0.6884565949440002, 0.6922894716262817]. Convert image to uint8 prior to saving to suppress this warning.\n"
          ],
          "name": "stderr"
        },
        {
          "output_type": "stream",
          "text": [
            "Iteration [12400/20000] | D_real_loss: 0.0097 | D_fake_loss: 0.0057 | G_loss: 0.8493\n",
            "Saved results/samples_gan_gp1_lr3e-5/sample-012400.png\n"
          ],
          "name": "stdout"
        },
        {
          "output_type": "stream",
          "text": [
            "WARNING:root:Lossy conversion from float32 to uint8. Range [-0.6573882699012756, 0.7040836811065674]. Convert image to uint8 prior to saving to suppress this warning.\n"
          ],
          "name": "stderr"
        },
        {
          "output_type": "stream",
          "text": [
            "Iteration [12600/20000] | D_real_loss: 0.0190 | D_fake_loss: 0.0024 | G_loss: 1.0196\n",
            "Saved results/samples_gan_gp1_lr3e-5/sample-012600.png\n"
          ],
          "name": "stdout"
        },
        {
          "output_type": "stream",
          "text": [
            "WARNING:root:Lossy conversion from float32 to uint8. Range [-0.6985134482383728, 0.6720432639122009]. Convert image to uint8 prior to saving to suppress this warning.\n"
          ],
          "name": "stderr"
        },
        {
          "output_type": "stream",
          "text": [
            "Iteration [12800/20000] | D_real_loss: 0.0349 | D_fake_loss: 0.0020 | G_loss: 1.3453\n",
            "Saved results/samples_gan_gp1_lr3e-5/sample-012800.png\n"
          ],
          "name": "stdout"
        },
        {
          "output_type": "stream",
          "text": [
            "WARNING:root:Lossy conversion from float32 to uint8. Range [-0.6936699748039246, 0.6942996978759766]. Convert image to uint8 prior to saving to suppress this warning.\n"
          ],
          "name": "stderr"
        },
        {
          "output_type": "stream",
          "text": [
            "Iteration [13000/20000] | D_real_loss: 0.0025 | D_fake_loss: 0.0118 | G_loss: 0.9547\n",
            "Saved results/samples_gan_gp1_lr3e-5/sample-013000.png\n"
          ],
          "name": "stdout"
        },
        {
          "output_type": "stream",
          "text": [
            "WARNING:root:Lossy conversion from float32 to uint8. Range [-0.7108621001243591, 0.6778813004493713]. Convert image to uint8 prior to saving to suppress this warning.\n"
          ],
          "name": "stderr"
        },
        {
          "output_type": "stream",
          "text": [
            "Iteration [13200/20000] | D_real_loss: 0.0054 | D_fake_loss: 0.0027 | G_loss: 1.0586\n",
            "Saved results/samples_gan_gp1_lr3e-5/sample-013200.png\n"
          ],
          "name": "stdout"
        },
        {
          "output_type": "stream",
          "text": [
            "WARNING:root:Lossy conversion from float32 to uint8. Range [-0.7271708846092224, 0.6926633715629578]. Convert image to uint8 prior to saving to suppress this warning.\n"
          ],
          "name": "stderr"
        },
        {
          "output_type": "stream",
          "text": [
            "Iteration [13400/20000] | D_real_loss: 0.0072 | D_fake_loss: 0.0027 | G_loss: 1.1113\n",
            "Saved results/samples_gan_gp1_lr3e-5/sample-013400.png\n"
          ],
          "name": "stdout"
        },
        {
          "output_type": "stream",
          "text": [
            "WARNING:root:Lossy conversion from float32 to uint8. Range [-0.7578772902488708, 0.6897569894790649]. Convert image to uint8 prior to saving to suppress this warning.\n"
          ],
          "name": "stderr"
        },
        {
          "output_type": "stream",
          "text": [
            "Iteration [13600/20000] | D_real_loss: 0.0033 | D_fake_loss: 0.0039 | G_loss: 1.2302\n",
            "Saved results/samples_gan_gp1_lr3e-5/sample-013600.png\n"
          ],
          "name": "stdout"
        },
        {
          "output_type": "stream",
          "text": [
            "WARNING:root:Lossy conversion from float32 to uint8. Range [-0.7399923801422119, 0.6836565732955933]. Convert image to uint8 prior to saving to suppress this warning.\n"
          ],
          "name": "stderr"
        },
        {
          "output_type": "stream",
          "text": [
            "Iteration [13800/20000] | D_real_loss: 0.0191 | D_fake_loss: 0.0146 | G_loss: 1.0794\n",
            "Saved results/samples_gan_gp1_lr3e-5/sample-013800.png\n"
          ],
          "name": "stdout"
        },
        {
          "output_type": "stream",
          "text": [
            "WARNING:root:Lossy conversion from float32 to uint8. Range [-0.6975873708724976, 0.7199755907058716]. Convert image to uint8 prior to saving to suppress this warning.\n"
          ],
          "name": "stderr"
        },
        {
          "output_type": "stream",
          "text": [
            "Iteration [14000/20000] | D_real_loss: 0.0204 | D_fake_loss: 0.0112 | G_loss: 1.2375\n",
            "Saved results/samples_gan_gp1_lr3e-5/sample-014000.png\n"
          ],
          "name": "stdout"
        },
        {
          "output_type": "stream",
          "text": [
            "WARNING:root:Lossy conversion from float32 to uint8. Range [-0.6401917934417725, 0.7643598318099976]. Convert image to uint8 prior to saving to suppress this warning.\n"
          ],
          "name": "stderr"
        },
        {
          "output_type": "stream",
          "text": [
            "Iteration [14200/20000] | D_real_loss: 0.0484 | D_fake_loss: 0.0416 | G_loss: 1.1621\n",
            "Saved results/samples_gan_gp1_lr3e-5/sample-014200.png\n"
          ],
          "name": "stdout"
        },
        {
          "output_type": "stream",
          "text": [
            "WARNING:root:Lossy conversion from float32 to uint8. Range [-0.7181975841522217, 0.7109255790710449]. Convert image to uint8 prior to saving to suppress this warning.\n"
          ],
          "name": "stderr"
        },
        {
          "output_type": "stream",
          "text": [
            "Iteration [14400/20000] | D_real_loss: 0.0173 | D_fake_loss: 0.0124 | G_loss: 0.8315\n",
            "Saved results/samples_gan_gp1_lr3e-5/sample-014400.png\n"
          ],
          "name": "stdout"
        },
        {
          "output_type": "stream",
          "text": [
            "WARNING:root:Lossy conversion from float32 to uint8. Range [-0.6100559234619141, 0.7490296959877014]. Convert image to uint8 prior to saving to suppress this warning.\n"
          ],
          "name": "stderr"
        },
        {
          "output_type": "stream",
          "text": [
            "Iteration [14600/20000] | D_real_loss: 0.0020 | D_fake_loss: 0.0051 | G_loss: 0.9706\n",
            "Saved results/samples_gan_gp1_lr3e-5/sample-014600.png\n"
          ],
          "name": "stdout"
        },
        {
          "output_type": "stream",
          "text": [
            "WARNING:root:Lossy conversion from float32 to uint8. Range [-0.684535801410675, 0.7244179248809814]. Convert image to uint8 prior to saving to suppress this warning.\n"
          ],
          "name": "stderr"
        },
        {
          "output_type": "stream",
          "text": [
            "Iteration [14800/20000] | D_real_loss: 0.0035 | D_fake_loss: 0.0188 | G_loss: 0.8207\n",
            "Saved results/samples_gan_gp1_lr3e-5/sample-014800.png\n"
          ],
          "name": "stdout"
        },
        {
          "output_type": "stream",
          "text": [
            "WARNING:root:Lossy conversion from float32 to uint8. Range [-0.6647953987121582, 0.7048375010490417]. Convert image to uint8 prior to saving to suppress this warning.\n"
          ],
          "name": "stderr"
        },
        {
          "output_type": "stream",
          "text": [
            "Iteration [15000/20000] | D_real_loss: 0.0094 | D_fake_loss: 0.0125 | G_loss: 0.9535\n",
            "Saved results/samples_gan_gp1_lr3e-5/sample-015000.png\n"
          ],
          "name": "stdout"
        },
        {
          "output_type": "stream",
          "text": [
            "WARNING:root:Lossy conversion from float32 to uint8. Range [-0.6398186087608337, 0.7288527488708496]. Convert image to uint8 prior to saving to suppress this warning.\n"
          ],
          "name": "stderr"
        },
        {
          "output_type": "stream",
          "text": [
            "Iteration [15200/20000] | D_real_loss: 0.0185 | D_fake_loss: 0.0069 | G_loss: 1.2224\n",
            "Saved results/samples_gan_gp1_lr3e-5/sample-015200.png\n"
          ],
          "name": "stdout"
        },
        {
          "output_type": "stream",
          "text": [
            "WARNING:root:Lossy conversion from float32 to uint8. Range [-0.6162724494934082, 0.7259743213653564]. Convert image to uint8 prior to saving to suppress this warning.\n"
          ],
          "name": "stderr"
        },
        {
          "output_type": "stream",
          "text": [
            "Iteration [15400/20000] | D_real_loss: 0.0017 | D_fake_loss: 0.0009 | G_loss: 1.2146\n",
            "Saved results/samples_gan_gp1_lr3e-5/sample-015400.png\n"
          ],
          "name": "stdout"
        },
        {
          "output_type": "stream",
          "text": [
            "WARNING:root:Lossy conversion from float32 to uint8. Range [-0.6224274039268494, 0.7546570897102356]. Convert image to uint8 prior to saving to suppress this warning.\n"
          ],
          "name": "stderr"
        },
        {
          "output_type": "stream",
          "text": [
            "Iteration [15600/20000] | D_real_loss: 0.0068 | D_fake_loss: 0.0033 | G_loss: 0.8612\n",
            "Saved results/samples_gan_gp1_lr3e-5/sample-015600.png\n"
          ],
          "name": "stdout"
        },
        {
          "output_type": "stream",
          "text": [
            "WARNING:root:Lossy conversion from float32 to uint8. Range [-0.7508580684661865, 0.7029026746749878]. Convert image to uint8 prior to saving to suppress this warning.\n"
          ],
          "name": "stderr"
        },
        {
          "output_type": "stream",
          "text": [
            "Iteration [15800/20000] | D_real_loss: 0.0031 | D_fake_loss: 0.0211 | G_loss: 0.8482\n",
            "Saved results/samples_gan_gp1_lr3e-5/sample-015800.png\n"
          ],
          "name": "stdout"
        },
        {
          "output_type": "stream",
          "text": [
            "WARNING:root:Lossy conversion from float32 to uint8. Range [-0.6945997476577759, 0.7183141708374023]. Convert image to uint8 prior to saving to suppress this warning.\n"
          ],
          "name": "stderr"
        },
        {
          "output_type": "stream",
          "text": [
            "Iteration [16000/20000] | D_real_loss: 0.0043 | D_fake_loss: 0.0033 | G_loss: 1.0081\n",
            "Saved results/samples_gan_gp1_lr3e-5/sample-016000.png\n"
          ],
          "name": "stdout"
        },
        {
          "output_type": "stream",
          "text": [
            "WARNING:root:Lossy conversion from float32 to uint8. Range [-0.6411079168319702, 0.73268723487854]. Convert image to uint8 prior to saving to suppress this warning.\n"
          ],
          "name": "stderr"
        },
        {
          "output_type": "stream",
          "text": [
            "Iteration [16200/20000] | D_real_loss: 0.0042 | D_fake_loss: 0.0021 | G_loss: 0.9481\n",
            "Saved results/samples_gan_gp1_lr3e-5/sample-016200.png\n"
          ],
          "name": "stdout"
        },
        {
          "output_type": "stream",
          "text": [
            "WARNING:root:Lossy conversion from float32 to uint8. Range [-0.624191403388977, 0.7156923413276672]. Convert image to uint8 prior to saving to suppress this warning.\n"
          ],
          "name": "stderr"
        },
        {
          "output_type": "stream",
          "text": [
            "Iteration [16400/20000] | D_real_loss: 0.0136 | D_fake_loss: 0.0033 | G_loss: 0.7789\n",
            "Saved results/samples_gan_gp1_lr3e-5/sample-016400.png\n"
          ],
          "name": "stdout"
        },
        {
          "output_type": "stream",
          "text": [
            "WARNING:root:Lossy conversion from float32 to uint8. Range [-0.6342912316322327, 0.7067469358444214]. Convert image to uint8 prior to saving to suppress this warning.\n"
          ],
          "name": "stderr"
        },
        {
          "output_type": "stream",
          "text": [
            "Iteration [16600/20000] | D_real_loss: 0.0061 | D_fake_loss: 0.0018 | G_loss: 0.8139\n",
            "Saved results/samples_gan_gp1_lr3e-5/sample-016600.png\n"
          ],
          "name": "stdout"
        },
        {
          "output_type": "stream",
          "text": [
            "WARNING:root:Lossy conversion from float32 to uint8. Range [-0.6589395999908447, 0.6916840076446533]. Convert image to uint8 prior to saving to suppress this warning.\n"
          ],
          "name": "stderr"
        },
        {
          "output_type": "stream",
          "text": [
            "Iteration [16800/20000] | D_real_loss: 0.0013 | D_fake_loss: 0.0021 | G_loss: 0.8653\n",
            "Saved results/samples_gan_gp1_lr3e-5/sample-016800.png\n"
          ],
          "name": "stdout"
        },
        {
          "output_type": "stream",
          "text": [
            "WARNING:root:Lossy conversion from float32 to uint8. Range [-0.638032078742981, 0.71896892786026]. Convert image to uint8 prior to saving to suppress this warning.\n"
          ],
          "name": "stderr"
        },
        {
          "output_type": "stream",
          "text": [
            "Iteration [17000/20000] | D_real_loss: 0.0010 | D_fake_loss: 0.0129 | G_loss: 1.0584\n",
            "Saved results/samples_gan_gp1_lr3e-5/sample-017000.png\n"
          ],
          "name": "stdout"
        },
        {
          "output_type": "stream",
          "text": [
            "WARNING:root:Lossy conversion from float32 to uint8. Range [-0.8730380535125732, 0.5752443671226501]. Convert image to uint8 prior to saving to suppress this warning.\n"
          ],
          "name": "stderr"
        },
        {
          "output_type": "stream",
          "text": [
            "Iteration [17200/20000] | D_real_loss: 0.0058 | D_fake_loss: 0.0010 | G_loss: 1.1139\n",
            "Saved results/samples_gan_gp1_lr3e-5/sample-017200.png\n"
          ],
          "name": "stdout"
        },
        {
          "output_type": "stream",
          "text": [
            "WARNING:root:Lossy conversion from float32 to uint8. Range [-0.9772149920463562, 0.8085719347000122]. Convert image to uint8 prior to saving to suppress this warning.\n"
          ],
          "name": "stderr"
        },
        {
          "output_type": "stream",
          "text": [
            "Iteration [17400/20000] | D_real_loss: 0.0050 | D_fake_loss: 0.0003 | G_loss: 1.0502\n",
            "Saved results/samples_gan_gp1_lr3e-5/sample-017400.png\n"
          ],
          "name": "stdout"
        },
        {
          "output_type": "stream",
          "text": [
            "WARNING:root:Lossy conversion from float32 to uint8. Range [-0.9830465912818909, 0.8854283094406128]. Convert image to uint8 prior to saving to suppress this warning.\n"
          ],
          "name": "stderr"
        },
        {
          "output_type": "stream",
          "text": [
            "Iteration [17600/20000] | D_real_loss: 0.0185 | D_fake_loss: 0.0019 | G_loss: 0.9872\n",
            "Saved results/samples_gan_gp1_lr3e-5/sample-017600.png\n"
          ],
          "name": "stdout"
        },
        {
          "output_type": "stream",
          "text": [
            "WARNING:root:Lossy conversion from float32 to uint8. Range [-0.9806482791900635, 0.899173378944397]. Convert image to uint8 prior to saving to suppress this warning.\n"
          ],
          "name": "stderr"
        },
        {
          "output_type": "stream",
          "text": [
            "Iteration [17800/20000] | D_real_loss: 0.0018 | D_fake_loss: 0.0014 | G_loss: 0.9821\n",
            "Saved results/samples_gan_gp1_lr3e-5/sample-017800.png\n"
          ],
          "name": "stdout"
        },
        {
          "output_type": "stream",
          "text": [
            "WARNING:root:Lossy conversion from float32 to uint8. Range [-0.9813358187675476, 0.9114055633544922]. Convert image to uint8 prior to saving to suppress this warning.\n"
          ],
          "name": "stderr"
        },
        {
          "output_type": "stream",
          "text": [
            "Iteration [18000/20000] | D_real_loss: 0.0009 | D_fake_loss: 0.0003 | G_loss: 1.0204\n",
            "Saved results/samples_gan_gp1_lr3e-5/sample-018000.png\n"
          ],
          "name": "stdout"
        },
        {
          "output_type": "stream",
          "text": [
            "WARNING:root:Lossy conversion from float32 to uint8. Range [-0.977085292339325, 0.9352462291717529]. Convert image to uint8 prior to saving to suppress this warning.\n"
          ],
          "name": "stderr"
        },
        {
          "output_type": "stream",
          "text": [
            "Iteration [18200/20000] | D_real_loss: 0.0003 | D_fake_loss: 0.0005 | G_loss: 0.9697\n",
            "Saved results/samples_gan_gp1_lr3e-5/sample-018200.png\n"
          ],
          "name": "stdout"
        },
        {
          "output_type": "stream",
          "text": [
            "WARNING:root:Lossy conversion from float32 to uint8. Range [-0.971030592918396, 0.9226468205451965]. Convert image to uint8 prior to saving to suppress this warning.\n"
          ],
          "name": "stderr"
        },
        {
          "output_type": "stream",
          "text": [
            "Iteration [18400/20000] | D_real_loss: 0.0014 | D_fake_loss: 0.0002 | G_loss: 1.0151\n",
            "Saved results/samples_gan_gp1_lr3e-5/sample-018400.png\n"
          ],
          "name": "stdout"
        },
        {
          "output_type": "stream",
          "text": [
            "WARNING:root:Lossy conversion from float32 to uint8. Range [-0.9600338935852051, 0.9407554268836975]. Convert image to uint8 prior to saving to suppress this warning.\n"
          ],
          "name": "stderr"
        },
        {
          "output_type": "stream",
          "text": [
            "Iteration [18600/20000] | D_real_loss: 0.0009 | D_fake_loss: 0.0015 | G_loss: 1.0284\n",
            "Saved results/samples_gan_gp1_lr3e-5/sample-018600.png\n"
          ],
          "name": "stdout"
        },
        {
          "output_type": "stream",
          "text": [
            "WARNING:root:Lossy conversion from float32 to uint8. Range [-0.9611977934837341, 0.921376645565033]. Convert image to uint8 prior to saving to suppress this warning.\n"
          ],
          "name": "stderr"
        },
        {
          "output_type": "stream",
          "text": [
            "Iteration [18800/20000] | D_real_loss: 0.0008 | D_fake_loss: 0.0018 | G_loss: 0.9575\n",
            "Saved results/samples_gan_gp1_lr3e-5/sample-018800.png\n"
          ],
          "name": "stdout"
        },
        {
          "output_type": "stream",
          "text": [
            "WARNING:root:Lossy conversion from float32 to uint8. Range [-0.9638052582740784, 0.8988457322120667]. Convert image to uint8 prior to saving to suppress this warning.\n"
          ],
          "name": "stderr"
        },
        {
          "output_type": "stream",
          "text": [
            "Iteration [19000/20000] | D_real_loss: 0.0004 | D_fake_loss: 0.0002 | G_loss: 0.9474\n",
            "Saved results/samples_gan_gp1_lr3e-5/sample-019000.png\n"
          ],
          "name": "stdout"
        },
        {
          "output_type": "stream",
          "text": [
            "WARNING:root:Lossy conversion from float32 to uint8. Range [-0.9512823820114136, 0.9168291091918945]. Convert image to uint8 prior to saving to suppress this warning.\n"
          ],
          "name": "stderr"
        },
        {
          "output_type": "stream",
          "text": [
            "Iteration [19200/20000] | D_real_loss: 0.0004 | D_fake_loss: 0.0001 | G_loss: 0.9909\n",
            "Saved results/samples_gan_gp1_lr3e-5/sample-019200.png\n"
          ],
          "name": "stdout"
        },
        {
          "output_type": "stream",
          "text": [
            "WARNING:root:Lossy conversion from float32 to uint8. Range [-0.9430562853813171, 0.9225510954856873]. Convert image to uint8 prior to saving to suppress this warning.\n"
          ],
          "name": "stderr"
        },
        {
          "output_type": "stream",
          "text": [
            "Iteration [19400/20000] | D_real_loss: 0.0013 | D_fake_loss: 0.0006 | G_loss: 0.9391\n",
            "Saved results/samples_gan_gp1_lr3e-5/sample-019400.png\n"
          ],
          "name": "stdout"
        },
        {
          "output_type": "stream",
          "text": [
            "WARNING:root:Lossy conversion from float32 to uint8. Range [-0.9423468708992004, 0.9091501235961914]. Convert image to uint8 prior to saving to suppress this warning.\n"
          ],
          "name": "stderr"
        },
        {
          "output_type": "stream",
          "text": [
            "Iteration [19600/20000] | D_real_loss: 0.0083 | D_fake_loss: 0.0018 | G_loss: 1.0914\n",
            "Saved results/samples_gan_gp1_lr3e-5/sample-019600.png\n"
          ],
          "name": "stdout"
        },
        {
          "output_type": "stream",
          "text": [
            "WARNING:root:Lossy conversion from float32 to uint8. Range [-0.9428119659423828, 0.9162530303001404]. Convert image to uint8 prior to saving to suppress this warning.\n"
          ],
          "name": "stderr"
        },
        {
          "output_type": "stream",
          "text": [
            "Iteration [19800/20000] | D_real_loss: 0.0058 | D_fake_loss: 0.0003 | G_loss: 1.0644\n",
            "Saved results/samples_gan_gp1_lr3e-5/sample-019800.png\n"
          ],
          "name": "stdout"
        },
        {
          "output_type": "stream",
          "text": [
            "WARNING:root:Lossy conversion from float32 to uint8. Range [-0.9414817094802856, 0.9365017414093018]. Convert image to uint8 prior to saving to suppress this warning.\n"
          ],
          "name": "stderr"
        },
        {
          "output_type": "stream",
          "text": [
            "Iteration [20000/20000] | D_real_loss: 0.0009 | D_fake_loss: 0.0005 | G_loss: 1.0365\n",
            "Saved results/samples_gan_gp1_lr3e-5/sample-020000.png\n",
            "adding image results/samples_gan_gp1_lr3e-5/losses.png\n",
            "adding image results/samples_gan_gp1_lr3e-5/sample-000200.png\n",
            "adding image results/samples_gan_gp1_lr3e-5/sample-000400.png\n",
            "adding image results/samples_gan_gp1_lr3e-5/sample-000600.png\n",
            "adding image results/samples_gan_gp1_lr3e-5/sample-000800.png\n",
            "adding image results/samples_gan_gp1_lr3e-5/sample-001000.png\n",
            "adding image results/samples_gan_gp1_lr3e-5/sample-001200.png\n",
            "adding image results/samples_gan_gp1_lr3e-5/sample-001400.png\n",
            "adding image results/samples_gan_gp1_lr3e-5/sample-001600.png\n",
            "adding image results/samples_gan_gp1_lr3e-5/sample-001800.png\n",
            "adding image results/samples_gan_gp1_lr3e-5/sample-002000.png\n",
            "adding image results/samples_gan_gp1_lr3e-5/sample-002200.png\n",
            "adding image results/samples_gan_gp1_lr3e-5/sample-002400.png\n",
            "adding image results/samples_gan_gp1_lr3e-5/sample-002600.png\n",
            "adding image results/samples_gan_gp1_lr3e-5/sample-002800.png\n",
            "adding image results/samples_gan_gp1_lr3e-5/sample-003000.png\n",
            "adding image results/samples_gan_gp1_lr3e-5/sample-003200.png\n",
            "adding image results/samples_gan_gp1_lr3e-5/sample-003400.png\n",
            "adding image results/samples_gan_gp1_lr3e-5/sample-003600.png\n",
            "adding image results/samples_gan_gp1_lr3e-5/sample-003800.png\n",
            "adding image results/samples_gan_gp1_lr3e-5/sample-004000.png\n",
            "adding image results/samples_gan_gp1_lr3e-5/sample-004200.png\n",
            "adding image results/samples_gan_gp1_lr3e-5/sample-004400.png\n",
            "adding image results/samples_gan_gp1_lr3e-5/sample-004600.png\n",
            "adding image results/samples_gan_gp1_lr3e-5/sample-004800.png\n",
            "adding image results/samples_gan_gp1_lr3e-5/sample-005000.png\n",
            "adding image results/samples_gan_gp1_lr3e-5/sample-005200.png\n",
            "adding image results/samples_gan_gp1_lr3e-5/sample-005400.png\n",
            "adding image results/samples_gan_gp1_lr3e-5/sample-005600.png\n",
            "adding image results/samples_gan_gp1_lr3e-5/sample-005800.png\n",
            "adding image results/samples_gan_gp1_lr3e-5/sample-006000.png\n",
            "adding image results/samples_gan_gp1_lr3e-5/sample-006200.png\n",
            "adding image results/samples_gan_gp1_lr3e-5/sample-006400.png\n",
            "adding image results/samples_gan_gp1_lr3e-5/sample-006600.png\n",
            "adding image results/samples_gan_gp1_lr3e-5/sample-006800.png\n",
            "adding image results/samples_gan_gp1_lr3e-5/sample-007000.png\n",
            "adding image results/samples_gan_gp1_lr3e-5/sample-007200.png\n",
            "adding image results/samples_gan_gp1_lr3e-5/sample-007400.png\n",
            "adding image results/samples_gan_gp1_lr3e-5/sample-007600.png\n",
            "adding image results/samples_gan_gp1_lr3e-5/sample-007800.png\n",
            "adding image results/samples_gan_gp1_lr3e-5/sample-008000.png\n",
            "adding image results/samples_gan_gp1_lr3e-5/sample-008200.png\n",
            "adding image results/samples_gan_gp1_lr3e-5/sample-008400.png\n",
            "adding image results/samples_gan_gp1_lr3e-5/sample-008600.png\n",
            "adding image results/samples_gan_gp1_lr3e-5/sample-008800.png\n",
            "adding image results/samples_gan_gp1_lr3e-5/sample-009000.png\n",
            "adding image results/samples_gan_gp1_lr3e-5/sample-009200.png\n",
            "adding image results/samples_gan_gp1_lr3e-5/sample-009400.png\n",
            "adding image results/samples_gan_gp1_lr3e-5/sample-009600.png\n",
            "adding image results/samples_gan_gp1_lr3e-5/sample-009800.png\n",
            "adding image results/samples_gan_gp1_lr3e-5/sample-010000.png\n",
            "adding image results/samples_gan_gp1_lr3e-5/sample-010200.png\n",
            "adding image results/samples_gan_gp1_lr3e-5/sample-010400.png\n",
            "adding image results/samples_gan_gp1_lr3e-5/sample-010600.png\n",
            "adding image results/samples_gan_gp1_lr3e-5/sample-010800.png\n",
            "adding image results/samples_gan_gp1_lr3e-5/sample-011000.png\n",
            "adding image results/samples_gan_gp1_lr3e-5/sample-011200.png\n",
            "adding image results/samples_gan_gp1_lr3e-5/sample-011400.png\n",
            "adding image results/samples_gan_gp1_lr3e-5/sample-011600.png\n",
            "adding image results/samples_gan_gp1_lr3e-5/sample-011800.png\n",
            "adding image results/samples_gan_gp1_lr3e-5/sample-012000.png\n",
            "adding image results/samples_gan_gp1_lr3e-5/sample-012200.png\n",
            "adding image results/samples_gan_gp1_lr3e-5/sample-012400.png\n",
            "adding image results/samples_gan_gp1_lr3e-5/sample-012600.png\n",
            "adding image results/samples_gan_gp1_lr3e-5/sample-012800.png\n",
            "adding image results/samples_gan_gp1_lr3e-5/sample-013000.png\n",
            "adding image results/samples_gan_gp1_lr3e-5/sample-013200.png\n",
            "adding image results/samples_gan_gp1_lr3e-5/sample-013400.png\n",
            "adding image results/samples_gan_gp1_lr3e-5/sample-013600.png\n",
            "adding image results/samples_gan_gp1_lr3e-5/sample-013800.png\n",
            "adding image results/samples_gan_gp1_lr3e-5/sample-014000.png\n",
            "adding image results/samples_gan_gp1_lr3e-5/sample-014200.png\n",
            "adding image results/samples_gan_gp1_lr3e-5/sample-014400.png\n",
            "adding image results/samples_gan_gp1_lr3e-5/sample-014600.png\n",
            "adding image results/samples_gan_gp1_lr3e-5/sample-014800.png\n",
            "adding image results/samples_gan_gp1_lr3e-5/sample-015000.png\n",
            "adding image results/samples_gan_gp1_lr3e-5/sample-015200.png\n",
            "adding image results/samples_gan_gp1_lr3e-5/sample-015400.png\n",
            "adding image results/samples_gan_gp1_lr3e-5/sample-015600.png\n",
            "adding image results/samples_gan_gp1_lr3e-5/sample-015800.png\n",
            "adding image results/samples_gan_gp1_lr3e-5/sample-016000.png\n",
            "adding image results/samples_gan_gp1_lr3e-5/sample-016200.png\n",
            "adding image results/samples_gan_gp1_lr3e-5/sample-016400.png\n",
            "adding image results/samples_gan_gp1_lr3e-5/sample-016600.png\n",
            "adding image results/samples_gan_gp1_lr3e-5/sample-016800.png\n",
            "adding image results/samples_gan_gp1_lr3e-5/sample-017000.png\n",
            "adding image results/samples_gan_gp1_lr3e-5/sample-017200.png\n",
            "adding image results/samples_gan_gp1_lr3e-5/sample-017400.png\n",
            "adding image results/samples_gan_gp1_lr3e-5/sample-017600.png\n",
            "adding image results/samples_gan_gp1_lr3e-5/sample-017800.png\n",
            "adding image results/samples_gan_gp1_lr3e-5/sample-018000.png\n",
            "adding image results/samples_gan_gp1_lr3e-5/sample-018200.png\n",
            "adding image results/samples_gan_gp1_lr3e-5/sample-018400.png\n",
            "adding image results/samples_gan_gp1_lr3e-5/sample-018600.png\n",
            "adding image results/samples_gan_gp1_lr3e-5/sample-018800.png\n",
            "adding image results/samples_gan_gp1_lr3e-5/sample-019000.png\n",
            "adding image results/samples_gan_gp1_lr3e-5/sample-019200.png\n",
            "adding image results/samples_gan_gp1_lr3e-5/sample-019400.png\n",
            "adding image results/samples_gan_gp1_lr3e-5/sample-019600.png\n",
            "adding image results/samples_gan_gp1_lr3e-5/sample-019800.png\n",
            "adding image results/samples_gan_gp1_lr3e-5/sample-020000.png\n"
          ],
          "name": "stdout"
        }
      ]
    },
    {
      "source": [
        "## Experiments\n",
        "\n",
        "1. Comment on improved performance after more iterations\n",
        "\n",
        "2. Explanation, improved stabilized performance or justification why not; addressed exploding gradient problem"
      ],
      "cell_type": "markdown",
      "metadata": {
        "id": "9kv3lpgUhn_u"
      }
    },
    {
      "cell_type": "code",
      "execution_count": null,
      "metadata": {},
      "outputs": [],
      "source": []
    }
  ]
}