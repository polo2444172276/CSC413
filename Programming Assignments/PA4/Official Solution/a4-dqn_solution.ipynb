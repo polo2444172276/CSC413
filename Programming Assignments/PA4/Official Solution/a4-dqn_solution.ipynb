{
  "nbformat": 4,
  "nbformat_minor": 0,
  "metadata": {
    "colab": {
      "name": "DQN_ CartPole_Balancing_Solution.ipynb",
      "provenance": [],
      "collapsed_sections": []
    },
    "kernelspec": {
      "name": "python3",
      "display_name": "Python 3"
    },
    "accelerator": "GPU"
  },
  "cells": [
    {
      "cell_type": "markdown",
      "metadata": {
        "id": "V3szwJAdaoQa"
      },
      "source": [
        "## Enable rendering OpenAI Gym environments from CoLab\n",
        "\n",
        "In this assignemnt, We will use [OpenAI Gym](https://gym.openai.com/) for rendering game envionment for our agent to play and learn. It is possible and important to visualize the game your agent is playing, even on Colab. This section imports the necessary package and functions needed to generate a video in Colab. The video processing steps credit to [here](https://colab.research.google.com/drive/1flu31ulJlgiRL1dnN2ir8wGh9p7Zij2t)."
      ]
    },
    {
      "cell_type": "code",
      "metadata": {
        "id": "8rFaTvFab6Kz"
      },
      "source": [
        "!pip install gym pyvirtualdisplay > /dev/null 2>&1\n",
        "!apt-get install -y xvfb python-opengl ffmpeg > /dev/null 2>&1"
      ],
      "execution_count": null,
      "outputs": []
    },
    {
      "cell_type": "code",
      "metadata": {
        "id": "M9fFfA-gb8oC",
        "colab": {
          "base_uri": "https://localhost:8080/"
        },
        "outputId": "4f6748c8-4cd9-43cb-d6e0-0131510a7a70"
      },
      "source": [
        "!apt-get update > /dev/null 2>&1\n",
        "!apt-get install cmake > /dev/null 2>&1\n",
        "!pip install --upgrade setuptools 2>&1\n",
        "!pip install ez_setup > /dev/null 2>&1\n",
        "!pip install gym[atari] > /dev/null 2>&1"
      ],
      "execution_count": null,
      "outputs": [
        {
          "output_type": "stream",
          "text": [
            "Requirement already up-to-date: setuptools in /usr/local/lib/python3.7/dist-packages (54.1.2)\n"
          ],
          "name": "stdout"
        }
      ]
    },
    {
      "cell_type": "markdown",
      "metadata": {
        "id": "QfTPg6uZckCm"
      },
      "source": [
        "Import openAI gym and define the functions used to show the video."
      ]
    },
    {
      "cell_type": "code",
      "metadata": {
        "id": "JLl9cs6ncAf0"
      },
      "source": [
        "import gym\n",
        "from gym.wrappers import Monitor\n",
        "import glob\n",
        "import io\n",
        "import base64\n",
        "from IPython.display import HTML\n",
        "from pyvirtualdisplay import Display\n",
        "from IPython import display as ipythondisplay\n",
        "\n",
        "display = Display(visible=0, size=(1400, 900))\n",
        "display.start()\n",
        "\n",
        "\"\"\"\n",
        "Utility functions to enable video recording of gym environment \n",
        "and displaying it.\n",
        "To enable video, just do \"env = wrap_env(env)\"\"\n",
        "\"\"\"\n",
        "\n",
        "def show_video():\n",
        "  mp4list = glob.glob('video/*.mp4')\n",
        "  if len(mp4list) > 0:\n",
        "    mp4 = mp4list[0]\n",
        "    video = io.open(mp4, 'r+b').read()\n",
        "    encoded = base64.b64encode(video)\n",
        "    ipythondisplay.display(HTML(data='''<video alt=\"test\" autoplay \n",
        "                loop controls style=\"height: 400px;\">\n",
        "                <source src=\"data:video/mp4;base64,{0}\" type=\"video/mp4\" />\n",
        "             </video>'''.format(encoded.decode('ascii'))))\n",
        "  else: \n",
        "    print(\"Could not find video\")\n",
        "    \n",
        "\n",
        "def wrap_env(env):\n",
        "  env = Monitor(env, './video', force=True)\n",
        "  return env"
      ],
      "execution_count": 17,
      "outputs": []
    },
    {
      "cell_type": "markdown",
      "metadata": {
        "id": "UHkrflTWakKd"
      },
      "source": [
        "Import other packages:\n",
        "\n",
        "We will use Pytorch for building and learning our DQN network."
      ]
    },
    {
      "cell_type": "code",
      "metadata": {
        "id": "9KvZYSl6RrzD"
      },
      "source": [
        "import torch\n",
        "from torch import nn\n",
        "import copy\n",
        "from collections import deque\n",
        "import random\n",
        "from tqdm import tqdm\n",
        "import matplotlib.pyplot as plt"
      ],
      "execution_count": 27,
      "outputs": []
    },
    {
      "cell_type": "markdown",
      "metadata": {
        "id": "zrLGCk-3ditk"
      },
      "source": [
        "## Run the game with random agent."
      ]
    },
    {
      "cell_type": "code",
      "metadata": {
        "colab": {
          "base_uri": "https://localhost:8080/",
          "height": 455
        },
        "id": "ZMcGALcWeWfh",
        "outputId": "d7940641-6140-4cf9-82d8-3abd791ef9e3"
      },
      "source": [
        "from torch import randint\n",
        "from time import sleep\n",
        "\n",
        "env = wrap_env(gym.make('CartPole-v0'))\n",
        "reward_arr = []\n",
        "episode_count = 20\n",
        "for i in tqdm(range(episode_count)):\n",
        "    obs, done, rew = env.reset(), False, 0\n",
        "    env.render()\n",
        "    while not done:\n",
        "        A = randint(0, env.action_space.n, (1,))\n",
        "        obs, reward, done, info = env.step(A.item())\n",
        "        rew += reward\n",
        "        sleep(0.01)\n",
        "    reward_arr.append(rew)\n",
        "print(\"average reward per episode :\", sum(reward_arr) / len(reward_arr))\n",
        "env.close()\n",
        "show_video()"
      ],
      "execution_count": 19,
      "outputs": [
        {
          "output_type": "stream",
          "text": [
            "100%|██████████| 20/20 [00:05<00:00,  3.42it/s]"
          ],
          "name": "stderr"
        },
        {
          "output_type": "stream",
          "text": [
            "average reward per episode : 23.65\n"
          ],
          "name": "stdout"
        },
        {
          "output_type": "stream",
          "text": [
            "\n"
          ],
          "name": "stderr"
        },
        {
          "output_type": "display_data",
          "data": {
            "text/html": [
              "<video alt=\"test\" autoplay \n",
              "                loop controls style=\"height: 400px;\">\n",
              "                <source src=\"data:video/mp4;base64,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\" type=\"video/mp4\" />\n",
              "             </video>"
            ],
            "text/plain": [
              "<IPython.core.display.HTML object>"
            ]
          },
          "metadata": {
            "tags": []
          }
        }
      ]
    },
    {
      "cell_type": "markdown",
      "metadata": {
        "id": "Ope0zHAjfXQh"
      },
      "source": [
        "You can see that a random agent is having trouble balancing the CartPole, just like you. However, a difficult game for human may be very simple to a computer. Let's see how we can use DQN to train a agent. "
      ]
    },
    {
      "cell_type": "markdown",
      "metadata": {
        "id": "OjP_2jn3SFgv"
      },
      "source": [
        "## Experience Replay\n",
        "\n",
        "The technique of experience replay was first proposed in to resolve temporal correlation in the input data by mixing recent experiences as well past experiences, essentially forcing the input to become independent and identically distributed (i.i.d.). It has been shown that this greatly stabilizes\n",
        "and improves the DQN training procedure."
      ]
    },
    {
      "cell_type": "code",
      "metadata": {
        "id": "SoxW1Jlnk8mS"
      },
      "source": [
        "class ExperienceReplay(object):\n",
        "      def __init__(self, length):\n",
        "        self.experience_replay = deque(maxlen=length)\n",
        "\n",
        "      def collect(self, experience):\n",
        "        self.experience_replay.append(experience)\n",
        "        return\n",
        "\n",
        "      def sample_from_experience(self, sample_size):\n",
        "        if len(self.experience_replay) < sample_size:\n",
        "            sample_size = len(self.experience_replay)\n",
        "        sample = random.sample(self.experience_replay, sample_size)\n",
        "        state = torch.tensor([exp[0] for exp in sample]).float()\n",
        "        action = torch.tensor([exp[1] for exp in sample]).float()\n",
        "        reward = torch.tensor([exp[2] for exp in sample]).float()\n",
        "        next_state = torch.tensor([exp[3] for exp in sample]).float()\n",
        "        return state, action, reward, next_state\n"
      ],
      "execution_count": 20,
      "outputs": []
    },
    {
      "cell_type": "markdown",
      "metadata": {
        "id": "CgXwmV2im4Sx"
      },
      "source": [
        "## Build our DQN Network\n",
        "\n",
        "We will use a simple multi-layer neural network to learn the optimal actions. We will use Adam Optimizor and MSE loss for training."
      ]
    },
    {
      "cell_type": "code",
      "metadata": {
        "id": "Wmd1pfuRm7MQ"
      },
      "source": [
        "class DQN_Network:\n",
        "\n",
        "    def __init__(self, layer_size_list, lr, seed=1423):\n",
        "        torch.manual_seed(seed)\n",
        "        self.policy_net = self.create_network(layer_size_list)\n",
        "        self.target_net = copy.deepcopy(self.policy_net)\n",
        "  \n",
        "        self.loss_fn = torch.nn.MSELoss()\n",
        "        self.optimizer = torch.optim.Adam(self.policy_net.parameters(), lr=lr)\n",
        "\n",
        "        self.step = 0\n",
        "        self.gamma = torch.tensor(0.95).float()\n",
        "        return\n",
        "\n",
        "    def create_network(self, layer_size_list):\n",
        "        assert len(layer_size_list) > 1\n",
        "\n",
        "        layers = []\n",
        "        for i in range(len(layer_size_list) - 1):\n",
        "            linear = nn.Linear(layer_size_list[i], layer_size_list[i + 1])\n",
        "\n",
        "            if i < len(layer_size_list) - 2:\n",
        "              activation = nn.Tanh()\n",
        "            else:\n",
        "              activation = nn.Identity()\n",
        "\n",
        "            layers += (linear, activation)\n",
        "        return nn.Sequential(*layers)\n",
        "\n",
        "    def load_pretrained_model(self, model_path):\n",
        "        self.policy_net.load_state_dict(torch.load(model_path))\n",
        "\n",
        "    def save_trained_model(self, model_path=\"cartpole-dqn.pth\"):\n",
        "        torch.save(self.policy_net.state_dict(), model_path)\n"
      ],
      "execution_count": 21,
      "outputs": []
    },
    {
      "cell_type": "markdown",
      "metadata": {
        "id": "xKVV16YctASm"
      },
      "source": [
        "## **[Your task]**: complete the function that chooses the next action\n",
        "\n",
        "Choose next action based on **$\\epsilon$-greedy**:\n",
        "\n",
        "\\begin{align}\\text{where} \\quad \\mathcal{a_{t+1}} = \\begin{cases}\n",
        "     \\text{argmax}_{a}Q(a, s)  & \\text{with probability }: 1 - \\epsilon, \\text{exploitation}\\\\\n",
        "     \\text{Uniform}\\{a_{1},...,a_{n}\\} & \\text{with probability}:   \\epsilon, \\text{exploration} \\\\\n",
        "   \\end{cases}\\end{align}"
      ]
    },
    {
      "cell_type": "code",
      "metadata": {
        "id": "iE0gVweYs8xW"
      },
      "source": [
        "def get_action(model, state, action_space_len, epsilon):\n",
        "    # We do not require gradient at this point, because this function will be used either\n",
        "    # during experience collection or during inference\n",
        "\n",
        "    with torch.no_grad():\n",
        "        Qp = model.policy_net(torch.from_numpy(state).float())\n",
        "    Q, A = torch.max(Qp, axis=0)\n",
        "\n",
        "    ## TODO:\n",
        "    if torch.rand(1, ).item() > epsilon:\n",
        "        A = A\n",
        "    else:\n",
        "        A = torch.randint(0, action_space_len, (1,))\n",
        "        \n",
        "    return A"
      ],
      "execution_count": 22,
      "outputs": []
    },
    {
      "cell_type": "markdown",
      "metadata": {
        "id": "iF9a5-IbazjQ"
      },
      "source": [
        "### **[Your task]**: complete the function that train the network for one step\n",
        "\n",
        "Here, you can find an ``train`` function that performs a\n",
        "single step of the optimization. \n",
        "\n",
        "For our training update rule, the loss you are trying to minimize is:\n",
        "\n",
        "\\begin{align}\\text{loss} = Q(s, a) - (r + \\gamma \\max_a Q(s', a))\\end{align}"
      ]
    },
    {
      "cell_type": "code",
      "metadata": {
        "id": "mtx4FAiab0Hp"
      },
      "source": [
        "def train(model, batch_size):\n",
        "    state, action, reward, next_state = memory.sample_from_experience(sample_size=batch_size)\n",
        "\n",
        "    # TODO: predict expected return of current state using main network\n",
        "    qp = model.policy_net(state)\n",
        "    pred_return, _ = torch.max(qp, axis=1)\n",
        "\n",
        "    # TODO: get target return using target network\n",
        "    qp_next = model.target_net(next_state)\n",
        "    q_next, _ = torch.max(qp_next, axis=1)\n",
        "    target_return = reward + model.gamma * q_next\n",
        "\n",
        "    # TODO: Optimize the model\n",
        "    loss = model.loss_fn(pred_return, target_return)\n",
        "    model.optimizer.zero_grad()\n",
        "    loss.backward(retain_graph=True)\n",
        "    model.optimizer.step()\n",
        "\n",
        "    model.step += 1\n",
        "    if model.step % 5 == 0:\n",
        "        model.target_net.load_state_dict(model.policy_net.state_dict())\n",
        "\n",
        "    return loss.item()"
      ],
      "execution_count": 23,
      "outputs": []
    },
    {
      "cell_type": "markdown",
      "metadata": {
        "id": "uskoe87Uz-Jg"
      },
      "source": [
        "### **[Your task]**: Finish the training loop\n",
        "\n",
        "In this part, you can play around with ```exp_replay_size```, ```episode```, ```epsilon``` and the \"episodo decay\" logic to train your model."
      ]
    },
    {
      "cell_type": "code",
      "metadata": {
        "colab": {
          "base_uri": "https://localhost:8080/"
        },
        "id": "3NfNnyD6SPpN",
        "outputId": "40a3c9e6-4fe0-44f3-ebef-f93d61683858"
      },
      "source": [
        "# Create the model\n",
        "env = gym.make('CartPole-v0')\n",
        "input_dim = env.observation_space.shape[0]\n",
        "output_dim = env.action_space.n\n",
        "agent = DQN_Network(layer_size_list=[input_dim, 64, output_dim], lr=1e-3)\n",
        "\n",
        "# Main training loop\n",
        "losses_list, reward_list, episode_len_list, epsilon_list = [], [], [], []\n",
        "\n",
        "# TODO:\n",
        "exp_replay_size = 256\n",
        "memory = ExperienceReplay(exp_replay_size)\n",
        "episodes = 10000\n",
        "epsilon = 1\n",
        "\n",
        "# initiliaze experiance replay\n",
        "index = 0\n",
        "for i in range(exp_replay_size):\n",
        "    obs = env.reset()\n",
        "    done = False\n",
        "    while not done:\n",
        "        A = get_action(agent, obs, env.action_space.n, epsilon=1)\n",
        "        obs_next, reward, done, _ = env.step(A.item())\n",
        "        memory.collect([obs, A.item(), reward, obs_next])\n",
        "        obs = obs_next\n",
        "        index += 1\n",
        "        if index > exp_replay_size:\n",
        "            break\n",
        "\n",
        "index = 128\n",
        "for i in tqdm(range(episodes)):\n",
        "    obs, done, losses, ep_len, rew = env.reset(), False, 0, 0, 0\n",
        "    while not done:\n",
        "        ep_len += 1\n",
        "        A = get_action(agent, obs, env.action_space.n, epsilon)\n",
        "        obs_next, reward, done, _ = env.step(A.item())\n",
        "        memory.collect([obs, A.item(), reward, obs_next])\n",
        "\n",
        "        obs = obs_next\n",
        "        rew += reward\n",
        "        index += 1\n",
        "\n",
        "        if index > 128:\n",
        "            index = 0\n",
        "            for j in range(4):\n",
        "                loss = train(agent, batch_size=16)\n",
        "                losses += loss\n",
        "    \n",
        "    # TODO: add epsilon decay rule\n",
        "    if epsilon > 0.05:\n",
        "        epsilon -= (1 / 5000)\n",
        "\n",
        "    losses_list.append(losses / ep_len), reward_list.append(rew)\n",
        "    episode_len_list.append(ep_len), epsilon_list.append(epsilon)\n",
        "\n",
        "print(\"Saving trained model\")\n",
        "agent.save_trained_model(\"cartpole-dqn.pth\")"
      ],
      "execution_count": 24,
      "outputs": [
        {
          "output_type": "stream",
          "text": [
            "100%|██████████| 10000/10000 [02:07<00:00, 78.61it/s]"
          ],
          "name": "stderr"
        },
        {
          "output_type": "stream",
          "text": [
            "Saving trained model\n"
          ],
          "name": "stdout"
        },
        {
          "output_type": "stream",
          "text": [
            "\n"
          ],
          "name": "stderr"
        }
      ]
    },
    {
      "cell_type": "markdown",
      "metadata": {
        "id": "CCow7jNXf5YT"
      },
      "source": [
        "## Last Step: evaluate your trained model!\n",
        "\n",
        "First we can plot the reward vs. episode:"
      ]
    },
    {
      "cell_type": "code",
      "metadata": {
        "colab": {
          "base_uri": "https://localhost:8080/",
          "height": 295
        },
        "id": "-Hy_FP7yeXA4",
        "outputId": "7cca7675-48f7-4e0f-9ab6-b971abde67ad"
      },
      "source": [
        "def plot_reward(r):\n",
        "    plt.figure(2)\n",
        "    plt.clf()\n",
        "    plt.title('Result')\n",
        "    plt.xlabel('Episode')\n",
        "    plt.ylabel('Reward')\n",
        "    plt.plot(r)\n",
        "\n",
        "plot_reward(reward_list)"
      ],
      "execution_count": 29,
      "outputs": [
        {
          "output_type": "display_data",
          "data": {
            "image/png": "[encoded data removed]",
            "text/plain": [
              "<Figure size 432x288 with 1 Axes>"
            ]
          },
          "metadata": {
            "tags": [],
            "needs_background": "light"
          }
        }
      ]
    },
    {
      "cell_type": "code",
      "metadata": {
        "colab": {
          "base_uri": "https://localhost:8080/",
          "height": 455
        },
        "id": "EMEivKldTGVG",
        "outputId": "52434ef4-29e4-4f88-b05d-96e1010cde13"
      },
      "source": [
        "env = wrap_env(gym.make('CartPole-v0'))\n",
        "\n",
        "input_dim = env.observation_space.shape[0]\n",
        "output_dim = env.action_space.n\n",
        "model_validate = DQN_Network(layer_size_list=[input_dim, 64, output_dim], lr=1e-3)\n",
        "model_validate.load_pretrained_model(\"cartpole-dqn.pth\")\n",
        "\n",
        "reward_arr = []\n",
        "for i in tqdm(range(300)):\n",
        "    obs, done, rew = env.reset(), False, 0\n",
        "    env.render()\n",
        "    while not done:\n",
        "        A = get_action(model_validate, obs, env.action_space.n, epsilon=0)\n",
        "        obs, reward, done, info = env.step(A.item())\n",
        "        rew += reward\n",
        "        # sleep(0.01)\n",
        "\n",
        "    reward_arr.append(rew)\n",
        "print(\"average reward per episode :\", sum(reward_arr) / len(reward_arr))\n",
        "env.close()\n",
        "show_video()"
      ],
      "execution_count": 25,
      "outputs": [
        {
          "output_type": "stream",
          "text": [
            "100%|██████████| 300/300 [00:17<00:00, 17.20it/s]"
          ],
          "name": "stderr"
        },
        {
          "output_type": "stream",
          "text": [
            "average reward per episode : 200.0\n"
          ],
          "name": "stdout"
        },
        {
          "output_type": "stream",
          "text": [
            "\n"
          ],
          "name": "stderr"
        },
        {
          "output_type": "display_data",
          "data": {
            "text/html": [
              "<video alt=\"test\" autoplay \n",
              "                loop controls style=\"height: 400px;\">\n",
              "                <source src=\"data:video/mp4;base64,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\" type=\"video/mp4\" />\n",
              "             </video>"
            ],
            "text/plain": [
              "<IPython.core.display.HTML object>"
            ]
          },
          "metadata": {
            "tags": []
          }
        }
      ]
    },
    {
      "cell_type": "code",
      "metadata": {
        "id": "VTAa6RAWTKZJ"
      },
      "source": [
        ""
      ],
      "execution_count": null,
      "outputs": []
    }
  ]
}